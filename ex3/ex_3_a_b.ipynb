{
 "cells": [
  {
   "cell_type": "markdown",
   "metadata": {},
   "source": [
    "# Ex 3a: TIMESERIES PATTERN TREE\n",
    "## Build a rule-based partitioning tree"
   ]
  },
  {
   "cell_type": "markdown",
   "metadata": {},
   "source": [
    "## Dataset import"
   ]
  },
  {
   "cell_type": "code",
   "execution_count": 14,
   "metadata": {},
   "outputs": [
    {
     "data": {
      "text/html": [
       "<div>\n",
       "<style scoped>\n",
       "    .dataframe tbody tr th:only-of-type {\n",
       "        vertical-align: middle;\n",
       "    }\n",
       "\n",
       "    .dataframe tbody tr th {\n",
       "        vertical-align: top;\n",
       "    }\n",
       "\n",
       "    .dataframe thead th {\n",
       "        text-align: right;\n",
       "    }\n",
       "</style>\n",
       "<table border=\"1\" class=\"dataframe\">\n",
       "  <thead>\n",
       "    <tr style=\"text-align: right;\">\n",
       "      <th></th>\n",
       "      <th>0</th>\n",
       "      <th>1</th>\n",
       "      <th>2</th>\n",
       "      <th>3</th>\n",
       "      <th>4</th>\n",
       "      <th>5</th>\n",
       "      <th>6</th>\n",
       "      <th>7</th>\n",
       "      <th>8</th>\n",
       "      <th>9</th>\n",
       "      <th>...</th>\n",
       "      <th>90</th>\n",
       "      <th>91</th>\n",
       "      <th>92</th>\n",
       "      <th>93</th>\n",
       "      <th>94</th>\n",
       "      <th>95</th>\n",
       "      <th>96</th>\n",
       "      <th>97</th>\n",
       "      <th>98</th>\n",
       "      <th>99</th>\n",
       "    </tr>\n",
       "  </thead>\n",
       "  <tbody>\n",
       "    <tr>\n",
       "      <th>0</th>\n",
       "      <td>10</td>\n",
       "      <td>-0.680044</td>\n",
       "      <td>-0.152540</td>\n",
       "      <td>0.463497</td>\n",
       "      <td>1.125701</td>\n",
       "      <td>1.784473</td>\n",
       "      <td>2.387815</td>\n",
       "      <td>2.886590</td>\n",
       "      <td>3.239594</td>\n",
       "      <td>3.417875</td>\n",
       "      <td>...</td>\n",
       "      <td>-0.669457</td>\n",
       "      <td>-0.669649</td>\n",
       "      <td>-0.667227</td>\n",
       "      <td>-0.663867</td>\n",
       "      <td>-0.659006</td>\n",
       "      <td>-0.653538</td>\n",
       "      <td>-0.648224</td>\n",
       "      <td>-0.643643</td>\n",
       "      <td>-0.640175</td>\n",
       "      <td>-0.637993</td>\n",
       "    </tr>\n",
       "    <tr>\n",
       "      <th>1</th>\n",
       "      <td>4</td>\n",
       "      <td>2.232027</td>\n",
       "      <td>2.863343</td>\n",
       "      <td>3.229689</td>\n",
       "      <td>3.284083</td>\n",
       "      <td>3.025244</td>\n",
       "      <td>2.488196</td>\n",
       "      <td>1.742625</td>\n",
       "      <td>0.890124</td>\n",
       "      <td>0.062662</td>\n",
       "      <td>...</td>\n",
       "      <td>-0.697279</td>\n",
       "      <td>-0.702275</td>\n",
       "      <td>-0.707983</td>\n",
       "      <td>-0.714786</td>\n",
       "      <td>-0.722466</td>\n",
       "      <td>-0.730555</td>\n",
       "      <td>-0.737959</td>\n",
       "      <td>-0.743156</td>\n",
       "      <td>-0.744424</td>\n",
       "      <td>-0.741200</td>\n",
       "    </tr>\n",
       "    <tr>\n",
       "      <th>2</th>\n",
       "      <td>10</td>\n",
       "      <td>2.746582</td>\n",
       "      <td>2.727073</td>\n",
       "      <td>2.688213</td>\n",
       "      <td>2.630574</td>\n",
       "      <td>2.554928</td>\n",
       "      <td>2.462240</td>\n",
       "      <td>2.353654</td>\n",
       "      <td>2.230476</td>\n",
       "      <td>2.094162</td>\n",
       "      <td>...</td>\n",
       "      <td>-0.474689</td>\n",
       "      <td>-0.403397</td>\n",
       "      <td>-0.331573</td>\n",
       "      <td>-0.260273</td>\n",
       "      <td>-0.190542</td>\n",
       "      <td>-0.123397</td>\n",
       "      <td>-0.059818</td>\n",
       "      <td>-0.000729</td>\n",
       "      <td>0.053012</td>\n",
       "      <td>0.100628</td>\n",
       "    </tr>\n",
       "  </tbody>\n",
       "</table>\n",
       "<p>3 rows × 100 columns</p>\n",
       "</div>"
      ],
      "text/plain": [
       "   0         1         2         3         4         5         6         7   \\\n",
       "0  10 -0.680044 -0.152540  0.463497  1.125701  1.784473  2.387815  2.886590   \n",
       "1   4  2.232027  2.863343  3.229689  3.284083  3.025244  2.488196  1.742625   \n",
       "2  10  2.746582  2.727073  2.688213  2.630574  2.554928  2.462240  2.353654   \n",
       "\n",
       "         8         9   ...        90        91        92        93        94  \\\n",
       "0  3.239594  3.417875  ... -0.669457 -0.669649 -0.667227 -0.663867 -0.659006   \n",
       "1  0.890124  0.062662  ... -0.697279 -0.702275 -0.707983 -0.714786 -0.722466   \n",
       "2  2.230476  2.094162  ... -0.474689 -0.403397 -0.331573 -0.260273 -0.190542   \n",
       "\n",
       "         95        96        97        98        99  \n",
       "0 -0.653538 -0.648224 -0.643643 -0.640175 -0.637993  \n",
       "1 -0.730555 -0.737959 -0.743156 -0.744424 -0.741200  \n",
       "2 -0.123397 -0.059818 -0.000729  0.053012  0.100628  \n",
       "\n",
       "[3 rows x 100 columns]"
      ]
     },
     "execution_count": 14,
     "metadata": {},
     "output_type": "execute_result"
    }
   ],
   "source": [
    "import pandas as pd\n",
    "import random\n",
    "\n",
    "## load the datasets\n",
    "dataset_path = \"UCRArchive_2018/MedicalImages/MedicalImages_TRAIN.tsv\"\n",
    "dataset = pd.read_csv(dataset_path, sep=\"\\t\", header=None)\n",
    "dataset.head(3)"
   ]
  },
  {
   "cell_type": "markdown",
   "metadata": {},
   "source": [
    "## Node class definition"
   ]
  },
  {
   "cell_type": "code",
   "execution_count": 15,
   "metadata": {},
   "outputs": [],
   "source": [
    "## class Node\n",
    "class Node:\n",
    "    def __init__(self):\n",
    "        self.rule = None # rule to split the data\n",
    "        self.association_rules = None\n",
    "        self.class_label = None\n",
    "        self.information_gain = 0.0\n",
    "        self.true_branch = None # the next node if the rule is true\n",
    "        self.false_branch = None # the next node if the rule is false\n",
    "        self.dataset_length = 0\n",
    "        self.ts = None"
   ]
  },
  {
   "cell_type": "markdown",
   "metadata": {},
   "source": [
    "## Support function"
   ]
  },
  {
   "cell_type": "markdown",
   "metadata": {},
   "source": [
    "example of checking a pattern:\n",
    "\n",
    "transaction = [1.0, 3.5, 2.1, 5.0, 4.2]                   \n",
    "pattern = [(3.0, True, 1, None), (2.0, False, 2, None)]        \n",
    "pattern_matched(pattern, transaction)\n",
    "\n",
    "Result:                                          \n",
    "At index 1, check if value 3.5 > 3.0 → ✅ True                 \n",
    "At index 2, check if value 2.1 < 2.0 → ❌ False                \n",
    "Result: False (pattern does not match transaction)"
   ]
  },
  {
   "cell_type": "code",
   "execution_count": 16,
   "metadata": {},
   "outputs": [],
   "source": [
    "def calculate_support(dataset, pattern): #how frequent the pattern is in the dataset\n",
    "    dataset_list = dataset.iloc[:, 1:].values.tolist()\n",
    "    count = 0\n",
    "    for transaction in dataset_list:\n",
    "        if pattern_matched(pattern, transaction):\n",
    "            count += 1\n",
    "    return count / len(dataset)\n",
    "\n",
    "#Check if a pattern is present in the given time series transaction\n",
    "def pattern_matched(sequence, transaction):\n",
    "    for value, is_greater, index, _ in sequence: #index is the position of the pattern in the transaction\n",
    "        if index >= len(transaction):\n",
    "            return False\n",
    "        if is_greater:\n",
    "            if not transaction[index] > value:\n",
    "                return False\n",
    "        else:\n",
    "            if not transaction[index] < value:\n",
    "                return False\n",
    "    return True"
   ]
  },
  {
   "cell_type": "markdown",
   "metadata": {},
   "source": [
    "## Association rules extraction\n",
    "### Find the best partial sequence (rule) that meets a given confidence threshold.\n",
    "the new function returns the association rule before the one that gives a greater or equal confidence than the threshold."
   ]
  },
  {
   "cell_type": "code",
   "execution_count": 17,
   "metadata": {},
   "outputs": [],
   "source": [
    "def extract_association_rules(dataset, pts, confidence_threshold): #pts -> best candidate pattern from information gain\n",
    "    sequence_support = calculate_support(dataset, pts)\n",
    "    best_pts = None\n",
    "    for i in range(1, len(pts)):\n",
    "        antecedent = pts[:i]\n",
    "        antecedent_support = calculate_support(dataset, antecedent)\n",
    "        # Confidence measures how likely the full sequence (pts) appears given that the antecedent appeared.\n",
    "        confidence = sequence_support / antecedent_support if antecedent_support > 0 else 0\n",
    "\n",
    "        if confidence >= confidence_threshold:\n",
    "            break\n",
    "\n",
    "        best_pts = (pts, confidence, i) #i = split index\n",
    "\n",
    "    return best_pts if best_pts else None # Return None if no such index is found"
   ]
  },
  {
   "cell_type": "markdown",
   "metadata": {},
   "source": [
    "## Candidates generation"
   ]
  },
  {
   "cell_type": "code",
   "execution_count": null,
   "metadata": {},
   "outputs": [],
   "source": [
    "# time series sample function ensuring that the sampled time series is not already in the indexes list\n",
    "def random_ts_sample(dataset, indexes):\n",
    "    sampled = dataset.sample()\n",
    "    while sampled.index[0] in indexes:\n",
    "        sampled = dataset.sample()\n",
    "\n",
    "    return sampled, sampled.index[0] + 1\n",
    "\n",
    "# generate candidates rules meeting the min_support threshold\n",
    "def generate_candidates(dataset, min_support):\n",
    "\n",
    "    # initialize list of indexes\n",
    "    I = list()\n",
    "\n",
    "    # initialize list of candidate rules\n",
    "    candidates = list()\n",
    "\n",
    "    # initialize list of patterns\n",
    "    pts = list()\n",
    "\n",
    "    # generate candidates rules until the min_support threshold is met\n",
    "    while len(pts) <= 2 or calculate_support(dataset, pts) >= min_support:\n",
    "\n",
    "        if (len(pts) >= len(dataset.columns) - 1):\n",
    "            break\n",
    "\n",
    "        # sample random time series\n",
    "        random_ts, ts_index = random_ts_sample(dataset, I)\n",
    "        random_ts_class = random_ts[0].values[0]\n",
    "\n",
    "        # first item is the class label, so we skip it\n",
    "        ts_as_list = random_ts.values.tolist()[0][1:]\n",
    "\n",
    "        # sample random index and add it to I\n",
    "        random_index = random.randint(0, len(ts_as_list) - 1)\n",
    "        while random_index in I: #ensure that the index is not already in the list\n",
    "            random_index = random.randint(0, len(ts_as_list) - 1)\n",
    "        I.append(random_index)\n",
    "\n",
    "        # sample another random time series\n",
    "        random_ts_prime, ts_prime_index = random_ts_sample(dataset, I)\n",
    "        while ts_prime_index == ts_index: #check if is the same\n",
    "            random_ts_prime, ts_prime_index = random_ts_sample(dataset, I)\n",
    "\n",
    "        random_ts_prime_as_list = random_ts_prime.values.tolist()[0][1:]\n",
    "\n",
    "        # generate a candidate pattern (value, is_greater, index, class), the class item is useful later to get the class label for the node\n",
    "        candidate = (ts_as_list[random_index],\n",
    "                    #It helps in identifying meaningful splits that separate data points effectively.\n",
    "                    #By comparing two real samples, the algorithm ensures that the rule is based on actual variations in the dataset.\n",
    "                    random_ts_prime_as_list[random_index] >= ts_as_list[random_index],\n",
    "                    random_index, #feature index\n",
    "                    random_ts_class)  #class label\n",
    "\n",
    "        candidates.append(candidate)\n",
    "        pts = sorted(candidates, key=lambda x: x[2]) #sort on feature index\n",
    "\n",
    "\n",
    "    # remove last element because it does not satisfy the min_support condition\n",
    "    return pts[:-1]"
   ]
  },
  {
   "cell_type": "markdown",
   "metadata": {},
   "source": [
    "PTS now obtained can be used for:\n",
    "1) Rule Evaluation: These candidate patterns are potential rules that could be evaluated for their usefulness in classification or clustering.\n",
    "2) Tree Building: In the context of decision trees or other tree-based models, the patterns could be used as splitting rules at each node."
   ]
  },
  {
   "cell_type": "markdown",
   "metadata": {},
   "source": [
    "## Information gain functions\n",
    "It measures how much the split reduces uncertainty, with higher information gain indicating a better split."
   ]
  },
  {
   "cell_type": "code",
   "execution_count": 19,
   "metadata": {},
   "outputs": [],
   "source": [
    "import math\n",
    "from collections import Counter\n",
    "\n",
    "def calculate_entropy(labels): # entropy is used to determine how mixed or pure the labels are in a dataset.\n",
    "    label_counts = Counter(labels)\n",
    "    total_count = len(labels)\n",
    "    entropy = 0.0\n",
    "\n",
    "    for count in label_counts.values():\n",
    "        probability = count / total_count\n",
    "        if probability > 0:\n",
    "            entropy -= probability * math.log2(probability)\n",
    "\n",
    "    return entropy\n",
    "\n",
    "# Information gain tells how well a particular feature splits a set of labels into more homogeneous subsets.\n",
    "# It's used to decide the best feature for splitting data at each step in building a decision tree.\n",
    "def calculate_information_gain(parent_labels, true_labels, false_labels):\n",
    "    parent_entropy = calculate_entropy(parent_labels) #before split\n",
    "    true_entropy = calculate_entropy(true_labels) #labels on true branch after split\n",
    "    false_entropy = calculate_entropy(false_labels) #label on false branch after split\n",
    "\n",
    "    total_count = len(parent_labels)\n",
    "    true_weight = len(true_labels) / total_count\n",
    "    false_weight = len(false_labels) / total_count\n",
    "\n",
    "    info_gain = parent_entropy - (true_weight * true_entropy + false_weight * false_entropy)\n",
    "    return info_gain"
   ]
  },
  {
   "cell_type": "markdown",
   "metadata": {},
   "source": [
    "## Dataset split functions \n",
    "Branches that satisfy the rules and branches that don't.        \n",
    "rule or rules = pts"
   ]
  },
  {
   "cell_type": "code",
   "execution_count": null,
   "metadata": {},
   "outputs": [],
   "source": [
    "def matches_rule(ts, rule): #if a given time series (ts) matches a set of conditions defined by a rule\n",
    "    #Condition True in rule means that the value should be less than the value in the rule\n",
    "    for (value, condition, index, _) in rule:\n",
    "        if index >= len(ts):\n",
    "            return False\n",
    "        if condition == True and ts[index] < value:\n",
    "            return False\n",
    "        elif condition == False and ts[index] > value:\n",
    "            return True\n",
    "    return True\n",
    "\n",
    "def dataset_split(dataset, rules): #se la rule è rispettata manda il time series in true_subset altrimenti in false_subset\n",
    "    dataset_list = dataset.iloc[:, :].values.tolist()\n",
    "    false_subset = []\n",
    "    true_subset = []\n",
    "\n",
    "    for ts in dataset_list:\n",
    "        if matches_rule(ts[1:], rules):\n",
    "            true_subset.append(ts)\n",
    "        else:\n",
    "            false_subset.append(ts)\n",
    "\n",
    "    return false_subset, true_subset"
   ]
  },
  {
   "cell_type": "markdown",
   "metadata": {},
   "source": [
    "## New tree generation\n",
    "this version generates **n** candidates, where **n** is user-inserted, then for each candidate takes only the one that has the best information gain.\n",
    "If there is no best candidate or information gain higher the  the min_gain, the algorithm is done "
   ]
  },
  {
   "cell_type": "code",
   "execution_count": 21,
   "metadata": {},
   "outputs": [],
   "source": [
    "def rpts_tree(Ts, labels, n_candidates, max_height=float('inf'), MIN_SUPPORT=None, min_samples=1, depth=0):\n",
    "    min_gain = 0.01 #minimum information gain to make the split\n",
    "    CONFIDENCE_THRESHOLD = 0.7 #minimum confidence threshold for association rule extraction\n",
    "\n",
    "    if depth >= max_height or len(Ts) < min_samples:\n",
    "        return None\n",
    "\n",
    "    # create a new node\n",
    "    v = Node()\n",
    "    v.ts = Ts\n",
    "\n",
    "    # get the most common label\n",
    "    v.class_label = Counter(labels).most_common(1)[0][0]\n",
    "    if not any(label == v.class_label for label in labels): # If all labels are the same, there's no need to split further\n",
    "        return v\n",
    "\n",
    "    # generate candidates\n",
    "    all_candidates = []\n",
    "    for _ in range(n_candidates):\n",
    "        pts = generate_candidates(dataset, MIN_SUPPORT)\n",
    "        all_candidates.append(pts)\n",
    "\n",
    "    best_candidate = None\n",
    "    best_info_gain = -1\n",
    "    best_true_subset = None\n",
    "    best_false_subset = None\n",
    "\n",
    "    # find the best candidate\n",
    "    for pts in all_candidates:\n",
    "\n",
    "        true_subset, false_subset = dataset_split(Ts, pts)\n",
    "        if not true_subset or not false_subset:\n",
    "            continue\n",
    "\n",
    "        labels_true = [ts[0] for ts in true_subset]\n",
    "        labels_false = [ts[0] for ts in false_subset]\n",
    "\n",
    "        ig = calculate_information_gain(labels, labels_true, labels_false)\n",
    "\n",
    "        if ig > best_info_gain: #candidate with the highest information gain is selected as best one\n",
    "            best_info_gain = ig\n",
    "            best_candidate = pts\n",
    "            best_true_subset = true_subset\n",
    "            best_false_subset = false_subset\n",
    "\n",
    "    if best_candidate is None or best_info_gain < min_gain: #no split improves the purity of the dataset\n",
    "        print(\"No split improves the purity of the dataset\")\n",
    "        return v\n",
    "\n",
    "    v.rule = best_candidate\n",
    "    v.information_gain = best_info_gain\n",
    "    v.dataset_length = len(Ts) # number of time series in each node -> how the dataset is split\n",
    "\n",
    "    association_rules = extract_association_rules(dataset, best_candidate, CONFIDENCE_THRESHOLD)\n",
    "\n",
    "    if association_rules is not None:\n",
    "        pattern, confidence, split_index = association_rules #pattern = pts\n",
    "        # add association rule to node\n",
    "        v.association_rules = \"Antecedent:\" + str(pattern[:split_index]) + \"  ==> Consequent:\" + str(pattern[split_index:]) + \" Confidence:\" + str(round(confidence, 2)) + \" Split Index:\" + str(split_index)\n",
    "        final_candidates = pattern[:split_index] + pattern[split_index:]\n",
    "    else:\n",
    "        final_candidates = pts\n",
    "\n",
    "    if not final_candidates:\n",
    "        print(\"No final candidates\")\n",
    "        return v\n",
    "\n",
    "    v.rule = final_candidates\n",
    "    print(f\"Depth: {depth}, Rule: {v.rule if v.association_rules is None else  v.association_rules}, Information Gain: {v.information_gain:.4f}, Class Label: {v.class_label}\")\n",
    "    v.dataset_length = len(Ts)\n",
    "\n",
    "    # recursively build and split the tree\n",
    "    v.true_branch = rpts_tree(pd.DataFrame(best_true_subset), labels_true, n_candidates, max_height, MIN_SUPPORT, min_samples, depth + 1)\n",
    "    v.false_branch = rpts_tree(pd.DataFrame(best_false_subset), labels_false, n_candidates,  max_height, MIN_SUPPORT, min_samples, depth + 1)\n",
    "\n",
    "    return v"
   ]
  },
  {
   "cell_type": "markdown",
   "metadata": {},
   "source": [
    "## Tree printing\n",
    "Recursive function to print the structure of the decision tree starting from the root. For each branch we print informations about the child nodes "
   ]
  },
  {
   "cell_type": "code",
   "execution_count": 22,
   "metadata": {},
   "outputs": [],
   "source": [
    "def print_tree(node, depth=0):\n",
    "    if node is None:\n",
    "        return\n",
    "\n",
    "    # Check and skip nodes where information gain is 0\n",
    "    if hasattr(node, 'information_gain') and node.information_gain == 0.0:\n",
    "        return\n",
    "\n",
    "    print(\"\\nDepth: \", depth)\n",
    "    indent = \"  \" * depth\n",
    "    print(f\"{indent}Node class: {node.class_label}\")\n",
    "    print(f\"{indent}Dataset Length: {node.dataset_length}\")\n",
    "\n",
    "    if hasattr(node, 'rule') and node.rule:\n",
    "        print(f\"{indent}Rule Length: {len(node.rule)}\")\n",
    "\n",
    "    if hasattr(node, 'information_gain'):\n",
    "        # Check if information_gain is not None before printing\n",
    "        if node.information_gain is not None:\n",
    "            print(f\"{indent}Information Gain: {node.information_gain:.4f}\")\n",
    "        else:\n",
    "            print(f\"{indent}Information Gain: None\")\n",
    "\n",
    "    if node.true_branch or node.false_branch:\n",
    "        # Print true branch if it exists and has significant information gain\n",
    "        if node.true_branch and (not hasattr(node.true_branch, 'information_gain') or node.true_branch.information_gain != 0.0):\n",
    "            print(f\"{indent}True Branch:\")\n",
    "            print_tree(node.true_branch, depth + 1)\n",
    "\n",
    "        # Print false branch if it exists and has significant information gain\n",
    "        if node.false_branch and (not hasattr(node.false_branch, 'information_gain') or node.false_branch.information_gain != 0.0):\n",
    "            print(f\"{indent}False Branch:\")\n",
    "            print_tree(node.false_branch, depth + 1)\n"
   ]
  },
  {
   "cell_type": "markdown",
   "metadata": {},
   "source": [
    "## Tree informations\n",
    "This function is used to visualize the time series data for a particular node in the decision tree.\n",
    "It provides a visual representation of the time-series data, where each series is colored according to its class, making it easier to identify patterns or splits based on class.\n",
    "The HTML file output allows for interactive exploration of the time series. \n",
    "Each file .html visualizes a different subset of time series at the different levels.                                   \n",
    "node root -> all time-series and classes, last nodes -> maybe one class only\n"
   ]
  },
  {
   "cell_type": "code",
   "execution_count": 23,
   "metadata": {},
   "outputs": [],
   "source": [
    "import plotly.graph_objects as go\n",
    "import plotly.express as px\n",
    "import pandas as pd\n",
    "\n",
    "def print_ts(df, l, depth, branch):\n",
    "    # Get unique classes from the DataFrame\n",
    "    classes = df.iloc[:, 0].unique()\n",
    "\n",
    "    # Define a color palette with enough colors for all unique classes\n",
    "    colors = px.colors.qualitative.Plotly[:len(classes)]  # Using Plotly's default qualitative color palette\n",
    "    if len(classes) > len(colors):\n",
    "        colors = px.colors.qualitative.Plotly * (len(classes) // len(px.colors.qualitative.Plotly) + 1)\n",
    "\n",
    "    fig = go.Figure()\n",
    "    added_classes = []  # To track which classes have been added to the plot for legend purposes\n",
    "\n",
    "    for idx in l:\n",
    "        ts = df.iloc[idx, 1:]  # Assuming the first column is the class and we skip it for the data\n",
    "        classe = df.iloc[idx, 0]  # Class is in the first column\n",
    "\n",
    "        # Define the legend group based on class\n",
    "        legend_group = f'class_{classe}'\n",
    "\n",
    "        # Determine whether to show in legend, avoid duplicates\n",
    "        show_in_legend = classe not in added_classes\n",
    "\n",
    "        # Assign color based on class\n",
    "        color_idx = list(classes).index(classe)\n",
    "        color = colors[color_idx]\n",
    "\n",
    "        # Add trace to the figure\n",
    "        fig.add_trace(go.Scatter(y=ts, mode='lines',\n",
    "                                 line=dict(color=color),\n",
    "                                 name=f'Class {classe}',\n",
    "                                 legendgroup=legend_group,\n",
    "                                 showlegend=show_in_legend))\n",
    "\n",
    "        # Remember that this class has been added\n",
    "        if show_in_legend:\n",
    "            added_classes.append(classe)\n",
    "\n",
    "    fig.update_layout(title='Visualizzazione Time-Series',\n",
    "                      xaxis_title='Tempo',\n",
    "                      yaxis_title='Ampiezza',\n",
    "                      legend_title='Class')\n",
    "\n",
    "    # Save the figure as an HTML file\n",
    "    fig.write_html(f\"timeseries_output/timeseries_node{depth}_{branch}.html\")"
   ]
  },
  {
   "cell_type": "markdown",
   "metadata": {},
   "source": [
    "## Tree generation and visualization\n",
    "\n",
    "* Node = split in dataset\n",
    "* Edges = true or false\n",
    "* Labels :\n",
    "    * Class\n",
    "    * IG, how much the split improves the classification\n",
    "    * Dataset Length, number of ts in that node"
   ]
  },
  {
   "cell_type": "code",
   "execution_count": 24,
   "metadata": {},
   "outputs": [],
   "source": [
    "from graphviz import Digraph\n",
    "def visualize_tree(node, ts_list=[], graph=None, depth=0, parent_name=None, branch_label=None):\n",
    "\n",
    "    # ts_list = []\n",
    "    if graph is None:\n",
    "        graph = Digraph()\n",
    "        root_label = f'Class: {node.class_label}\\nIG: {node.information_gain:.4f}' if node.information_gain is not None else f'Class: {node.class_label}\\nIG: None\\nDataset Length: {node.dataset_length}'\n",
    "        graph.node(name='root', label=root_label)\n",
    "        parent_name = 'root'\n",
    "\n",
    "    #time_series = [i for i in range(node.dataset_length)]\n",
    "    current_name = f'node_{depth}_{id(node)}'\n",
    "    ig_label = f'{node.information_gain:.4f}' if node.information_gain is not None else 'None'\n",
    "    #rule_label = f'{node.rule}' if node.rule else 'None'\n",
    "    label = f'Class: {node.class_label}\\nIG: {ig_label}\\nDataset Length: {node.dataset_length}'\n",
    "\n",
    "    # Only add node if information gain is not zero\n",
    "    if node.information_gain is not None and node.information_gain != 0:\n",
    "        graph.node(name=current_name, label=label)\n",
    "        if node.ts is not None:\n",
    "            ts_list.append((node.ts, branch_label))\n",
    "        if parent_name:\n",
    "            edge_label = branch_label if branch_label else ''\n",
    "            graph.edge(parent_name, current_name, label=edge_label)\n",
    "        if node.true_branch:\n",
    "            visualize_tree(node.true_branch, ts_list, graph, depth + 1, current_name, branch_label='True')\n",
    "        if node.false_branch:\n",
    "            visualize_tree(node.false_branch, ts_list, graph, depth + 1, current_name, branch_label='False')\n",
    "\n",
    "    return graph, ts_list\n",
    "\n",
    "def tree_depth(node):\n",
    "    if node is None:\n",
    "        return 0\n",
    "    return 1 + max(tree_depth(node.true_branch), tree_depth(node.false_branch))\n",
    "\n",
    "def tree_size(node):\n",
    "    if node is None:\n",
    "        return 0\n",
    "    return 1 + tree_size(node.true_branch) + tree_size(node.false_branch)\n"
   ]
  },
  {
   "cell_type": "markdown",
   "metadata": {},
   "source": [
    "## MAIN"
   ]
  },
  {
   "cell_type": "code",
   "execution_count": 25,
   "metadata": {},
   "outputs": [
    {
     "name": "stdout",
     "output_type": "stream",
     "text": [
      "Depth: 0, Rule: Antecedent:[(1.079826, True, 2, 10), (-0.1256249, False, 14, 10), (1.1075086, False, 31, 6), (-0.55415713, True, 53, 9), (-0.33616091, True, 63, 10), (-1.4643432, True, 67, 10)]  ==> Consequent:[(-0.43613979, True, 84, 3)] Confidence:0.47 Split Index:6, Information Gain: 0.1386, Class Label: 10\n",
      "No split improves the purity of the dataset\n",
      "Depth: 1, Rule: Antecedent:[(0.76450792, False, 1, 10), (-0.5372983, True, 37, 10), (1.5995113, False, 39, 10), (-0.23802175, True, 41, 9), (-0.32217333, True, 52, 10), (-0.14567268, False, 65, 10), (0.17492992, False, 73, 10)]  ==> Consequent:[(-0.66121751, True, 88, 4)] Confidence:0.22 Split Index:7, Information Gain: 0.8724, Class Label: 10.0\n",
      "Depth: 2, Rule: Antecedent:[(-0.59995319, True, 6, 9), (1.5355213, False, 16, 9), (1.1382731, False, 20, 10), (0.57431135, False, 23, 3), (1.0347243, False, 24, 10), (-0.16172463, True, 28, 10)]  ==> Consequent:[(-0.5132882, True, 74, 3)] Confidence:0.46 Split Index:6, Information Gain: 1.9603, Class Label: 10.0\n",
      "Depth: 3, Rule: Antecedent:[(4.1691854, False, 3, 1), (3.8479008, False, 7, 10), (0.030255872, True, 17, 10), (0.5071799, False, 19, 9), (-0.23995214, True, 20, 10), (-0.14213412, True, 24, 10), (-0.6843358, True, 36, 7), (-0.46486747, True, 44, 9), (0.60518138, False, 45, 10)]  ==> Consequent:[(-0.42558087, True, 55, 9), (-0.68428534, True, 63, 9)] Confidence:0.65 Split Index:9, Information Gain: 1.3695, Class Label: 10.0\n",
      "Depth: 4, Rule: Antecedent:[(-0.08309881, True, 9, 2), (2.2811365, False, 10, 1), (2.2563131, False, 11, 1), (-0.47672254, True, 27, 10), (0.36400593, False, 32, 10), (1.0109858, False, 34, 10), (0.25018133, False, 35, 1), (1.0325362, False, 38, 6), (0.40936837, False, 50, 10), (-0.21931379, True, 64, 10)]  ==> Consequent:[(-0.19098195, False, 65, 7)] Confidence:0.0 Split Index:10, Information Gain: 1.0124, Class Label: 10.0\n",
      "Depth: 5, Rule: Antecedent:[(-0.28447549, True, 49, 10), (0.096024135, False, 57, 10)]  ==> Consequent:[(-0.47096469, False, 66, 10)] Confidence:0.42 Split Index:2, Information Gain: 0.8527, Class Label: 1.0\n",
      "Depth: 6, Rule: Antecedent:[(1.6375402, False, 2, 1), (-0.30258782, False, 45, 10), (2.0690285, False, 46, 10)]  ==> Consequent:[(-0.3703926, True, 62, 10)] Confidence:0.18 Split Index:3, Information Gain: 0.1887, Class Label: 10.0\n",
      "No split improves the purity of the dataset\n",
      "No split improves the purity of the dataset\n",
      "Depth: 6, Rule: Antecedent:[(-2.1169881, True, 0, 6), (2.2129604, False, 2, 1), (-1.5924778, True, 3, 7), (-0.55620541, True, 6, 3), (0.76667272, True, 7, 9), (1.6905106, False, 15, 1), (-0.040201758, True, 17, 3), (2.5264938, False, 31, 3), (0.80722297, False, 48, 10), (-0.36823829, True, 51, 10), (-0.9637936, True, 80, 10)]  ==> Consequent:[(-0.47636188, True, 83, 10)] Confidence:0.52 Split Index:11, Information Gain: 0.9183, Class Label: 1.0\n",
      "No split improves the purity of the dataset\n",
      "No split improves the purity of the dataset\n",
      "No split improves the purity of the dataset\n",
      "No split improves the purity of the dataset\n",
      "No split improves the purity of the dataset\n",
      "No split improves the purity of the dataset\n",
      "\n",
      "Depth:  0\n",
      "Node class: 10\n",
      "Dataset Length: 381\n",
      "Rule Length: 7\n",
      "Information Gain: 0.1386\n",
      "False Branch:\n",
      "\n",
      "Depth:  1\n",
      "  Node class: 10.0\n",
      "  Dataset Length: 213\n",
      "  Rule Length: 8\n",
      "  Information Gain: 0.8724\n",
      "  True Branch:\n",
      "\n",
      "Depth:  2\n",
      "    Node class: 10.0\n",
      "    Dataset Length: 42\n",
      "    Rule Length: 7\n",
      "    Information Gain: 1.9603\n",
      "    True Branch:\n",
      "\n",
      "Depth:  3\n",
      "      Node class: 10.0\n",
      "      Dataset Length: 21\n",
      "      Rule Length: 11\n",
      "      Information Gain: 1.3695\n",
      "      True Branch:\n",
      "\n",
      "Depth:  4\n",
      "        Node class: 10.0\n",
      "        Dataset Length: 13\n",
      "        Rule Length: 11\n",
      "        Information Gain: 1.0124\n",
      "        True Branch:\n",
      "\n",
      "Depth:  5\n",
      "          Node class: 1.0\n",
      "          Dataset Length: 7\n",
      "          Rule Length: 3\n",
      "          Information Gain: 0.8527\n",
      "          True Branch:\n",
      "\n",
      "Depth:  6\n",
      "            Node class: 10.0\n",
      "            Dataset Length: 5\n",
      "            Rule Length: 4\n",
      "            Information Gain: 0.1887\n",
      "          False Branch:\n",
      "\n",
      "Depth:  6\n",
      "            Node class: 1.0\n",
      "            Dataset Length: 2\n",
      "            Rule Length: 12\n",
      "            Information Gain: 0.9183\n",
      "\n",
      "Tree Depth: 8\n",
      "Tree Size: 17\n"
     ]
    },
    {
     "data": {
      "text/plain": [
       "'for i, (ts, branch) in enumerate(ts_list):\\n    depth = i\\n    indexes = [j for j in range(len(ts))]\\n\\n    for t in ts:\\n        print_ts(ts, indexes, depth, branch)'"
      ]
     },
     "execution_count": 25,
     "metadata": {},
     "output_type": "execute_result"
    }
   ],
   "source": [
    "labels = dataset[0]\n",
    "\n",
    "MIN_SUPPORT = 0.05\n",
    "n_candidates = int(input(\"Enter the number of candidates: \"))\n",
    "tree = rpts_tree(dataset, labels, n_candidates, MIN_SUPPORT=MIN_SUPPORT, min_samples=1)\n",
    "print_tree(tree)\n",
    "tree_visualization, ts_list = visualize_tree(tree)\n",
    "tree_visualization.render('timeseries_output/decision_tree', format='png', cleanup=True)\n",
    "\n",
    "depth = tree_depth(tree)\n",
    "size = tree_size(tree)\n",
    "print()\n",
    "print(f\"Tree Depth: {depth}\")\n",
    "print(f\"Tree Size: {size}\")\n",
    "\n",
    "\n",
    "## UNCOMMENT TO SAVE TIME SERIES HTML FILES IT MIGHT TAKE A WHILE\n",
    "'''for i, (ts, branch) in enumerate(ts_list):\n",
    "    depth = i\n",
    "    indexes = [j for j in range(len(ts))]\n",
    "\n",
    "    for t in ts:\n",
    "        print_ts(ts, indexes, depth, branch)'''\n"
   ]
  },
  {
   "cell_type": "markdown",
   "metadata": {},
   "source": [
    "## Project 3b: SEQUENCE BOOSTING"
   ]
  },
  {
   "cell_type": "markdown",
   "metadata": {},
   "source": [
    "Boosting logic → We find the best subsequence to separate the classes                                                   \n",
    "Exhaustive search → The function explores all possible subsequences"
   ]
  },
  {
   "cell_type": "code",
   "execution_count": 44,
   "metadata": {},
   "outputs": [
    {
     "name": "stdout",
     "output_type": "stream",
     "text": [
      "Count of labels:  Counter({-1: 896, 1: 835})\n",
      "Z Dataset:  [(-1, [1, 2, 3, 4, 5]), (-1, [7, 8, 9, 10, 11, 12, 13, 14, 15, 5]), (-1, [17, 18, 19, 20, 21, 22, 5]), (-1, [7, 23, 24, 25, 26, 27, 28, 29, 30, 5]), (-1, [7, 31, 32, 33, 34, 35, 11, 36, 5]), (-1, [37, 18, 38, 39, 40, 5]), (-1, [7, 41, 11, 18, 42, 43, 44, 5]), (-1, [7, 45, 46, 47, 48, 17, 18, 49, 50, 51, 5]), (-1, [7, 52, 20, 18, 53, 54, 55, 34, 35, 5]), (-1, [7, 56, 34, 57, 11, 18, 58, 59, 5]), (-1, [61, 62, 1, 63, 64, 65, 66, 18, 67, 68, 5]), (-1, [37, 69, 70, 71, 5]), (-1, [37, 72, 73, 74, 75, 76, 5]), (-1, [77, 78, 79, 26, 80, 81, 82, 83, 5]), (-1, [84, 79, 85, 86, 87, 88, 89, 90, 24, 91, 92, 93, 94, 18, 95, 5]), (-1, [37, 18, 96, 97, 86, 98, 5]), (-1, [77, 99, 85, 100, 90, 101, 26, 102, 103, 104, 5, 105, 106, 5, 5]), (-1, [7, 107, 108, 109, 86, 90, 110, 5]), (-1, [7, 111, 9, 112, 11, 18, 113, 114, 5]), (-1, [7, 115, 34, 35, 11, 26, 116, 117, 118, 5]), (-1, [17, 18, 119, 120, 121, 122, 5]), (-1, [123, 62, 37, 124, 125, 126, 127, 5]), (-1, [7, 128, 79, 85, 86, 18, 129, 90, 130, 131, 18, 132, 5]), (-1, [123, 62, 1, 133, 134, 135, 136, 20, 137, 5]), (-1, [7, 138, 9, 139, 11, 18, 140, 141, 5]), (-1, [34, 18, 142, 143, 128, 11, 18, 144, 145, 5]), (-1, [1, 18, 146, 147, 148, 149, 150, 5]), (-1, [37, 18, 151, 152, 20, 153, 154, 74, 155, 86, 98, 5]), (-1, [156, 71, 11, 123, 62, 5]), (-1, [7, 52, 20, 157, 34, 35, 5]), (-1, [7, 41, 34, 35, 11, 18, 42, 5]), (-1, [17, 18, 158, 20, 18, 159, 160, 5]), (-1, [37, 161, 162, 5]), (-1, [77, 79, 26, 163, 164, 165, 166, 100, 5]), (-1, [7, 167, 79, 26, 116, 168, 24, 11, 142, 169, 5]), (-1, [7, 170, 140, 171, 172, 18, 173, 174, 11, 175, 176, 5]), (-1, [7, 41, 177, 18, 178, 9, 112, 66, 18, 179, 20, 180, 181, 182, 183, 46, 184, 5, 185, 5, 186, 187, 5, 188, 5]), (-1, [1, 18, 146, 189, 190, 11, 18, 191, 192, 193, 5]), (-1, [37, 18, 194, 147, 195, 25, 5]), (-1, [37, 196, 197, 198, 199, 172, 26, 200, 201, 5]), (-1, [37, 202, 203, 204, 205, 5]), (-1, [7, 48, 34, 35, 11, 26, 206, 5]), (-1, [17, 21, 22, 5]), (-1, [1, 18, 207, 20, 18, 208, 209, 5]), (-1, [7, 41, 37, 210, 211, 212, 5]), (-1, [37, 213, 214, 5, 215, 5, 5]), (-1, [17, 18, 216, 20, 18, 217, 218, 5]), (-1, [1, 219, 220, 221, 5]), (-1, [222, 1, 223, 224, 225, 11, 226, 5]), (-1, [7, 107, 227, 37, 18, 228, 229, 230, 5]), (-1, [17, 18, 231, 74, 232, 20, 233, 234, 5, 235, 5]), (-1, [17, 18, 236, 237, 238, 239, 20, 26, 240, 241, 5]), (-1, [17, 18, 242, 20, 243, 5]), (-1, [7, 244, 34, 35, 11, 26, 245, 246, 5]), (-1, [220, 18, 140, 247, 248, 87, 249, 250, 11, 18, 251, 5]), (-1, [17, 18, 252, 20, 18, 253, 254, 5]), (-1, [62, 37, 255, 256, 257, 18, 258, 259, 260, 261, 5]), (-1, [7, 262, 37, 263, 264, 5]), (-1, [17, 18, 252, 20, 18, 253, 254, 5]), (-1, [7, 265, 5, 266, 267, 268, 5]), (-1, [7, 269, 270, 34, 35, 11, 271, 272, 273, 5]), (-1, [274, 20, 222, 37, 275, 276, 162, 5]), (-1, [7, 107, 37, 85, 86, 277, 278, 90, 264, 279, 5]), (-1, [7, 280, 20, 281, 5, 282, 34, 35, 5, 142]), (-1, [17, 18, 283, 20, 140, 284, 285, 286, 87, 66, 18, 287, 288, 5]), (-1, [1, 18, 289, 220, 290, 291, 292, 5]), (-1, [62, 37, 293, 162, 5]), (-1, [77, 78, 34, 294, 220, 295, 296, 87, 5]), (-1, [7, 297, 17, 85, 90, 243, 66, 298, 299, 5]), (-1, [77, 300, 301, 271, 302, 20, 303, 5]), (-1, [79, 18, 304, 305, 146, 172, 306, 5]), (-1, [17, 18, 252, 20, 18, 253, 254, 5]), (-1, [7, 307, 308, 26, 309, 310, 5]), (-1, [17, 18, 311, 312, 11, 313, 5]), (-1, [7, 314, 315, 17, 18, 316, 20, 26, 317, 318, 18, 120, 319, 5]), (-1, [84, 79, 85, 86, 87, 320, 220, 321, 90, 322, 5]), (-1, [323, 20, 26, 324, 220, 325, 17, 326, 327, 5]), (-1, [7, 107, 17, 328, 329, 330, 331, 332, 5]), (-1, [77, 99, 26, 333, 334, 335, 336, 337, 5, 338, 339, 177, 85, 5, 5]), (-1, [7, 340, 34, 35, 11, 26, 341, 342, 310, 5]), (-1, [37, 69, 195, 177, 18, 120, 5]), (-1, [17, 18, 343, 344, 87, 18, 345, 20, 346, 5]), (-1, [7, 347, 37, 348, 349, 172, 5]), (-1, [84, 17, 18, 350, 351, 352, 5]), (-1, [7, 353, 34, 11, 354, 5]), (-1, [1, 18, 355, 20, 356, 5]), (-1, [37, 357, 40, 5]), (-1, [17, 18, 358, 87, 359, 360, 361, 362, 5]), (-1, [7, 363, 24, 25, 18, 364, 87, 5, 365, 5, 5]), (-1, [7, 366, 79, 271, 367, 172, 5]), (-1, [7, 368, 34, 35, 11, 26, 369, 29, 370, 5]), (-1, [371, 20, 18, 95, 17, 372, 5]), (-1, [79, 271, 304, 373, 374, 83, 375, 11, 63, 376, 5]), (-1, [17, 18, 377, 378, 379, 90, 380, 5]), (-1, [17, 381, 22, 5]), (-1, [7, 382, 383, 26, 384, 385, 386, 5]), (-1, [222, 20, 18, 387, 388, 18, 389, 390, 166, 391, 5]), (-1, [392, 17, 393, 5]), (-1, [1, 18, 146, 140, 394, 150, 5]), (-1, [7, 395, 269, 26, 396, 5]), (-1, [397, 20, 18, 398, 399, 18, 389, 400, 5]), (-1, [392, 79, 18, 401, 166, 195, 5]), (-1, [84, 402, 26, 403, 404, 175, 405, 406, 407, 34, 408, 5]), (-1, [7, 409, 410, 34, 11, 271, 304, 411, 5]), (-1, [412, 108, 413, 172, 90, 414, 415, 413, 416, 26, 417, 414, 5]), (-1, [1, 18, 344, 20, 41, 418, 210, 419, 211, 1, 420, 20, 421, 5]), (-1, [412, 383, 26, 39, 121, 11, 422, 423, 5]), (-1, [1, 18, 424, 425, 426, 427, 11, 428, 5]), (-1, [62, 37, 18, 191, 192, 429, 18, 430, 431, 5]), (-1, [371, 20, 432, 433, 175, 434, 5]), (-1, [220, 18, 146, 222, 20, 18, 387, 5]), (-1, [7, 314, 315, 17, 18, 316, 20, 26, 317, 318, 18, 120, 319, 5]), (-1, [7, 435, 20, 436, 437, 17, 26, 438, 439, 440, 441, 442, 90, 336, 443, 105, 5]), (-1, [17, 18, 444, 20, 26, 445, 5]), (-1, [79, 271, 304, 373, 374, 83, 375, 11, 63, 376, 5]), (-1, [7, 432, 209, 87, 18, 446, 11, 18, 140, 141, 5]), (-1, [7, 447, 34, 35, 74, 448, 449, 5]), (-1, [7, 450, 20, 451, 79, 26, 452, 172, 5]), (-1, [7, 453, 399, 5, 454, 5, 454, 5, 455, 456, 5]), (-1, [457, 458, 124, 459, 460, 461, 455, 11, 462, 87, 26, 463, 5]), (-1, [7, 464, 34, 465, 90, 466, 26, 467, 5]), (-1, [1, 468, 469, 5]), (-1, [1, 18, 470, 20, 471, 472, 5, 473, 474, 475, 5]), (-1, [1, 5, 18, 53, 476, 5, 5]), (-1, [478, 479, 5, 480, 481, 5, 17, 482, 483, 5]), (-1, [123, 62, 37, 484, 485, 486, 146, 487, 136, 5]), (-1, [7, 128, 79, 26, 236, 488, 489, 199, 5]), (-1, [77, 1, 18, 490, 491, 11, 492, 5]), (-1, [7, 493, 9, 35, 11, 18, 494, 495, 5]), (-1, [304, 5, 482, 7, 297, 34, 35, 90, 18, 129, 5]), (-1, [7, 405, 79, 497, 498, 499, 500, 501, 502, 503, 5]), (-1, [7, 41, 504, 177, 505, 5]), (-1, [17, 18, 506, 242, 507, 18, 345, 20, 508, 11, 509, 5]), (-1, [37, 18, 510, 146, 511, 5]), (-1, [1, 18, 512, 513, 514, 5]), (-1, [7, 515, 34, 11, 516, 517, 5, 518, 5]), (-1, [62, 37, 18, 287, 203, 519, 5]), (-1, [17, 18, 520, 344, 20, 271, 521, 5]), (-1, [1, 194, 220, 522, 523, 524, 5]), (-1, [7, 525, 526, 34, 35, 177, 26, 527, 528, 529, 530, 5]), (-1, [62, 37, 531, 532, 486, 533, 534, 105, 18, 494, 495, 5]), (-1, [7, 535, 399, 536, 537, 538, 5]), (-1, [7, 539, 540, 34, 35, 5]), (-1, [7, 417, 541, 37, 542, 543, 172, 14, 502, 544, 5]), (-1, [7, 545, 546, 18, 310, 11, 547, 548, 220, 549, 73, 550, 18, 551, 5]), (-1, [34, 552, 553, 5]), (-1, [554, 79, 555, 556, 40, 11, 5]), (-1, [7, 557, 558, 559, 560, 561, 562, 5]), (-1, [17, 18, 304, 100, 87, 563, 107, 20, 564, 565, 5]), (-1, [17, 18, 566, 567, 568, 66, 66, 569, 90, 570, 5]), (-1, [7, 571, 572, 18, 345, 20, 508, 5]), (-1, [37, 573, 574, 575, 576, 5]), (-1, [17, 18, 577, 418, 507, 578, 579, 580, 20, 581, 41, 582, 172, 18, 583, 584, 5]), (-1, [7, 585, 586, 559, 62, 5]), (-1, [7, 587, 588, 34, 589, 11, 590, 5]), (-1, [62, 1, 591, 592, 593, 594, 18, 595, 596, 597, 5]), (-1, [77, 37, 18, 490, 491, 598, 90, 11, 492, 5]), (-1, [17, 18, 599, 600, 20, 601, 5]), (-1, [7, 602, 79, 26, 603, 604, 172, 5]), (-1, [84, 1, 605, 220, 606, 607, 608, 5]), (-1, [79, 26, 609, 20, 610, 611, 11, 26, 612, 613, 5]), (-1, [17, 614, 615, 616, 617, 220, 618, 584, 5]), (-1, [7, 277, 619, 620, 34, 35, 5]), (-1, [621, 17, 18, 622, 623, 90, 624, 625, 626, 74, 627, 628, 177, 629, 220, 630, 631, 5]), (-1, [77, 632, 79, 18, 633, 634, 90, 308, 5]), (-1, [7, 635, 11, 26, 636, 5]), (-1, [17, 18, 637, 638, 20, 639, 5, 170, 640, 5, 5]), (-1, [7, 641, 37, 642, 643, 644, 11, 645, 5]), (-1, [17, 18, 304, 646, 20, 26, 647, 20, 18, 648, 418, 649, 177, 18, 650, 560, 5]), (-1, [7, 651, 34, 35, 11, 26, 652, 20, 653, 654, 5]), (-1, [7, 655, 656, 657, 34, 658, 20, 659, 660, 20, 661, 662, 559, 62, 5]), (-1, [7, 41, 11, 640, 663, 5]), (-1, [7, 664, 34, 35, 177, 18, 494, 495, 220, 665, 5]), (-1, [34, 18, 666, 20, 667, 668, 5]), (-1, [84, 79, 85, 86, 18, 669, 670, 90, 671, 672, 673, 674, 5]), (-1, [77, 79, 85, 100, 5, 304, 675, 676, 17, 677, 5, 90, 678, 74, 679, 680, 681, 682, 11, 18, 424, 5, 5, 683, 188, 684, 684, 5]), (-1, [1, 18, 685, 686, 5]), (-1, [1, 124, 220, 687, 688, 459, 689, 107, 11, 462, 5]), (-1, [7, 244, 34, 11, 26, 690, 5]), (-1, [1, 691, 692, 4, 5]), (-1, [17, 18, 426, 427, 20, 41, 693, 66, 694, 5]), (-1, [84, 1, 18, 695, 696, 20, 697, 698, 220, 699, 90, 336, 5]), (-1, [700, 344, 383, 204, 701, 90, 172, 26, 702, 703, 5]), (-1, [37, 18, 5, 704, 705, 5, 125, 18, 706, 707, 5]), (-1, [222, 17, 708, 709, 5, 710, 5]), (-1, [711, 17, 26, 712, 5]), (-1, [84, 79, 85, 86, 393, 90, 511, 18, 132, 66, 18, 713, 5]), (-1, [7, 714, 34, 177, 715, 716, 5]), (-1, [123, 62, 37, 293, 717, 462, 20, 531, 5]), (-1, [62, 37, 718, 437, 5, 719, 720, 5, 5]), (-1, [7, 721, 48, 17, 722, 723, 5, 417, 5]), (-1, [22, 17, 724, 177, 123, 19, 5]), (-1, [79, 18, 424, 726, 727, 42, 171, 11, 728, 5]), (-1, [1, 18, 729, 239, 87, 730, 731, 11, 732, 5]), (-1, [37, 733, 70, 734, 18, 735, 736, 74, 737, 46, 90, 18, 738, 5]), (-1, [77, 739, 17, 740, 500, 741, 74, 742, 743, 5]), (-1, [7, 744, 504, 14, 18, 745, 288, 5]), (-1, [77, 746, 79, 271, 304, 747, 748, 678, 11, 26, 222, 5]), (-1, [7, 169, 9, 35, 177, 18, 749, 750, 751, 752, 753, 5]), (-1, [17, 18, 304, 274, 85, 754, 87, 26, 755, 90, 756, 5]), (-1, [7, 557, 172, 455, 177, 18, 129, 5]), (-1, [123, 62, 37, 18, 96, 97, 757, 5]), (-1, [9, 18, 758, 759, 11, 61, 760, 761, 762, 763, 764, 5]), (-1, [7, 765, 20, 766, 368, 79, 26, 767, 20, 768, 769, 172, 5]), (-1, [17, 18, 770, 242, 20, 18, 42, 5]), (-1, [7, 771, 34, 35, 11, 18, 772, 20, 63, 773, 5]), (-1, [37, 774, 83, 502, 146, 775, 87, 18, 776, 383, 5]), (-1, [7, 777, 34, 764, 11, 26, 778, 779, 780, 5]), (-1, [7, 714, 108, 413, 172, 177, 88, 781, 5]), (-1, [1, 18, 782, 783, 514, 5]), (-1, [17, 18, 784, 242, 20, 785, 786, 5, 787, 5]), (-1, [77, 79, 18, 788, 83, 375, 5]), (-1, [655, 790, 18, 791, 20, 792, 74, 793, 5, 123, 371, 794, 5, 477, 795, 5, 5]), (-1, [17, 796, 797, 220, 700, 344, 5]), (-1, [1, 18, 424, 425, 426, 427, 11, 428, 5]), (-1, [79, 559, 20, 18, 798, 100, 11, 36, 5]), (-1, [9, 799, 146, 800, 90, 336, 57, 177, 801, 5]), (-1, [7, 802, 108, 413, 803, 90, 511, 18, 804, 805, 20, 18, 806, 807, 808, 5]), (-1, [84, 79, 26, 809, 810, 5]), (-1, [383, 413, 336, 811, 87, 812, 26, 809, 177, 26, 813, 5]), (-1, [77, 582, 18, 814, 336, 11, 18, 62, 815, 5]), (-1, [816, 817, 175, 818, 177, 576, 177, 123, 222, 5]), (-1, [7, 819, 34, 35, 177, 26, 820, 821, 310, 530, 5]), (-1, [17, 788, 822, 220, 584, 5]), (-1, [7, 41, 11, 18, 823, 824, 175, 344, 91, 825, 20, 826, 17, 18, 827, 5]), (-1, [7, 453, 26, 222, 402, 413, 86, 26, 828, 829, 5, 830, 5, 5, 5]), (-1, [77, 831, 108, 432, 832, 11, 26, 222, 5]), (-1, [392, 108, 833, 414, 5]), (-1, [392, 17, 26, 834, 835, 5]), (-1, [34, 18, 836, 20, 837, 838, 90, 839, 5]), (-1, [412, 17, 840, 251, 66, 814, 5]), (-1, [7, 107, 483, 17, 841, 842, 5]), (-1, [483, 17, 843, 844, 5]), (-1, [1, 18, 426, 427, 507, 18, 201, 20, 196, 845, 5]), (-1, [582, 18, 846, 847, 70, 5]), (-1, [17, 18, 231, 74, 232, 20, 233, 234, 5, 235, 5]), (-1, [17, 18, 325, 848, 20, 18, 304, 849, 5]), (-1, [7, 647, 850, 34, 11, 18, 851, 5]), (-1, [34, 18, 852, 20, 271, 853, 854, 855, 5]), (-1, [1, 69, 220, 146, 856, 5]), (-1, [84, 79, 85, 86, 857, 90, 511, 132, 5]), (-1, [7, 858, 11, 26, 859, 5]), (-1, [9, 860, 861, 11, 862, 5]), (-1, [17, 18, 863, 20, 864, 865, 5]), (-1, [17, 18, 866, 239, 87, 867, 90, 140, 78, 5]), (-1, [7, 850, 37, 868, 822, 869, 11, 870, 5]), (-1, [7, 871, 872, 318, 579, 9, 35, 11, 26, 873, 5]), (-1, [874, 344, 875, 18, 612, 876, 20, 26, 877, 20, 255, 878, 220, 5]), (-1, [123, 62, 37, 879, 74, 18, 880, 20, 881, 882, 883, 884, 5]), (-1, [885, 17, 18, 886, 5]), (-1, [84, 37, 85, 86, 887, 90, 888, 889, 5]), (-1, [77, 20, 18, 890, 220, 655, 790, 18, 791, 20, 792, 74, 793, 794, 5, 477, 795, 5, 5]), (-1, [7, 41, 504, 365, 20, 26, 891, 892, 11, 893, 5]), (-1, [7, 453, 11, 502, 894, 895, 896, 897, 544, 1, 898, 899, 26, 647, 20, 18, 900, 648, 5]), (-1, [74, 902, 461, 271, 903, 11, 904, 905, 87, 482, 84, 406, 906, 85, 5]), (-1, [62, 37, 907, 908, 18, 909, 910, 5, 5, 911, 912, 913, 5, 5]), (-1, [7, 914, 915, 34, 35, 5, 74, 123, 34, 407, 5]), (-1, [84, 459, 306, 79, 85, 86, 90, 888, 580, 415, 413, 34, 916, 5]), (-1, [7, 917, 20, 839, 34, 35, 5]), (-1, [7, 41, 40, 11, 18, 918, 5]), (-1, [77, 78, 1, 18, 490, 491, 11, 492, 5]), (-1, [123, 62, 1, 18, 146, 775, 87, 18, 776, 919, 177, 920, 921, 5]), (-1, [17, 18, 922, 470, 5]), (-1, [77, 20, 18, 801, 220, 923, 17, 924, 925, 5]), (-1, [1, 926, 927, 4, 5]), (-1, [7, 41, 9, 10, 87, 928, 929, 220, 930, 5]), (-1, [1, 931, 932, 5]), (-1, [17, 18, 933, 490, 491, 5]), (-1, [34, 18, 934, 935, 87, 18, 107, 936, 74, 937, 5]), (-1, [17, 18, 938, 20, 18, 939, 940, 5]), (-1, [62, 37, 941, 205, 5]), (-1, [37, 942, 943, 264, 5, 5, 944, 63, 202, 5, 5]), (-1, [84, 1, 18, 945, 946, 818, 5]), (-1, [7, 41, 40, 11, 947, 5]), (-1, [37, 948, 146, 70, 90, 264, 949, 950, 5]), (-1, [1, 18, 304, 325, 951, 14, 18, 952, 953, 5]), (-1, [7, 424, 954, 9, 955, 14, 926, 927, 220, 956, 5]), (-1, [1, 18, 146, 957, 958, 686, 5]), (-1, [7, 959, 79, 559, 960, 172, 11, 26, 961, 310, 20, 962, 5]), (-1, [483, 17, 18, 963, 5]), (-1, [371, 20, 655, 790, 18, 791, 20, 792, 74, 793, 794, 5, 477, 795, 5, 5]), (-1, [7, 107, 227, 37, 964, 965, 966, 486, 199, 967, 5]), (-1, [7, 41, 1, 210, 211, 420, 20, 421, 5]), (-1, [122, 17, 18, 968, 87, 263, 220, 969, 970, 220, 971, 5]), (-1, [17, 18, 566, 567, 568, 66, 66, 569, 90, 570, 5]), (-1, [972, 5, 19, 5, 74, 62, 37, 973, 204, 162, 5]), (-1, [7, 974, 48, 20, 423, 79, 26, 975, 20, 976, 977, 5]), (-1, [7, 978, 34, 11, 26, 979, 980, 5]), (-1, [17, 18, 304, 981, 239, 20, 140, 982, 5]), (-1, [123, 62, 37, 407, 983, 18, 194, 147, 5]), (-1, [582, 984, 985, 986, 987, 988, 989, 5]), (-1, [7, 990, 34, 11, 26, 636, 5]), (-1, [7, 991, 34, 11, 26, 992, 5]), (-1, [84, 17, 488, 993, 5]), (-1, [220, 18, 242, 20, 253, 5]), (-1, [483, 17, 994, 995, 5]), (-1, [7, 996, 997, 34, 35, 177, 26, 998, 220, 999, 5]), (-1, [1000, 34, 865, 4, 5]), (-1, [7, 954, 172, 504, 177, 18, 1001, 20, 1002, 5]), (-1, [122, 1003, 105, 18, 1004, 1005, 5]), (-1, [84, 9, 1006, 1007, 220, 1008, 5]), (-1, [62, 9, 18, 758, 759, 764, 11, 1009, 760, 761, 762, 763, 5]), (-1, [901, 5, 902, 431, 1010, 461, 271, 903, 11, 1011, 87, 482, 7, 107, 5]), (-1, [84, 79, 85, 86, 18, 669, 140, 90, 832, 1012, 1013, 20, 853, 1014, 5]), (-1, [17, 18, 1015, 20, 1016, 5]), (-1, [7, 1017, 1018, 79, 85, 86, 90, 644, 1019, 5]), (-1, [123, 62, 1, 18, 1020, 18, 1021, 1022, 740, 5]), (-1, [1, 18, 133, 1023, 1024, 1025, 5]), (-1, [17, 18, 19, 20, 381, 22, 5]), (-1, [77, 1026, 1027, 402, 271, 1028, 1029, 83, 1030, 5]), (-1, [77, 1031, 17, 11, 26, 1032, 1033, 1034, 20, 1035, 5]), (-1, [17, 796, 797, 220, 700, 344, 5]), (-1, [37, 1036, 1037, 74, 153, 973, 83, 1038, 5]), (-1, [7, 1039, 172, 455, 1040, 5]), (-1, [7, 1041, 37, 1042, 616, 1043, 172, 5]), (-1, [17, 18, 242, 11, 1044, 5]), (-1, [84, 108, 1045, 40, 5]), (-1, [7, 453, 26, 222, 79, 18, 669, 403, 195, 90, 18, 1046, 5]), (-1, [7, 48, 84, 17, 26, 1047, 1048, 220, 1049, 5]), (-1, [7, 453, 1050, 318, 325, 216, 17, 18, 1051, 20, 1052, 5]), (-1, [84, 79, 26, 488, 40, 5]), (-1, [7, 1053, 172, 18, 1054, 1055, 5]), (-1, [220, 26, 27, 30, 11, 26, 1056, 1057, 5]), (-1, [123, 19, 37, 1058, 1059, 1060, 26, 364, 20, 18, 745, 1061, 1062, 87, 1063, 90, 1064, 25, 987, 1065, 177, 18, 1066, 5]), (-1, [34, 18, 1067, 836, 177, 26, 1068, 1069, 5]), (-1, [123, 62, 37, 18, 424, 1070, 1071, 1072, 18, 1073, 5, 1074, 1075, 5, 5]), (-1, [7, 1076, 37, 1077, 1078, 24, 5]), (-1, [1, 18, 146, 1079, 1080, 5]), (-1, [7, 872, 1081, 20, 143, 34, 35, 415, 26, 178, 1082, 388, 502, 1083, 5]), (-1, [62, 37, 1084, 1085, 146, 195, 177, 1086, 5]), (-1, [37, 18, 1087, 1088, 519, 5]), (-1, [1, 18, 19, 20, 1089, 220, 1090, 20, 576, 5]), (-1, [7, 587, 1091, 1092, 34, 35, 5]), (-1, [1, 18, 722, 20, 1093, 292, 5]), (-1, [220, 18, 242, 20, 1094, 5, 253, 5]), (-1, [62, 37, 18, 146, 1095, 20, 5, 1096, 5, 1097, 580, 5]), (-1, [7, 435, 79, 26, 877, 20, 1098, 1099, 1100, 5]), (-1, [1, 18, 344, 20, 1101, 74, 1102, 90, 1103, 11, 18, 424, 1104, 1105, 5]), (-1, [7, 1106, 108, 413, 1107, 66, 11, 18, 1108, 310, 5, 1109, 18, 202, 5, 5]), (-1, [17, 18, 304, 646, 26, 1110, 1111, 5]), (-1, [7, 655, 79, 1112, 1113, 20, 18, 1114, 172, 5]), (-1, [7, 107, 37, 901, 5, 902, 1115, 431, 11, 904, 905, 5]), (-1, [77, 1116, 17, 11, 18, 447, 5]), (-1, [7, 664, 34, 35, 11, 245, 1117, 5]), (-1, [7, 1118, 79, 26, 1119, 172, 5]), (-1, [17, 18, 242, 20, 1120, 5]), (-1, [84, 17, 1121, 1122, 5]), (-1, [7, 297, 17, 85, 66, 840, 5, 376, 90, 1123, 5, 376, 5]), (-1, [7, 41, 1, 210, 211, 420, 20, 1124, 5]), (-1, [61, 19, 17, 18, 1125, 5, 1126, 5]), (-1, [17, 18, 304, 1127, 87, 26, 39, 5]), (-1, [77, 17, 1128, 1129, 1130, 375, 1131, 1132, 220, 90, 824, 5, 725, 220, 18, 1133, 5, 5]), (-1, [1, 18, 19, 20, 69, 220, 146, 856, 5]), (-1, [17, 18, 1134, 384, 1135, 20, 1136, 1137, 5, 74, 1009, 383, 204, 888, 715, 826, 5]), (-1, [1, 1138, 1139, 686, 5]), (-1, [483, 17, 1140, 1141, 5]), (-1, [17, 691, 692, 220, 584, 5]), (-1, [37, 293, 1097, 90, 462, 11, 531, 5]), (-1, [37, 1142, 1143, 74, 75, 76, 5]), (-1, [222, 20, 18, 387, 1, 1002, 709, 5]), (-1, [482, 7, 571, 34, 1145, 507, 18, 345, 20, 508, 5]), (-1, [7, 140, 284, 172, 504, 87, 175, 1146, 90, 19, 5]), (-1, [62, 1, 18, 1147, 1025, 5]), (-1, [123, 62, 37, 124, 717, 462, 5]), (-1, [1148, 79, 18, 316, 20, 271, 1149, 1150, 83, 5]), (-1, [17, 18, 216, 20, 1151, 5]), (-1, [19, 17, 868, 822, 220, 584, 5]), (-1, [457, 20, 42, 220, 1152, 976, 17, 57, 11, 1153, 5]), (-1, [220, 146, 856, 1154, 177, 123, 19, 5]), (-1, [7, 1155, 34, 177, 26, 1156, 5]), (-1, [344, 20, 140, 284, 1157, 286, 66, 18, 287, 288, 5]), (-1, [7, 1158, 1047, 777, 37, 542, 543, 546, 5]), (-1, [7, 587, 280, 20, 1159, 34, 35, 5]), (-1, [62, 37, 213, 24, 5, 215, 5, 5]), (-1, [220, 18, 371, 20, 655, 332, 792, 94, 793, 1160, 794, 5, 477, 795, 5, 5]), (-1, [77, 78, 79, 559, 960, 83, 507, 18, 1161, 20, 18, 310, 11, 36, 5]), (-1, [62, 1, 18, 1162, 146, 861, 5]), (-1, [79, 1163, 269, 5]), (-1, [17, 691, 692, 220, 19, 20, 838, 5]), (-1, [7, 269, 106, 34, 35, 177, 26, 1164, 273, 5]), (-1, [61, 62, 1, 18, 1165, 1166, 1167, 1168, 1169, 5]), (-1, [621, 17, 1170, 220, 242, 5]), (-1, [1, 18, 1171, 1172, 1173, 1174, 5]), (-1, [274, 79, 1175, 1176, 1177, 414, 94, 18, 1178, 5]), (-1, [397, 20, 1179, 105, 18, 1180, 399, 1181, 1182, 1183, 1184, 1185, 1186, 5]), (-1, [598, 20, 78, 37, 18, 1187, 1188, 1189, 1190, 66, 18, 1191, 5]), (-1, [7, 917, 20, 1192, 34, 35, 5]), (-1, [17, 18, 304, 325, 951, 20, 26, 755, 11, 484, 11, 1193, 5]), (-1, [7, 914, 915, 34, 35, 5, 74, 123, 34, 407, 5]), (-1, [17, 18, 599, 600, 20, 1194, 5]), (-1, [108, 413, 1195, 143, 1196, 5]), (-1, [7, 1197, 34, 11, 1198, 5]), (-1, [17, 18, 866, 239, 790, 376, 74, 18, 424, 5]), (-1, [17, 18, 1199, 239, 20, 1200, 1201, 5]), (-1, [7, 1202, 79, 26, 1203, 172, 5]), (-1, [412, 383, 413, 1204, 5]), (-1, [37, 1205, 1206, 202, 203, 1207, 99, 70, 5]), (-1, [1, 840, 220, 1208, 1209, 1210, 1211, 5]), (-1, [84, 37, 18, 973, 1212, 1213, 1214, 199, 5]), (-1, [84, 79, 85, 86, 87, 88, 89, 90, 24, 91, 92, 93, 94, 18, 95, 5]), (-1, [108, 1215, 1206, 1216, 1, 4, 5]), (-1, [123, 62, 1, 1217, 1218, 1219, 4, 5]), (-1, [17, 304, 1220, 20, 1221, 1222, 11, 191, 192, 5]), (-1, [304, 5, 482, 84, 274, 79, 85, 86, 90, 1223, 26, 1224, 5]), (-1, [84, 108, 1225, 674, 1226, 5]), (-1, [7, 20, 1227, 689, 1228, 20, 18, 1229, 1230, 260, 172, 1231, 649, 26, 1232, 5]), (-1, [7, 1076, 34, 1233, 1131, 18, 1234, 1235, 11, 26, 62, 5]), (-1, [7, 58, 1236, 34, 35, 11, 18, 424, 5]), (-1, [646, 17, 841, 842, 5]), (-1, [7, 1237, 582, 18, 462, 1238, 11, 1239, 5, 193, 1131, 26, 1240, 1241, 1131, 1242, 1243, 20, 424, 5, 678, 5]), (-1, [222, 17, 1244, 1245, 18, 5, 706, 222, 20, 1246, 5, 5]), (-1, [1, 219, 220, 221, 5]), (-1, [7, 618, 1247, 1248, 34, 35, 11, 26, 383, 20, 1249, 1250, 5]), (-1, [77, 79, 26, 1251, 611, 5]), (-1, [7, 23, 34, 35, 177, 26, 1252, 530, 5]), (-1, [7, 1253, 79, 26, 1254, 1255, 1107, 5]), (-1, [37, 1256, 1257, 437, 18, 5, 1258, 20, 1259, 5, 5]), (-1, [7, 41, 172, 455, 555, 640, 5]), (-1, [123, 62, 1, 1260, 955, 5]), (-1, [17, 18, 274, 85, 754, 26, 1261, 90, 1223, 26, 1224, 418, 17, 1262, 1263, 84, 5]), (-1, [7, 450, 20, 1118, 79, 26, 1264, 1265, 172, 5]), (-1, [769, 5, 215, 5, 1, 1233, 11, 123, 62, 5]), (-1, [77, 79, 85, 100, 90, 172, 26, 702, 703, 1131, 1266, 5, 1267, 5, 1268, 5]), (-1, [84, 108, 1269, 1270, 40, 5]), (-1, [972, 9, 413, 4, 11, 415, 88, 1271, 17, 1272, 5]), (-1, [77, 78, 383, 26, 403, 336, 811, 87, 812, 26, 809, 177, 26, 813, 5]), (-1, [19, 37, 39, 146, 1273, 177, 18, 129, 5]), (-1, [7, 321, 1274, 34, 35, 5]), (-1, [7, 1275, 195, 1100, 117, 1276, 11, 26, 62, 5]), (-1, [412, 580, 17, 18, 1277, 5]), (-1, [7, 1278, 1279, 79, 26, 1280, 83, 1281, 1100, 26, 1047, 310, 5]), (-1, [7, 1282, 1283, 34, 35, 90, 18, 396, 5]), (-1, [7, 1284, 34, 35, 11, 18, 488, 1285, 5]), (-1, [412, 17, 85, 66, 1286, 90, 1287, 5]), (-1, [7, 41, 794, 1288, 1289, 5]), (-1, [7, 744, 34, 35, 177, 26, 1290, 648, 5]), (-1, [84, 79, 85, 86, 90, 1291, 18, 1292, 1293, 1294, 5]), (-1, [7, 453, 383, 26, 1295, 1296, 1297, 336, 1298, 5]), (-1, [7, 1299, 79, 18, 1300, 1301, 5]), (-1, [7, 33, 34, 1302, 90, 559, 960, 11, 1303, 1304, 5]), (-1, [274, 20, 62, 108, 389, 41, 1265, 5]), (-1, [17, 18, 1305, 63, 1306, 5]), (-1, [412, 383, 26, 488, 1307, 1204, 5]), (-1, [274, 20, 62, 399, 18, 389, 120, 121, 5]), (-1, [1, 18, 1308, 1309, 20, 1310, 1311, 5]), (-1, [37, 407, 1312, 18, 398, 5]), (-1, [371, 20, 1313, 42, 1314, 1315, 1316, 11, 18, 424, 5]), (-1, [37, 18, 1317, 1318, 70, 5]), (-1, [7, 1319, 9, 35, 11, 18, 1320, 806, 5]), (-1, [123, 222, 9, 898, 1321, 74, 1322, 1323, 1038, 5]), (-1, [483, 17, 1324, 1325, 1326, 5]), (-1, [37, 1327, 74, 881, 205, 1328, 884, 5]), (-1, [7, 1155, 34, 177, 26, 1156, 220, 1329, 5]), (-1, [34, 18, 1330, 20, 1331, 415, 18, 1332, 79, 1333, 1334, 18, 1335, 5]), (-1, [84, 99, 85, 86, 87, 26, 5, 1336, 1337, 90, 1338, 5]), (-1, [17, 18, 304, 100, 87, 563, 107, 20, 564, 565, 5]), (-1, [7, 1339, 34, 35, 177, 1340, 220, 665, 5]), (-1, [220, 1341, 220, 1342, 177, 26, 1343, 1344, 613, 5]), (-1, [371, 20, 140, 1341, 34, 1345, 5]), (-1, [5, 1267, 5, 1268, 90, 172, 26, 702, 703, 582, 100, 482, 77, 5]), (-1, [170, 881, 5, 482, 7, 140, 1347, 34, 35, 5]), (-1, [34, 18, 1348, 418, 1349, 1100, 1350, 220, 199, 1351, 5]), (-1, [7, 432, 172, 1352, 5]), (-1, [7, 1353, 79, 26, 1354, 770, 1301, 5]), (-1, [885, 17, 1355, 5]), (-1, [17, 18, 344, 20, 140, 284, 1356, 90, 170, 881, 5]), (-1, [17, 18, 1357, 1358, 424, 1359, 1360, 242, 5]), (-1, [344, 17, 507, 1361, 1362, 753, 177, 26, 1363, 5]), (-1, [7, 297, 20, 1364, 34, 11, 18, 1365, 1366, 5]), (-1, [7, 5, 1367, 5, 1368, 1, 18, 16, 220, 1369, 1370, 5, 1371, 1372, 5]), (-1, [17, 18, 1373, 87, 812, 26, 809, 177, 26, 813, 5]), (-1, [7, 563, 1374, 1375, 9, 35, 74, 1160, 34, 407, 5]), (-1, [37, 822, 162, 5]), (-1, [7, 1228, 34, 11, 18, 814, 1376, 1377, 5]), (-1, [84, 37, 901, 74, 902, 1115, 431, 11, 904, 905, 5]), (-1, [220, 26, 27, 30, 11, 26, 1056, 1057, 5]), (-1, [123, 646, 37, 1379, 1380, 1381, 1382, 5]), (-1, [483, 1, 1383, 1384, 5]), (-1, [7, 244, 34, 35, 11, 1385, 1386, 5]), (-1, [711, 17, 1387, 1388, 11, 1389, 5]), (-1, [17, 26, 487, 389, 1390, 5]), (-1, [7, 41, 11, 1391, 5]), (-1, [17, 18, 1392, 1127, 20, 26, 1393, 1394, 755, 418, 17, 1395, 5, 1396, 5]), (-1, [77, 17, 26, 1397, 1398, 1399, 247, 1400, 1401, 337, 5]), (-1, [7, 107, 37, 1402, 1403, 810, 5]), (-1, [84, 79, 85, 86, 87, 88, 95, 90, 1404, 89, 459, 413, 1405, 88, 89, 5]), (-1, [7, 107, 24, 25, 26, 1406, 5]), (-1, [483, 17, 18, 1407, 479, 480, 481, 5]), (-1, [1, 18, 1408, 1409, 5]), (-1, [392, 1410, 26, 1411, 121, 90, 1412, 132, 220, 1413, 5]), (-1, [7, 1414, 34, 35, 177, 26, 1415, 1416, 729, 5]), (-1, [7, 1417, 1418, 9, 112, 507, 18, 1419, 1420, 5]), (-1, [1, 868, 822, 4, 5]), (-1, [17, 18, 1421, 646, 90, 1422, 26, 1423, 66, 26, 1424, 90, 26, 1425, 5]), (-1, [17, 18, 713, 1426, 90, 18, 132, 5]), (-1, [17, 18, 304, 1427, 1428, 128, 326, 1429, 1131, 1430, 1431, 5]), (-1, [412, 1432, 17, 18, 129, 5]), (-1, [37, 1433, 70, 1434, 5]), (-1, [7, 1284, 34, 11, 18, 488, 1285, 5]), (-1, [7, 599, 1435, 34, 35, 5]), (-1, [17, 18, 566, 242, 87, 1436, 171, 5, 137, 5, 1327, 5, 1437, 5, 1438, 5, 1439, 5, 531, 5, 1440, 5, 18, 1441, 5]), (-1, [17, 18, 1442, 646, 26, 1443, 675, 1444, 383, 172, 271, 1445, 5]), (-1, [7, 281, 1446, 26, 1447, 11, 18, 1448, 5]), (-1, [84, 79, 1449, 1450, 11, 88, 1366, 5]), (-1, [61, 1451, 79, 18, 1452, 20, 18, 1453, 1454, 11, 1455, 5, 1327, 5]), (-1, [7, 1456, 1, 18, 1457, 1458, 1459, 26, 1460, 1461, 1462, 1463, 5]), (-1, [7, 1464, 977, 18, 1465, 1466, 18, 1467, 487, 11, 1468, 907, 220, 1469, 73, 477, 1470, 5]), (-1, [17, 18, 100, 20, 18, 1471, 465, 11, 694, 1472, 5]), (-1, [7, 1473, 1474, 34, 35, 11, 18, 424, 5]), (-1, [7, 1234, 1475, 1476, 267, 177, 1214, 459, 18, 288, 507, 1477, 5]), (-1, [62, 17, 1478, 177, 18, 1479, 1480, 20, 1481, 66, 18, 1482, 1483, 1484, 177, 26, 383, 20, 1485, 220, 690, 1486, 5]), (-1, [77, 78, 79, 18, 1487, 20, 1488, 172, 5]), (-1, [972, 220, 1489, 1490, 17, 18, 1491, 1492, 312, 1493, 177, 5]), (-1, [1, 898, 1494, 1495, 4, 5]), (-1, [84, 79, 277, 619, 1496, 502, 674, 1497, 5]), (-1, [7, 41, 34, 1498, 318, 1499, 48, 5]), (-1, [7, 1500, 24, 25, 1501, 5]), (-1, [7, 850, 172, 26, 1502, 5]), (-1, [1503, 20, 655, 20, 791, 790, 792, 74, 793, 794, 5, 477, 795, 5, 5]), (-1, [7, 1504, 34, 35, 11, 1505, 5]), (-1, [7, 1506, 195, 90, 18, 1507, 559, 62, 5]), (-1, [17, 18, 242, 20, 1508, 5]), (-1, [554, 37, 1143, 220, 1509, 1088, 70, 11, 5]), (-1, [7, 526, 1510, 26, 1318, 507, 18, 519, 20, 26, 1511, 5]), (-1, [123, 62, 1, 18, 194, 147, 524, 5]), (-1, [17, 18, 1127, 20, 26, 609, 20, 610, 11, 26, 612, 613, 5]), (-1, [17, 18, 784, 1127, 20, 26, 609, 20, 610, 11, 26, 612, 613, 5]), (-1, [412, 17, 1512, 66, 1513, 5]), (-1, [7, 1514, 34, 11, 26, 1515, 5]), (-1, [482, 77, 79, 26, 609, 20, 610, 611, 11, 26, 612, 613, 5]), (-1, [1, 18, 1516, 20, 1517, 5]), (-1, [77, 1026, 1027, 402, 26, 916, 487, 83, 559, 222, 5]), (-1, [62, 1, 18, 146, 1518, 1519, 5]), (-1, [7, 138, 37, 531, 83, 90, 1520, 459, 202, 203, 204, 5]), (-1, [7, 850, 172, 26, 5, 1521, 431, 5, 87, 163, 1522, 5]), (-1, [483, 17, 841, 842, 5]), (-1, [34, 18, 1523, 1524, 20, 1185, 1525, 5, 1526, 5, 74, 1527, 5, 18, 1528, 1529, 5]), (-1, [7, 1530, 34, 35, 11, 26, 1531, 5]), (-1, [34, 18, 935, 87, 1532, 1533, 11, 1534, 5]), (-1, [220, 18, 30, 20, 26, 1535, 1047, 310, 5]), (-1, [7, 1536, 1537, 172, 35, 455, 5]), (-1, [7, 1538, 172, 1539, 177, 18, 129, 5]), (-1, [1, 1540, 1494, 1541, 1542, 105, 1543, 5]), (-1, [17, 18, 1544, 1220, 87, 1161, 771, 5]), (-1, [582, 18, 814, 1545, 1546, 336, 11, 18, 62, 815, 5]), (-1, [17, 18, 470, 87, 694, 1471, 5]), (-1, [1, 18, 146, 490, 491, 5]), (-1, [7, 41, 1547, 11, 1548, 11, 18, 1549, 1550, 5]), (-1, [62, 1, 1551, 643, 220, 146, 967, 740, 5]), (-1, [7, 1552, 399, 1553, 1554, 455, 11, 5]), (-1, [1555, 17, 18, 516, 1556, 5]), (-1, [7, 990, 34, 11, 26, 636, 5]), (-1, [482, 7, 284, 504, 11, 202, 203, 1558, 5]), (-1, [7, 1559, 34, 11, 18, 488, 633, 5]), (-1, [7, 1560, 34, 35, 177, 18, 132, 5]), (-1, [84, 79, 26, 1265, 40, 5]), (-1, [7, 250, 34, 35, 11, 26, 1561, 5]), (-1, [598, 20, 1026, 1027, 402, 271, 1028, 1029, 86, 1030, 5]), (-1, [7, 297, 17, 85, 66, 1562, 5, 531, 90, 1563, 5, 1439, 5]), (-1, [7, 1564, 34, 1565, 11, 1566, 1567, 1568, 220, 1569, 308, 477, 1570, 220, 1571, 11, 1572, 5]), (-1, [34, 18, 1330, 20, 1331, 415, 18, 1332, 79, 1333, 1334, 18, 1335, 5]), (-1, [972, 37, 18, 1573, 1574, 230, 5]), (-1, [1, 18, 522, 1575, 11, 194, 193, 5]), (-1, [77, 20, 18, 1576, 1577, 17, 1519, 1131, 1578, 1579, 5]), (-1, [371, 20, 18, 1576, 1577, 17, 1580, 1131, 1578, 1579, 5]), (-1, [19, 17, 21, 22, 5]), (-1, [7, 45, 885, 17, 1581, 1582, 507, 838, 5]), (-1, [7, 1583, 1584, 9, 1585, 1233, 5]), (-1, [554, 220, 18, 968, 87, 695, 220, 477, 1586, 20, 1587, 1588, 5]), (-1, [1589, 37, 1590, 1309, 1591, 5]), (-1, [17, 18, 637, 638, 20, 639, 5, 170, 640, 5]), (-1, [7, 280, 20, 1592, 34, 35, 11, 137, 5]), (-1, [7, 5, 1593, 5, 79, 26, 1594, 172, 5]), (-1, [7, 1595, 34, 35, 11, 18, 42, 5]), (-1, [7, 23, 17, 26, 1254, 11, 18, 1596, 613, 337, 11, 962, 5]), (-1, [62, 37, 18, 203, 20, 1597, 70, 5]), (-1, [7, 400, 34, 11, 18, 398, 5]), (-1, [1598, 1599, 1510, 18, 728, 1600, 11, 18, 344, 87, 84, 1601, 826, 5]), (-1, [1603, 220, 1604, 87, 123, 371, 20, 1576, 1577, 5]), (-1, [17, 18, 1220, 20, 26, 424, 1605, 5]), (-1, [220, 18, 1606, 1607, 5, 11, 45, 5, 20, 26, 146, 1608, 220, 1609, 5]), (-1, [17, 18, 1610, 242, 20, 18, 42, 5]), (-1, [17, 18, 389, 344, 20, 1611, 1612, 1131, 26, 979, 648, 11, 271, 1613, 854, 310, 5]), (-1, [7, 1614, 26, 222, 37, 1615, 1616, 824, 413, 1617, 83, 1131, 177, 11, 590, 11, 1618, 5]), (-1, [37, 196, 197, 1619, 199, 1620, 5]), (-1, [1, 1423, 1621, 1622, 5]), (-1, [7, 1623, 1624, 383, 336, 1233, 66, 18, 563, 1625, 5, 1626, 5]), (-1, [274, 20, 62, 17, 120, 121, 18, 1627, 5]), (-1, [7, 1628, 34, 35, 11, 26, 1629, 1630, 5]), (-1, [7, 1631, 34, 11, 26, 636, 5]), (-1, [711, 17, 26, 1632, 1633, 1634, 5]), (-1, [1, 18, 53, 1635, 242, 66, 1636, 5]), (-1, [7, 41, 37, 210, 211, 1213, 5]), (-1, [483, 17, 1637, 483, 87, 26, 1423, 90, 1333, 336, 1638, 5]), (-1, [1, 18, 1639, 1640, 1211, 5]), (-1, [7, 1641, 20, 18, 132, 220, 923, 1642, 656, 976, 5]), (-1, [17, 18, 1643, 772, 638, 1546, 239, 5]), (-1, [17, 18, 325, 951, 20, 271, 521, 5]), (-1, [17, 18, 568, 100, 87, 18, 1644, 93, 790, 63, 1645, 74, 840, 177, 1646, 5]), (-1, [482, 77, 582, 18, 814, 772, 1545, 1546, 1648, 1131, 18, 62, 815, 5]), (-1, [84, 17, 18, 1649, 790, 1153, 74, 18, 1650, 1651, 850, 5]), (-1, [1, 1652, 1653, 220, 146, 1654, 337, 5]), (-1, [483, 1, 1655, 1656, 500, 18, 1657, 5, 204, 1658, 1659, 5, 1660, 5]), (-1, [7, 23, 17, 26, 1661, 337, 11, 1662, 5]), (-1, [17, 18, 242, 20, 1663, 5]), (-1, [77, 1664, 1665, 17, 1666, 11, 91, 222, 11, 18, 42, 5]), (-1, [7, 1667, 1668, 34, 1669, 1227, 222, 5]), (-1, [17, 1670, 1671, 220, 19, 20, 838, 5]), (-1, [17, 18, 1607, 20, 1649, 790, 18, 1672, 74, 1673, 5]), (-1, [17, 18, 304, 274, 90, 1674, 1675, 5]), (-1, [77, 1031, 17, 11, 26, 1032, 1033, 1034, 20, 1035, 5]), (-1, [711, 17, 1676, 5]), (-1, [1677, 17, 1678, 5]), (-1, [77, 99, 26, 333, 334, 335, 336, 337, 5, 338, 339, 177, 85, 5]), (-1, [17, 18, 577, 418, 507, 578, 579, 580, 20, 581, 41, 582, 172, 18, 583, 584, 5]), (-1, [7, 41, 37, 18, 191, 1679, 1680, 90, 1681, 1404, 1682, 74, 1683, 1684, 1685, 11, 1686, 11, 1687, 732, 5]), (-1, [7, 1688, 34, 1689, 177, 801, 5]), (-1, [1, 18, 146, 1690, 1691, 1692, 1693, 5]), (-1, [84, 99, 85, 86, 90, 83, 66, 132, 90, 1694, 5]), (-1, [84, 1, 18, 1695, 1696, 1214, 5]), (-1, [220, 18, 1606, 344, 20, 1697, 26, 1698, 1699, 499, 11, 26, 1644, 5]), (-1, [7, 587, 171, 1700, 1035, 5]), (-1, [7, 1701, 34, 35, 5]), (-1, [37, 18, 1702, 1703, 1704, 1454, 5]), (-1, [1705, 90, 462, 11, 531, 11, 123, 62, 5]), (-1, [7, 41, 162, 66, 694, 559, 62, 5]), (-1, [17, 18, 938, 20, 18, 939, 940, 5]), (-1, [1, 1706, 1707, 1708, 1709, 1245, 18, 1710, 20, 1711, 74, 1712, 46, 90, 424, 1713, 5]), (-1, [7, 107, 20, 1714, 1715, 1510, 1716, 26, 1717, 5]), (-1, [7, 41, 172, 504, 20, 694, 5]), (-1, [7, 1718, 79, 26, 669, 1719, 40, 5]), (-1, [7, 1018, 11, 1516, 1720, 66, 18, 1721, 1722, 20, 288, 105, 1723, 5]), (-1, [7, 565, 1724, 34, 35, 11, 18, 191, 192, 5]), (-1, [84, 37, 18, 1482, 1725, 386, 580, 87, 1726, 18, 1727, 20, 137, 5]), (-1, [77, 1728, 17, 11, 88, 95, 5]), (-1, [37, 124, 125, 126, 127, 5]), (-1, [77, 108, 1471, 90, 1729, 694, 100, 5]), (-1, [7, 1730, 1731, 34, 35, 177, 26, 1732, 1733, 5]), (-1, [1148, 402, 18, 1734, 336, 500, 1276, 360, 361, 362, 5]), (-1, [483, 17, 1735, 1736, 5]), (-1, [7, 41, 162, 66, 1737, 1738, 11, 18, 424, 1428, 62, 5]), (-1, [1135, 17, 18, 1739, 20, 1740, 5]), (-1, [1, 1741, 1742, 1100, 18, 495, 5]), (-1, [7, 453, 26, 62, 79, 18, 140, 1743, 1744, 986, 477, 1743, 5]), (-1, [582, 18, 1745, 336, 11, 18, 814, 1545, 1546, 1131, 815, 5]), (-1, [412, 17, 18, 945, 613, 11, 268, 177, 1746, 1344, 1747, 74, 1009, 37, 85, 757, 5]), (-1, [711, 17, 26, 236, 216, 1332, 87, 26, 1748, 5]), (-1, [7, 140, 284, 1157, 286, 66, 18, 287, 288, 5]), (-1, [7, 1749, 1750, 18, 1751, 848, 20, 18, 1752, 1575, 1753, 5]), (-1, [77, 37, 1754, 191, 1755, 177, 1529, 11, 1756, 5]), (-1, [7, 107, 20, 1757, 459, 1758, 79, 85, 86, 90, 125, 26, 1759, 5]), (-1, [37, 196, 197, 198, 199, 172, 26, 1234, 201, 5]), (-1, [84, 399, 1760, 1761, 1762, 455, 1038, 5]), (-1, [77, 37, 26, 1763, 220, 1764, 611, 5]), (-1, [885, 17, 153, 973, 5]), (-1, [17, 18, 1127, 20, 120, 5]), (-1, [84, 17, 18, 42, 220, 217, 228, 5, 11, 990, 5]), (-1, [885, 17, 18, 1765, 20, 18, 1766, 507, 1767, 5]), (-1, [7, 453, 1, 1048, 5, 1768, 1769, 5, 26, 1770, 1771, 11, 502, 187, 1234, 1772, 1773, 5]), (-1, [7, 1774, 34, 465, 11, 1775, 5]), (-1, [7, 41, 172, 455, 112, 11, 1776, 5, 1777, 1778, 5]), (-1, [1, 18, 146, 490, 491, 5]), (-1, [7, 280, 20, 1779, 34, 35, 5]), (-1, [7, 1780, 399, 26, 452, 1459, 26, 1781, 1782, 5]), (-1, [17, 18, 242, 20, 18, 191, 192, 5]), (-1, [37, 18, 140, 1783, 203, 519, 5]), (-1, [84, 79, 85, 86, 18, 129, 90, 130, 131, 18, 132, 5]), (-1, [37, 18, 1784, 199, 1620, 5]), (-1, [37, 18, 1785, 1786, 1787, 25, 5]), (-1, [108, 1788, 611, 1789, 11, 5]), (-1, [711, 17, 18, 1790, 751, 5]), (-1, [84, 79, 85, 86, 90, 121, 66, 947, 90, 1791, 5]), (-1, [17, 18, 1544, 1220, 20, 26, 1792, 5]), (-1, [397, 20, 1179, 105, 18, 1180, 399, 1181, 1182, 1183, 1184, 1185, 1186, 5]), (-1, [7, 140, 1793, 9, 1794, 87, 18, 1795, 1796, 1797, 87, 645, 5]), (-1, [37, 1798, 1799, 5, 26, 1800, 1801, 20, 796, 90, 1802, 5, 162, 5]), (-1, [84, 1, 18, 945, 1803, 818, 5]), (-1, [37, 822, 1804, 879, 5]), (-1, [220, 18, 1489, 972, 20, 18, 1805, 1806, 5]), (-1, [7, 1807, 1808, 956, 11, 26, 1809, 5]), (-1, [397, 20, 18, 398, 399, 18, 389, 400, 5]), (-1, [123, 62, 1, 18, 147, 193, 5]), (-1, [1, 1216, 4, 5]), (-1, [122, 79, 26, 1810, 1811, 1812, 86, 98, 11, 5]), (-1, [17, 18, 42, 1813, 87, 18, 945, 1814, 5]), (-1, [77, 79, 91, 1815, 20, 1816, 100, 5]), (-1, [7, 106, 79, 271, 1817, 172, 5]), (-1, [123, 62, 1, 18, 1818, 686, 5]), (-1, [7, 588, 79, 18, 1040, 43, 5]), (-1, [7, 48, 1135, 17, 18, 1819, 11, 1820, 20, 26, 1821, 220, 1822, 976, 1823, 5]), (-1, [7, 244, 34, 35, 11, 26, 1824, 20, 976, 5]), (-1, [17, 18, 599, 600, 20, 1825, 5]), (-1, [7, 171, 794, 1826, 590, 5]), (-1, [17, 18, 1827, 1600, 87, 904, 905, 1828, 5]), (-1, [7, 1593, 79, 26, 1829, 172, 5]), (-1, [7, 1830, 9, 1831, 5]), (-1, [1832, 274, 108, 1833, 40, 11, 5]), (-1, [1, 879, 220, 146, 1703, 1834, 5]), (-1, [77, 383, 26, 403, 336, 811, 87, 812, 26, 809, 177, 26, 813, 5]), (-1, [17, 691, 692, 220, 584, 5]), (-1, [1598, 1599, 1510, 18, 728, 1600, 11, 18, 344, 87, 84, 1601, 826, 5]), (-1, [1, 18, 1835, 686, 5]), (-1, [7, 33, 17, 559, 960, 1302, 11, 1836, 1753, 5]), (-1, [483, 1, 843, 844, 500, 1837, 1838, 105, 1839, 1840, 5]), (-1, [62, 1, 18, 1841, 1842, 1024, 1025, 5]), (-1, [79, 18, 424, 726, 727, 42, 171, 11, 728, 5]), (-1, [17, 18, 470, 87, 1843, 220, 1844, 1845, 1846, 5]), (-1, [17, 18, 242, 20, 1847, 5, 1741, 5]), (-1, [7, 41, 40, 11, 1504, 5]), (-1, [1135, 1410, 26, 1848, 336, 90, 336, 1459, 26, 1848, 5]), (-1, [7, 1849, 383, 285, 336, 57, 11, 18, 918, 459, 18, 288, 1850, 5]), (-1, [7, 1851, 20, 976, 195, 46, 1852, 1853, 1227, 859, 5]), (-1, [7, 1854, 20, 271, 967, 1410, 336, 538, 87, 85, 90, 336, 26, 1400, 967, 5]), (-1, [7, 1855, 37, 18, 1856, 1857, 796, 1858, 177, 486, 859, 562, 5]), (-1, [7, 1859, 24, 25, 26, 1860, 5]), (-1, [323, 20, 26, 324, 220, 325, 17, 326, 327, 5]), (-1, [77, 582, 1545, 336, 1861, 11, 814, 1131, 18, 62, 815, 5]), (-1, [7, 363, 24, 25, 18, 364, 87, 5, 365, 5, 5]), (-1, [7, 1862, 1863, 34, 35, 11, 18, 424, 5]), (-1, [84, 79, 85, 86, 18, 1864, 1865, 1866, 90, 24, 91, 1867, 5]), (-1, [7, 41, 433, 1868, 5]), (-1, [84, 79, 85, 86, 587, 1869, 90, 1870, 5]), (-1, [7, 1456, 34, 35, 11, 26, 1871, 5]), (-1, [7, 1872, 1873, 9, 35, 5]), (-1, [885, 17, 18, 1766, 5]), (-1, [1, 1874, 1875, 4, 5]), (-1, [7, 1876, 1877, 1878, 34, 35, 5]), (-1, [77, 78, 37, 18, 1189, 1190, 66, 175, 1146, 5]), (-1, [7, 340, 1879, 271, 1880, 1047, 310, 5]), (-1, [7, 1881, 79, 1882, 5, 1883, 1884, 5]), (-1, [77, 11, 297, 17, 26, 1885, 1886, 414, 5]), (-1, [1, 1887, 4, 5]), (-1, [84, 227, 1, 18, 1888, 1889, 1890, 1891, 1131, 18, 1892, 1893, 5]), (-1, [17, 18, 216, 20, 18, 506, 95, 507, 18, 345, 20, 508, 11, 509, 5]), (-1, [7, 587, 1894, 20, 853, 1014, 34, 35, 5]), (-1, [17, 796, 797, 220, 700, 344, 5]), (-1, [37, 1895, 1896, 162, 5]), (-1, [1000, 34, 633, 410, 1897, 5]), (-1, [77, 37, 561, 1755, 177, 1898, 11, 1756, 5]), (-1, [220, 18, 140, 247, 248, 87, 249, 250, 11, 18, 251, 5]), (-1, [62, 37, 973, 1899, 162, 5]), (-1, [37, 18, 199, 432, 1591, 287, 5]), (-1, [7, 41, 504, 500, 18, 1900, 1901, 11, 1902, 5]), (-1, [7, 1456, 34, 35, 11, 26, 1871, 5]), (-1, [17, 18, 304, 1220, 20, 26, 1903, 5]), (-1, [7, 1904, 52, 34, 35, 11, 18, 42, 5]), (-1, [1, 18, 199, 1234, 201, 20, 196, 197, 1619, 5]), (-1, [77, 37, 18, 146, 1079, 1905, 1906, 87, 11, 1907, 5]), (-1, [17, 18, 231, 74, 232, 20, 233, 234, 5, 235, 5]), (-1, [7, 1908, 1909, 34, 35, 11, 1910, 853, 1911, 559, 62, 5]), (-1, [236, 488, 489, 1913, 482, 7, 128, 5]), (-1, [17, 18, 146, 222, 20, 18, 387, 5]), (-1, [7, 20, 449, 34, 11, 1914, 1915, 5]), (-1, [7, 297, 34, 35, 790, 1916, 1917, 5, 733, 74, 1918, 5, 1919, 5]), (-1, [7, 1881, 20, 853, 1014, 79, 1920, 1921, 220, 172, 5]), (-1, [7, 1922, 79, 1923, 1924, 172, 177, 502, 1925, 5]), (-1, [885, 1, 18, 1926, 616, 1927, 5]), (-1, [17, 18, 242, 20, 1723, 5]), (-1, [77, 37, 629, 100, 500, 1928, 66, 1673, 5]), (-1, [7, 1929, 24, 25, 18, 1930, 5]), (-1, [7, 1931, 34, 35, 11, 26, 1932, 1933, 5]), (-1, [7, 1625, 1934, 105, 18, 1348, 579, 90, 1935, 177, 26, 343, 1936, 5]), (-1, [1, 18, 490, 491, 11, 492, 5]), (-1, [17, 18, 1937, 1938, 1939, 1281, 90, 18, 1940, 1596, 11, 1941, 518, 5]), (-1, [77, 37, 471, 472, 1942, 90, 1906, 486, 473, 474, 475, 90, 18, 1943, 1309, 87, 5]), (-1, [7, 41, 1291, 5]), (-1, [7, 41, 504, 177, 170, 299, 1944, 11, 1945, 5]), (-1, [17, 788, 822, 220, 1946, 5]), (-1, [7, 41, 504, 11, 18, 287, 288, 5]), (-1, [62, 37, 1947, 125, 26, 772, 5]), (-1, [1, 18, 1948, 1949, 5]), (-1, [7, 1950, 1951, 18, 132, 5]), (-1, [7, 1952, 79, 18, 304, 241, 499, 500, 379, 87, 26, 1953, 5]), (-1, [84, 108, 413, 172, 90, 40, 11, 26, 1954, 90, 1955, 5]), (-1, [711, 17, 18, 159, 160, 5]), (-1, [17, 18, 1015, 20, 1016, 5]), (-1, [7, 1500, 79, 1956, 172, 5]), (-1, [371, 20, 18, 42, 220, 1195, 74, 1957, 52, 383, 336, 57, 11, 18, 1958, 1959, 5]), (-1, [7, 1017, 1960, 1018, 79, 1961, 172, 5]), (-1, [7, 1962, 20, 1963, 9, 1964, 11, 18, 381, 1372, 1428, 222, 5]), (-1, [1, 18, 245, 1965, 1966, 5]), (-1, [7, 1427, 20, 308, 79, 85, 86, 26, 1261, 90, 92, 26, 1967, 1224, 5]), (-1, [7, 453, 79, 18, 1968, 1969, 74, 1970, 559, 222, 5]), (-1, [220, 18, 1971, 248, 20, 1972, 314, 1973, 5]), (-1, [7, 1952, 79, 271, 1974, 172, 5]), (-1, [7, 1975, 1976, 25, 26, 1977, 87, 1978, 1834, 1979, 5]), (-1, [1, 18, 1980, 1981, 1220, 87, 26, 1982, 5]), (-1, [17, 480, 481, 220, 646, 5]), (-1, [7, 1983, 20, 571, 572, 18, 345, 20, 508, 5]), (-1, [482, 7, 432, 34, 285, 286, 87, 66, 18, 287, 288, 5]), (-1, [17, 18, 599, 600, 20, 1825, 5]), (-1, [34, 18, 1984, 1985, 1986, 11, 1987, 5]), (-1, [1, 1988, 220, 146, 1989, 1990, 193, 5]), (-1, [34, 18, 836, 20, 837, 838, 90, 839, 5]), (-1, [17, 18, 598, 20, 78, 1991, 87, 1992, 812, 26, 809, 177, 26, 813, 5]), (-1, [711, 17, 18, 217, 1993, 5]), (-1, [37, 18, 749, 1923, 1924, 1657, 195, 1994, 18, 120, 5]), (-1, [7, 588, 34, 35, 11, 18, 42, 5]), (-1, [7, 45, 46, 47, 48, 17, 1995, 1996, 5]), (-1, [77, 1617, 413, 1997, 26, 1998, 1999, 87, 11, 2000, 5]), (-1, [17, 18, 2001, 638, 20, 18, 804, 689, 5, 804, 1395, 5, 74, 804, 268, 5]), (-1, [77, 2002, 17, 18, 163, 2003, 2004, 2005, 686, 1131, 18, 947, 2006, 20, 2007, 2008, 105, 18, 2005, 1233, 66, 2009, 5]), (-1, [77, 108, 694, 2010, 1471, 100, 5]), (-1, [7, 765, 20, 2011, 79, 26, 2012, 172, 5]), (-1, [17, 18, 42, 242, 1245, 20, 2013, 5]), (-1, [7, 2014, 34, 35, 11, 18, 2015, 2016, 5]), (-1, [7, 1228, 20, 26, 2017, 1617, 336, 2018, 11, 18, 424, 2019, 14, 202, 203, 1558, 5]), (-1, [17, 18, 304, 19, 500, 389, 2020, 70, 2021, 25, 1126, 2022, 2023, 5]), (-1, [7, 1975, 34, 11, 18, 2024, 2025, 5]), (-1, [7, 2026, 674, 1617, 1349, 11, 91, 2027, 2028, 5]), (-1, [17, 18, 993, 1318, 87, 488, 2029, 5]), (-1, [84, 79, 18, 304, 2030, 2031, 40, 5]), (-1, [220, 1341, 220, 1342, 177, 26, 1343, 1344, 613, 5]), (-1, [7, 171, 34, 35, 5]), (-1, [7, 2032, 34, 11, 268, 636, 5]), (-1, [1, 18, 146, 2033, 238, 2034, 87, 26, 488, 5]), (-1, [7, 2035, 24, 26, 2036, 5]), (-1, [7, 453, 399, 2037, 2038, 2039, 26, 2040, 87, 18, 54, 2041, 5]), (-1, [34, 877, 2042, 105, 954, 5, 2043, 316, 337, 5]), (-1, [937, 5, 123, 222, 20, 18, 387, 37, 1126, 2044, 177, 5]), (-1, [7, 140, 284, 34, 2045, 11, 170, 881, 5]), (-1, [7, 48, 872, 318, 579, 17, 18, 304, 2046, 20, 18, 53, 147, 20, 879, 5]), (-1, [84, 227, 37, 18, 2047, 2048, 2049, 66, 18, 1507, 5]), (-1, [77, 37, 1659, 1567, 2050, 2051, 2052, 87, 2053, 2054, 5]), (-1, [1, 18, 2055, 193, 5]), (-1, [84, 79, 26, 1610, 220, 1445, 199, 5]), (-1, [7, 2056, 172, 455, 2057, 87, 2058, 11, 18, 2059, 823, 5]), (-1, [34, 18, 934, 935, 87, 18, 107, 936, 74, 937, 5]), (-1, [7, 45, 2060, 34, 2061, 1774, 11, 369, 29, 5]), (-1, [7, 297, 20, 2062, 34, 11, 477, 2063, 5]), (-1, [2064, 17, 26, 206, 5]), (-1, [17, 18, 2065, 344, 20, 417, 541, 177, 1813, 87, 1746, 91, 310, 5]), (-1, [7, 1013, 20, 2066, 2067, 17, 2068, 90, 24, 91, 396, 20, 2069, 5]), (-1, [483, 17, 18, 1277, 5]), (-1, [79, 18, 398, 824, 18, 1773, 1669, 5]), (-1, [758, 759, 11, 61, 62, 1372, 760, 761, 90, 125, 763, 5]), (-1, [7, 41, 162, 20, 694, 2070, 5]), (-1, [1148, 402, 18, 1734, 336, 500, 359, 360, 361, 362, 5]), (-1, [7, 41, 79, 2071, 2072, 11, 18, 424, 5]), (-1, [77, 2073, 402, 271, 241, 1354, 172, 1030, 5]), (-1, [1, 1205, 4, 5]), (-1, [17, 18, 242, 20, 18, 217, 2074, 1739]), (-1, [885, 1, 18, 1926, 2075]), (-1, [7, 297, 17, 85, 66, 2076, 90, 1439, 5]), (-1, [711, 17, 18, 1277, 2077, 5]), (-1, [7, 106, 79, 26, 2078, 172, 5]), (-1, [483, 1, 2079, 1573, 2080, 500, 1837, 2081, 2082, 2083, 5]), (-1, [1598, 1599, 1510, 18, 728, 1600, 11, 18, 344, 87, 84, 1601, 826, 5]), (-1, [7, 453, 872, 318, 2084]), (-1, [7, 176, 34, 35, 87, 2085, 41, 5]), (-1, [1, 18, 146, 2086, 1824, 2087, 1233, 5]), (-1, [37, 327, 125, 2088, 5]), (-1, [7, 1851, 20, 437, 79, 85, 86, 90, 437, 18, 1752, 1575, 1753, 5]), (-1, [79, 2089, 70, 5]), (-1, [2064, 17, 26, 206, 5]), (-1, [17, 18, 520, 344, 20, 271, 521, 5]), (-1, [483, 1, 2090, 2091, 500, 1837, 504, 5]), (-1, [7, 2092, 2093, 11, 18, 287, 203]), (-1, [77, 274, 79, 18, 2094, 20, 271, 1307, 86, 5]), (-1, [2064, 17, 26, 206, 5]), (-1, [37, 18, 499, 20, 5, 18, 2095, 5, 146, 1934, 11, 2096, 949, 5]), (-1, [7, 41, 1804, 18, 1040, 559, 972, 5]), (-1, [972, 20, 18, 62, 17, 35, 2097, 1289, 11, 2098, 5]), (-1, [17, 18, 566, 934, 239, 11, 18, 424, 5]), (-1, [1, 18, 146, 164, 66, 18, 2099, 631, 90, 18, 2100, 631, 2101, 5]), (-1, [392, 383, 26, 2102, 195, 5]), (-1, [77, 37, 26, 2103, 220, 2104, 100, 11, 2105, 5]), (-1, [7, 9, 11, 2106, 507, 18, 2107, 2108, 5]), (-1, [84, 402, 413, 2109, 88, 2110, 2111, 2112, 2113, 5]), (-1, [7, 41, 37, 210, 419, 211, 1213, 5]), (-1, [7, 58, 1236, 34, 35, 11, 18, 191, 192, 5]), (-1, [1, 18, 194, 147, 524, 5]), (-1, [1, 2114, 1898, 2115, 177, 1289, 74, 2116, 5]), (-1, [402, 18, 358, 336, 2117, 507, 2118, 359, 360, 361, 362, 5]), (-1, [7, 417, 541, 37, 1874, 1875, 416, 11, 502, 2119, 5]), (-1, [7, 1456, 34, 35, 11, 18, 2120, 5]), (-1, [37, 44, 2121, 2122, 18, 381, 5]), (-1, [7, 1341, 504, 2123, 18, 2124, 1753, 5]), (-1, [84, 108, 413, 172, 90, 2125, 80, 2126, 459, 2127, 397, 2128, 2129, 5]), (-1, [7, 2130, 79, 26, 755, 172, 5]), (-1, [1, 2131, 1409, 5]), (-1, [37, 788, 1323, 5, 2132, 2133, 2134, 5, 74, 255, 2135, 1313, 162, 5]), (-1, [7, 284, 9, 139, 11, 18, 199, 1711, 1090, 1131, 18, 191, 192, 20, 640, 5]), (-1, [7, 2136, 2137, 462, 18, 2138, 18, 2139, 2140, 2141, 1100, 949, 5]), (-1, [123, 62, 37, 1652, 2142, 2143, 502, 2144, 501, 2145, 5]), (-1, [62, 1, 18, 968, 87, 140, 2146, 5]), (-1, [37, 18, 1143, 20, 2147, 70, 5]), (-1, [77, 37, 18, 2148, 2149, 100, 5]), (-1, [7, 898, 2150, 2151, 172, 455, 1519, 5]), (-1, [37, 2152, 2153, 519, 11, 2154, 5]), (-1, [7, 2155, 34, 35, 177, 26, 820, 821, 530, 5]), (-1, [7, 41, 40, 11, 2156, 5]), (-1, [37, 973, 2157, 162, 5]), (-1, [7, 1418, 37, 2158, 2159, 2160, 11, 18, 2161, 2162, 1420, 5]), (-1, [17, 18, 358, 2013, 5]), (-1, [17, 18, 358, 87, 2163, 5]), (1, [2164, 424, 772, 2165, 18, 389, 2166, 5]), (1, [17, 18, 2065, 2167, 11, 18, 191, 192, 5]), (1, [792, 850, 2169, 2170, 2171, 5]), (1, [108, 18, 2172, 20, 5, 477, 2173, 2174, 2175, 5, 86, 98, 5]), (1, [1146, 108, 18, 2176, 2177, 2178, 90, 5]), (1, [424, 772, 1547, 656, 47, 2179, 5]), (1, [17, 18, 2180, 5]), (1, [1146, 220, 2181, 17, 2182, 5]), (1, [1739, 399, 18, 2183, 2184, 1245, 26, 2185, 105, 904, 905, 5]), (1, [34, 18, 176, 20, 18, 2186, 2187, 11, 2188, 5]), (1, [95, 20, 976, 79, 18, 2189, 254, 1970, 1100, 5]), (1, [1146, 37, 18, 2190, 977, 87, 268, 5, 188, 2191, 2192, 2193, 2193, 2193, 5]), (1, [17, 18, 2194, 87, 18, 772, 20, 253, 5]), (1, [1146, 37, 616, 2195, 1733, 5]), (1, [1146, 220, 706, 2196, 2197, 1366, 17, 1459, 2198, 5]), (1, [424, 772, 17, 2199, 2200, 11, 5]), (1, [17, 18, 2065, 2201, 11, 1723, 5]), (1, [79, 2202, 2203, 195, 90, 308, 459, 1837, 2204, 2205, 1994, 11, 18, 5, 2206, 5, 1165, 2207, 5]), (1, [34, 18, 42, 220, 563, 447, 5]), (1, [177, 18, 2208, 383, 204, 888, 26, 2209, 2210, 781, 2211, 90, 18, 1828, 2212, 2213, 5]), (1, [383, 204, 888, 26, 2214, 20, 5, 2215, 5, 2216, 2217, 74, 2218, 2219, 402, 2220, 5]), (1, [17, 18, 2221, 5]), (1, [1739, 2165, 2222, 220, 2223, 5, 177, 18, 2224, 20, 18, 2225, 2226, 5]), (1, [792, 170, 140, 171, 108, 2227, 1649, 2228, 5]), (1, [17, 18, 2229, 752, 764, 5]), (1, [2230, 5, 2231, 1555, 2232, 17, 2233, 630, 20, 18, 2234, 2235, 5]), (1, [34, 18, 2236, 2237, 5]), (1, [17, 18, 448, 20, 18, 1739, 418, 480, 481, 1111, 11, 5]), (1, [383, 204, 888, 2238, 2239, 177, 482, 90, 983, 26, 2240, 2241, 2242, 5]), (1, [1146, 2243, 1915, 220, 2244, 2201, 5]), (1, [17, 18, 2245, 2235, 5]), (1, [1739, 17, 2246, 1459, 2247, 5]), (1, [171, 172, 18, 217, 2248, 20, 2249, 5]), (1, [170, 140, 1739, 399, 18, 42, 220, 2065, 1691, 2250, 2251, 5]), (1, [792, 2252, 171, 2253, 18, 203, 20, 140, 2254, 1726, 18, 446, 5]), (1, [17, 18, 448, 20, 18, 2255, 1848, 11, 18, 42, 5]), (1, [383, 204, 888, 26, 2256, 20, 2257, 177, 2258, 148, 11, 26, 769, 2259, 5]), (1, [1, 2090, 2091, 4, 5]), (1, [785, 786, 2260, 2261, 11, 2262, 5, 2263, 5, 105, 18, 2264, 20, 2265, 1111, 5]), (1, [2252, 1739, 108, 2266, 40, 11, 5]), (1, [17, 814, 220, 2181, 5]), (1, [2252, 1146, 17, 417, 90, 18, 2267, 1739, 20, 2268, 5]), (1, [1, 2269, 2270, 4, 5]), (1, [2271, 37, 18, 2272, 701, 2273, 2274, 5]), (1, [1739, 37, 18, 2206, 40, 11, 5]), (1, [2275, 108, 18, 2276, 2277, 546, 175, 417, 777, 11, 5]), (1, [772, 17, 898, 1321, 1323, 2278, 11, 5]), (1, [424, 772, 399, 271, 2279, 2057, 87, 85, 5]), (1, [17, 18, 2280, 728, 20, 18, 622, 1556, 5]), (1, [383, 204, 888, 26, 5, 2281, 2282, 5, 2283, 5]), (1, [17, 2284, 220, 2285, 5]), (1, [383, 204, 2286, 1552, 177, 2287, 1429, 5]), (1, [2288, 17, 18, 217, 11, 18, 42, 5]), (1, [1739, 37, 2289, 2290, 2291, 90, 2292, 66, 18, 2293, 5]), (1, [79, 2294, 1097, 66, 5]), (1, [383, 204, 888, 26, 2295, 177, 2296, 105, 2297, 2298, 2299, 20, 492, 5]), (1, [2056, 1642, 790, 18, 2300, 74, 1170, 2301, 5]), (1, [220, 18, 1426, 2302, 2303, 2304, 2305, 90, 132, 5]), (1, [17, 2306, 1146, 2307, 5]), (1, [170, 2308, 1739, 17, 2093, 1131, 2309, 1828, 2310, 5]), (1, [1, 18, 2065, 1848, 177, 801, 406, 196, 2083, 1, 2311, 5]), (1, [1, 18, 2312, 880, 5, 2313, 5, 5]), (1, [1146, 220, 41, 34, 18, 804, 1289, 2314, 5]), (1, [2315, 1596, 399, 455, 2316, 477, 2317, 1582, 517, 11, 18, 202, 5]), (1, [1410, 26, 309, 2318, 2319, 90, 336, 2320, 90, 2321, 18, 370, 5]), (1, [123, 424, 772, 1, 18, 146, 487, 2322, 135, 5]), (1, [17, 18, 2065, 2323, 11, 1915, 5]), (1, [17, 2324, 5, 2325, 2326, 11, 18, 424, 5]), (1, [2235, 399, 455, 1459, 477, 2327, 20, 2328, 5]), (1, [220, 18, 2329, 613, 177, 26, 1344, 1747, 5]), (1, [383, 204, 888, 26, 403, 220, 2285, 66, 26, 343, 344, 5]), (1, [37, 2330, 2331, 83, 502, 2332, 1285, 5]), (1, [1146, 37, 616, 2333, 2334, 956, 46, 66, 2335, 90, 2336, 5]), (1, [123, 728, 20, 18, 42, 1, 18, 2337, 22, 203, 209, 5]), (1, [17, 18, 2338, 1374, 2339, 66, 132, 5]), (1, [108, 2340, 40, 5]), (1, [424, 1739, 17, 477, 926, 20, 18, 2341, 5]), (1, [383, 204, 888, 580, 18, 804, 268, 2342, 5]), (1, [1, 1244, 1245, 18, 2343, 351, 5]), (1, [2310, 17, 2307, 11, 123, 1739, 5]), (1, [1146, 399, 18, 217, 552, 242, 5]), (1, [1146, 17, 18, 42, 220, 217, 2345, 20, 2346, 5]), (1, [1146, 399, 18, 389, 274, 1092, 5, 105, 2128, 5]), (1, [1739, 17, 2347, 2310, 11, 5]), (1, [17, 18, 217, 1739, 177, 18, 53, 2348, 5]), (1, [1739, 2349, 2350, 87, 486, 2351, 2352, 5]), (1, [2353, 2354, 399, 26, 448, 2355, 5, 2356, 20, 18, 2357, 5, 5]), (1, [383, 2358, 336, 2359, 1429, 5]), (1, [108, 41, 1848, 2360, 11, 2361, 5]), (1, [34, 18, 2362, 1310, 5]), (1, [177, 18, 2208, 383, 204, 83, 826, 2363, 18, 2281, 2364, 177, 18, 140, 722, 20, 1093, 5]), (1, [424, 772, 2365, 2366, 90, 18, 630, 5]), (1, [37, 18, 2367, 20, 2368, 2369, 2370, 5]), (1, [1739, 17, 2093, 1131, 2347, 1828, 2310, 5]), (1, [2371, 2372, 90, 2188, 5]), (1, [17, 2324, 5, 2325, 2373, 11, 18, 424, 5]), (1, [17, 18, 321, 2285, 20, 18, 2214, 20, 2374, 2375, 20, 1228, 20, 18, 2041, 20, 2376, 5]), (1, [17, 18, 2377, 2378, 2379, 90, 2380, 5]), (1, [1, 18, 2381, 1146, 413, 9, 1372, 90, 2040, 1100, 733, 66, 11, 2382, 5]), (1, [16, 1739, 675, 772, 108, 18, 389, 2383, 1341, 40, 11, 5]), (1, [383, 204, 888, 18, 1795, 2384, 2385, 87, 2386, 2363, 1673, 5]), (1, [17, 722, 723, 20, 2131, 2387, 2285, 5]), (1, [2353, 1739, 2165, 18, 2388, 2389, 5]), (1, [17, 2390, 5]), (1, [220, 18, 2255, 2123, 11, 63, 1645, 517, 5]), (1, [383, 204, 888, 826, 177, 18, 2391, 2392, 74, 2393, 2394, 11, 2395, 351, 5]), (1, [17, 18, 2065, 1848, 11, 18, 42, 5]), (1, [2396, 383, 413, 1204, 66, 18, 2397, 50, 2398, 1646, 5]), (1, [2399, 108, 413, 2400, 88, 2401, 90, 1745, 18, 2402, 5, 2403, 675, 2404, 5]), (1, [17, 18, 2405, 1146, 11, 18, 42, 5]), (1, [1146, 17, 1676, 220, 217, 1700, 2406, 5]), (1, [17, 18, 346, 2407, 2408, 2307, 5]), (1, [17, 18, 2409, 2410, 74, 2411, 2412, 772, 5]), (1, [34, 18, 2413, 303, 2249, 2414, 5]), (1, [1, 929, 955, 5]), (1, [1739, 1, 788, 2415, 2416, 2417, 11, 5]), (1, [1739, 399, 18, 42, 220, 945, 2418, 1366, 5]), (1, [34, 18, 2419, 389, 2420, 1504, 11, 18, 42, 5]), (1, [2421, 17, 2422, 11, 5]), (1, [17, 18, 2189, 5]), (1, [17, 18, 945, 98, 448, 11, 18, 424, 5]), (1, [79, 2423, 2424, 2425, 90, 983, 26, 2426, 5, 558, 423, 2427, 5]), (1, [383, 204, 888, 2428, 2429, 87, 2430, 2431, 2432, 2433, 5]), (1, [2434, 1146, 399, 26, 2435, 20, 1061, 87, 2436, 5]), (1, [1739, 17, 18, 968, 87, 2437, 220, 1382, 2438, 2439, 5]), (1, [17, 1120, 2307, 5]), (1, [1739, 2440, 18, 424, 2441, 20, 2324, 74, 2325, 5]), (1, [17, 18, 2442, 1146, 11, 1915, 5]), (1, [17, 2443, 2444, 5]), (1, [383, 204, 888, 18, 176, 20, 1313, 18, 1393, 2445, 5]), (1, [772, 79, 2446, 2447, 40, 11, 5]), (1, [34, 18, 2448, 171, 5]), (1, [220, 18, 2449, 1258, 5]), (1, [17, 2450, 2451, 5]), (1, [772, 11, 18, 424, 399, 18, 389, 2092, 5]), (1, [17, 18, 1739, 11, 61, 480, 481, 1111, 1459, 5]), (1, [17, 18, 2183, 2452, 177, 18, 2208, 5]), (1, [220, 18, 945, 2226, 11, 18, 42, 5]), (1, [1848, 2453, 17, 2454, 1131, 18, 2065, 164, 11, 18, 42, 5]), (1, [34, 18, 2409, 564, 2455, 2456, 11, 2457, 2458, 5]), (1, [220, 18, 2459, 2226, 20, 1044, 5]), (1, [17, 2460, 2461, 220, 2462, 1146, 5]), (1, [18, 217, 1146, 11, 170, 640, 5]), (1, [1146, 34, 2464, 2465, 66, 5]), (1, [424, 772, 266, 18, 578, 2466, 5]), (1, [235, 1739, 2467, 486, 448, 66, 18, 2015, 87, 5, 436, 5, 5]), (1, [1146, 37, 18, 2468, 254, 2370, 11, 5]), (1, [1146, 399, 18, 1795, 2469, 2470, 11, 18, 530, 310, 2471, 5]), (1, [792, 171, 2472, 18, 2473, 2474, 5]), (1, [123, 1739, 17, 18, 2441, 20, 2475, 2476, 5]), (1, [383, 204, 888, 826, 177, 2090, 2477, 5]), (1, [220, 18, 2478, 2479, 11, 18, 42, 5]), (1, [17, 2347, 2310, 5]), (1, [17, 18, 772, 2194, 20, 253, 5]), (1, [220, 18, 448, 20, 18, 2480, 418, 17, 2307, 2481, 18, 2181, 1739, 20, 2482, 5]), (1, [17, 18, 1217, 5, 2483, 1113, 5, 2278, 5]), (1, [383, 204, 2286, 26, 2484, 2485, 87, 2486, 318, 2487, 5]), (1, [840, 2488, 17, 18, 417, 20, 446, 2489, 5]), (1, [123, 1739, 17, 18, 2490, 197, 2491, 220, 2492, 5]), (1, [17, 2493, 345, 5]), (1, [2494, 17, 2495, 2307, 11, 5]), (1, [17, 18, 2183, 2452, 177, 18, 2208, 5]), (1, [1146, 2496, 1313, 18, 595, 2497, 594, 11, 2498, 5]), (1, [17, 1635, 220, 2499, 177, 18, 2024, 2500, 5]), (1, [34, 18, 2381, 792, 850, 418, 2501, 18, 2502, 207, 665, 11, 175, 2179, 5]), (1, [17, 2503, 5]), (1, [34, 2186, 2187, 11, 2188, 5]), (1, [1961, 1739, 2504, 486, 433, 2505, 5]), (1, [37, 873, 2506, 2370, 5]), (1, [792, 171, 5, 2507, 1649, 18, 2171, 20, 2508, 5]), (1, [2252, 2181, 724, 486, 579, 5, 2509, 2510, 11, 2511, 5]), (1, [1146, 1, 18, 968, 20, 2512, 2513, 2514, 2515, 5]), (1, [123, 772, 1, 18, 146, 2516, 1960, 1409]), (1, [1146, 11, 2517, 640, 17, 18, 217, 91, 5]), (1, [61, 1249, 2479, 17, 223, 224, 5]), (1, [1739, 17, 2518, 2519, 2057, 87, 5]), (1, [2235, 399, 18, 2065, 2520, 2521, 5]), (1, [792, 171, 2522, 2523, 2315, 2056, 5]), (1, [2524, 220, 448, 2525, 177, 18, 2526, 1689, 2527, 20, 26, 2528, 876, 5]), (1, [383, 204, 83, 826, 74, 935, 177, 171, 74, 1310, 5]), (1, [383, 204, 888, 26, 2214, 20, 1313, 18, 1668, 11, 640, 418, 1884, 26, 214, 384, 101, 2529, 5]), (1, [1146, 1, 1912, 2530, 1403, 90, 2531, 2532, 5]), (1, [383, 204, 2286, 26, 2533, 1496, 18, 2534, 2535, 2536, 66, 2537, 2538, 5]), (1, [17, 18, 2539, 2540, 417, 2541, 5]), (1, [2542, 2543, 20, 18, 42, 17, 18, 2544, 2545, 809, 2462, 90, 5]), (1, [383, 204, 888, 826, 2363, 2546, 18, 2547, 5]), (1, [383, 204, 888, 826, 177, 18, 2548, 418, 416, 63, 773, 177, 2549, 5]), (1, [1, 868, 822, 500, 2550, 2551, 762, 136, 5]), (1, [34, 18, 217, 2552, 11, 18, 42, 5]), (1, [1146, 74, 2553, 1324, 17, 1244, 1245, 477, 2554, 2555, 5]), (1, [2123, 2556, 442, 17, 1484, 177, 18, 80, 20, 18, 2557, 2435, 5]), (1, [17, 2558, 751, 2307, 5]), (1, [1, 18, 146, 1221, 5]), (1, [383, 204, 888, 2559, 2560, 2561, 20, 2562, 5]), (1, [17, 2452, 20, 18, 1828, 1893, 20, 2563, 5]), (1, [34, 249, 20, 18, 689, 2065, 2056, 11, 18, 42, 5]), (1, [383, 204, 2564, 507, 26, 2565, 1806, 5]), (1, [17, 91, 20, 18, 1504, 418, 18, 345, 20, 2566, 17, 2307, 11, 5]), (1, [17, 18, 389, 2567, 377, 177, 18, 2208, 5]), (1, [17, 18, 42, 220, 2065, 2323, 5]), (1, [17, 2568, 2444, 5, 193, 1131, 2569, 2415, 2570, 2568, 5]), (1, [220, 18, 217, 424, 1739, 177, 18, 53, 2348, 5]), (1, [2271, 2571, 2572, 74, 2573, 5]), (1, [1146, 2574, 2575, 5, 1567, 2576, 74, 2577, 1245, 2578, 5]), (1, [383, 204, 888, 2579, 20, 2580, 2581, 2363, 18, 2296, 105, 2297, 2298, 2299, 5]), (1, [17, 2582, 2583, 5]), (1, [2288, 79, 2584, 1649, 5]), (1, [1146, 17, 2585, 26, 2049, 20, 5]), (1, [2587, 123, 1739, 18, 346, 2407, 2408, 17, 2481, 5]), (1, [17, 722, 2588, 220, 2374, 2285, 5]), (1, [220, 18, 2244, 424, 772, 2060, 66, 629, 5]), (1, [271, 1143, 2589, 11, 63, 1645, 5]), (1, [2123, 34, 446, 2590, 2591, 11, 5]), (1, [1146, 1, 146, 90, 499, 18, 2592, 1245, 26, 2593, 20, 288, 5, 1726, 18, 2594, 11, 2595, 5]), (1, [17, 18, 2181, 20, 2596, 2597, 5]), (1, [2524, 17, 2598, 177, 5]), (1, [424, 772, 399, 18, 389, 2599, 5]), (1, [1739, 17, 1000, 1459, 477, 2600, 2601, 20, 18, 202, 5]), (1, [1146, 1, 2079, 1573, 2080, 4, 11, 5]), (1, [1739, 1, 898, 1321, 1323, 1794, 87, 136, 11, 5]), (1, [37, 18, 355, 20, 18, 2602, 86, 98, 5]), (1, [772, 2559, 20, 2067, 74, 2603, 1, 18, 2604, 11, 477, 2605, 20, 2606, 5]), (1, [17, 18, 2255, 2123, 11, 1723, 5]), (1, [17, 2475, 2476, 220, 2441, 5]), (1, [1146, 220, 2244, 1739, 17, 2607, 5]), (1, [2608, 79, 2609, 5, 2091, 5, 2610, 5]), (1, [346, 1739, 2611, 2612, 477, 2407, 2613, 20, 640, 5]), (1, [2252, 1146, 2165, 18, 1739, 20, 2614, 5, 57, 1009, 18, 2301, 2615, 74, 2616, 2617, 5]), (1, [424, 772, 17, 2618, 2619, 11, 5]), (1, [1, 18, 2620, 880, 5, 2313, 5, 5]), (1, [17, 18, 217, 2621, 2622, 11, 18, 42, 5]), (1, [17, 18, 2623, 20, 18, 2624, 752, 5]), (1, [34, 18, 1598, 2625, 5]), (1, [1146, 17, 1244, 1245, 5, 245, 2626, 5, 5]), (1, [220, 18, 417, 20, 18, 2627, 5]), (1, [383, 204, 888, 1313, 18, 826, 204, 634, 90, 2628, 2363, 18, 2629, 1783, 203, 5, 2630, 5, 5]), (1, [17, 18, 2452, 87, 18, 823, 2259, 5]), (1, [424, 772, 399, 18, 2631, 2632, 5]), (1, [772, 220, 417, 90, 18, 2633, 722, 2634, 2613, 5]), (1, [17, 18, 217, 2635, 2636, 11, 1643, 5]), (1, [79, 18, 2368, 2637, 1294, 70, 74, 519, 5]), (1, [1739, 11, 1153, 17, 18, 2638, 5]), (1, [17, 18, 2639, 20, 2640, 5]), (1, [108, 1833, 701, 18, 2641, 652, 2642, 18, 804, 20, 18, 2643, 2644, 5]), (1, [1146, 220, 2181, 17, 2645, 5]), (1, [79, 1112, 2646, 220, 2647, 86, 98, 5]), (1, [383, 204, 83, 826, 2363, 2648, 2649, 5]), (1, [37, 2650, 1733, 5]), (1, [2651, 1146, 17, 2652, 66, 2653, 5]), (1, [44, 2354, 2654, 90, 336, 477, 2655, 20, 2656, 5]), (1, [171, 172, 18, 217, 1777, 2657, 11, 18, 42, 5]), (1, [1739, 17, 2658, 1131, 2659, 11, 477, 970, 2660, 5]), (1, [17, 18, 1795, 2661, 87, 2662, 11, 18, 1146, 5]), (1, [2636, 17, 2663, 177, 5]), (1, [17, 18, 217, 2636, 11, 298, 640, 5]), (1, [1739, 675, 772, 108, 18, 389, 2383, 1341, 40, 11, 5]), (1, [34, 1313, 2252, 74, 140, 2664, 4, 5]), (1, [1, 18, 146, 1178, 90, 336, 2665, 11, 2666, 5]), (1, [772, 399, 18, 945, 53, 2348, 2667, 5]), (1, [424, 772, 2668, 105, 26, 2669, 5]), (1, [34, 18, 217, 2670, 11, 18, 424, 5]), (1, [1146, 2165, 18, 389, 2671, 5]), (1, [2672, 2673, 1, 146, 861, 11, 18, 2674, 2675, 20, 18, 1980, 220, 5]), (1, [383, 91, 888, 1120, 5]), (1, [123, 1739, 17, 18, 424, 2676, 20, 2254, 2307, 5]), (1, [2677, 1, 643, 2678, 5]), (1, [17, 337, 2679, 11, 2188, 5]), (1, [17, 2368, 2680, 5]), (1, [1739, 17, 57, 11, 18, 1739, 20, 2681, 5]), (1, [2682, 772, 2683, 2236, 5, 2684, 721, 297, 5]), (1, [123, 772, 1, 35, 271, 2128, 2685, 975, 2686, 2687, 5]), (1, [1146, 37, 18, 2688, 2272, 2689, 90, 1245, 2690, 5]), (1, [1739, 11, 18, 424, 2691, 18, 389, 731, 2692, 5]), (1, [947, 2488, 2693, 105, 2490, 2694, 2695, 74, 2696, 5]), (1, [1146, 34, 413, 11, 415, 413, 2697, 11, 18, 2698, 2699, 5]), (1, [170, 140, 1739, 2700, 18, 2701, 2702, 2703, 74, 2704, 5]), (1, [2705, 1739, 108, 2706, 701, 477, 2707, 20, 2708, 5]), (1, [2479, 1309, 2243, 773, 5, 2709, 5, 2710, 74, 2711, 5]), (1, [1, 1194, 146, 2311, 5, 2712, 486, 448, 5]), (1, [1146, 17, 18, 968, 87, 1468, 2713, 2714, 220, 477, 2715, 74, 18, 2716, 5]), (1, [17, 18, 859, 2065, 1848, 2323, 11, 18, 42, 5]), (1, [220, 18, 42, 220, 217, 2717, 5]), (1, [142, 2252, 171, 70, 105, 18, 173, 1912, 5]), (1, [220, 18, 42, 220, 945, 2718, 2719, 5]), (1, [2434, 1739, 2165, 18, 42, 220, 2720, 29, 2721, 5]), (1, [9, 18, 146, 142, 1504, 90, 172, 26, 242, 20, 872, 318, 26, 2685, 5]), (1, [2722, 2243, 18, 839, 2723, 74, 2724, 5]), (1, [2490, 840, 2725, 2726, 1, 2727, 26, 2728, 2729, 5]), (1, [37, 1837, 83, 18, 2730, 5]), (1, [383, 204, 888, 26, 621, 2214, 20, 1395, 90, 1396, 173, 2014, 5]), (1, [79, 2731, 2732, 40, 5]), (1, [17, 18, 2733, 2734, 5]), (1, [2735, 2479, 17, 2246, 1459, 1582, 376, 5]), (1, [17, 2736, 5]), (1, [383, 204, 888, 18, 2210, 87, 18, 2209, 5, 2737, 2738, 2739, 5, 66, 18, 2740, 5, 2741, 5, 5]), (1, [867, 1739, 762, 18, 417, 20, 18, 640, 220, 2742, 5]), (1, [2226, 79, 18, 2743, 2744, 1640, 2745, 5]), (1, [17, 26, 2746, 377, 418, 204, 383, 2747, 2748, 579, 5]), (1, [37, 2749, 2750, 146, 767, 1316, 2751, 148, 11, 2752, 5]), (1, [17, 2090, 2753, 220, 2374, 2285, 5]), (1, [2754, 1739, 17, 18, 2755, 1596, 87, 2357, 1915, 5]), (1, [563, 424, 850, 172, 1149, 2756, 5]), (1, [34, 18, 2720, 2757, 2166, 5]), (1, [34, 18, 42, 220, 142, 217, 447, 5, 11, 1682, 20, 216, 5]), (1, [177, 18, 2208, 383, 204, 888, 826, 177, 2758, 2759, 5]), (1, [1739, 17, 2246, 1459, 477, 2760, 20, 1440, 5]), (1, [37, 2761, 2370, 5]), (1, [383, 204, 888, 826, 2363, 2762, 2763, 5, 2764, 66, 2765, 5]), (1, [9, 18, 1504, 20, 2766, 220, 1912, 2767, 20, 2768, 2769, 5]), (1, [171, 172, 18, 1795, 2770, 571, 5]), (1, [37, 2771, 2772, 2773, 2774, 5, 2775, 4, 2776, 5, 195, 90, 565, 5]), (1, [792, 171, 11, 170, 640, 34, 2777, 5]), (1, [1146, 37, 293, 1733, 5]), (1, [2624, 752, 17, 11, 123, 1739, 5]), (1, [772, 1, 2778, 1639, 4, 11, 5]), (1, [772, 2779, 18, 1795, 452, 90, 832, 5]), (1, [1500, 2467, 175, 448, 66, 18, 2015, 2780, 2781, 5, 2355, 2782, 976, 5]), (1, [1, 18, 2677, 20, 643, 2678, 5]), (1, [17, 18, 448, 20, 18, 1146, 61, 293, 2783, 5]), (1, [383, 204, 83, 424, 2784, 935, 5]), (1, [220, 18, 2181, 20, 2785, 5]), (1, [17, 18, 424, 2786, 2787, 2452, 87, 2788, 2789, 2790, 1863, 5, 2791, 5, 5]), (1, [17, 18, 2792, 2551, 2389, 5]), (1, [34, 18, 689, 217, 1504, 11, 18, 424, 5]), (1, [17, 1553, 1554, 220, 2374, 2285, 5]), (1, [2677, 9, 18, 2793, 41, 1160, 504, 11, 18, 330, 2794, 20, 2795, 5]), (1, [17, 18, 448, 20, 18, 2796, 418, 18, 2797, 40, 177, 5]), (1, [2271, 2798, 18, 2799, 2177, 5]), (1, [2288, 1, 2800, 2801, 2802, 46, 500, 460, 2803, 5]), (1, [1146, 2393, 318, 531, 2804, 2805, 11, 1687, 2806, 5]), (1, [17, 18, 217, 424, 772, 2099, 20, 18, 253, 5]), (1, [814, 2235, 17, 2316, 2807, 2808, 5]), (1, [108, 18, 2809, 2810, 175, 1434, 5]), (1, [2651, 1146, 1, 1025, 1131, 2811, 140, 2812, 11, 2813, 5]), (1, [2624, 752, 17, 2307, 11, 123, 1739, 5]), (1, [220, 18, 2814, 1374, 90, 132, 5]), (1, [17, 2815, 2373, 5]), (1, [2796, 99, 413, 1804, 90, 1204, 2816, 5, 1847, 5, 74, 2817, 5]), (1, [17, 2818, 5]), (1, [17, 18, 2819, 20, 18, 2820, 5]), (1, [37, 18, 1301, 20, 2821, 2370, 5]), (1, [34, 18, 495, 2822, 5]), (1, [79, 18, 2823, 2824, 20, 18, 2825, 799, 2826, 2370, 66, 5]), (1, [79, 18, 424, 83, 389, 20, 486, 739, 5]), (1, [1146, 5, 459, 1153, 74, 1508, 5, 17, 1426, 90, 18, 424, 5]), (1, [1146, 399, 455, 1459, 477, 926, 20, 18, 2827, 5]), (1, [383, 204, 888, 26, 2452, 418, 2828, 2829, 20, 2484, 2830, 5]), (1, [772, 399, 18, 389, 2392, 5]), (1, [37, 615, 2831, 502, 5, 2832, 2833, 5, 5]), (1, [2226, 17, 2834, 2278, 2642, 5]), (1, [17, 2835, 751, 5]), (1, [2226, 2836, 94, 1517, 5, 2837, 74, 2838, 5]), (1, [728, 2779, 18, 578, 2839, 1035, 5]), (1, [17, 18, 217, 1739, 11, 18, 42, 5]), (1, [34, 1635, 220, 792, 945, 2301, 5]), (1, [1146, 2683, 249, 5, 2840, 5, 2841, 721, 297, 5]), (1, [61, 772, 34, 18, 2491, 2842, 895, 2843, 5]), (1, [17, 18, 2183, 2844, 2845, 11, 18, 42, 5]), (1, [172, 18, 389, 2846, 2847, 455, 57, 5]), (1, [2479, 399, 26, 2848, 1459, 477, 2849, 507, 17, 144, 2850, 5]), (1, [2735, 2479, 17, 2851, 20, 2390, 5]), (1, [383, 204, 888, 989, 2852, 20, 5, 2853, 2854, 5, 5]), (1, [17, 18, 401, 2412, 772, 11, 18, 823, 11, 1945, 5]), (1, [79, 18, 1382, 1324, 2855, 2856, 1097, 66, 5]), (1, [383, 204, 2857, 2363, 2858, 2859, 5]), (1, [424, 772, 220, 2720, 2636, 17, 2860, 2861, 2862, 5]), (1, [772, 17, 2863, 1853, 2307, 11, 5]), (1, [17, 18, 2624, 752, 5]), (1, [2864, 2181, 17, 193, 177, 2865, 2866, 1500, 5]), (1, [17, 18, 2867, 2006, 2307, 5]), (1, [108, 389, 2372, 1804, 11, 2188, 5]), (1, [191, 192, 1739, 2779, 18, 389, 2686, 5]), (1, [1, 18, 2381, 1146, 11, 18, 2868, 2869, 90, 257, 18, 2870, 2871, 20, 18, 2161, 2872, 1420, 5]), (1, [123, 2049, 20, 1915, 17, 1120, 2307, 5]), (1, [17, 2714, 220, 2873, 5]), (1, [383, 204, 888, 2874, 826, 2363, 2875, 5]), (1, [220, 18, 2876, 2694, 2877, 5]), (1, [772, 1, 2057, 18, 2878, 2879, 772, 5]), (1, [34, 1313, 18, 144, 850, 20, 18, 191, 192, 5]), (1, [37, 722, 723, 195, 90, 1960, 5]), (1, [2722, 17, 1244, 1245, 477, 2880, 2881, 5]), (1, [383, 204, 888, 18, 949, 20, 18, 2882, 2016, 5]), (1, [772, 17, 196, 2416, 11, 5]), (1, [17, 2820, 2883, 5]), (1, [2434, 1146, 2727, 2884, 90, 18, 1301, 20, 1932, 2885, 5]), (1, [1739, 17, 2481, 18, 2886, 20, 18, 1958, 5]), (1, [37, 18, 2887, 40, 5]), (1, [1800, 151, 2888, 399, 2093, 1245, 26, 2889, 5, 2890, 5, 2891, 5, 2892, 2893, 5, 2894, 5, 2895, 2427, 74, 2896, 406, 2897, 271, 1143, 2845, 5]), (1, [1, 5, 204, 172, 2898, 5, 74, 204, 383, 2899, 83, 25, 5, 2379, 146, 5]), (1, [37, 18, 2139, 2140, 24, 175, 146, 562, 5]), (1, [17, 18, 2900, 1739, 11, 18, 424, 5]), (1, [170, 140, 2181, 17, 18, 42, 220, 2065, 5]), (1, [26, 745, 288, 2901, 5]), (1, [2490, 2902, 20, 1273, 17, 26, 2903, 2904, 93, 2905, 18, 2906, 2907, 66, 2908, 5]), (1, [2524, 399, 18, 389, 2909, 5]), (1, [34, 18, 563, 217, 1848, 2910, 177, 18, 2434, 2524, 5]), (1, [11, 18, 398, 79, 85, 2911, 2363, 2912, 1216, 220, 2140, 74, 2913, 5]), (1, [1146, 2165, 18, 2914, 2201, 11, 2059, 590, 5]), (1, [1146, 1, 2915, 2916, 271, 2917, 2918, 20, 5]), (1, [37, 18, 2218, 1981, 2919, 20, 2920, 2249, 2921, 86, 98, 5]), (1, [772, 2181, 2922, 199, 2923, 5]), (1, [17, 1800, 2924, 2925, 2926, 5, 1462, 2640, 5, 329, 5]), (1, [17, 18, 2927, 1596, 20, 18, 424, 2928, 629, 74, 2929, 5]), (1, [1146, 399, 18, 2930, 20, 2931, 5]), (1, [17, 18, 2285, 87, 18, 1751, 2932, 903, 11, 2933, 5, 1437, 5]), (1, [17, 2934, 2307, 5]), (1, [1739, 37, 18, 2935, 882, 1245, 175, 2441, 11, 2813, 5]), (1, [792, 171, 34, 2936, 1131, 18, 2937, 2474, 5]), (1, [399, 123, 448, 87, 26, 772, 2194, 5]), (1, [424, 1739, 1, 2057, 87, 197, 2938, 20, 2939, 5]), (1, [383, 204, 83, 26, 2940, 20, 2941, 2570, 2942, 5]), (1, [17, 18, 2943, 2226, 20, 484, 5]), (1, [2636, 17, 18, 825, 20, 18, 54, 2468, 5]), (1, [34, 1313, 18, 2301, 11, 590, 5]), (1, [220, 18, 2944, 1146, 11, 18, 42, 5]), (1, [123, 1146, 17, 2945, 5]), (1, [17, 18, 2181, 20, 2946, 5]), (1, [1739, 11, 1741, 17, 2947, 202, 11, 5]), (1, [79, 18, 2948, 1374, 2460, 2461, 1097, 66, 5]), (1, [2524, 2949, 25, 18, 2950, 2951, 1848, 2453, 5]), (1, [17, 18, 217, 1739, 11, 531, 5]), (1, [2848, 2243, 2952, 254, 74, 2953, 1853, 5]), (1, [220, 18, 217, 2479, 11, 18, 2954, 2955, 5]), (1, [63, 376, 772, 2956, 18, 343, 728, 1600, 2957, 5]), (1, [123, 2421, 17, 2958, 1961, 5]), (1, [1739, 2959, 18, 146, 2162, 1420, 11, 2960, 5]), (1, [2235, 1146, 2365, 2961, 2962, 5, 1089, 74, 18, 2963, 2964, 5]), (1, [34, 18, 2441, 20, 2965, 2966, 5]), (1, [383, 204, 888, 2967, 177, 2968, 1130, 1580, 177, 2969, 2970, 2971, 5]), (1, [37, 18, 2972, 2392, 40, 5]), (1, [1, 2714, 4, 5]), (1, [37, 2973, 338, 162, 5]), (1, [1, 18, 2255, 2123, 11, 640, 11, 2974, 5]), (1, [63, 2975, 2976, 2977, 2978, 90, 1955, 146, 11, 424, 2979, 2980, 5]), (1, [108, 18, 2981, 74, 2982, 2983, 40, 5]), (1, [17, 18, 42, 2984, 1447, 809, 2985, 1493, 559, 2986, 5]), (1, [17, 88, 2987, 2988, 5]), (1, [2674, 2989, 90, 83, 1432, 66, 85, 1313, 5, 1009, 79, 1837, 195, 5]), (1, [383, 204, 83, 2990, 2991, 2345, 2992, 5]), (1, [2993, 79, 18, 124, 2994, 1753, 848, 5]), (1, [383, 204, 888, 26, 2995, 2529, 87, 2996, 18, 2997, 1366, 2998, 90, 140, 116, 5]), (1, [37, 2090, 20, 18, 2999, 40, 5]), (1, [108, 204, 888, 826, 87, 3000, 3001, 177, 18, 2208, 5]), (1, [2517, 140, 1146, 17, 18, 217, 5]), (1, [1, 18, 1800, 3002, 20, 3003, 3004, 11, 3005, 5]), (1, [1146, 3006, 581, 457, 20, 18, 42, 220, 3007, 3008, 5]), (1, [1146, 17, 18, 3009, 20, 18, 3010, 18, 3011, 5]), (1, [17, 18, 2720, 3012, 5]), (1, [1146, 3013, 3014, 219, 486, 1019, 11, 3015, 5]), (1, [3016, 3017, 988, 90, 2276, 5, 1741, 5]), (1, [2490, 2226, 2836, 94, 3018, 5]), (1, [383, 91, 888, 826, 177, 3019, 74, 3020, 5, 18, 633, 74, 3021, 5]), (1, [3022, 1227, 3023, 507, 3024, 895, 2408, 5]), (1, [1146, 2243, 18, 2065, 2201, 11, 170, 640, 5]), (1, [2722, 3025, 26, 3026, 105, 3027, 74, 3028, 5]), (1, [2353, 2354, 399, 26, 448, 2355, 5, 2356, 20, 18, 2357, 5, 5]), (1, [2643, 2879, 3029, 2571, 298, 640, 220, 3030, 74, 3031, 2301, 5]), (1, [523, 3032, 177, 2357, 74, 2954, 194, 5]), (1, [220, 18, 3033, 2796, 66, 18, 963, 5]), (1, [220, 18, 448, 20, 26, 2260, 11, 3034, 5]), (1, [17, 3035, 5]), (1, [1146, 1, 3036, 3037, 18, 1710, 20, 5]), (1, [17, 18, 217, 2421, 11, 216, 11, 508, 5]), (1, [2635, 2187, 466, 18, 389, 1506, 11, 18, 191, 192, 5]), (1, [2226, 541, 94, 3038, 5]), (1, [1146, 1, 3039, 3040, 3041, 3042, 87, 5]), (1, [1146, 1, 293, 18, 3043, 20, 5]), (1, [298, 140, 1739, 99, 413, 1804, 90, 1204, 3044, 220, 3045, 5]), (1, [383, 204, 888, 271, 3046, 3047, 3048, 377, 5]), (1, [424, 772, 399, 18, 3049, 2065, 3050, 507, 1396, 48, 5]), (1, [17, 3051, 2807, 3052, 5]), (1, [1739, 2243, 18, 3053, 20, 3054, 220, 3055, 5]), (1, [91, 20, 18, 53, 2348, 17, 3056, 3057, 424, 3058, 5]), (1, [424, 772, 399, 3059, 1245, 486, 772, 3060, 5]), (1, [2677, 17, 1040, 898, 3061, 1558, 5]), (1, [34, 659, 3062, 3063, 3064, 87, 3065, 74, 3066, 5]), (1, [63, 1645, 517, 2673, 399, 3067, 2237, 90, 486, 3068, 5]), (1, [17, 18, 3069, 1108, 648, 2373, 5]), (1, [220, 18, 3070, 1848, 11, 18, 42, 5]), (1, [1146, 1, 3071, 2650, 18, 1710, 20, 5]), (1, [792, 3072, 1504, 34, 3073, 105, 18, 1625, 1886, 5, 1185, 5, 1185, 5, 3074, 74, 3075, 5]), (1, [37, 3076, 1940, 3077, 3078, 83, 502, 3079, 5]), (1, [383, 271, 3080, 83, 26, 3081, 3082, 3083, 418, 2261, 18, 1292, 923, 20, 1307, 500, 163, 5]), (1, [171, 79, 18, 3084, 3085, 3086, 257, 5]), (1, [3087, 772, 3088, 18, 146, 1691, 1703, 462, 1195, 11, 18, 424, 5]), (1, [34, 18, 142, 389, 3089, 171, 11, 18, 42, 5]), (1, [17, 18, 217, 903, 3090, 11, 18, 42, 5]), (1, [1146, 37, 18, 2272, 701, 2690, 5]), (1, [792, 171, 209, 18, 3091, 3092, 5, 203, 5]), (1, [1146, 582, 416, 18, 62, 579, 146, 5]), (1, [721, 17, 18, 2927, 1596, 20, 840, 5]), (1, [17, 18, 389, 3089, 1739, 11, 18, 42, 5]), (1, [37, 3093, 469, 1755, 502, 3094, 5]), (1, [772, 37, 198, 3095, 701, 417, 5]), (1, [1146, 220, 151, 1990, 17, 3096, 5]), (1, [1146, 99, 413, 1804, 90, 3097, 11, 18, 3098, 5]), (1, [2651, 2181, 17, 2057, 87, 26, 424, 136, 5]), (1, [3099, 2479, 17, 417, 90, 18, 146, 3100, 3101, 5]), (1, [383, 413, 888, 18, 49, 3102, 5]), (1, [2123, 193, 11, 657, 2243, 3103, 297, 20, 989, 3104, 5]), (1, [424, 1739, 220, 3105, 2165, 18, 3106, 3107, 5]), (1, [17, 3108, 2307, 5]), (1, [772, 79, 973, 3109, 3110, 5]), (1, [424, 772, 2165, 952, 2879, 5, 18, 42, 220, 217, 3111, 20, 3112, 3113, 5]), (1, [3114, 2434, 1146, 399, 18, 3115, 254, 3116, 18, 3117, 254, 507, 3118, 5]), (1, [1407, 1739, 20, 3119, 9, 3120, 3121, 3122, 5, 3123, 5, 74, 3124, 1313, 3042, 11, 5]), (1, [17, 18, 448, 20, 18, 217, 1739, 11, 2156, 5, 170, 640, 5]), (1, [17, 18, 1795, 1429, 777, 377, 5]), (1, [123, 3125, 17, 18, 749, 3126, 2694, 2877, 2307, 5]), (1, [79, 18, 2209, 3127, 3128, 86, 98, 5]), (1, [1, 18, 146, 3129, 11, 18, 424, 5]), (1, [1146, 220, 665, 17, 2251, 3130, 5]), (1, [383, 204, 2220, 2363, 3131, 3132, 5]), (1, [1146, 2365, 18, 389, 3133, 5]), (1, [2226, 541, 94, 1961, 5, 1663, 5, 74, 3134, 5]), (1, [79, 694, 1097, 66, 5]), (1, [383, 204, 888, 2210, 87, 3135, 5]), (1, [792, 171, 34, 3136, 1131, 18, 3137, 3138, 5]), (1, [2678, 17, 20, 123, 2677, 5]), (1, [177, 18, 2208, 383, 204, 83, 3139, 3140, 5]), (1, [1, 18, 146, 1146, 90, 3141, 26, 859, 487, 11, 423, 5]), (1, [2890, 17, 57, 11, 3142, 5, 63, 1645, 5]), (1, [1146, 399, 3143, 3144, 20, 486, 3058, 3145, 90, 1538, 5]), (1, [17, 18, 945, 2226, 11, 18, 191, 192, 5]), (1, [2226, 17, 2443, 2444, 177, 5]), (1, [17, 3146, 5, 3147, 5]), (1, [220, 18, 2181, 20, 3148, 5]), (1, [1739, 17, 2093, 1131, 3149, 2310, 5]), (1, [11, 18, 191, 192, 108, 41, 40, 18, 945, 5]), (1, [1146, 11, 1945, 461, 18, 389, 3150, 3151, 20, 242, 216, 5]), (1, [17, 18, 448, 20, 18, 2796, 418, 18, 2797, 40, 177, 5]), (1, [3152, 95, 399, 26, 1389, 20, 3153, 5, 3154, 297, 5]), (1, [1146, 2365, 3155, 90, 18, 3156, 5]), (1, [108, 413, 888, 18, 1368, 87, 1313, 1436, 714, 5]), (1, [1739, 17, 5, 3157, 3158, 2307, 11, 5]), (1, [1739, 1, 3159, 1323, 955, 11, 5]), (1, [840, 2845, 2700, 26, 3160, 20, 3161, 5]), (1, [1739, 17, 2093, 1131, 2344, 2310, 5]), (1, [772, 177, 18, 2964, 20, 1508, 399, 486, 3049, 2201, 2419, 48, 3162, 2271, 3163, 5]), (1, [383, 204, 888, 26, 2295, 177, 432, 105, 2297, 2299, 20, 3164, 5]), (1, [17, 18, 3165, 3166, 5]), (1, [34, 18, 3167, 11, 3168, 898, 5, 63, 3169, 5]), (1, [1146, 37, 18, 3170, 3170, 3171, 86, 98, 11, 5]), (1, [34, 659, 2484, 564, 1878, 87, 826, 5]), (1, [9, 18, 3172, 2872, 1420, 1493, 5]), (1, [17, 904, 786, 5]), (1, [18, 1146, 61, 2650, 1547, 11, 5]), (1, [424, 772, 34, 18, 3173, 2348, 11, 5]), (1, [34, 18, 1885, 3174, 140, 1504, 87, 3175, 5]), (1, [383, 204, 888, 26, 3176, 20, 26, 3177, 3178, 5]), (1, [424, 772, 79, 18, 3179, 3180, 1591, 90, 2160, 1153, 5]), (1, [220, 18, 448, 20, 18, 3181, 3182, 11, 1179, 105, 18, 1180, 5]), (1, [17, 18, 3183, 3184, 20, 18, 191, 192, 1429, 5]), (1, [1, 219, 220, 2873, 5]), (1, [34, 18, 3185, 74, 3093, 469, 2418, 3186, 5]), (1, [37, 3187, 3188, 3189, 25, 5]), (1, [3190, 3191, 79, 18, 3192, 11, 1109, 18, 202, 11, 3193, 3194, 3195, 11, 5]), (1, [17, 63, 376, 220, 2065, 1848, 5]), (1, [123, 890, 17, 3196, 2307, 3197, 5]), (1, [26, 1146, 418, 17, 3198, 26, 3199, 3200, 3201, 1366, 5]), (1, [17, 18, 217, 2745, 11, 18, 42, 5]), (1, [123, 2049, 20, 18, 42, 17, 1120, 5]), (1, [3202, 3203, 17, 3204, 297, 84, 5]), (1, [123, 2226, 17, 3205, 193, 5]), (1, [1146, 17, 2307, 507, 709, 314, 298, 231, 74, 689, 314, 2357, 232, 5]), (1, [34, 18, 119, 3206, 11, 18, 42, 5]), (1, [1739, 79, 2344, 2310, 3207, 5]), (1, [383, 204, 888, 3208, 3209, 2288, 923, 358, 826, 5, 3210, 2642, 298, 640, 74, 18, 2735, 5]), (1, [34, 18, 792, 1504, 11, 1899, 220, 5, 1912, 2767, 20, 2768, 2769, 5, 5]), (1, [2226, 541, 94, 3038, 5]), (1, [220, 18, 945, 2226, 11, 1153, 5]), (1, [1848, 2453, 3211, 18, 1649, 20, 137, 74, 1327, 5]), (1, [17, 18, 2623, 20, 2344, 2310, 5]), (1, [17, 18, 217, 2479, 11, 18, 3099, 2947, 5]), (1, [17, 2558, 751, 5]), (1, [1, 3212, 3213, 686, 5]), (1, [79, 3214, 1097, 66, 5]), (1, [2673, 1407, 1221, 383, 336, 57, 507, 3215, 2954, 3216, 148, 5, 63, 1645, 517, 5]), (1, [34, 659, 3217, 1595, 5]), (1, [2677, 17, 2855, 2856, 5]), (1, [37, 18, 42, 1097, 66, 5]), (1, [2479, 1309, 17, 3218, 26, 2049, 20, 5]), (1, [220, 18, 2381, 2357, 3219, 1146, 1333, 3220, 90, 18, 3221, 5]), (1, [1146, 399, 18, 2065, 3222, 239, 5]), (1, [1739, 79, 3223, 2310, 3207, 5]), (1, [37, 3224, 86, 98, 5]), (1, [34, 18, 804, 2419, 3225, 171, 11, 18, 42, 5]), (1, [383, 91, 888, 2558, 751, 5]), (1, [171, 172, 18, 389, 1845, 3226, 5]), (1, [1146, 2165, 3227, 220, 3228, 74, 18, 3228, 20, 616, 3229, 5]), (1, [1617, 204, 195, 90, 86, 26, 803, 177, 26, 3230, 3231, 5]), (1, [17, 18, 3232, 3233, 3234, 5]), (1, [17, 18, 2719, 46, 18, 2226, 3235, 5]), (1, [2864, 1146, 2683, 3236, 5, 3237, 721, 297, 5]), (1, [383, 204, 83, 3238, 3239, 5]), (1, [1739, 2165, 18, 3240, 3241, 5]), (1, [1146, 3242, 3243, 3156, 20, 3244, 5]), (1, [37, 3245, 2370, 5]), (1, [17, 18, 2255, 1848, 5]), (1, [37, 18, 3246, 41, 40, 5]), (1, [17, 26, 2494, 20, 123, 1146, 5]), (1, [63, 376, 772, 2683, 3247, 721, 297, 5]), (1, [34, 18, 3248, 3249, 5]), (1, [383, 204, 888, 18, 3250, 20, 3251, 1546, 3252, 5]), (1, [17, 18, 346, 2407, 2408, 5]), (1, [1146, 2165, 18, 389, 2750, 1428, 636, 20, 3253, 5]), (1, [2353, 1739, 465, 90, 336, 1459, 197, 3254, 74, 3255, 5]), (1, [34, 659, 2484, 3256, 321, 1878, 5]), (1, [1146, 3257, 18, 194, 3258, 11, 3259, 5]), (1, [2534, 20, 3260, 79, 18, 3261, 40, 11, 5]), (1, [17, 3262, 345, 5]), (1, [383, 204, 83, 3263, 1139, 87, 18, 2537, 2209, 3264, 87, 18, 3265, 5]), (1, [1146, 220, 2181, 1, 1311, 500, 3266, 74, 3267, 3268, 5]), (1, [1178, 1, 18, 968, 87, 477, 3269, 2640, 5]), (1, [383, 204, 888, 3270, 3271, 5, 5, 2968, 3272, 5, 5, 177, 3273, 3274, 5]), (1, [383, 204, 2220, 2363, 928, 929, 5]), (1, [383, 204, 888, 26, 3275, 675, 989, 90, 1681, 2587, 824, 5, 264, 74, 3276, 3072, 5]), (1, [1, 18, 2873, 20, 1468, 3277, 2714, 5]), (1, [3278, 37, 3279, 3280, 1520, 502, 3281, 11, 5]), (1, [383, 204, 888, 18, 3282, 90, 18, 3283, 3284, 3285, 5]), (1, [17, 5, 3286, 3287, 5, 5]), (1, [1150, 3288, 3289, 177, 3290, 5]), (1, [34, 18, 424, 2441, 87, 2324, 5, 2325, 5]), (1, [17, 18, 2181, 20, 3291, 5]), (1, [34, 18, 217, 3292, 11, 18, 42, 5]), (1, [17, 3293, 5]), (1, [17, 18, 3294, 772, 11, 18, 424, 5]), (1, [814, 2719, 1, 3295, 3296, 18, 146, 90, 3297, 5, 177, 3298, 2957, 5, 3299, 5]), (1, [1, 18, 217, 1739, 11, 18, 42, 90, 3300, 3301, 431, 11, 3302, 5]), (1, [17, 18, 338, 3303, 2389, 5]), (1, [17, 18, 448, 20, 18, 2065, 1848, 11, 1915, 5]), (1, [1848, 2453, 3304, 66, 18, 2964, 20, 197, 3305, 90, 3306, 5]), (1, [17, 18, 217, 1739, 11, 3307, 5]), (1, [383, 204, 888, 2384, 3263, 3308, 87, 763, 1139, 5]), (1, [1146, 17, 18, 217, 1993, 3309, 5]), (1, [220, 18, 2181, 20, 2707, 5]), (1, [772, 17, 18, 3310, 2877, 2307, 11, 5]), (1, [17, 18, 1880, 5, 1972, 5, 20, 18, 2271, 3163, 5]), (1, [17, 18, 3311, 448, 87, 18, 144, 2850, 20, 170, 640, 5]), (1, [1146, 2504, 3312, 5]), (1, [383, 204, 888, 26, 42, 3313, 3314, 1429, 507, 2097, 2052, 5]), (1, [2288, 37, 18, 229, 230, 11, 5]), (1, [3315, 772, 17, 2316, 477, 2554, 807, 5]), (1, [1146, 37, 18, 3316, 575, 11, 202, 203, 1558, 220, 3317, 3318, 5]), (1, [2490, 2226, 1, 3319, 50, 3320, 18, 146, 2252, 90, 1204, 5]), (1, [108, 3321, 3322, 70, 5]), (1, [1146, 2798, 512, 3323, 5, 18, 42, 220, 2442, 880, 5]), (1, [3191, 108, 18, 1795, 3245, 3324, 1925, 5]), (1, [814, 3016, 220, 217, 2479, 17, 3325, 351, 5]), (1, [814, 2719, 1, 3295, 3296, 18, 146, 90, 3297, 5, 177, 3298, 2957, 5, 3299, 5]), (1, [17, 18, 2183, 3326, 716, 177, 801, 5]), (1, [3016, 3327, 1534, 220, 3328, 74, 2868, 3329, 5]), (1, [383, 204, 888, 2967, 177, 3330, 3331, 5]), (1, [2765, 1178, 37, 1184, 1185, 1186, 3332, 1245, 1130, 2559, 20, 3333, 41, 5]), (1, [37, 18, 618, 197, 3334, 40, 5]), (1, [37, 3335, 1527, 195, 90, 1960, 5]), (1, [95, 20, 976, 79, 18, 3336, 254, 3337, 1100, 5]), (1, [17, 2491, 3338, 220, 2374, 2285, 5]), (1, [346, 2407, 2408, 17, 2307, 2481, 123, 1739, 5]), (1, [17, 18, 3339, 298, 2308, 1703, 3340, 2307, 5]), (1, [17, 2131, 220, 3341, 2441, 2307, 5]), (1, [2434, 3342, 9, 18, 3343, 3344, 74, 3345, 3346, 3347, 2417, 25, 11, 5]), (1, [17, 18, 2539, 2540, 417, 2541, 5]), (1, [34, 18, 176, 20, 1313, 18, 2625, 11, 18, 42, 74, 123, 2288, 108, 407, 3348, 1100, 5]), (1, [18, 2065, 1848, 5]), (1, [2479, 17, 417, 90, 3349, 1459, 3350, 5]), (1, [1, 3351, 4, 5]), (1, [17, 18, 2181, 20, 1437, 5]), (1, [17, 18, 3352, 3353, 3354, 377, 5]), (1, [2288, 2798, 18, 3355, 2177, 5]), (1, [34, 18, 2181, 1504, 20, 18, 792, 621, 171, 418, 977, 18, 3356, 3357, 11, 590, 5]), (1, [3358, 3359, 5, 5, 3360, 148, 5, 5, 123, 1, 18, 448, 20, 18, 669, 140, 1178, 5]), (1, [17, 18, 217, 1739, 11, 235, 5]), (1, [383, 204, 83, 26, 3314, 20, 3361, 177, 18, 2208, 5]), (1, [34, 18, 2419, 3294, 171, 11, 18, 42, 5]), (1, [17, 2344, 2310, 5]), (1, [772, 11, 18, 191, 192, 2683, 18, 217, 728, 5]), (1, [321, 1878, 34, 2936, 90, 18, 3362, 177, 3363, 3364, 5]), (1, [17, 2344, 2310, 2307, 5]), (1, [2049, 20, 1635, 3365, 18, 3366, 5, 3367, 3368, 5, 74, 3369, 3370, 5]), (1, [1146, 17, 3371, 90, 3372, 3373, 895, 2408, 5]), (1, [3191, 108, 389, 1047, 1464, 3374, 3375, 5]), (1, [34, 3376, 3377, 5]), (1, [1739, 399, 26, 827, 1459, 477, 3378, 3379, 5]), (1, [424, 772, 2165, 3380, 3381, 2408, 5]), (1, [37, 18, 3382, 2370, 5]), (1, [17, 18, 448, 20, 18, 3342, 790, 3383, 74, 3384, 5]), (1, [792, 171, 17, 3385, 3386, 790, 5]), (1, [34, 18, 563, 217, 1848, 2910, 11, 18, 2059, 191, 192, 5]), (1, [17, 18, 2539, 2540, 417, 2541, 5]), (1, [1, 3387, 4, 5]), (1, [220, 18, 389, 3388, 2488, 448, 11, 640, 5]), (1, [34, 18, 804, 1395, 2255, 3389, 11, 18, 42, 5]), (1, [1146, 399, 3390, 105, 3391, 5]), (1, [2796, 37, 3392, 3393, 3394, 5]), (1, [1146, 2243, 18, 3395, 2201, 11, 170, 640, 5]), (1, [3369, 814, 1178, 17, 2057, 459, 26, 1166, 1233, 3396, 1131, 1468, 3397, 3398, 5]), (1, [17, 18, 3260, 20, 18, 3399, 5]), (1, [1739, 220, 18, 3400, 2201, 87, 3401, 20, 196, 2083, 5]), (1, [17, 18, 217, 3402, 903, 2123, 11, 18, 42, 5]), (1, [621, 424, 1739, 461, 18, 2065, 1213, 239, 87, 3403, 5]), (1, [1146, 1, 1706, 3404, 3405, 11, 500, 1837, 1, 3406, 1131, 788, 3407, 5]), (1, [1146, 79, 2855, 2856, 1097, 66, 5]), (1, [792, 2252, 171, 34, 3408, 1131, 18, 3409, 512, 3410, 2474, 5]), (1, [17, 18, 3411, 3412, 5]), (1, [3413, 18, 3414, 2726, 1, 3415, 90, 3416, 66, 2933, 90, 1009, 5]), (1, [2181, 17, 193, 131, 3417, 3418, 61, 2243, 284, 74, 3419, 3420, 5]), (1, [2490, 3421, 3422, 18, 3423, 3424, 5]), (1, [34, 2484, 3425, 1878, 177, 18, 2208, 5]), (1, [34, 18, 119, 1433, 2197, 1106, 11, 18, 424, 5]), (1, [1, 18, 217, 12, 3426, 11, 202, 203, 1558, 5]), (1, [9, 18, 146, 3427, 3428, 1131, 1411, 5]), (1, [1739, 1, 614, 615, 616, 617, 955, 11, 5]), (1, [220, 18, 3429, 3430, 5]), (1, [17, 18, 2181, 20, 2585, 5]), (1, [9, 18, 146, 142, 1504, 90, 172, 26, 242, 20, 872, 318, 26, 2685, 5]), (1, [1146, 17, 18, 2720, 3309, 20, 3431, 5]), (1, [2252, 1146, 3432, 3433, 3434, 11, 3435, 365, 3436, 449, 100, 872, 318, 175, 1925, 628, 5]), (1, [2677, 17, 26, 3437, 5]), (1, [17, 18, 2183, 2123, 11, 18, 191, 192, 5]), (1, [3072, 1739, 1, 2727, 1459, 3438, 5]), (1, [17, 91, 220, 2987, 2988, 57, 5]), (1, [220, 18, 2183, 2181, 1739, 11, 18, 3439, 5]), (1, [17, 18, 2623, 20, 3005, 5, 185, 5]), (1, [2678, 1, 26, 2462, 20, 123, 1146, 5]), (1, [2479, 1, 18, 729, 20, 18, 424, 220, 3317, 3440, 3441, 5]), (1, [220, 18, 389, 3442, 1146, 11, 18, 42, 5]), (1, [108, 3443, 1496, 90, 40, 5]), (1, [792, 1504, 3444, 3445, 18, 3446, 20, 2629, 3447, 3448, 5]), (1, [383, 204, 83, 826, 3449, 1423, 3450, 3451, 87, 18, 807, 20, 1505, 5]), (1, [1146, 3452, 18, 3009, 20, 18, 2434, 3453, 5]), (1, [383, 204, 86, 26, 1834, 418, 582, 2911, 2587, 123, 204, 402, 336, 500, 204, 3189, 25, 5]), (1, [2636, 11, 185, 17, 2379, 90, 386, 91, 675, 872, 3454, 5]), (1, [2490, 3281, 383, 413, 511, 1131, 1266, 3455, 5]), (1, [383, 204, 83, 26, 92, 3456, 20, 3457, 11, 3251, 728, 5]), (1, [220, 3458, 5]), (1, [17, 3459, 5]), (1, [298, 140, 1739, 2165, 18, 2720, 3460, 242, 5]), (1, [17, 85, 3461, 90, 3462, 18, 3463, 228, 5, 3464, 3465, 5, 61, 3466, 1070, 3467, 34, 3468, 1100, 26, 3469, 2845, 5]), (1, [17, 18, 2183, 2452, 177, 18, 2208, 5]), (1, [1146, 34, 413, 3470, 415, 413, 1273, 507, 788, 3471, 2310, 5]), (1, [17, 18, 2181, 20, 3472, 5]), (1, [17, 26, 1146, 418, 3473, 105, 18, 173, 3474, 5]), (1, [171, 3475, 18, 389, 66, 3476, 5]), (1, [1739, 11, 879, 399, 18, 217, 344, 20, 3477, 3478, 1668, 5]), (1, [34, 3479, 389, 3480, 57, 5]), (1, [17, 18, 1795, 98, 90, 40, 11, 18, 42, 5, 3481, 3482, 5, 3483, 5]), (1, [17, 18, 321, 2285, 507, 61, 204, 383, 888, 18, 2374, 2285, 20, 26, 647, 20, 18, 424, 2041, 20, 2376, 5]), (1, [2226, 2836, 3484, 18, 3485, 20, 3486, 5]), (1, [108, 413, 888, 826, 2363, 18, 3487, 895, 3488, 3489]), (1, [383, 204, 83, 826, 177, 18, 749, 709, 424, 138, 5]), (1, [298, 140, 1739, 3490, 18, 389, 3491, 990, 5]), (1, [17, 18, 217, 74, 389, 2420, 3492, 3493, 1238, 11, 18, 424, 3494, 3495, 5]), (1, [37, 3496, 888, 26, 2985, 20, 3497, 41, 5]), (1, [37, 18, 3072, 3498, 3499, 3500, 90, 519, 15, 5]), (1, [1739, 99, 413, 336, 11, 415, 413, 9, 3501, 18, 3502, 11, 18, 3503, 512, 3504, 5]), (1, [17, 18, 448, 20, 18, 2796, 418, 18, 2797, 40, 177, 5]), (1, [17, 35, 826, 177, 18, 3505, 5, 233, 3506, 5, 5]), (1, [17, 3507, 5]), (1, [37, 18, 448, 878, 2370, 5]), (1, [850, 108, 1333, 172, 772, 638, 1546, 5]), (1, [1739, 399, 18, 792, 3508, 3509, 11, 18, 424, 5]), (1, [18, 1146, 20, 3510, 3511, 453, 18, 216, 20, 39, 11, 5, 3496, 220, 3512, 5, 5]), (1, [79, 389, 20, 18, 3513, 3514, 18, 191, 192, 1097, 66, 5]), (1, [1146, 2165, 3515, 2444, 5, 3516, 2444, 5, 74, 3517, 2444, 5]), (1, [1146, 17, 196, 2083, 11, 5]), (1, [1146, 17, 18, 217, 1146, 11, 2517, 640, 5]), (1, [37, 616, 2938, 204, 3518, 18, 5, 3519, 3520, 5, 500, 1837, 3521, 85, 5]), (1, [383, 204, 888, 18, 949, 20, 18, 3522, 2016, 5]), (1, [424, 772, 2922, 199, 11, 271, 3523, 2214, 5]), (1, [424, 772, 3524, 18, 512, 3525, 2177, 5]), (1, [840, 2488, 2654, 90, 336, 18, 42, 1596, 87, 1341, 220, 3526, 5]), (1, [3527, 1146, 17, 3528, 630, 20, 3529, 3530, 5]), (1, [890, 3531, 1120, 5]), (1, [17, 18, 2181, 20, 814, 5]), (1, [1146, 2922, 199, 11, 271, 3523, 2214, 5]), (1, [1146, 17, 18, 3532, 2409, 3533, 20, 3534, 5]), (1, [1739, 17, 18, 346, 2407, 2408, 2481, 5]), (1, [37, 2080, 3535, 3536, 1960, 5]), (1, [17, 18, 1146, 20, 3009, 87, 18, 448, 338, 5]), (1, [1146, 399, 18, 2065, 1428, 3537, 3538, 20, 1592, 5]), (1, [2271, 17, 3539, 177, 5]), (1, [11, 18, 3439, 17, 85, 2381, 3540, 297, 66, 18, 516, 90, 18, 2341, 5]), (1, [424, 1739, 17, 1244, 1245, 477, 1462, 2601, 20, 18, 202, 5]), (1, [171, 172, 18, 2065, 1503, 20, 3541, 571, 5]), (1, [34, 35, 3542, 5]), (1, [123, 2226, 17, 2933, 193, 5]), (1, [177, 18, 3354, 17, 3543, 3544, 66, 3545, 5, 1676, 5]), (1, [9, 18, 3546, 2872, 1420, 1493, 5]), (1, [2717, 1, 338, 3547, 3548, 11, 5]), (1, [346, 2407, 2408, 17, 3549, 90, 61, 140, 1739, 5]), (1, [11, 26, 702, 79, 3550, 1454, 5]), (1, [3551, 3552, 18, 3099, 2947, 74, 18, 516, 1556, 5]), (1, [1827, 17, 177, 18, 3553, 2418, 652, 5]), (1, [1739, 220, 1827, 17, 2057, 2347, 1828, 5]), (1, [17, 18, 2194, 20, 1643, 5]), (1, [17, 18, 217, 2845, 11, 18, 42, 5]), (1, [37, 3554, 2370, 5]), (1, [424, 772, 17, 3555, 3556, 895, 2408, 11, 5]), (1, [123, 1146, 17, 26, 3557, 3558, 26, 3559, 3560, 5]), (1, [17, 3561, 3562, 2051, 66, 5]), (1, [383, 204, 2286, 26, 3563, 177, 18, 245, 351, 87, 3251, 3564, 5]), (1, [17, 18, 2285, 20, 18, 3396, 3565, 1374, 5, 3566, 5, 5]), (1, [2796, 3567, 3568, 90, 2674, 5]), (1, [17, 18, 389, 3569, 890, 11, 18, 42, 5, 3570, 5]), (1, [17, 18, 1309, 3571, 3572, 66, 5]), (1, [1146, 17, 3396, 87, 2963, 3573, 5]), (1, [1739, 17, 3574, 1131, 18, 3107, 20, 3575, 5]), (1, [17, 18, 42, 220, 389, 1149, 1150, 2307, 5]), (1, [1146, 17, 3576, 11, 2049, 1131, 18, 2757, 1556, 74, 3577, 74, 3578, 2625, 5]), (1, [17, 3579, 220, 3580, 5]), (1, [1739, 220, 3581, 3053, 399, 455, 2316, 477, 3582, 3583, 5]), (1, [1, 2090, 2091, 4, 5]), (1, [792, 2735, 171, 2472, 18, 2479, 20, 3584, 5]), (1, [2524, 220, 3070, 2323, 17, 3084, 3085, 5]), (1, [3585, 1739, 17, 417, 90, 18, 3586, 95, 20, 513, 3587, 5]), (1, [2677, 17, 3037, 5]), (1, [2288, 2798, 18, 3588, 2177, 5]), (1, [170, 140, 1146, 1055, 486, 146, 202, 2742, 309, 2730, 11, 3589, 5]), (1, [3590, 2271, 220, 2543, 79, 3591, 3592, 824, 18, 3593, 1547, 2481, 5]), (1, [123, 2524, 17, 1120, 5]), (1, [17, 18, 424, 2623, 20, 2324, 5, 2325, 3341, 3594, 5]), (1, [772, 17, 1244, 1245, 18, 3595, 807, 5]), (1, [34, 1313, 18, 144, 850, 20, 18, 424, 5]), (1, [79, 18, 254, 3596, 3337, 1100, 5]), (1, [772, 37, 3597, 3598, 3110, 11, 18, 1907, 3599, 640, 3600, 5]), (1, [17, 170, 3601, 5]), (1, [1146, 399, 18, 389, 2632, 5]), (1, [792, 850, 17, 2091, 3602, 790, 5]), (1, [3603, 3604, 37, 3605, 983, 5]), (1, [2252, 1146, 220, 3606, 1, 3607, 11, 3608, 5]), (1, [1146, 17, 417, 90, 3609, 3610, 5]), (1, [17, 18, 2065, 2524, 5]), (1, [383, 204, 888, 826, 177, 2897, 26, 3611, 5]), (1, [123, 1739, 79, 480, 481, 3495, 40, 5])]\n",
      "Len Z Dataset:  1731\n",
      "Labels:  [-1, 1]\n",
      "Alphabet:  [1, 2, 3, 4, 5, 7, 8, 9, 10, 11, 12, 13, 14, 15, 16, 17, 18, 19, 20, 21, 22, 23, 24, 25, 26, 27, 28, 29, 30, 31, 32, 33, 34, 35, 36, 37, 38, 39, 40, 41, 42, 43, 44, 45, 46, 47, 48, 49, 50, 51, 52, 53, 54, 55, 56, 57, 58, 59, 61, 62, 63, 64, 65, 66, 67, 68, 69, 70, 71, 72, 73, 74, 75, 76, 77, 78, 79, 80, 81, 82, 83, 84, 85, 86, 87, 88, 89, 90, 91, 92, 93, 94, 95, 96, 97, 98, 99, 100, 101, 102, 103, 104, 105, 106, 107, 108, 109, 110, 111, 112, 113, 114, 115, 116, 117, 118, 119, 120, 121, 122, 123, 124, 125, 126, 127, 128, 129, 130, 131, 132, 133, 134, 135, 136, 137, 138, 139, 140, 141, 142, 143, 144, 145, 146, 147, 148, 149, 150, 151, 152, 153, 154, 155, 156, 157, 158, 159, 160, 161, 162, 163, 164, 165, 166, 167, 168, 169, 170, 171, 172, 173, 174, 175, 176, 177, 178, 179, 180, 181, 182, 183, 184, 185, 186, 187, 188, 189, 190, 191, 192, 193, 194, 195, 196, 197, 198, 199, 200, 201, 202, 203, 204, 205, 206, 207, 208, 209, 210, 211, 212, 213, 214, 215, 216, 217, 218, 219, 220, 221, 222, 223, 224, 225, 226, 227, 228, 229, 230, 231, 232, 233, 234, 235, 236, 237, 238, 239, 240, 241, 242, 243, 244, 245, 246, 247, 248, 249, 250, 251, 252, 253, 254, 255, 256, 257, 258, 259, 260, 261, 262, 263, 264, 265, 266, 267, 268, 269, 270, 271, 272, 273, 274, 275, 276, 277, 278, 279, 280, 281, 282, 283, 284, 285, 286, 287, 288, 289, 290, 291, 292, 293, 294, 295, 296, 297, 298, 299, 300, 301, 302, 303, 304, 305, 306, 307, 308, 309, 310, 311, 312, 313, 314, 315, 316, 317, 318, 319, 320, 321, 322, 323, 324, 325, 326, 327, 328, 329, 330, 331, 332, 333, 334, 335, 336, 337, 338, 339, 340, 341, 342, 343, 344, 345, 346, 347, 348, 349, 350, 351, 352, 353, 354, 355, 356, 357, 358, 359, 360, 361, 362, 363, 364, 365, 366, 367, 368, 369, 370, 371, 372, 373, 374, 375, 376, 377, 378, 379, 380, 381, 382, 383, 384, 385, 386, 387, 388, 389, 390, 391, 392, 393, 394, 395, 396, 397, 398, 399, 400, 401, 402, 403, 404, 405, 406, 407, 408, 409, 410, 411, 412, 413, 414, 415, 416, 417, 418, 419, 420, 421, 422, 423, 424, 425, 426, 427, 428, 429, 430, 431, 432, 433, 434, 435, 436, 437, 438, 439, 440, 441, 442, 443, 444, 445, 446, 447, 448, 449, 450, 451, 452, 453, 454, 455, 456, 457, 458, 459, 460, 461, 462, 463, 464, 465, 466, 467, 468, 469, 470, 471, 472, 473, 474, 475, 476, 477, 478, 479, 480, 481, 482, 483, 484, 485, 486, 487, 488, 489, 490, 491, 492, 493, 494, 495, 497, 498, 499, 500, 501, 502, 503, 504, 505, 506, 507, 508, 509, 510, 511, 512, 513, 514, 515, 516, 517, 518, 519, 520, 521, 522, 523, 524, 525, 526, 527, 528, 529, 530, 531, 532, 533, 534, 535, 536, 537, 538, 539, 540, 541, 542, 543, 544, 545, 546, 547, 548, 549, 550, 551, 552, 553, 554, 555, 556, 557, 558, 559, 560, 561, 562, 563, 564, 565, 566, 567, 568, 569, 570, 571, 572, 573, 574, 575, 576, 577, 578, 579, 580, 581, 582, 583, 584, 585, 586, 587, 588, 589, 590, 591, 592, 593, 594, 595, 596, 597, 598, 599, 600, 601, 602, 603, 604, 605, 606, 607, 608, 609, 610, 611, 612, 613, 614, 615, 616, 617, 618, 619, 620, 621, 622, 623, 624, 625, 626, 627, 628, 629, 630, 631, 632, 633, 634, 635, 636, 637, 638, 639, 640, 641, 642, 643, 644, 645, 646, 647, 648, 649, 650, 651, 652, 653, 654, 655, 656, 657, 658, 659, 660, 661, 662, 663, 664, 665, 666, 667, 668, 669, 670, 671, 672, 673, 674, 675, 676, 677, 678, 679, 680, 681, 682, 683, 684, 685, 686, 687, 688, 689, 690, 691, 692, 693, 694, 695, 696, 697, 698, 699, 700, 701, 702, 703, 704, 705, 706, 707, 708, 709, 710, 711, 712, 713, 714, 715, 716, 717, 718, 719, 720, 721, 722, 723, 724, 725, 726, 727, 728, 729, 730, 731, 732, 733, 734, 735, 736, 737, 738, 739, 740, 741, 742, 743, 744, 745, 746, 747, 748, 749, 750, 751, 752, 753, 754, 755, 756, 757, 758, 759, 760, 761, 762, 763, 764, 765, 766, 767, 768, 769, 770, 771, 772, 773, 774, 775, 776, 777, 778, 779, 780, 781, 782, 783, 784, 785, 786, 787, 788, 790, 791, 792, 793, 794, 795, 796, 797, 798, 799, 800, 801, 802, 803, 804, 805, 806, 807, 808, 809, 810, 811, 812, 813, 814, 815, 816, 817, 818, 819, 820, 821, 822, 823, 824, 825, 826, 827, 828, 829, 830, 831, 832, 833, 834, 835, 836, 837, 838, 839, 840, 841, 842, 843, 844, 845, 846, 847, 848, 849, 850, 851, 852, 853, 854, 855, 856, 857, 858, 859, 860, 861, 862, 863, 864, 865, 866, 867, 868, 869, 870, 871, 872, 873, 874, 875, 876, 877, 878, 879, 880, 881, 882, 883, 884, 885, 886, 887, 888, 889, 890, 891, 892, 893, 894, 895, 896, 897, 898, 899, 900, 901, 902, 903, 904, 905, 906, 907, 908, 909, 910, 911, 912, 913, 914, 915, 916, 917, 918, 919, 920, 921, 922, 923, 924, 925, 926, 927, 928, 929, 930, 931, 932, 933, 934, 935, 936, 937, 938, 939, 940, 941, 942, 943, 944, 945, 946, 947, 948, 949, 950, 951, 952, 953, 954, 955, 956, 957, 958, 959, 960, 961, 962, 963, 964, 965, 966, 967, 968, 969, 970, 971, 972, 973, 974, 975, 976, 977, 978, 979, 980, 981, 982, 983, 984, 985, 986, 987, 988, 989, 990, 991, 992, 993, 994, 995, 996, 997, 998, 999, 1000, 1001, 1002, 1003, 1004, 1005, 1006, 1007, 1008, 1009, 1010, 1011, 1012, 1013, 1014, 1015, 1016, 1017, 1018, 1019, 1020, 1021, 1022, 1023, 1024, 1025, 1026, 1027, 1028, 1029, 1030, 1031, 1032, 1033, 1034, 1035, 1036, 1037, 1038, 1039, 1040, 1041, 1042, 1043, 1044, 1045, 1046, 1047, 1048, 1049, 1050, 1051, 1052, 1053, 1054, 1055, 1056, 1057, 1058, 1059, 1060, 1061, 1062, 1063, 1064, 1065, 1066, 1067, 1068, 1069, 1070, 1071, 1072, 1073, 1074, 1075, 1076, 1077, 1078, 1079, 1080, 1081, 1082, 1083, 1084, 1085, 1086, 1087, 1088, 1089, 1090, 1091, 1092, 1093, 1094, 1095, 1096, 1097, 1098, 1099, 1100, 1101, 1102, 1103, 1104, 1105, 1106, 1107, 1108, 1109, 1110, 1111, 1112, 1113, 1114, 1115, 1116, 1117, 1118, 1119, 1120, 1121, 1122, 1123, 1124, 1125, 1126, 1127, 1128, 1129, 1130, 1131, 1132, 1133, 1134, 1135, 1136, 1137, 1138, 1139, 1140, 1141, 1142, 1143, 1145, 1146, 1147, 1148, 1149, 1150, 1151, 1152, 1153, 1154, 1155, 1156, 1157, 1158, 1159, 1160, 1161, 1162, 1163, 1164, 1165, 1166, 1167, 1168, 1169, 1170, 1171, 1172, 1173, 1174, 1175, 1176, 1177, 1178, 1179, 1180, 1181, 1182, 1183, 1184, 1185, 1186, 1187, 1188, 1189, 1190, 1191, 1192, 1193, 1194, 1195, 1196, 1197, 1198, 1199, 1200, 1201, 1202, 1203, 1204, 1205, 1206, 1207, 1208, 1209, 1210, 1211, 1212, 1213, 1214, 1215, 1216, 1217, 1218, 1219, 1220, 1221, 1222, 1223, 1224, 1225, 1226, 1227, 1228, 1229, 1230, 1231, 1232, 1233, 1234, 1235, 1236, 1237, 1238, 1239, 1240, 1241, 1242, 1243, 1244, 1245, 1246, 1247, 1248, 1249, 1250, 1251, 1252, 1253, 1254, 1255, 1256, 1257, 1258, 1259, 1260, 1261, 1262, 1263, 1264, 1265, 1266, 1267, 1268, 1269, 1270, 1271, 1272, 1273, 1274, 1275, 1276, 1277, 1278, 1279, 1280, 1281, 1282, 1283, 1284, 1285, 1286, 1287, 1288, 1289, 1290, 1291, 1292, 1293, 1294, 1295, 1296, 1297, 1298, 1299, 1300, 1301, 1302, 1303, 1304, 1305, 1306, 1307, 1308, 1309, 1310, 1311, 1312, 1313, 1314, 1315, 1316, 1317, 1318, 1319, 1320, 1321, 1322, 1323, 1324, 1325, 1326, 1327, 1328, 1329, 1330, 1331, 1332, 1333, 1334, 1335, 1336, 1337, 1338, 1339, 1340, 1341, 1342, 1343, 1344, 1345, 1347, 1348, 1349, 1350, 1351, 1352, 1353, 1354, 1355, 1356, 1357, 1358, 1359, 1360, 1361, 1362, 1363, 1364, 1365, 1366, 1367, 1368, 1369, 1370, 1371, 1372, 1373, 1374, 1375, 1376, 1377, 1379, 1380, 1381, 1382, 1383, 1384, 1385, 1386, 1387, 1388, 1389, 1390, 1391, 1392, 1393, 1394, 1395, 1396, 1397, 1398, 1399, 1400, 1401, 1402, 1403, 1404, 1405, 1406, 1407, 1408, 1409, 1410, 1411, 1412, 1413, 1414, 1415, 1416, 1417, 1418, 1419, 1420, 1421, 1422, 1423, 1424, 1425, 1426, 1427, 1428, 1429, 1430, 1431, 1432, 1433, 1434, 1435, 1436, 1437, 1438, 1439, 1440, 1441, 1442, 1443, 1444, 1445, 1446, 1447, 1448, 1449, 1450, 1451, 1452, 1453, 1454, 1455, 1456, 1457, 1458, 1459, 1460, 1461, 1462, 1463, 1464, 1465, 1466, 1467, 1468, 1469, 1470, 1471, 1472, 1473, 1474, 1475, 1476, 1477, 1478, 1479, 1480, 1481, 1482, 1483, 1484, 1485, 1486, 1487, 1488, 1489, 1490, 1491, 1492, 1493, 1494, 1495, 1496, 1497, 1498, 1499, 1500, 1501, 1502, 1503, 1504, 1505, 1506, 1507, 1508, 1509, 1510, 1511, 1512, 1513, 1514, 1515, 1516, 1517, 1518, 1519, 1520, 1521, 1522, 1523, 1524, 1525, 1526, 1527, 1528, 1529, 1530, 1531, 1532, 1533, 1534, 1535, 1536, 1537, 1538, 1539, 1540, 1541, 1542, 1543, 1544, 1545, 1546, 1547, 1548, 1549, 1550, 1551, 1552, 1553, 1554, 1555, 1556, 1558, 1559, 1560, 1561, 1562, 1563, 1564, 1565, 1566, 1567, 1568, 1569, 1570, 1571, 1572, 1573, 1574, 1575, 1576, 1577, 1578, 1579, 1580, 1581, 1582, 1583, 1584, 1585, 1586, 1587, 1588, 1589, 1590, 1591, 1592, 1593, 1594, 1595, 1596, 1597, 1598, 1599, 1600, 1601, 1603, 1604, 1605, 1606, 1607, 1608, 1609, 1610, 1611, 1612, 1613, 1614, 1615, 1616, 1617, 1618, 1619, 1620, 1621, 1622, 1623, 1624, 1625, 1626, 1627, 1628, 1629, 1630, 1631, 1632, 1633, 1634, 1635, 1636, 1637, 1638, 1639, 1640, 1641, 1642, 1643, 1644, 1645, 1646, 1648, 1649, 1650, 1651, 1652, 1653, 1654, 1655, 1656, 1657, 1658, 1659, 1660, 1661, 1662, 1663, 1664, 1665, 1666, 1667, 1668, 1669, 1670, 1671, 1672, 1673, 1674, 1675, 1676, 1677, 1678, 1679, 1680, 1681, 1682, 1683, 1684, 1685, 1686, 1687, 1688, 1689, 1690, 1691, 1692, 1693, 1694, 1695, 1696, 1697, 1698, 1699, 1700, 1701, 1702, 1703, 1704, 1705, 1706, 1707, 1708, 1709, 1710, 1711, 1712, 1713, 1714, 1715, 1716, 1717, 1718, 1719, 1720, 1721, 1722, 1723, 1724, 1725, 1726, 1727, 1728, 1729, 1730, 1731, 1732, 1733, 1734, 1735, 1736, 1737, 1738, 1739, 1740, 1741, 1742, 1743, 1744, 1745, 1746, 1747, 1748, 1749, 1750, 1751, 1752, 1753, 1754, 1755, 1756, 1757, 1758, 1759, 1760, 1761, 1762, 1763, 1764, 1765, 1766, 1767, 1768, 1769, 1770, 1771, 1772, 1773, 1774, 1775, 1776, 1777, 1778, 1779, 1780, 1781, 1782, 1783, 1784, 1785, 1786, 1787, 1788, 1789, 1790, 1791, 1792, 1793, 1794, 1795, 1796, 1797, 1798, 1799, 1800, 1801, 1802, 1803, 1804, 1805, 1806, 1807, 1808, 1809, 1810, 1811, 1812, 1813, 1814, 1815, 1816, 1817, 1818, 1819, 1820, 1821, 1822, 1823, 1824, 1825, 1826, 1827, 1828, 1829, 1830, 1831, 1832, 1833, 1834, 1835, 1836, 1837, 1838, 1839, 1840, 1841, 1842, 1843, 1844, 1845, 1846, 1847, 1848, 1849, 1850, 1851, 1852, 1853, 1854, 1855, 1856, 1857, 1858, 1859, 1860, 1861, 1862, 1863, 1864, 1865, 1866, 1867, 1868, 1869, 1870, 1871, 1872, 1873, 1874, 1875, 1876, 1877, 1878, 1879, 1880, 1881, 1882, 1883, 1884, 1885, 1886, 1887, 1888, 1889, 1890, 1891, 1892, 1893, 1894, 1895, 1896, 1897, 1898, 1899, 1900, 1901, 1902, 1903, 1904, 1905, 1906, 1907, 1908, 1909, 1910, 1911, 1912, 1913, 1914, 1915, 1916, 1917, 1918, 1919, 1920, 1921, 1922, 1923, 1924, 1925, 1926, 1927, 1928, 1929, 1930, 1931, 1932, 1933, 1934, 1935, 1936, 1937, 1938, 1939, 1940, 1941, 1942, 1943, 1944, 1945, 1946, 1947, 1948, 1949, 1950, 1951, 1952, 1953, 1954, 1955, 1956, 1957, 1958, 1959, 1960, 1961, 1962, 1963, 1964, 1965, 1966, 1967, 1968, 1969, 1970, 1971, 1972, 1973, 1974, 1975, 1976, 1977, 1978, 1979, 1980, 1981, 1982, 1983, 1984, 1985, 1986, 1987, 1988, 1989, 1990, 1991, 1992, 1993, 1994, 1995, 1996, 1997, 1998, 1999, 2000, 2001, 2002, 2003, 2004, 2005, 2006, 2007, 2008, 2009, 2010, 2011, 2012, 2013, 2014, 2015, 2016, 2017, 2018, 2019, 2020, 2021, 2022, 2023, 2024, 2025, 2026, 2027, 2028, 2029, 2030, 2031, 2032, 2033, 2034, 2035, 2036, 2037, 2038, 2039, 2040, 2041, 2042, 2043, 2044, 2045, 2046, 2047, 2048, 2049, 2050, 2051, 2052, 2053, 2054, 2055, 2056, 2057, 2058, 2059, 2060, 2061, 2062, 2063, 2064, 2065, 2066, 2067, 2068, 2069, 2070, 2071, 2072, 2073, 2074, 2075, 2076, 2077, 2078, 2079, 2080, 2081, 2082, 2083, 2084, 2085, 2086, 2087, 2088, 2089, 2090, 2091, 2092, 2093, 2094, 2095, 2096, 2097, 2098, 2099, 2100, 2101, 2102, 2103, 2104, 2105, 2106, 2107, 2108, 2109, 2110, 2111, 2112, 2113, 2114, 2115, 2116, 2117, 2118, 2119, 2120, 2121, 2122, 2123, 2124, 2125, 2126, 2127, 2128, 2129, 2130, 2131, 2132, 2133, 2134, 2135, 2136, 2137, 2138, 2139, 2140, 2141, 2142, 2143, 2144, 2145, 2146, 2147, 2148, 2149, 2150, 2151, 2152, 2153, 2154, 2155, 2156, 2157, 2158, 2159, 2160, 2161, 2162, 2163, 2164, 2165, 2166, 2167, 2169, 2170, 2171, 2172, 2173, 2174, 2175, 2176, 2177, 2178, 2179, 2180, 2181, 2182, 2183, 2184, 2185, 2186, 2187, 2188, 2189, 2190, 2191, 2192, 2193, 2194, 2195, 2196, 2197, 2198, 2199, 2200, 2201, 2202, 2203, 2204, 2205, 2206, 2207, 2208, 2209, 2210, 2211, 2212, 2213, 2214, 2215, 2216, 2217, 2218, 2219, 2220, 2221, 2222, 2223, 2224, 2225, 2226, 2227, 2228, 2229, 2230, 2231, 2232, 2233, 2234, 2235, 2236, 2237, 2238, 2239, 2240, 2241, 2242, 2243, 2244, 2245, 2246, 2247, 2248, 2249, 2250, 2251, 2252, 2253, 2254, 2255, 2256, 2257, 2258, 2259, 2260, 2261, 2262, 2263, 2264, 2265, 2266, 2267, 2268, 2269, 2270, 2271, 2272, 2273, 2274, 2275, 2276, 2277, 2278, 2279, 2280, 2281, 2282, 2283, 2284, 2285, 2286, 2287, 2288, 2289, 2290, 2291, 2292, 2293, 2294, 2295, 2296, 2297, 2298, 2299, 2300, 2301, 2302, 2303, 2304, 2305, 2306, 2307, 2308, 2309, 2310, 2311, 2312, 2313, 2314, 2315, 2316, 2317, 2318, 2319, 2320, 2321, 2322, 2323, 2324, 2325, 2326, 2327, 2328, 2329, 2330, 2331, 2332, 2333, 2334, 2335, 2336, 2337, 2338, 2339, 2340, 2341, 2342, 2343, 2344, 2345, 2346, 2347, 2348, 2349, 2350, 2351, 2352, 2353, 2354, 2355, 2356, 2357, 2358, 2359, 2360, 2361, 2362, 2363, 2364, 2365, 2366, 2367, 2368, 2369, 2370, 2371, 2372, 2373, 2374, 2375, 2376, 2377, 2378, 2379, 2380, 2381, 2382, 2383, 2384, 2385, 2386, 2387, 2388, 2389, 2390, 2391, 2392, 2393, 2394, 2395, 2396, 2397, 2398, 2399, 2400, 2401, 2402, 2403, 2404, 2405, 2406, 2407, 2408, 2409, 2410, 2411, 2412, 2413, 2414, 2415, 2416, 2417, 2418, 2419, 2420, 2421, 2422, 2423, 2424, 2425, 2426, 2427, 2428, 2429, 2430, 2431, 2432, 2433, 2434, 2435, 2436, 2437, 2438, 2439, 2440, 2441, 2442, 2443, 2444, 2445, 2446, 2447, 2448, 2449, 2450, 2451, 2452, 2453, 2454, 2455, 2456, 2457, 2458, 2459, 2460, 2461, 2462, 2464, 2465, 2466, 2467, 2468, 2469, 2470, 2471, 2472, 2473, 2474, 2475, 2476, 2477, 2478, 2479, 2480, 2481, 2482, 2483, 2484, 2485, 2486, 2487, 2488, 2489, 2490, 2491, 2492, 2493, 2494, 2495, 2496, 2497, 2498, 2499, 2500, 2501, 2502, 2503, 2504, 2505, 2506, 2507, 2508, 2509, 2510, 2511, 2512, 2513, 2514, 2515, 2516, 2517, 2518, 2519, 2520, 2521, 2522, 2523, 2524, 2525, 2526, 2527, 2528, 2529, 2530, 2531, 2532, 2533, 2534, 2535, 2536, 2537, 2538, 2539, 2540, 2541, 2542, 2543, 2544, 2545, 2546, 2547, 2548, 2549, 2550, 2551, 2552, 2553, 2554, 2555, 2556, 2557, 2558, 2559, 2560, 2561, 2562, 2563, 2564, 2565, 2566, 2567, 2568, 2569, 2570, 2571, 2572, 2573, 2574, 2575, 2576, 2577, 2578, 2579, 2580, 2581, 2582, 2583, 2584, 2585, 2587, 2588, 2589, 2590, 2591, 2592, 2593, 2594, 2595, 2596, 2597, 2598, 2599, 2600, 2601, 2602, 2603, 2604, 2605, 2606, 2607, 2608, 2609, 2610, 2611, 2612, 2613, 2614, 2615, 2616, 2617, 2618, 2619, 2620, 2621, 2622, 2623, 2624, 2625, 2626, 2627, 2628, 2629, 2630, 2631, 2632, 2633, 2634, 2635, 2636, 2637, 2638, 2639, 2640, 2641, 2642, 2643, 2644, 2645, 2646, 2647, 2648, 2649, 2650, 2651, 2652, 2653, 2654, 2655, 2656, 2657, 2658, 2659, 2660, 2661, 2662, 2663, 2664, 2665, 2666, 2667, 2668, 2669, 2670, 2671, 2672, 2673, 2674, 2675, 2676, 2677, 2678, 2679, 2680, 2681, 2682, 2683, 2684, 2685, 2686, 2687, 2688, 2689, 2690, 2691, 2692, 2693, 2694, 2695, 2696, 2697, 2698, 2699, 2700, 2701, 2702, 2703, 2704, 2705, 2706, 2707, 2708, 2709, 2710, 2711, 2712, 2713, 2714, 2715, 2716, 2717, 2718, 2719, 2720, 2721, 2722, 2723, 2724, 2725, 2726, 2727, 2728, 2729, 2730, 2731, 2732, 2733, 2734, 2735, 2736, 2737, 2738, 2739, 2740, 2741, 2742, 2743, 2744, 2745, 2746, 2747, 2748, 2749, 2750, 2751, 2752, 2753, 2754, 2755, 2756, 2757, 2758, 2759, 2760, 2761, 2762, 2763, 2764, 2765, 2766, 2767, 2768, 2769, 2770, 2771, 2772, 2773, 2774, 2775, 2776, 2777, 2778, 2779, 2780, 2781, 2782, 2783, 2784, 2785, 2786, 2787, 2788, 2789, 2790, 2791, 2792, 2793, 2794, 2795, 2796, 2797, 2798, 2799, 2800, 2801, 2802, 2803, 2804, 2805, 2806, 2807, 2808, 2809, 2810, 2811, 2812, 2813, 2814, 2815, 2816, 2817, 2818, 2819, 2820, 2821, 2822, 2823, 2824, 2825, 2826, 2827, 2828, 2829, 2830, 2831, 2832, 2833, 2834, 2835, 2836, 2837, 2838, 2839, 2840, 2841, 2842, 2843, 2844, 2845, 2846, 2847, 2848, 2849, 2850, 2851, 2852, 2853, 2854, 2855, 2856, 2857, 2858, 2859, 2860, 2861, 2862, 2863, 2864, 2865, 2866, 2867, 2868, 2869, 2870, 2871, 2872, 2873, 2874, 2875, 2876, 2877, 2878, 2879, 2880, 2881, 2882, 2883, 2884, 2885, 2886, 2887, 2888, 2889, 2890, 2891, 2892, 2893, 2894, 2895, 2896, 2897, 2898, 2899, 2900, 2901, 2902, 2903, 2904, 2905, 2906, 2907, 2908, 2909, 2910, 2911, 2912, 2913, 2914, 2915, 2916, 2917, 2918, 2919, 2920, 2921, 2922, 2923, 2924, 2925, 2926, 2927, 2928, 2929, 2930, 2931, 2932, 2933, 2934, 2935, 2936, 2937, 2938, 2939, 2940, 2941, 2942, 2943, 2944, 2945, 2946, 2947, 2948, 2949, 2950, 2951, 2952, 2953, 2954, 2955, 2956, 2957, 2958, 2959, 2960, 2961, 2962, 2963, 2964, 2965, 2966, 2967, 2968, 2969, 2970, 2971, 2972, 2973, 2974, 2975, 2976, 2977, 2978, 2979, 2980, 2981, 2982, 2983, 2984, 2985, 2986, 2987, 2988, 2989, 2990, 2991, 2992, 2993, 2994, 2995, 2996, 2997, 2998, 2999, 3000, 3001, 3002, 3003, 3004, 3005, 3006, 3007, 3008, 3009, 3010, 3011, 3012, 3013, 3014, 3015, 3016, 3017, 3018, 3019, 3020, 3021, 3022, 3023, 3024, 3025, 3026, 3027, 3028, 3029, 3030, 3031, 3032, 3033, 3034, 3035, 3036, 3037, 3038, 3039, 3040, 3041, 3042, 3043, 3044, 3045, 3046, 3047, 3048, 3049, 3050, 3051, 3052, 3053, 3054, 3055, 3056, 3057, 3058, 3059, 3060, 3061, 3062, 3063, 3064, 3065, 3066, 3067, 3068, 3069, 3070, 3071, 3072, 3073, 3074, 3075, 3076, 3077, 3078, 3079, 3080, 3081, 3082, 3083, 3084, 3085, 3086, 3087, 3088, 3089, 3090, 3091, 3092, 3093, 3094, 3095, 3096, 3097, 3098, 3099, 3100, 3101, 3102, 3103, 3104, 3105, 3106, 3107, 3108, 3109, 3110, 3111, 3112, 3113, 3114, 3115, 3116, 3117, 3118, 3119, 3120, 3121, 3122, 3123, 3124, 3125, 3126, 3127, 3128, 3129, 3130, 3131, 3132, 3133, 3134, 3135, 3136, 3137, 3138, 3139, 3140, 3141, 3142, 3143, 3144, 3145, 3146, 3147, 3148, 3149, 3150, 3151, 3152, 3153, 3154, 3155, 3156, 3157, 3158, 3159, 3160, 3161, 3162, 3163, 3164, 3165, 3166, 3167, 3168, 3169, 3170, 3171, 3172, 3173, 3174, 3175, 3176, 3177, 3178, 3179, 3180, 3181, 3182, 3183, 3184, 3185, 3186, 3187, 3188, 3189, 3190, 3191, 3192, 3193, 3194, 3195, 3196, 3197, 3198, 3199, 3200, 3201, 3202, 3203, 3204, 3205, 3206, 3207, 3208, 3209, 3210, 3211, 3212, 3213, 3214, 3215, 3216, 3217, 3218, 3219, 3220, 3221, 3222, 3223, 3224, 3225, 3226, 3227, 3228, 3229, 3230, 3231, 3232, 3233, 3234, 3235, 3236, 3237, 3238, 3239, 3240, 3241, 3242, 3243, 3244, 3245, 3246, 3247, 3248, 3249, 3250, 3251, 3252, 3253, 3254, 3255, 3256, 3257, 3258, 3259, 3260, 3261, 3262, 3263, 3264, 3265, 3266, 3267, 3268, 3269, 3270, 3271, 3272, 3273, 3274, 3275, 3276, 3277, 3278, 3279, 3280, 3281, 3282, 3283, 3284, 3285, 3286, 3287, 3288, 3289, 3290, 3291, 3292, 3293, 3294, 3295, 3296, 3297, 3298, 3299, 3300, 3301, 3302, 3303, 3304, 3305, 3306, 3307, 3308, 3309, 3310, 3311, 3312, 3313, 3314, 3315, 3316, 3317, 3318, 3319, 3320, 3321, 3322, 3323, 3324, 3325, 3326, 3327, 3328, 3329, 3330, 3331, 3332, 3333, 3334, 3335, 3336, 3337, 3338, 3339, 3340, 3341, 3342, 3343, 3344, 3345, 3346, 3347, 3348, 3349, 3350, 3351, 3352, 3353, 3354, 3355, 3356, 3357, 3358, 3359, 3360, 3361, 3362, 3363, 3364, 3365, 3366, 3367, 3368, 3369, 3370, 3371, 3372, 3373, 3374, 3375, 3376, 3377, 3378, 3379, 3380, 3381, 3382, 3383, 3384, 3385, 3386, 3387, 3388, 3389, 3390, 3391, 3392, 3393, 3394, 3395, 3396, 3397, 3398, 3399, 3400, 3401, 3402, 3403, 3404, 3405, 3406, 3407, 3408, 3409, 3410, 3411, 3412, 3413, 3414, 3415, 3416, 3417, 3418, 3419, 3420, 3421, 3422, 3423, 3424, 3425, 3426, 3427, 3428, 3429, 3430, 3431, 3432, 3433, 3434, 3435, 3436, 3437, 3438, 3439, 3440, 3441, 3442, 3443, 3444, 3445, 3446, 3447, 3448, 3449, 3450, 3451, 3452, 3453, 3454, 3455, 3456, 3457, 3458, 3459, 3460, 3461, 3462, 3463, 3464, 3465, 3466, 3467, 3468, 3469, 3470, 3471, 3472, 3473, 3474, 3475, 3476, 3477, 3478, 3479, 3480, 3481, 3482, 3483, 3484, 3485, 3486, 3487, 3488, 3489, 3490, 3491, 3492, 3493, 3494, 3495, 3496, 3497, 3498, 3499, 3500, 3501, 3502, 3503, 3504, 3505, 3506, 3507, 3508, 3509, 3510, 3511, 3512, 3513, 3514, 3515, 3516, 3517, 3518, 3519, 3520, 3521, 3522, 3523, 3524, 3525, 3526, 3527, 3528, 3529, 3530, 3531, 3532, 3533, 3534, 3535, 3536, 3537, 3538, 3539, 3540, 3541, 3542, 3543, 3544, 3545, 3546, 3547, 3548, 3549, 3550, 3551, 3552, 3553, 3554, 3555, 3556, 3557, 3558, 3559, 3560, 3561, 3562, 3563, 3564, 3565, 3566, 3567, 3568, 3569, 3570, 3571, 3572, 3573, 3574, 3575, 3576, 3577, 3578, 3579, 3580, 3581, 3582, 3583, 3584, 3585, 3586, 3587, 3588, 3589, 3590, 3591, 3592, 3593, 3594, 3595, 3596, 3597, 3598, 3599, 3600, 3601, 3602, 3603, 3604, 3605, 3606, 3607, 3608, 3609, 3610, 3611]\n",
      "Shuffled Z Dataset:  [(-1, [7, 167, 79, 26, 116, 168, 24, 11, 142, 169, 5]), (1, [34, 3376, 3377, 5]), (1, [37, 3187, 3188, 3189, 25, 5]), (1, [1146, 17, 1676, 220, 217, 1700, 2406, 5]), (-1, [62, 1, 18, 1162, 146, 861, 5]), (1, [383, 204, 83, 826, 3449, 1423, 3450, 3451, 87, 18, 807, 20, 1505, 5]), (1, [34, 3479, 389, 3480, 57, 5]), (-1, [17, 18, 389, 344, 20, 1611, 1612, 1131, 26, 979, 648, 11, 271, 1613, 854, 310, 5]), (-1, [220, 18, 30, 20, 26, 1535, 1047, 310, 5]), (-1, [7, 1876, 1877, 1878, 34, 35, 5]), (-1, [17, 18, 236, 237, 238, 239, 20, 26, 240, 241, 5]), (-1, [371, 20, 18, 95, 17, 372, 5]), (-1, [1148, 402, 18, 1734, 336, 500, 1276, 360, 361, 362, 5]), (1, [424, 1739, 17, 477, 926, 20, 18, 2341, 5]), (-1, [17, 18, 568, 100, 87, 18, 1644, 93, 790, 63, 1645, 74, 840, 177, 1646, 5]), (-1, [7, 1473, 1474, 34, 35, 11, 18, 424, 5]), (-1, [7, 41, 504, 365, 20, 26, 891, 892, 11, 893, 5]), (1, [2754, 1739, 17, 18, 2755, 1596, 87, 2357, 1915, 5]), (1, [220, 18, 2181, 20, 2785, 5]), (1, [1739, 17, 2347, 2310, 11, 5]), (-1, [7, 618, 1247, 1248, 34, 35, 11, 26, 383, 20, 1249, 1250, 5]), (-1, [885, 1, 18, 1926, 2075]), (-1, [77, 274, 79, 18, 2094, 20, 271, 1307, 86, 5]), (-1, [62, 37, 213, 24, 5, 215, 5, 5]), (-1, [74, 902, 461, 271, 903, 11, 904, 905, 87, 482, 84, 406, 906, 85, 5]), (-1, [1, 18, 470, 20, 471, 472, 5, 473, 474, 475, 5]), (-1, [1, 18, 722, 20, 1093, 292, 5]), (-1, [77, 2073, 402, 271, 241, 1354, 172, 1030, 5]), (-1, [17, 18, 146, 222, 20, 18, 387, 5]), (1, [17, 18, 2639, 20, 2640, 5]), (1, [772, 17, 1244, 1245, 18, 3595, 807, 5]), (1, [17, 18, 389, 3569, 890, 11, 18, 42, 5, 3570, 5]), (-1, [84, 37, 18, 973, 1212, 1213, 1214, 199, 5]), (1, [1, 929, 955, 5]), (-1, [371, 20, 18, 42, 220, 1195, 74, 1957, 52, 383, 336, 57, 11, 18, 1958, 1959, 5]), (1, [2123, 34, 446, 2590, 2591, 11, 5]), (1, [1146, 1, 2079, 1573, 2080, 4, 11, 5]), (-1, [1, 18, 146, 957, 958, 686, 5]), (1, [383, 204, 83, 3238, 3239, 5]), (1, [1, 18, 2255, 2123, 11, 640, 11, 2974, 5]), (-1, [7, 41, 11, 640, 663, 5]), (-1, [7, 1922, 79, 1923, 1924, 172, 177, 502, 1925, 5]), (-1, [7, 1514, 34, 11, 26, 1515, 5]), (-1, [61, 62, 1, 63, 64, 65, 66, 18, 67, 68, 5]), (1, [17, 722, 723, 20, 2131, 2387, 2285, 5]), (-1, [17, 18, 2001, 638, 20, 18, 804, 689, 5, 804, 1395, 5, 74, 804, 268, 5]), (-1, [77, 1664, 1665, 17, 1666, 11, 91, 222, 11, 18, 42, 5]), (-1, [61, 1451, 79, 18, 1452, 20, 18, 1453, 1454, 11, 1455, 5, 1327, 5]), (1, [1146, 399, 18, 1795, 2469, 2470, 11, 18, 530, 310, 2471, 5]), (1, [95, 20, 976, 79, 18, 2189, 254, 1970, 1100, 5]), (-1, [84, 79, 26, 1610, 220, 1445, 199, 5]), (1, [383, 204, 83, 3263, 1139, 87, 18, 2537, 2209, 3264, 87, 18, 3265, 5]), (-1, [17, 18, 566, 567, 568, 66, 66, 569, 90, 570, 5]), (1, [947, 2488, 2693, 105, 2490, 2694, 2695, 74, 2696, 5]), (1, [1146, 17, 18, 217, 1146, 11, 2517, 640, 5]), (1, [2735, 2479, 17, 2246, 1459, 1582, 376, 5]), (-1, [17, 18, 242, 11, 1044, 5]), (1, [1739, 37, 18, 2206, 40, 11, 5]), (1, [11, 26, 702, 79, 3550, 1454, 5]), (-1, [62, 1, 18, 968, 87, 140, 2146, 5]), (-1, [17, 18, 922, 470, 5]), (1, [37, 18, 2218, 1981, 2919, 20, 2920, 2249, 2921, 86, 98, 5]), (-1, [7, 41, 37, 210, 211, 1213, 5]), (-1, [9, 18, 758, 759, 11, 61, 760, 761, 762, 763, 764, 5]), (-1, [1, 1540, 1494, 1541, 1542, 105, 1543, 5]), (1, [1146, 2798, 512, 3323, 5, 18, 42, 220, 2442, 880, 5]), (1, [1146, 1, 18, 968, 20, 2512, 2513, 2514, 2515, 5]), (-1, [7, 545, 546, 18, 310, 11, 547, 548, 220, 549, 73, 550, 18, 551, 5]), (-1, [17, 18, 304, 646, 20, 26, 647, 20, 18, 648, 418, 649, 177, 18, 650, 560, 5]), (-1, [17, 18, 1220, 20, 26, 424, 1605, 5]), (1, [37, 3496, 888, 26, 2985, 20, 3497, 41, 5]), (1, [17, 18, 1309, 3571, 3572, 66, 5]), (-1, [222, 1, 223, 224, 225, 11, 226, 5]), (-1, [77, 11, 297, 17, 26, 1885, 1886, 414, 5]), (-1, [77, 383, 26, 403, 336, 811, 87, 812, 26, 809, 177, 26, 813, 5]), (-1, [7, 1583, 1584, 9, 1585, 1233, 5]), (1, [2524, 399, 18, 389, 2909, 5]), (1, [1739, 220, 1827, 17, 2057, 2347, 1828, 5]), (1, [1739, 11, 1741, 17, 2947, 202, 11, 5]), (-1, [17, 18, 1015, 20, 1016, 5]), (-1, [17, 18, 784, 1127, 20, 26, 609, 20, 610, 11, 26, 612, 613, 5]), (1, [424, 772, 220, 2720, 2636, 17, 2860, 2861, 2862, 5]), (1, [1, 18, 146, 3129, 11, 18, 424, 5]), (1, [383, 204, 888, 26, 2295, 177, 2296, 105, 2297, 2298, 2299, 20, 492, 5]), (1, [1146, 17, 2585, 26, 2049, 20, 5]), (-1, [7, 244, 34, 35, 11, 1385, 1386, 5]), (1, [177, 18, 3354, 17, 3543, 3544, 66, 3545, 5, 1676, 5]), (-1, [84, 108, 1225, 674, 1226, 5]), (-1, [123, 62, 1, 133, 134, 135, 136, 20, 137, 5]), (1, [17, 18, 2539, 2540, 417, 2541, 5]), (-1, [77, 1031, 17, 11, 26, 1032, 1033, 1034, 20, 1035, 5]), (-1, [17, 18, 216, 20, 18, 217, 218, 5]), (1, [17, 18, 2927, 1596, 20, 18, 424, 2928, 629, 74, 2929, 5]), (1, [1146, 399, 455, 1459, 477, 926, 20, 18, 2827, 5]), (1, [1146, 37, 18, 3316, 575, 11, 202, 203, 1558, 220, 3317, 3318, 5]), (-1, [7, 297, 34, 35, 790, 1916, 1917, 5, 733, 74, 1918, 5, 1919, 5]), (-1, [1, 468, 469, 5]), (-1, [7, 917, 20, 839, 34, 35, 5]), (-1, [220, 18, 371, 20, 655, 332, 792, 94, 793, 1160, 794, 5, 477, 795, 5, 5]), (-1, [274, 20, 62, 399, 18, 389, 120, 121, 5]), (1, [220, 18, 448, 20, 18, 2480, 418, 17, 2307, 2481, 18, 2181, 1739, 20, 2482, 5]), (-1, [17, 18, 938, 20, 18, 939, 940, 5]), (-1, [17, 18, 470, 87, 1843, 220, 1844, 1845, 1846, 5]), (-1, [17, 18, 566, 242, 87, 1436, 171, 5, 137, 5, 1327, 5, 1437, 5, 1438, 5, 1439, 5, 531, 5, 1440, 5, 18, 1441, 5]), (1, [37, 722, 723, 195, 90, 1960, 5]), (-1, [7, 1595, 34, 35, 11, 18, 42, 5]), (-1, [1, 18, 512, 513, 514, 5]), (1, [9, 18, 3546, 2872, 1420, 1493, 5]), (-1, [7, 1641, 20, 18, 132, 220, 923, 1642, 656, 976, 5]), (1, [1739, 399, 26, 827, 1459, 477, 3378, 3379, 5]), (1, [220, 18, 42, 220, 945, 2718, 2719, 5]), (-1, [17, 18, 599, 600, 20, 601, 5]), (-1, [598, 20, 78, 37, 18, 1187, 1188, 1189, 1190, 66, 18, 1191, 5]), (-1, [7, 1504, 34, 35, 11, 1505, 5]), (-1, [7, 872, 1081, 20, 143, 34, 35, 415, 26, 178, 1082, 388, 502, 1083, 5]), (1, [37, 2973, 338, 162, 5]), (-1, [1, 18, 146, 1690, 1691, 1692, 1693, 5]), (-1, [37, 18, 1784, 199, 1620, 5]), (1, [17, 35, 826, 177, 18, 3505, 5, 233, 3506, 5, 5]), (1, [1146, 1, 3036, 3037, 18, 1710, 20, 5]), (1, [17, 18, 2377, 2378, 2379, 90, 2380, 5]), (-1, [7, 262, 37, 263, 264, 5]), (-1, [17, 18, 444, 20, 26, 445, 5]), (1, [17, 18, 217, 2635, 2636, 11, 1643, 5]), (-1, [77, 78, 383, 26, 403, 336, 811, 87, 812, 26, 809, 177, 26, 813, 5]), (-1, [1, 18, 19, 20, 1089, 220, 1090, 20, 576, 5]), (1, [17, 18, 448, 20, 18, 217, 1739, 11, 2156, 5, 170, 640, 5]), (1, [37, 18, 3246, 41, 40, 5]), (-1, [17, 18, 566, 567, 568, 66, 66, 569, 90, 570, 5]), (-1, [17, 18, 304, 1220, 20, 26, 1903, 5]), (-1, [37, 18, 199, 432, 1591, 287, 5]), (1, [1146, 399, 18, 2065, 3222, 239, 5]), (1, [2524, 220, 448, 2525, 177, 18, 2526, 1689, 2527, 20, 26, 2528, 876, 5]), (1, [171, 79, 18, 3084, 3085, 3086, 257, 5]), (-1, [7, 265, 5, 266, 267, 268, 5]), (1, [37, 3224, 86, 98, 5]), (-1, [22, 17, 724, 177, 123, 19, 5]), (1, [2230, 5, 2231, 1555, 2232, 17, 2233, 630, 20, 18, 2234, 2235, 5]), (-1, [84, 79, 85, 86, 18, 669, 140, 90, 832, 1012, 1013, 20, 853, 1014, 5]), (1, [2353, 2354, 399, 26, 448, 2355, 5, 2356, 20, 18, 2357, 5, 5]), (1, [17, 3051, 2807, 3052, 5]), (-1, [7, 914, 915, 34, 35, 5, 74, 123, 34, 407, 5]), (1, [2677, 17, 1040, 898, 3061, 1558, 5]), (1, [17, 18, 2720, 3012, 5]), (-1, [7, 176, 34, 35, 87, 2085, 41, 5]), (1, [399, 123, 448, 87, 26, 772, 2194, 5]), (1, [1739, 17, 2518, 2519, 2057, 87, 5]), (1, [383, 204, 888, 26, 2214, 20, 1313, 18, 1668, 11, 640, 418, 1884, 26, 214, 384, 101, 2529, 5]), (-1, [79, 18, 424, 726, 727, 42, 171, 11, 728, 5]), (1, [9, 18, 146, 142, 1504, 90, 172, 26, 242, 20, 872, 318, 26, 2685, 5]), (-1, [17, 18, 1015, 20, 1016, 5]), (-1, [7, 453, 1050, 318, 325, 216, 17, 18, 1051, 20, 1052, 5]), (-1, [397, 20, 1179, 105, 18, 1180, 399, 1181, 1182, 1183, 1184, 1185, 1186, 5]), (1, [2271, 37, 18, 2272, 701, 2273, 2274, 5]), (-1, [17, 1670, 1671, 220, 19, 20, 838, 5]), (-1, [1, 840, 220, 1208, 1209, 1210, 1211, 5]), (1, [1, 18, 146, 1221, 5]), (1, [383, 204, 888, 2384, 3263, 3308, 87, 763, 1139, 5]), (1, [17, 18, 217, 2621, 2622, 11, 18, 42, 5]), (-1, [37, 18, 1702, 1703, 1704, 1454, 5]), (-1, [7, 1975, 1976, 25, 26, 1977, 87, 1978, 1834, 1979, 5]), (1, [2490, 2902, 20, 1273, 17, 26, 2903, 2904, 93, 2905, 18, 2906, 2907, 66, 2908, 5]), (1, [3590, 2271, 220, 2543, 79, 3591, 3592, 824, 18, 3593, 1547, 2481, 5]), (1, [34, 18, 563, 217, 1848, 2910, 177, 18, 2434, 2524, 5]), (1, [1146, 17, 3576, 11, 2049, 1131, 18, 2757, 1556, 74, 3577, 74, 3578, 2625, 5]), (-1, [37, 293, 1097, 90, 462, 11, 531, 5]), (1, [2252, 1146, 3432, 3433, 3434, 11, 3435, 365, 3436, 449, 100, 872, 318, 175, 1925, 628, 5]), (-1, [7, 106, 79, 26, 2078, 172, 5]), (-1, [582, 18, 814, 1545, 1546, 336, 11, 18, 62, 815, 5]), (1, [2490, 2226, 2836, 94, 3018, 5]), (-1, [7, 48, 872, 318, 579, 17, 18, 304, 2046, 20, 18, 53, 147, 20, 879, 5]), (1, [220, 18, 2814, 1374, 90, 132, 5]), (1, [9, 18, 146, 142, 1504, 90, 172, 26, 242, 20, 872, 318, 26, 2685, 5]), (1, [383, 204, 86, 26, 1834, 418, 582, 2911, 2587, 123, 204, 402, 336, 500, 204, 3189, 25, 5]), (1, [1146, 2504, 3312, 5]), (1, [1146, 399, 18, 2065, 1428, 3537, 3538, 20, 1592, 5]), (-1, [1, 18, 2055, 193, 5]), (1, [383, 204, 888, 826, 177, 18, 2548, 418, 416, 63, 773, 177, 2549, 5]), (1, [1739, 79, 2344, 2310, 3207, 5]), (-1, [7, 453, 26, 222, 79, 18, 669, 403, 195, 90, 18, 1046, 5]), (1, [383, 204, 888, 3208, 3209, 2288, 923, 358, 826, 5, 3210, 2642, 298, 640, 74, 18, 2735, 5]), (1, [17, 18, 3232, 3233, 3234, 5]), (-1, [7, 45, 46, 47, 48, 17, 1995, 1996, 5]), (1, [17, 18, 3069, 1108, 648, 2373, 5]), (-1, [7, 453, 872, 318, 2084]), (-1, [7, 1530, 34, 35, 11, 26, 1531, 5]), (1, [17, 18, 2338, 1374, 2339, 66, 132, 5]), (1, [383, 204, 2564, 507, 26, 2565, 1806, 5]), (-1, [37, 18, 1317, 1318, 70, 5]), (1, [37, 18, 2367, 20, 2368, 2369, 2370, 5]), (1, [17, 18, 217, 74, 389, 2420, 3492, 3493, 1238, 11, 18, 424, 3494, 3495, 5]), (1, [17, 18, 389, 2567, 377, 177, 18, 2208, 5]), (-1, [79, 2089, 70, 5]), (-1, [123, 62, 37, 124, 717, 462, 5]), (-1, [62, 37, 18, 146, 1095, 20, 5, 1096, 5, 1097, 580, 5]), (-1, [711, 17, 18, 217, 1993, 5]), (1, [772, 79, 2446, 2447, 40, 11, 5]), (-1, [7, 453, 1, 1048, 5, 1768, 1769, 5, 26, 1770, 1771, 11, 502, 187, 1234, 1772, 1773, 5]), (1, [2123, 2556, 442, 17, 1484, 177, 18, 80, 20, 18, 2557, 2435, 5]), (1, [123, 772, 1, 18, 146, 2516, 1960, 1409]), (1, [1146, 2243, 18, 2065, 2201, 11, 170, 640, 5]), (1, [346, 1739, 2611, 2612, 477, 2407, 2613, 20, 640, 5]), (-1, [7, 1559, 34, 11, 18, 488, 633, 5]), (1, [1739, 220, 3581, 3053, 399, 455, 2316, 477, 3582, 3583, 5]), (1, [1739, 2165, 2222, 220, 2223, 5, 177, 18, 2224, 20, 18, 2225, 2226, 5]), (-1, [7, 111, 9, 112, 11, 18, 113, 114, 5]), (-1, [77, 17, 26, 1397, 1398, 1399, 247, 1400, 1401, 337, 5]), (-1, [7, 106, 79, 271, 1817, 172, 5]), (1, [17, 18, 2623, 20, 3005, 5, 185, 5]), (1, [220, 18, 3429, 3430, 5]), (1, [171, 172, 18, 1795, 2770, 571, 5]), (1, [17, 18, 2065, 2167, 11, 18, 191, 192, 5]), (-1, [7, 1275, 195, 1100, 117, 1276, 11, 26, 62, 5]), (-1, [7, 587, 588, 34, 589, 11, 590, 5]), (-1, [17, 26, 487, 389, 1390, 5]), (-1, [483, 1, 1383, 1384, 5]), (-1, [483, 17, 1637, 483, 87, 26, 1423, 90, 1333, 336, 1638, 5]), (1, [383, 204, 888, 18, 3250, 20, 3251, 1546, 3252, 5]), (1, [123, 1739, 17, 18, 424, 2676, 20, 2254, 2307, 5]), (1, [17, 18, 2792, 2551, 2389, 5]), (-1, [7, 453, 11, 502, 894, 895, 896, 897, 544, 1, 898, 899, 26, 647, 20, 18, 900, 648, 5]), (1, [220, 18, 945, 2226, 11, 1153, 5]), (-1, [37, 18, 1143, 20, 2147, 70, 5]), (1, [1146, 11, 1945, 461, 18, 389, 3150, 3151, 20, 242, 216, 5]), (-1, [885, 17, 18, 1766, 5]), (-1, [9, 860, 861, 11, 862, 5]), (-1, [17, 18, 866, 239, 790, 376, 74, 18, 424, 5]), (1, [383, 204, 888, 3270, 3271, 5, 5, 2968, 3272, 5, 5, 177, 3273, 3274, 5]), (-1, [7, 588, 79, 18, 1040, 43, 5]), (1, [108, 18, 2172, 20, 5, 477, 2173, 2174, 2175, 5, 86, 98, 5]), (1, [17, 18, 1217, 5, 2483, 1113, 5, 2278, 5]), (1, [79, 389, 20, 18, 3513, 3514, 18, 191, 192, 1097, 66, 5]), (1, [34, 18, 119, 1433, 2197, 1106, 11, 18, 424, 5]), (1, [3099, 2479, 17, 417, 90, 18, 146, 3100, 3101, 5]), (1, [814, 2719, 1, 3295, 3296, 18, 146, 90, 3297, 5, 177, 3298, 2957, 5, 3299, 5]), (1, [3278, 37, 3279, 3280, 1520, 502, 3281, 11, 5]), (-1, [7, 107, 227, 37, 18, 228, 229, 230, 5]), (1, [1739, 17, 18, 968, 87, 2437, 220, 1382, 2438, 2439, 5]), (-1, [37, 18, 510, 146, 511, 5]), (-1, [7, 41, 433, 1868, 5]), (1, [2226, 17, 2443, 2444, 177, 5]), (1, [220, 18, 3070, 1848, 11, 18, 42, 5]), (1, [61, 1249, 2479, 17, 223, 224, 5]), (-1, [7, 1237, 582, 18, 462, 1238, 11, 1239, 5, 193, 1131, 26, 1240, 1241, 1131, 1242, 1243, 20, 424, 5, 678, 5]), (1, [220, 18, 2944, 1146, 11, 18, 42, 5]), (-1, [7, 281, 1446, 26, 1447, 11, 18, 1448, 5]), (-1, [371, 20, 655, 790, 18, 791, 20, 792, 74, 793, 794, 5, 477, 795, 5, 5]), (1, [383, 204, 2286, 26, 2533, 1496, 18, 2534, 2535, 2536, 66, 2537, 2538, 5]), (1, [1739, 11, 879, 399, 18, 217, 344, 20, 3477, 3478, 1668, 5]), (1, [2651, 2181, 17, 2057, 87, 26, 424, 136, 5]), (1, [2524, 17, 2598, 177, 5]), (-1, [1589, 37, 1590, 1309, 1591, 5]), (1, [17, 18, 217, 1739, 11, 531, 5]), (1, [17, 1800, 2924, 2925, 2926, 5, 1462, 2640, 5, 329, 5]), (-1, [483, 1, 2079, 1573, 2080, 500, 1837, 2081, 2082, 2083, 5]), (-1, [621, 17, 1170, 220, 242, 5]), (-1, [7, 1536, 1537, 172, 35, 455, 5]), (1, [1146, 37, 616, 2333, 2334, 956, 46, 66, 2335, 90, 2336, 5]), (1, [17, 18, 321, 2285, 507, 61, 204, 383, 888, 18, 2374, 2285, 20, 26, 647, 20, 18, 424, 2041, 20, 2376, 5]), (1, [79, 2202, 2203, 195, 90, 308, 459, 1837, 2204, 2205, 1994, 11, 18, 5, 2206, 5, 1165, 2207, 5]), (-1, [220, 18, 1971, 248, 20, 1972, 314, 1973, 5]), (1, [17, 3108, 2307, 5]), (-1, [220, 146, 856, 1154, 177, 123, 19, 5]), (1, [1739, 399, 18, 42, 220, 945, 2418, 1366, 5]), (-1, [7, 33, 17, 559, 960, 1302, 11, 1836, 1753, 5]), (-1, [7, 107, 20, 1714, 1715, 1510, 1716, 26, 1717, 5]), (-1, [220, 18, 1606, 344, 20, 1697, 26, 1698, 1699, 499, 11, 26, 1644, 5]), (-1, [7, 959, 79, 559, 960, 172, 11, 26, 961, 310, 20, 962, 5]), (1, [17, 3293, 5]), (1, [2651, 1146, 1, 1025, 1131, 2811, 140, 2812, 11, 2813, 5]), (1, [772, 17, 18, 3310, 2877, 2307, 11, 5]), (1, [1739, 37, 2289, 2290, 2291, 90, 2292, 66, 18, 2293, 5]), (-1, [7, 409, 410, 34, 11, 271, 304, 411, 5]), (1, [1146, 2365, 18, 389, 3133, 5]), (1, [1739, 1, 898, 1321, 1323, 1794, 87, 136, 11, 5]), (1, [17, 18, 1795, 98, 90, 40, 11, 18, 42, 5, 3481, 3482, 5, 3483, 5]), (-1, [17, 691, 692, 220, 584, 5]), (1, [2490, 3281, 383, 413, 511, 1131, 1266, 3455, 5]), (-1, [77, 99, 85, 100, 90, 101, 26, 102, 103, 104, 5, 105, 106, 5, 5]), (1, [2434, 1739, 2165, 18, 42, 220, 2720, 29, 2721, 5]), (-1, [7, 1614, 26, 222, 37, 1615, 1616, 824, 413, 1617, 83, 1131, 177, 11, 590, 11, 1618, 5]), (-1, [1, 18, 146, 140, 394, 150, 5]), (1, [17, 2443, 2444, 5]), (1, [17, 2344, 2310, 5]), (1, [1961, 1739, 2504, 486, 433, 2505, 5]), (1, [1739, 79, 3223, 2310, 3207, 5]), (1, [17, 3035, 5]), (1, [11, 18, 3439, 17, 85, 2381, 3540, 297, 66, 18, 516, 90, 18, 2341, 5]), (1, [383, 204, 83, 826, 74, 935, 177, 171, 74, 1310, 5]), (1, [792, 171, 11, 170, 640, 34, 2777, 5]), (-1, [77, 79, 85, 100, 90, 172, 26, 702, 703, 1131, 1266, 5, 1267, 5, 1268, 5]), (-1, [79, 271, 304, 373, 374, 83, 375, 11, 63, 376, 5]), (1, [34, 1313, 2252, 74, 140, 2664, 4, 5]), (1, [1146, 1, 293, 18, 3043, 20, 5]), (1, [2490, 2226, 1, 3319, 50, 3320, 18, 146, 2252, 90, 1204, 5]), (-1, [7, 991, 34, 11, 26, 992, 5]), (-1, [7, 1975, 34, 11, 18, 2024, 2025, 5]), (1, [772, 177, 18, 2964, 20, 1508, 399, 486, 3049, 2201, 2419, 48, 3162, 2271, 3163, 5]), (1, [2587, 123, 1739, 18, 346, 2407, 2408, 17, 2481, 5]), (-1, [7, 56, 34, 57, 11, 18, 58, 59, 5]), (1, [2524, 2949, 25, 18, 2950, 2951, 1848, 2453, 5]), (-1, [37, 202, 203, 204, 205, 5]), (1, [108, 204, 888, 826, 87, 3000, 3001, 177, 18, 2208, 5]), (-1, [7, 52, 20, 157, 34, 35, 5]), (-1, [17, 18, 304, 100, 87, 563, 107, 20, 564, 565, 5]), (-1, [77, 1026, 1027, 402, 271, 1028, 1029, 83, 1030, 5]), (1, [792, 3072, 1504, 34, 3073, 105, 18, 1625, 1886, 5, 1185, 5, 1185, 5, 3074, 74, 3075, 5]), (-1, [17, 18, 1199, 239, 20, 1200, 1201, 5]), (-1, [1, 18, 1639, 1640, 1211, 5]), (-1, [7, 587, 171, 1700, 1035, 5]), (1, [37, 873, 2506, 2370, 5]), (-1, [17, 18, 784, 242, 20, 785, 786, 5, 787, 5]), (1, [17, 2460, 2461, 220, 2462, 1146, 5]), (-1, [412, 108, 413, 172, 90, 414, 415, 413, 416, 26, 417, 414, 5]), (1, [17, 2503, 5]), (1, [2864, 2181, 17, 193, 177, 2865, 2866, 1500, 5]), (-1, [34, 877, 2042, 105, 954, 5, 2043, 316, 337, 5]), (1, [2235, 399, 18, 2065, 2520, 2521, 5]), (-1, [34, 18, 1348, 418, 1349, 1100, 1350, 220, 199, 1351, 5]), (-1, [7, 45, 2060, 34, 2061, 1774, 11, 369, 29, 5]), (-1, [711, 17, 26, 712, 5]), (1, [346, 2407, 2408, 17, 3549, 90, 61, 140, 1739, 5]), (-1, [7, 1197, 34, 11, 1198, 5]), (-1, [1, 18, 1516, 20, 1517, 5]), (-1, [84, 79, 85, 86, 87, 320, 220, 321, 90, 322, 5]), (-1, [220, 18, 242, 20, 253, 5]), (-1, [84, 17, 18, 42, 220, 217, 228, 5, 11, 990, 5]), (-1, [598, 20, 1026, 1027, 402, 271, 1028, 1029, 86, 1030, 5]), (-1, [77, 632, 79, 18, 633, 634, 90, 308, 5]), (1, [346, 2407, 2408, 17, 2307, 2481, 123, 1739, 5]), (-1, [972, 220, 1489, 1490, 17, 18, 1491, 1492, 312, 1493, 177, 5]), (1, [2534, 20, 3260, 79, 18, 3261, 40, 11, 5]), (1, [1146, 3242, 3243, 3156, 20, 3244, 5]), (1, [1739, 17, 2658, 1131, 2659, 11, 477, 970, 2660, 5]), (1, [814, 2235, 17, 2316, 2807, 2808, 5]), (-1, [84, 99, 85, 86, 87, 26, 5, 1336, 1337, 90, 1338, 5]), (-1, [1705, 90, 462, 11, 531, 11, 123, 62, 5]), (1, [3022, 1227, 3023, 507, 3024, 895, 2408, 5]), (-1, [7, 2130, 79, 26, 755, 172, 5]), (-1, [7, 453, 79, 18, 1968, 1969, 74, 1970, 559, 222, 5]), (-1, [17, 18, 1421, 646, 90, 1422, 26, 1423, 66, 26, 1424, 90, 26, 1425, 5]), (-1, [37, 788, 1323, 5, 2132, 2133, 2134, 5, 74, 255, 2135, 1313, 162, 5]), (1, [2735, 2479, 17, 2851, 20, 2390, 5]), (-1, [7, 464, 34, 465, 90, 466, 26, 467, 5]), (1, [123, 890, 17, 3196, 2307, 3197, 5]), (1, [2479, 17, 417, 90, 3349, 1459, 3350, 5]), (-1, [123, 62, 37, 1652, 2142, 2143, 502, 2144, 501, 2145, 5]), (-1, [1598, 1599, 1510, 18, 728, 1600, 11, 18, 344, 87, 84, 1601, 826, 5]), (-1, [17, 18, 119, 120, 121, 122, 5]), (1, [271, 1143, 2589, 11, 63, 1645, 5]), (-1, [7, 353, 34, 11, 354, 5]), (-1, [34, 18, 142, 143, 128, 11, 18, 144, 145, 5]), (1, [1146, 399, 18, 217, 552, 242, 5]), (1, [772, 399, 18, 389, 2392, 5]), (1, [383, 271, 3080, 83, 26, 3081, 3082, 3083, 418, 2261, 18, 1292, 923, 20, 1307, 500, 163, 5]), (1, [867, 1739, 762, 18, 417, 20, 18, 640, 220, 2742, 5]), (-1, [7, 297, 17, 85, 66, 2076, 90, 1439, 5]), (1, [383, 204, 888, 26, 3176, 20, 26, 3177, 3178, 5]), (1, [2434, 1146, 2727, 2884, 90, 18, 1301, 20, 1932, 2885, 5]), (-1, [7, 45, 885, 17, 1581, 1582, 507, 838, 5]), (-1, [7, 140, 1793, 9, 1794, 87, 18, 1795, 1796, 1797, 87, 645, 5]), (1, [17, 18, 3165, 3166, 5]), (-1, [1, 1138, 1139, 686, 5]), (-1, [17, 18, 1442, 646, 26, 1443, 675, 1444, 383, 172, 271, 1445, 5]), (-1, [7, 765, 20, 2011, 79, 26, 2012, 172, 5]), (-1, [646, 17, 841, 842, 5]), (-1, [7, 41, 1804, 18, 1040, 559, 972, 5]), (1, [17, 337, 2679, 11, 2188, 5]), (-1, [7, 1625, 1934, 105, 18, 1348, 579, 90, 1935, 177, 26, 343, 1936, 5]), (1, [17, 18, 448, 20, 18, 1739, 418, 480, 481, 1111, 11, 5]), (1, [177, 18, 2208, 383, 204, 83, 826, 2363, 18, 2281, 2364, 177, 18, 140, 722, 20, 1093, 5]), (-1, [17, 18, 343, 344, 87, 18, 345, 20, 346, 5]), (-1, [77, 78, 79, 559, 960, 83, 507, 18, 1161, 20, 18, 310, 11, 36, 5]), (-1, [77, 1728, 17, 11, 88, 95, 5]), (-1, [37, 2152, 2153, 519, 11, 2154, 5]), (-1, [37, 44, 2121, 2122, 18, 381, 5]), (-1, [17, 18, 19, 20, 381, 22, 5]), (-1, [7, 1299, 79, 18, 1300, 1301, 5]), (1, [17, 2714, 220, 2873, 5]), (-1, [84, 108, 413, 172, 90, 2125, 80, 2126, 459, 2127, 397, 2128, 2129, 5]), (1, [34, 18, 2413, 303, 2249, 2414, 5]), (1, [383, 204, 888, 2874, 826, 2363, 2875, 5]), (1, [1146, 2165, 3515, 2444, 5, 3516, 2444, 5, 74, 3517, 2444, 5]), (1, [17, 18, 338, 3303, 2389, 5]), (1, [383, 204, 2220, 2363, 3131, 3132, 5]), (1, [17, 2820, 2883, 5]), (-1, [7, 1564, 34, 1565, 11, 1566, 1567, 1568, 220, 1569, 308, 477, 1570, 220, 1571, 11, 1572, 5]), (1, [772, 37, 198, 3095, 701, 417, 5]), (-1, [37, 1205, 1206, 202, 203, 1207, 99, 70, 5]), (-1, [17, 18, 304, 274, 85, 754, 87, 26, 755, 90, 756, 5]), (1, [1146, 2574, 2575, 5, 1567, 2576, 74, 2577, 1245, 2578, 5]), (1, [2434, 3342, 9, 18, 3343, 3344, 74, 3345, 3346, 3347, 2417, 25, 11, 5]), (1, [79, 18, 254, 3596, 3337, 1100, 5]), (-1, [7, 41, 40, 11, 18, 918, 5]), (1, [123, 1739, 79, 480, 481, 3495, 40, 5]), (-1, [84, 79, 85, 86, 18, 129, 90, 130, 131, 18, 132, 5]), (-1, [7, 990, 34, 11, 26, 636, 5]), (1, [17, 2558, 751, 2307, 5]), (-1, [17, 18, 1305, 63, 1306, 5]), (1, [383, 204, 2857, 2363, 2858, 2859, 5]), (1, [792, 2252, 171, 34, 3408, 1131, 18, 3409, 512, 3410, 2474, 5]), (-1, [17, 18, 1937, 1938, 1939, 1281, 90, 18, 1940, 1596, 11, 1941, 518, 5]), (-1, [7, 1774, 34, 465, 11, 1775, 5]), (-1, [1, 18, 344, 20, 41, 418, 210, 419, 211, 1, 420, 20, 421, 5]), (-1, [7, 1560, 34, 35, 177, 18, 132, 5]), (-1, [7, 41, 1291, 5]), (-1, [7, 1427, 20, 308, 79, 85, 86, 26, 1261, 90, 92, 26, 1967, 1224, 5]), (1, [17, 18, 2189, 5]), (-1, [7, 435, 20, 436, 437, 17, 26, 438, 439, 440, 441, 442, 90, 336, 443, 105, 5]), (-1, [62, 1, 1551, 643, 220, 146, 967, 740, 5]), (-1, [371, 20, 140, 1341, 34, 1345, 5]), (1, [37, 18, 2887, 40, 5]), (-1, [220, 18, 1606, 1607, 5, 11, 45, 5, 20, 26, 146, 1608, 220, 1609, 5]), (-1, [17, 18, 304, 325, 951, 20, 26, 755, 11, 484, 11, 1193, 5]), (1, [792, 171, 2522, 2523, 2315, 2056, 5]), (1, [424, 1739, 17, 1244, 1245, 477, 1462, 2601, 20, 18, 202, 5]), (-1, [1, 18, 782, 783, 514, 5]), (-1, [17, 18, 933, 490, 491, 5]), (1, [298, 140, 1739, 2165, 18, 2720, 3460, 242, 5]), (1, [2271, 17, 3539, 177, 5]), (1, [79, 694, 1097, 66, 5]), (-1, [1, 18, 146, 490, 491, 5]), (-1, [7, 140, 284, 1157, 286, 66, 18, 287, 288, 5]), (1, [792, 171, 34, 3136, 1131, 18, 3137, 3138, 5]), (1, [17, 18, 2255, 2123, 11, 1723, 5]), (1, [1739, 1, 614, 615, 616, 617, 955, 11, 5]), (-1, [885, 17, 153, 973, 5]), (1, [2252, 1146, 17, 417, 90, 18, 2267, 1739, 20, 2268, 5]), (1, [1146, 220, 2244, 1739, 17, 2607, 5]), (-1, [7, 1418, 37, 2158, 2159, 2160, 11, 18, 2161, 2162, 1420, 5]), (1, [34, 18, 1885, 3174, 140, 1504, 87, 3175, 5]), (1, [2490, 3421, 3422, 18, 3423, 3424, 5]), (1, [17, 26, 2746, 377, 418, 204, 383, 2747, 2748, 579, 5]), (-1, [34, 18, 1984, 1985, 1986, 11, 1987, 5]), (-1, [392, 108, 833, 414, 5]), (-1, [483, 17, 18, 963, 5]), (-1, [7, 366, 79, 271, 367, 172, 5]), (-1, [711, 17, 1676, 5]), (-1, [77, 20, 18, 1576, 1577, 17, 1519, 1131, 1578, 1579, 5]), (1, [34, 18, 2419, 3294, 171, 11, 18, 42, 5]), (-1, [7, 41, 40, 11, 947, 5]), (1, [17, 26, 2494, 20, 123, 1146, 5]), (1, [17, 2090, 2753, 220, 2374, 2285, 5]), (-1, [1, 18, 146, 490, 491, 5]), (1, [792, 850, 2169, 2170, 2171, 5]), (-1, [79, 559, 20, 18, 798, 100, 11, 36, 5]), (-1, [84, 108, 1269, 1270, 40, 5]), (-1, [17, 18, 304, 1127, 87, 26, 39, 5]), (-1, [84, 79, 85, 86, 18, 669, 670, 90, 671, 672, 673, 674, 5]), (1, [3369, 814, 1178, 17, 2057, 459, 26, 1166, 1233, 3396, 1131, 1468, 3397, 3398, 5]), (1, [17, 2582, 2583, 5]), (1, [17, 18, 217, 2421, 11, 216, 11, 508, 5]), (1, [17, 2368, 2680, 5]), (-1, [885, 17, 18, 886, 5]), (-1, [1, 18, 729, 239, 87, 730, 731, 11, 732, 5]), (-1, [1, 1874, 1875, 4, 5]), (-1, [17, 18, 426, 427, 20, 41, 693, 66, 694, 5]), (-1, [77, 99, 26, 333, 334, 335, 336, 337, 5, 338, 339, 177, 85, 5, 5]), (-1, [17, 18, 1610, 242, 20, 18, 42, 5]), (-1, [7, 171, 34, 35, 5]), (1, [792, 2252, 171, 2253, 18, 203, 20, 140, 2254, 1726, 18, 446, 5]), (1, [2993, 79, 18, 124, 2994, 1753, 848, 5]), (1, [772, 79, 973, 3109, 3110, 5]), (-1, [17, 18, 42, 1813, 87, 18, 945, 1814, 5]), (-1, [34, 18, 666, 20, 667, 668, 5]), (1, [2643, 2879, 3029, 2571, 298, 640, 220, 3030, 74, 3031, 2301, 5]), (1, [1146, 2365, 3155, 90, 18, 3156, 5]), (-1, [84, 37, 18, 1482, 1725, 386, 580, 87, 1726, 18, 1727, 20, 137, 5]), (-1, [711, 17, 18, 159, 160, 5]), (-1, [972, 9, 413, 4, 11, 415, 88, 1271, 17, 1272, 5]), (-1, [7, 1202, 79, 26, 1203, 172, 5]), (-1, [7, 41, 1, 210, 211, 420, 20, 1124, 5]), (-1, [77, 739, 17, 740, 500, 741, 74, 742, 743, 5]), (1, [1848, 2453, 3211, 18, 1649, 20, 137, 74, 1327, 5]), (1, [383, 204, 888, 18, 949, 20, 18, 3522, 2016, 5]), (1, [3358, 3359, 5, 5, 3360, 148, 5, 5, 123, 1, 18, 448, 20, 18, 669, 140, 1178, 5]), (-1, [17, 18, 520, 344, 20, 271, 521, 5]), (-1, [7, 858, 11, 26, 859, 5]), (-1, [77, 37, 18, 146, 1079, 1905, 1906, 87, 11, 1907, 5]), (1, [34, 18, 3185, 74, 3093, 469, 2418, 3186, 5]), (1, [17, 2835, 751, 5]), (1, [2677, 17, 2855, 2856, 5]), (-1, [7, 1076, 34, 1233, 1131, 18, 1234, 1235, 11, 26, 62, 5]), (-1, [37, 18, 499, 20, 5, 18, 2095, 5, 146, 1934, 11, 2096, 949, 5]), (-1, [7, 284, 9, 139, 11, 18, 199, 1711, 1090, 1131, 18, 191, 192, 20, 640, 5]), (-1, [79, 18, 398, 824, 18, 1773, 1669, 5]), (1, [17, 2491, 3338, 220, 2374, 2285, 5]), (-1, [7, 297, 17, 85, 90, 243, 66, 298, 299, 5]), (-1, [84, 9, 1006, 1007, 220, 1008, 5]), (-1, [220, 18, 146, 222, 20, 18, 387, 5]), (-1, [37, 1895, 1896, 162, 5]), (-1, [37, 822, 1804, 879, 5]), (-1, [2064, 17, 26, 206, 5]), (-1, [7, 5, 1367, 5, 1368, 1, 18, 16, 220, 1369, 1370, 5, 1371, 1372, 5]), (1, [17, 18, 772, 2194, 20, 253, 5]), (-1, [7, 41, 177, 18, 178, 9, 112, 66, 18, 179, 20, 180, 181, 182, 183, 46, 184, 5, 185, 5, 186, 187, 5, 188, 5]), (1, [171, 172, 18, 389, 1845, 3226, 5]), (1, [383, 204, 888, 26, 621, 2214, 20, 1395, 90, 1396, 173, 2014, 5]), (-1, [7, 450, 20, 1118, 79, 26, 1264, 1265, 172, 5]), (1, [2353, 2354, 399, 26, 448, 2355, 5, 2356, 20, 18, 2357, 5, 5]), (-1, [79, 26, 609, 20, 610, 611, 11, 26, 612, 613, 5]), (1, [17, 18, 3311, 448, 87, 18, 144, 2850, 20, 170, 640, 5]), (1, [1, 18, 2065, 1848, 177, 801, 406, 196, 2083, 1, 2311, 5]), (-1, [323, 20, 26, 324, 220, 325, 17, 326, 327, 5]), (-1, [7, 41, 37, 210, 419, 211, 1213, 5]), (-1, [37, 18, 38, 39, 40, 5]), (-1, [123, 62, 1, 18, 147, 193, 5]), (-1, [37, 196, 197, 198, 199, 172, 26, 1234, 201, 5]), (-1, [7, 978, 34, 11, 26, 979, 980, 5]), (1, [814, 2719, 1, 3295, 3296, 18, 146, 90, 3297, 5, 177, 3298, 2957, 5, 3299, 5]), (1, [792, 1504, 3444, 3445, 18, 3446, 20, 2629, 3447, 3448, 5]), (-1, [1, 879, 220, 146, 1703, 1834, 5]), (-1, [7, 9, 11, 2106, 507, 18, 2107, 2108, 5]), (1, [34, 18, 563, 217, 1848, 2910, 11, 18, 2059, 191, 192, 5]), (1, [220, 18, 2449, 1258, 5]), (-1, [17, 18, 577, 418, 507, 578, 579, 580, 20, 581, 41, 582, 172, 18, 583, 584, 5]), (1, [383, 204, 888, 2967, 177, 3330, 3331, 5]), (-1, [7, 1106, 108, 413, 1107, 66, 11, 18, 1108, 310, 5, 1109, 18, 202, 5, 5]), (-1, [7, 340, 34, 35, 11, 26, 341, 342, 310, 5]), (-1, [1, 18, 355, 20, 356, 5]), (1, [17, 5, 3286, 3287, 5, 5]), (-1, [1, 1988, 220, 146, 1989, 1990, 193, 5]), (-1, [7, 771, 34, 35, 11, 18, 772, 20, 63, 773, 5]), (-1, [1, 124, 220, 687, 688, 459, 689, 107, 11, 462, 5]), (-1, [123, 62, 1, 1217, 1218, 1219, 4, 5]), (-1, [77, 300, 301, 271, 302, 20, 303, 5]), (1, [2672, 2673, 1, 146, 861, 11, 18, 2674, 2675, 20, 18, 1980, 220, 5]), (-1, [123, 62, 37, 293, 717, 462, 20, 531, 5]), (1, [1146, 399, 18, 389, 274, 1092, 5, 105, 2128, 5]), (-1, [62, 1, 18, 146, 1518, 1519, 5]), (1, [2315, 1596, 399, 455, 2316, 477, 2317, 1582, 517, 11, 18, 202, 5]), (-1, [7, 41, 504, 177, 505, 5]), (1, [424, 772, 2365, 2366, 90, 18, 630, 5]), (-1, [7, 714, 34, 177, 715, 716, 5]), (1, [17, 18, 217, 2745, 11, 18, 42, 5]), (-1, [220, 18, 1489, 972, 20, 18, 1805, 1806, 5]), (1, [2421, 17, 2422, 11, 5]), (-1, [123, 222, 9, 898, 1321, 74, 1322, 1323, 1038, 5]), (1, [2848, 2243, 2952, 254, 74, 2953, 1853, 5]), (1, [17, 2475, 2476, 220, 2441, 5]), (1, [383, 204, 888, 826, 177, 18, 2391, 2392, 74, 2393, 2394, 11, 2395, 351, 5]), (-1, [7, 41, 504, 500, 18, 1900, 1901, 11, 1902, 5]), (1, [37, 2080, 3535, 3536, 1960, 5]), (-1, [84, 227, 1, 18, 1888, 1889, 1890, 1891, 1131, 18, 1892, 1893, 5]), (1, [34, 18, 42, 220, 563, 447, 5]), (1, [34, 18, 804, 2419, 3225, 171, 11, 18, 42, 5]), (-1, [84, 1, 605, 220, 606, 607, 608, 5]), (1, [1146, 37, 18, 2468, 254, 2370, 11, 5]), (-1, [1, 18, 146, 2086, 1824, 2087, 1233, 5]), (1, [840, 2845, 2700, 26, 3160, 20, 3161, 5]), (-1, [7, 1018, 11, 1516, 1720, 66, 18, 1721, 1722, 20, 288, 105, 1723, 5]), (-1, [7, 819, 34, 35, 177, 26, 820, 821, 310, 530, 5]), (-1, [37, 774, 83, 502, 146, 775, 87, 18, 776, 383, 5]), (-1, [7, 128, 79, 85, 86, 18, 129, 90, 130, 131, 18, 132, 5]), (-1, [7, 417, 541, 37, 542, 543, 172, 14, 502, 544, 5]), (1, [108, 41, 1848, 2360, 11, 2361, 5]), (1, [2164, 424, 772, 2165, 18, 389, 2166, 5]), (-1, [482, 7, 284, 504, 11, 202, 203, 1558, 5]), (1, [17, 18, 2943, 2226, 20, 484, 5]), (1, [17, 18, 2867, 2006, 2307, 5]), (-1, [123, 62, 1, 18, 1020, 18, 1021, 1022, 740, 5]), (1, [2796, 37, 3392, 3393, 3394, 5]), (-1, [7, 1464, 977, 18, 1465, 1466, 18, 1467, 487, 11, 1468, 907, 220, 1469, 73, 477, 1470, 5]), (1, [772, 1, 2778, 1639, 4, 11, 5]), (-1, [7, 850, 37, 868, 822, 869, 11, 870, 5]), (1, [17, 18, 42, 220, 389, 1149, 1150, 2307, 5]), (-1, [123, 62, 1, 18, 146, 775, 87, 18, 776, 919, 177, 920, 921, 5]), (1, [1146, 2496, 1313, 18, 595, 2497, 594, 11, 2498, 5]), (1, [34, 18, 217, 2670, 11, 18, 424, 5]), (1, [34, 18, 119, 3206, 11, 18, 42, 5]), (1, [2524, 220, 3070, 2323, 17, 3084, 3085, 5]), (1, [1, 18, 146, 1146, 90, 3141, 26, 859, 487, 11, 423, 5]), (1, [383, 204, 888, 2967, 177, 2968, 1130, 1580, 177, 2969, 2970, 2971, 5]), (-1, [17, 304, 1220, 20, 1221, 1222, 11, 191, 192, 5]), (1, [123, 2049, 20, 18, 42, 17, 1120, 5]), (-1, [2064, 17, 26, 206, 5]), (1, [792, 171, 2472, 18, 2473, 2474, 5]), (1, [220, 18, 3033, 2796, 66, 18, 963, 5]), (-1, [7, 41, 40, 11, 1504, 5]), (-1, [34, 18, 836, 20, 837, 838, 90, 839, 5]), (1, [2056, 1642, 790, 18, 2300, 74, 1170, 2301, 5]), (1, [1739, 17, 2093, 1131, 2344, 2310, 5]), (1, [424, 772, 399, 18, 3049, 2065, 3050, 507, 1396, 48, 5]), (1, [1146, 220, 151, 1990, 17, 3096, 5]), (-1, [700, 344, 383, 204, 701, 90, 172, 26, 702, 703, 5]), (1, [3527, 1146, 17, 3528, 630, 20, 3529, 3530, 5]), (1, [17, 18, 217, 2845, 11, 18, 42, 5]), (1, [17, 18, 321, 2285, 20, 18, 2214, 20, 2374, 2375, 20, 1228, 20, 18, 2041, 20, 2376, 5]), (-1, [7, 744, 34, 35, 177, 26, 1290, 648, 5]), (1, [383, 204, 888, 26, 5, 2281, 2282, 5, 2283, 5]), (-1, [7, 655, 656, 657, 34, 658, 20, 659, 660, 20, 661, 662, 559, 62, 5]), (1, [37, 18, 2972, 2392, 40, 5]), (1, [17, 18, 2285, 87, 18, 1751, 2932, 903, 11, 2933, 5, 1437, 5]), (1, [17, 2324, 5, 2325, 2373, 11, 18, 424, 5]), (-1, [37, 1433, 70, 1434, 5]), (-1, [37, 18, 749, 1923, 1924, 1657, 195, 1994, 18, 120, 5]), (-1, [17, 18, 1127, 20, 26, 609, 20, 610, 11, 26, 612, 613, 5]), (-1, [7, 1952, 79, 271, 1974, 172, 5]), (1, [79, 18, 2209, 3127, 3128, 86, 98, 5]), (1, [17, 3146, 5, 3147, 5]), (1, [34, 18, 1598, 2625, 5]), (1, [170, 140, 1146, 1055, 486, 146, 202, 2742, 309, 2730, 11, 3589, 5]), (1, [17, 18, 1795, 2661, 87, 2662, 11, 18, 1146, 5]), (1, [3413, 18, 3414, 2726, 1, 3415, 90, 3416, 66, 2933, 90, 1009, 5]), (1, [220, 18, 389, 3442, 1146, 11, 18, 42, 5]), (1, [2275, 108, 18, 2276, 2277, 546, 175, 417, 777, 11, 5]), (-1, [371, 20, 432, 433, 175, 434, 5]), (-1, [17, 18, 42, 242, 1245, 20, 2013, 5]), (1, [17, 85, 3461, 90, 3462, 18, 3463, 228, 5, 3464, 3465, 5, 61, 3466, 1070, 3467, 34, 3468, 1100, 26, 3469, 2845, 5]), (1, [1146, 2922, 199, 11, 271, 3523, 2214, 5]), (-1, [554, 220, 18, 968, 87, 695, 220, 477, 1586, 20, 1587, 1588, 5]), (-1, [84, 79, 85, 86, 87, 88, 89, 90, 24, 91, 92, 93, 94, 18, 95, 5]), (-1, [7, 447, 34, 35, 74, 448, 449, 5]), (1, [1739, 675, 772, 108, 18, 389, 2383, 1341, 40, 11, 5]), (1, [1146, 582, 416, 18, 62, 579, 146, 5]), (-1, [7, 1253, 79, 26, 1254, 1255, 1107, 5]), (-1, [62, 9, 18, 758, 759, 764, 11, 1009, 760, 761, 762, 763, 5]), (1, [17, 18, 2221, 5]), (1, [34, 35, 3542, 5]), (-1, [84, 459, 306, 79, 85, 86, 90, 888, 580, 415, 413, 34, 916, 5]), (-1, [17, 18, 242, 20, 1508, 5]), (1, [3551, 3552, 18, 3099, 2947, 74, 18, 516, 1556, 5]), (1, [2226, 2836, 94, 1517, 5, 2837, 74, 2838, 5]), (1, [1146, 1, 3039, 3040, 3041, 3042, 87, 5]), (-1, [17, 18, 993, 1318, 87, 488, 2029, 5]), (-1, [37, 124, 125, 126, 127, 5]), (1, [1146, 3452, 18, 3009, 20, 18, 2434, 3453, 5]), (-1, [7, 599, 1435, 34, 35, 5]), (-1, [17, 18, 242, 20, 1723, 5]), (1, [17, 1635, 220, 2499, 177, 18, 2024, 2500, 5]), (-1, [37, 18, 151, 152, 20, 153, 154, 74, 155, 86, 98, 5]), (-1, [108, 1788, 611, 1789, 11, 5]), (1, [1739, 2165, 18, 3240, 3241, 5]), (-1, [7, 41, 34, 1498, 318, 1499, 48, 5]), (-1, [17, 18, 242, 20, 1847, 5, 1741, 5]), (-1, [7, 453, 399, 2037, 2038, 2039, 26, 2040, 87, 18, 54, 2041, 5]), (1, [1, 18, 2677, 20, 643, 2678, 5]), (-1, [7, 1983, 20, 571, 572, 18, 345, 20, 508, 5]), (1, [383, 204, 888, 26, 2214, 20, 5, 2215, 5, 2216, 2217, 74, 2218, 2219, 402, 2220, 5]), (-1, [17, 18, 304, 646, 26, 1110, 1111, 5]), (1, [1146, 220, 2181, 1, 1311, 500, 3266, 74, 3267, 3268, 5]), (-1, [7, 41, 172, 455, 112, 11, 1776, 5, 1777, 1778, 5]), (1, [2396, 383, 413, 1204, 66, 18, 2397, 50, 2398, 1646, 5]), (1, [17, 2390, 5]), (1, [17, 18, 448, 20, 18, 3342, 790, 3383, 74, 3384, 5]), (1, [383, 204, 888, 26, 2295, 177, 432, 105, 2297, 2299, 20, 3164, 5]), (1, [424, 772, 17, 3555, 3556, 895, 2408, 11, 5]), (-1, [170, 881, 5, 482, 7, 140, 1347, 34, 35, 5]), (-1, [79, 271, 304, 373, 374, 83, 375, 11, 63, 376, 5]), (1, [37, 2761, 2370, 5]), (-1, [7, 1701, 34, 35, 5]), (-1, [483, 17, 1140, 1141, 5]), (-1, [17, 18, 216, 20, 1151, 5]), (1, [1146, 2393, 318, 531, 2804, 2805, 11, 1687, 2806, 5]), (-1, [885, 1, 18, 1926, 616, 1927, 5]), (-1, [17, 18, 242, 20, 1663, 5]), (-1, [62, 17, 1478, 177, 18, 1479, 1480, 20, 1481, 66, 18, 1482, 1483, 1484, 177, 26, 383, 20, 1485, 220, 690, 1486, 5]), (-1, [7, 41, 504, 11, 18, 287, 288, 5]), (-1, [77, 20, 18, 890, 220, 655, 790, 18, 791, 20, 792, 74, 793, 794, 5, 477, 795, 5, 5]), (1, [2722, 17, 1244, 1245, 477, 2880, 2881, 5]), (-1, [344, 17, 507, 1361, 1362, 753, 177, 26, 1363, 5]), (1, [191, 192, 1739, 2779, 18, 389, 2686, 5]), (1, [3202, 3203, 17, 3204, 297, 84, 5]), (1, [108, 413, 888, 826, 2363, 18, 3487, 895, 3488, 3489]), (1, [1146, 1, 146, 90, 499, 18, 2592, 1245, 26, 2593, 20, 288, 5, 1726, 18, 2594, 11, 2595, 5]), (1, [235, 1739, 2467, 486, 448, 66, 18, 2015, 87, 5, 436, 5, 5]), (1, [1, 18, 146, 1178, 90, 336, 2665, 11, 2666, 5]), (-1, [1, 18, 146, 1079, 1080, 5]), (-1, [84, 1, 18, 1695, 1696, 1214, 5]), (-1, [7, 1456, 1, 18, 1457, 1458, 1459, 26, 1460, 1461, 1462, 1463, 5]), (-1, [37, 1798, 1799, 5, 26, 1800, 1801, 20, 796, 90, 1802, 5, 162, 5]), (-1, [7, 996, 997, 34, 35, 177, 26, 998, 220, 999, 5]), (1, [2434, 1146, 399, 26, 2435, 20, 1061, 87, 2436, 5]), (-1, [37, 942, 943, 264, 5, 5, 944, 63, 202, 5, 5]), (1, [383, 204, 888, 989, 2852, 20, 5, 2853, 2854, 5, 5]), (1, [220, 18, 2255, 2123, 11, 63, 1645, 517, 5]), (1, [424, 772, 17, 2199, 2200, 11, 5]), (1, [123, 1739, 17, 18, 2490, 197, 2491, 220, 2492, 5]), (-1, [7, 1500, 79, 1956, 172, 5]), (1, [1739, 2349, 2350, 87, 486, 2351, 2352, 5]), (1, [37, 2650, 1733, 5]), (1, [17, 18, 217, 903, 3090, 11, 18, 42, 5]), (-1, [7, 1017, 1018, 79, 85, 86, 90, 644, 1019, 5]), (-1, [37, 973, 2157, 162, 5]), (1, [171, 172, 18, 2065, 1503, 20, 3541, 571, 5]), (-1, [17, 614, 615, 616, 617, 220, 618, 584, 5]), (-1, [7, 1623, 1624, 383, 336, 1233, 66, 18, 563, 1625, 5, 1626, 5]), (1, [79, 1112, 2646, 220, 2647, 86, 98, 5]), (-1, [77, 1617, 413, 1997, 26, 1998, 1999, 87, 11, 2000, 5]), (1, [1146, 1, 3071, 2650, 18, 1710, 20, 5]), (-1, [7, 41, 162, 20, 694, 2070, 5]), (-1, [34, 18, 1330, 20, 1331, 415, 18, 1332, 79, 1333, 1334, 18, 1335, 5]), (-1, [1, 194, 220, 522, 523, 524, 5]), (-1, [77, 79, 26, 163, 164, 165, 166, 100, 5]), (1, [34, 18, 42, 220, 142, 217, 447, 5, 11, 1682, 20, 216, 5]), (-1, [84, 79, 85, 86, 857, 90, 511, 132, 5]), (1, [2353, 1739, 2165, 18, 2388, 2389, 5]), (-1, [482, 77, 79, 26, 609, 20, 610, 611, 11, 26, 612, 613, 5]), (-1, [7, 493, 9, 35, 11, 18, 494, 495, 5]), (-1, [37, 18, 5, 704, 705, 5, 125, 18, 706, 707, 5]), (-1, [34, 552, 553, 5]), (-1, [7, 48, 34, 35, 11, 26, 206, 5]), (1, [1146, 37, 18, 2688, 2272, 2689, 90, 1245, 2690, 5]), (-1, [7, 1353, 79, 26, 1354, 770, 1301, 5]), (1, [383, 204, 888, 18, 2210, 87, 18, 2209, 5, 2737, 2738, 2739, 5, 66, 18, 2740, 5, 2741, 5, 5]), (-1, [371, 20, 18, 1576, 1577, 17, 1580, 1131, 1578, 1579, 5]), (-1, [17, 18, 566, 934, 239, 11, 18, 424, 5]), (-1, [1, 18, 522, 1575, 11, 194, 193, 5]), (-1, [5, 1267, 5, 1268, 90, 172, 26, 702, 703, 582, 100, 482, 77, 5]), (1, [2542, 2543, 20, 18, 42, 17, 18, 2544, 2545, 809, 2462, 90, 5]), (1, [17, 1553, 1554, 220, 2374, 2285, 5]), (-1, [7, 1039, 172, 455, 1040, 5]), (-1, [7, 5, 1593, 5, 79, 26, 1594, 172, 5]), (-1, [412, 383, 26, 488, 1307, 1204, 5]), (-1, [7, 515, 34, 11, 516, 517, 5, 518, 5]), (1, [17, 18, 1146, 20, 3009, 87, 18, 448, 338, 5]), (-1, [17, 18, 252, 20, 18, 253, 254, 5]), (-1, [17, 18, 344, 20, 140, 284, 1356, 90, 170, 881, 5]), (1, [1410, 26, 309, 2318, 2319, 90, 336, 2320, 90, 2321, 18, 370, 5]), (-1, [79, 18, 304, 305, 146, 172, 306, 5]), (-1, [17, 18, 770, 242, 20, 18, 42, 5]), (1, [1, 2714, 4, 5]), (1, [37, 2749, 2750, 146, 767, 1316, 2751, 148, 11, 2752, 5]), (-1, [7, 587, 1091, 1092, 34, 35, 5]), (-1, [711, 17, 1387, 1388, 11, 1389, 5]), (-1, [7, 52, 20, 18, 53, 54, 55, 34, 35, 5]), (1, [17, 18, 2065, 2201, 11, 1723, 5]), (1, [1617, 204, 195, 90, 86, 26, 803, 177, 26, 3230, 3231, 5]), (-1, [1503, 20, 655, 20, 791, 790, 792, 74, 793, 794, 5, 477, 795, 5, 5]), (1, [383, 204, 2286, 1552, 177, 2287, 1429, 5]), (-1, [7, 48, 84, 17, 26, 1047, 1048, 220, 1049, 5]), (-1, [397, 20, 18, 398, 399, 18, 389, 400, 5]), (-1, [7, 1155, 34, 177, 26, 1156, 5]), (1, [1146, 37, 18, 2190, 977, 87, 268, 5, 188, 2191, 2192, 2193, 2193, 2193, 5]), (1, [1146, 17, 18, 42, 220, 217, 2345, 20, 2346, 5]), (1, [17, 3459, 5]), (1, [220, 18, 2876, 2694, 2877, 5]), (-1, [1, 18, 194, 147, 524, 5]), (1, [17, 18, 3411, 3412, 5]), (1, [1146, 2165, 18, 389, 2671, 5]), (-1, [7, 269, 106, 34, 35, 177, 26, 1164, 273, 5]), (-1, [483, 17, 18, 1277, 5]), (1, [792, 171, 17, 3385, 3386, 790, 5]), (1, [424, 772, 34, 18, 3173, 2348, 11, 5]), (1, [2288, 79, 2584, 1649, 5]), (-1, [7, 48, 1135, 17, 18, 1819, 11, 1820, 20, 26, 1821, 220, 1822, 976, 1823, 5]), (-1, [7, 765, 20, 766, 368, 79, 26, 767, 20, 768, 769, 172, 5]), (-1, [7, 1855, 37, 18, 1856, 1857, 796, 1858, 177, 486, 859, 562, 5]), (1, [9, 18, 146, 3427, 3428, 1131, 1411, 5]), (1, [1146, 17, 2307, 507, 709, 314, 298, 231, 74, 689, 314, 2357, 232, 5]), (-1, [7, 244, 34, 35, 11, 26, 245, 246, 5]), (1, [1146, 37, 293, 1733, 5]), (1, [383, 204, 888, 2428, 2429, 87, 2430, 2431, 2432, 2433, 5]), (1, [123, 2226, 17, 2933, 193, 5]), (-1, [62, 37, 293, 162, 5]), (1, [34, 18, 804, 1395, 2255, 3389, 11, 18, 42, 5]), (1, [17, 18, 2900, 1739, 11, 18, 424, 5]), (1, [220, 18, 448, 20, 18, 3181, 3182, 11, 1179, 105, 18, 1180, 5]), (-1, [17, 18, 358, 2013, 5]), (-1, [7, 1908, 1909, 34, 35, 11, 1910, 853, 1911, 559, 62, 5]), (1, [17, 3561, 3562, 2051, 66, 5]), (-1, [1, 1741, 1742, 1100, 18, 495, 5]), (-1, [37, 69, 70, 71, 5]), (1, [1, 3212, 3213, 686, 5]), (-1, [79, 1163, 269, 5]), (-1, [1, 219, 220, 221, 5]), (1, [2796, 3567, 3568, 90, 2674, 5]), (-1, [412, 1432, 17, 18, 129, 5]), (1, [772, 2779, 18, 1795, 452, 90, 832, 5]), (1, [170, 140, 1739, 2700, 18, 2701, 2702, 2703, 74, 2704, 5]), (1, [2252, 1146, 220, 3606, 1, 3607, 11, 3608, 5]), (-1, [17, 18, 938, 20, 18, 939, 940, 5]), (1, [792, 850, 17, 2091, 3602, 790, 5]), (-1, [7, 41, 40, 11, 2156, 5]), (1, [3016, 3327, 1534, 220, 3328, 74, 2868, 3329, 5]), (1, [34, 18, 792, 1504, 11, 1899, 220, 5, 1912, 2767, 20, 2768, 2769, 5, 5]), (-1, [37, 72, 73, 74, 75, 76, 5]), (1, [17, 3262, 345, 5]), (1, [17, 2284, 220, 2285, 5]), (1, [34, 1313, 18, 2301, 11, 590, 5]), (1, [424, 1739, 220, 3105, 2165, 18, 3106, 3107, 5]), (-1, [1, 18, 1171, 1172, 1173, 1174, 5]), (-1, [84, 1, 18, 945, 1803, 818, 5]), (-1, [7, 1950, 1951, 18, 132, 5]), (1, [772, 1, 2057, 18, 2878, 2879, 772, 5]), (-1, [17, 18, 252, 20, 18, 253, 254, 5]), (1, [1146, 2165, 18, 2914, 2201, 11, 2059, 590, 5]), (-1, [77, 78, 37, 18, 1189, 1190, 66, 175, 1146, 5]), (1, [34, 2186, 2187, 11, 2188, 5]), (-1, [17, 18, 19, 20, 21, 22, 5]), (1, [1146, 220, 2181, 17, 2182, 5]), (-1, [156, 71, 11, 123, 62, 5]), (1, [11, 18, 191, 192, 108, 41, 40, 18, 945, 5]), (-1, [7, 1859, 24, 25, 26, 1860, 5]), (1, [1739, 399, 18, 2183, 2184, 1245, 26, 2185, 105, 904, 905, 5]), (1, [17, 18, 448, 20, 18, 2065, 1848, 11, 1915, 5]), (-1, [7, 169, 9, 35, 177, 18, 749, 750, 751, 752, 753, 5]), (1, [1146, 1, 1706, 3404, 3405, 11, 500, 1837, 1, 3406, 1131, 788, 3407, 5]), (1, [34, 18, 217, 3292, 11, 18, 42, 5]), (-1, [1, 2114, 1898, 2115, 177, 1289, 74, 2116, 5]), (-1, [7, 347, 37, 348, 349, 172, 5]), (-1, [582, 18, 846, 847, 70, 5]), (1, [17, 2818, 5]), (1, [17, 18, 2181, 20, 3472, 5]), (1, [3114, 2434, 1146, 399, 18, 3115, 254, 3116, 18, 3117, 254, 507, 3118, 5]), (1, [17, 18, 2065, 2524, 5]), (1, [1739, 17, 2481, 18, 2886, 20, 18, 1958, 5]), (1, [17, 18, 2819, 20, 18, 2820, 5]), (-1, [17, 18, 598, 20, 78, 1991, 87, 1992, 812, 26, 809, 177, 26, 813, 5]), (-1, [7, 1931, 34, 35, 11, 26, 1932, 1933, 5]), (-1, [77, 17, 1128, 1129, 1130, 375, 1131, 1132, 220, 90, 824, 5, 725, 220, 18, 1133, 5, 5]), (-1, [7, 1929, 24, 25, 18, 1930, 5]), (1, [424, 772, 3524, 18, 512, 3525, 2177, 5]), (1, [37, 18, 3382, 2370, 5]), (1, [17, 18, 1880, 5, 1972, 5, 20, 18, 2271, 3163, 5]), (-1, [1135, 1410, 26, 1848, 336, 90, 336, 1459, 26, 1848, 5]), (-1, [37, 822, 162, 5]), (-1, [1, 18, 344, 20, 1101, 74, 1102, 90, 1103, 11, 18, 424, 1104, 1105, 5]), (-1, [7, 41, 37, 210, 211, 212, 5]), (-1, [457, 458, 124, 459, 460, 461, 455, 11, 462, 87, 26, 463, 5]), (1, [170, 2308, 1739, 17, 2093, 1131, 2309, 1828, 2310, 5]), (1, [177, 18, 2208, 383, 204, 888, 26, 2209, 2210, 781, 2211, 90, 18, 1828, 2212, 2213, 5]), (-1, [84, 79, 85, 86, 87, 88, 95, 90, 1404, 89, 459, 413, 1405, 88, 89, 5]), (1, [17, 18, 2285, 20, 18, 3396, 3565, 1374, 5, 3566, 5, 5]), (-1, [274, 20, 62, 17, 120, 121, 18, 1627, 5]), (-1, [37, 948, 146, 70, 90, 264, 949, 950, 5]), (1, [17, 2131, 220, 3341, 2441, 2307, 5]), (1, [108, 2340, 40, 5]), (-1, [62, 37, 18, 203, 20, 1597, 70, 5]), (1, [2705, 1739, 108, 2706, 701, 477, 2707, 20, 2708, 5]), (-1, [1, 18, 1835, 686, 5]), (-1, [7, 405, 79, 497, 498, 499, 500, 501, 502, 503, 5]), (1, [1, 3351, 4, 5]), (-1, [37, 327, 125, 2088, 5]), (1, [17, 91, 220, 2987, 2988, 57, 5]), (-1, [62, 37, 1084, 1085, 146, 195, 177, 1086, 5]), (1, [123, 3125, 17, 18, 749, 3126, 2694, 2877, 2307, 5]), (-1, [711, 17, 26, 236, 216, 1332, 87, 26, 1748, 5]), (-1, [874, 344, 875, 18, 612, 876, 20, 26, 877, 20, 255, 878, 220, 5]), (1, [17, 18, 217, 1739, 11, 3307, 5]), (-1, [62, 37, 973, 1899, 162, 5]), (1, [1146, 17, 18, 968, 87, 1468, 2713, 2714, 220, 477, 2715, 74, 18, 2716, 5]), (1, [1146, 3006, 581, 457, 20, 18, 42, 220, 3007, 3008, 5]), (-1, [17, 18, 1134, 384, 1135, 20, 1136, 1137, 5, 74, 1009, 383, 204, 888, 715, 826, 5]), (-1, [7, 2136, 2137, 462, 18, 2138, 18, 2139, 2140, 2141, 1100, 949, 5]), (1, [2677, 9, 18, 2793, 41, 1160, 504, 11, 18, 330, 2794, 20, 2795, 5]), (1, [2651, 1146, 17, 2652, 66, 2653, 5]), (-1, [901, 5, 902, 431, 1010, 461, 271, 903, 11, 1011, 87, 482, 7, 107, 5]), (-1, [7, 363, 24, 25, 18, 364, 87, 5, 365, 5, 5]), (-1, [7, 1830, 9, 1831, 5]), (-1, [77, 108, 1471, 90, 1729, 694, 100, 5]), (1, [2673, 1407, 1221, 383, 336, 57, 507, 3215, 2954, 3216, 148, 5, 63, 1645, 517, 5]), (1, [37, 3554, 2370, 5]), (-1, [7, 23, 34, 35, 177, 26, 1252, 530, 5]), (-1, [1, 18, 19, 20, 69, 220, 146, 856, 5]), (1, [1146, 399, 18, 2930, 20, 2931, 5]), (1, [17, 2324, 5, 2325, 2326, 11, 18, 424, 5]), (1, [63, 2975, 2976, 2977, 2978, 90, 1955, 146, 11, 424, 2979, 2980, 5]), (-1, [397, 20, 18, 398, 399, 18, 389, 400, 5]), (-1, [7, 1962, 20, 1963, 9, 1964, 11, 18, 381, 1372, 1428, 222, 5]), (-1, [1, 18, 1308, 1309, 20, 1310, 1311, 5]), (1, [1146, 17, 1244, 1245, 5, 245, 2626, 5, 5]), (-1, [7, 602, 79, 26, 603, 604, 172, 5]), (1, [2226, 541, 94, 1961, 5, 1663, 5, 74, 3134, 5]), (1, [772, 220, 417, 90, 18, 2633, 722, 2634, 2613, 5]), (1, [17, 18, 2181, 20, 1437, 5]), (1, [1146, 1, 2915, 2916, 271, 2917, 2918, 20, 5]), (1, [63, 1645, 517, 2673, 399, 3067, 2237, 90, 486, 3068, 5]), (1, [814, 3016, 220, 217, 2479, 17, 3325, 351, 5]), (1, [79, 18, 2948, 1374, 2460, 2461, 1097, 66, 5]), (1, [383, 204, 888, 580, 18, 804, 268, 2342, 5]), (1, [171, 3475, 18, 389, 66, 3476, 5]), (1, [2271, 2798, 18, 2799, 2177, 5]), (1, [1739, 399, 18, 792, 3508, 3509, 11, 18, 424, 5]), (1, [17, 18, 2624, 752, 5]), (-1, [482, 7, 432, 34, 285, 286, 87, 66, 18, 287, 288, 5]), (-1, [17, 18, 274, 85, 754, 26, 1261, 90, 1223, 26, 1224, 418, 17, 1262, 1263, 84, 5]), (-1, [7, 20, 449, 34, 11, 1914, 1915, 5]), (1, [220, 18, 217, 424, 1739, 177, 18, 53, 2348, 5]), (1, [890, 3531, 1120, 5]), (1, [772, 11, 18, 424, 399, 18, 389, 2092, 5]), (1, [1, 3387, 4, 5]), (1, [1146, 79, 2855, 2856, 1097, 66, 5]), (-1, [412, 17, 1512, 66, 1513, 5]), (-1, [62, 1, 18, 1147, 1025, 5]), (-1, [37, 18, 96, 97, 86, 98, 5]), (-1, [1, 1423, 1621, 1622, 5]), (-1, [1832, 274, 108, 1833, 40, 11, 5]), (1, [2678, 17, 20, 123, 2677, 5]), (-1, [84, 227, 37, 18, 2047, 2048, 2049, 66, 18, 1507, 5]), (1, [424, 772, 79, 18, 3179, 3180, 1591, 90, 2160, 1153, 5]), (1, [170, 140, 2181, 17, 18, 42, 220, 2065, 5]), (-1, [7, 1631, 34, 11, 26, 636, 5]), (1, [840, 2488, 2654, 90, 336, 18, 42, 1596, 87, 1341, 220, 3526, 5]), (-1, [7, 107, 108, 109, 86, 90, 110, 5]), (1, [1739, 2243, 18, 3053, 20, 3054, 220, 3055, 5]), (1, [18, 1146, 61, 2650, 1547, 11, 5]), (-1, [7, 138, 37, 531, 83, 90, 1520, 459, 202, 203, 204, 5]), (1, [37, 3093, 469, 1755, 502, 3094, 5]), (1, [2494, 17, 2495, 2307, 11, 5]), (-1, [7, 41, 162, 66, 694, 559, 62, 5]), (1, [1146, 17, 18, 3009, 20, 18, 3010, 18, 3011, 5]), (1, [2479, 1309, 2243, 773, 5, 2709, 5, 2710, 74, 2711, 5]), (1, [383, 204, 888, 2210, 87, 3135, 5]), (1, [79, 18, 1382, 1324, 2855, 2856, 1097, 66, 5]), (-1, [1000, 34, 633, 410, 1897, 5]), (1, [2288, 37, 18, 229, 230, 11, 5]), (-1, [7, 1414, 34, 35, 177, 26, 1415, 1416, 729, 5]), (-1, [274, 20, 62, 108, 389, 41, 1265, 5]), (-1, [37, 407, 1312, 18, 398, 5]), (-1, [77, 582, 1545, 336, 1861, 11, 814, 1131, 18, 62, 815, 5]), (1, [1739, 17, 2093, 1131, 3149, 2310, 5]), (-1, [84, 99, 85, 86, 90, 83, 66, 132, 90, 1694, 5]), (-1, [7, 664, 34, 35, 177, 18, 494, 495, 220, 665, 5]), (1, [2608, 79, 2609, 5, 2091, 5, 2610, 5]), (-1, [84, 79, 1449, 1450, 11, 88, 1366, 5]), (1, [220, 18, 448, 20, 26, 2260, 11, 3034, 5]), (1, [1146, 17, 18, 217, 1993, 3309, 5]), (1, [17, 2450, 2451, 5]), (-1, [62, 37, 531, 532, 486, 533, 534, 105, 18, 494, 495, 5]), (1, [3152, 95, 399, 26, 1389, 20, 3153, 5, 3154, 297, 5]), (1, [17, 18, 448, 20, 18, 2796, 418, 18, 2797, 40, 177, 5]), (-1, [1, 691, 692, 4, 5]), (1, [2252, 1739, 108, 2266, 40, 11, 5]), (-1, [7, 714, 108, 413, 172, 177, 88, 781, 5]), (1, [383, 204, 888, 826, 2363, 2762, 2763, 5, 2764, 66, 2765, 5]), (-1, [17, 18, 231, 74, 232, 20, 233, 234, 5, 235, 5]), (-1, [304, 5, 482, 84, 274, 79, 85, 86, 90, 1223, 26, 1224, 5]), (-1, [7, 435, 79, 26, 877, 20, 1098, 1099, 1100, 5]), (-1, [7, 450, 20, 451, 79, 26, 452, 172, 5]), (1, [34, 18, 142, 389, 3089, 171, 11, 18, 42, 5]), (-1, [7, 107, 37, 1402, 1403, 810, 5]), (1, [2479, 1309, 17, 3218, 26, 2049, 20, 5]), (-1, [392, 17, 26, 834, 835, 5]), (-1, [7, 107, 227, 37, 964, 965, 966, 486, 199, 967, 5]), (1, [1739, 17, 18, 346, 2407, 2408, 2481, 5]), (1, [108, 413, 888, 18, 1368, 87, 1313, 1436, 714, 5]), (1, [1146, 399, 3390, 105, 3391, 5]), (-1, [17, 18, 100, 20, 18, 1471, 465, 11, 694, 1472, 5]), (-1, [84, 37, 901, 74, 902, 1115, 431, 11, 904, 905, 5]), (-1, [17, 18, 637, 638, 20, 639, 5, 170, 640, 5]), (-1, [7, 744, 504, 14, 18, 745, 288, 5]), (1, [220, 18, 945, 2226, 11, 18, 42, 5]), (1, [2288, 17, 18, 217, 11, 18, 42, 5]), (-1, [7, 297, 20, 2062, 34, 11, 477, 2063, 5]), (-1, [457, 20, 42, 220, 1152, 976, 17, 57, 11, 1153, 5]), (1, [17, 18, 2181, 20, 814, 5]), (1, [17, 2452, 20, 18, 1828, 1893, 20, 2563, 5]), (1, [383, 204, 2220, 2363, 928, 929, 5]), (-1, [7, 1076, 37, 1077, 1078, 24, 5]), (1, [17, 18, 2539, 2540, 417, 2541, 5]), (-1, [17, 18, 325, 951, 20, 271, 521, 5]), (-1, [7, 107, 24, 25, 26, 1406, 5]), (1, [1739, 17, 1000, 1459, 477, 2600, 2601, 20, 18, 202, 5]), (-1, [122, 1003, 105, 18, 1004, 1005, 5]), (1, [220, 18, 417, 20, 18, 2627, 5]), (1, [424, 772, 17, 2618, 2619, 11, 5]), (1, [79, 18, 424, 83, 389, 20, 486, 739, 5]), (-1, [37, 213, 214, 5, 215, 5, 5]), (-1, [37, 573, 574, 575, 576, 5]), (-1, [7, 432, 172, 1352, 5]), (-1, [483, 17, 994, 995, 5]), (1, [171, 172, 18, 217, 1777, 2657, 11, 18, 42, 5]), (-1, [37, 196, 197, 198, 199, 172, 26, 200, 201, 5]), (-1, [1, 69, 220, 146, 856, 5]), (1, [34, 18, 2409, 564, 2455, 2456, 11, 2457, 2458, 5]), (-1, [7, 1158, 1047, 777, 37, 542, 543, 546, 5]), (1, [123, 728, 20, 18, 42, 1, 18, 2337, 22, 203, 209, 5]), (-1, [769, 5, 215, 5, 1, 1233, 11, 123, 62, 5]), (-1, [483, 1, 2090, 2091, 500, 1837, 504, 5]), (1, [383, 204, 888, 826, 2363, 2546, 18, 2547, 5]), (1, [383, 204, 83, 26, 2940, 20, 2941, 2570, 2942, 5]), (1, [1407, 1739, 20, 3119, 9, 3120, 3121, 3122, 5, 3123, 5, 74, 3124, 1313, 3042, 11, 5]), (1, [16, 1739, 675, 772, 108, 18, 389, 2383, 1341, 40, 11, 5]), (1, [772, 2181, 2922, 199, 2923, 5]), (-1, [37, 733, 70, 734, 18, 735, 736, 74, 737, 46, 90, 18, 738, 5]), (1, [17, 18, 448, 20, 18, 1146, 61, 293, 2783, 5]), (1, [424, 772, 399, 271, 2279, 2057, 87, 85, 5]), (1, [1739, 17, 5, 3157, 3158, 2307, 11, 5]), (-1, [972, 37, 18, 1573, 1574, 230, 5]), (1, [2796, 99, 413, 1804, 90, 1204, 2816, 5, 1847, 5, 74, 2817, 5]), (-1, [1, 1706, 1707, 1708, 1709, 1245, 18, 1710, 20, 1711, 74, 1712, 46, 90, 424, 1713, 5]), (1, [37, 18, 448, 878, 2370, 5]), (1, [1146, 99, 413, 1804, 90, 3097, 11, 18, 3098, 5]), (-1, [77, 2002, 17, 18, 163, 2003, 2004, 2005, 686, 1131, 18, 947, 2006, 20, 2007, 2008, 105, 18, 2005, 1233, 66, 2009, 5]), (1, [26, 745, 288, 2901, 5]), (1, [3585, 1739, 17, 417, 90, 18, 3586, 95, 20, 513, 3587, 5]), (1, [2490, 840, 2725, 2726, 1, 2727, 26, 2728, 2729, 5]), (-1, [122, 79, 26, 1810, 1811, 1812, 86, 98, 11, 5]), (-1, [7, 363, 24, 25, 18, 364, 87, 5, 365, 5, 5]), (1, [1146, 3257, 18, 194, 3258, 11, 3259, 5]), (1, [220, 18, 2459, 2226, 20, 1044, 5]), (1, [2682, 772, 2683, 2236, 5, 2684, 721, 297, 5]), (1, [721, 17, 18, 2927, 1596, 20, 840, 5]), (1, [172, 18, 389, 2846, 2847, 455, 57, 5]), (1, [2226, 541, 94, 3038, 5]), (1, [424, 772, 2165, 3380, 3381, 2408, 5]), (-1, [1, 2131, 1409, 5]), (1, [170, 140, 1739, 399, 18, 42, 220, 2065, 1691, 2250, 2251, 5]), (-1, [7, 8, 9, 10, 11, 12, 13, 14, 15, 5]), (-1, [9, 799, 146, 800, 90, 336, 57, 177, 801, 5]), (-1, [7, 1552, 399, 1553, 1554, 455, 11, 5]), (1, [1, 18, 2381, 1146, 11, 18, 2868, 2869, 90, 257, 18, 2870, 2871, 20, 18, 2161, 2872, 1420, 5]), (-1, [17, 381, 22, 5]), (1, [792, 171, 209, 18, 3091, 3092, 5, 203, 5]), (1, [17, 18, 2409, 2410, 74, 2411, 2412, 772, 5]), (1, [1739, 11, 1153, 17, 18, 2638, 5]), (-1, [655, 790, 18, 791, 20, 792, 74, 793, 5, 123, 371, 794, 5, 477, 795, 5, 5]), (1, [2636, 17, 2663, 177, 5]), (-1, [77, 78, 79, 18, 1487, 20, 1488, 172, 5]), (-1, [17, 18, 599, 600, 20, 1194, 5]), (-1, [412, 580, 17, 18, 1277, 5]), (-1, [1, 18, 199, 1234, 201, 20, 196, 197, 1619, 5]), (1, [1146, 399, 18, 389, 2632, 5]), (-1, [1135, 17, 18, 1739, 20, 1740, 5]), (1, [17, 18, 945, 2226, 11, 18, 191, 192, 5]), (-1, [19, 37, 39, 146, 1273, 177, 18, 129, 5]), (-1, [7, 571, 572, 18, 345, 20, 508, 5]), (-1, [77, 1, 18, 490, 491, 11, 492, 5]), (-1, [7, 417, 541, 37, 1874, 1875, 416, 11, 502, 2119, 5]), (-1, [17, 18, 1392, 1127, 20, 26, 1393, 1394, 755, 418, 17, 1395, 5, 1396, 5]), (1, [17, 18, 859, 2065, 1848, 2323, 11, 18, 42, 5]), (1, [17, 18, 2245, 2235, 5]), (1, [17, 18, 1795, 1429, 777, 377, 5]), (-1, [84, 79, 277, 619, 1496, 502, 674, 1497, 5]), (1, [37, 2330, 2331, 83, 502, 2332, 1285, 5]), (1, [1146, 220, 2181, 17, 2645, 5]), (1, [17, 3579, 220, 3580, 5]), (-1, [412, 17, 840, 251, 66, 814, 5]), (1, [123, 1146, 17, 26, 3557, 3558, 26, 3559, 3560, 5]), (-1, [7, 1118, 79, 26, 1119, 172, 5]), (1, [2624, 752, 17, 11, 123, 1739, 5]), (1, [1146, 17, 417, 90, 3609, 3610, 5]), (1, [34, 18, 176, 20, 18, 2186, 2187, 11, 2188, 5]), (1, [1, 5, 204, 172, 2898, 5, 74, 204, 383, 2899, 83, 25, 5, 2379, 146, 5]), (-1, [7, 1013, 20, 2066, 2067, 17, 2068, 90, 24, 91, 396, 20, 2069, 5]), (-1, [885, 17, 18, 1765, 20, 18, 1766, 507, 1767, 5]), (1, [220, 3458, 5]), (1, [34, 18, 2381, 792, 850, 418, 2501, 18, 2502, 207, 665, 11, 175, 2179, 5]), (-1, [7, 382, 383, 26, 384, 385, 386, 5]), (1, [17, 18, 2280, 728, 20, 18, 622, 1556, 5]), (-1, [77, 37, 629, 100, 500, 1928, 66, 1673, 5]), (1, [17, 18, 2194, 20, 1643, 5]), (-1, [37, 1142, 1143, 74, 75, 76, 5]), (1, [1146, 17, 18, 3532, 2409, 3533, 20, 3534, 5]), (-1, [1, 18, 490, 491, 11, 492, 5]), (1, [17, 18, 346, 2407, 2408, 2307, 5]), (-1, [7, 1807, 1808, 956, 11, 26, 1809, 5]), (-1, [7, 453, 26, 222, 402, 413, 86, 26, 828, 829, 5, 830, 5, 5, 5]), (-1, [7, 1881, 20, 853, 1014, 79, 1920, 1921, 220, 172, 5]), (-1, [1598, 1599, 1510, 18, 728, 1600, 11, 18, 344, 87, 84, 1601, 826, 5]), (-1, [77, 79, 85, 100, 5, 304, 675, 676, 17, 677, 5, 90, 678, 74, 679, 680, 681, 682, 11, 18, 424, 5, 5, 683, 188, 684, 684, 5]), (-1, [7, 1278, 1279, 79, 26, 1280, 83, 1281, 1100, 26, 1047, 310, 5]), (1, [383, 204, 888, 26, 2452, 418, 2828, 2829, 20, 2484, 2830, 5]), (-1, [17, 18, 358, 87, 359, 360, 361, 362, 5]), (1, [18, 217, 1146, 11, 170, 640, 5]), (-1, [17, 18, 304, 981, 239, 20, 140, 982, 5]), (-1, [7, 453, 26, 62, 79, 18, 140, 1743, 1744, 986, 477, 1743, 5]), (-1, [123, 62, 37, 407, 983, 18, 194, 147, 5]), (-1, [483, 17, 1324, 1325, 1326, 5]), (-1, [7, 1851, 20, 976, 195, 46, 1852, 1853, 1227, 859, 5]), (1, [2399, 108, 413, 2400, 88, 2401, 90, 1745, 18, 2402, 5, 2403, 675, 2404, 5]), (1, [2353, 1739, 465, 90, 336, 1459, 197, 3254, 74, 3255, 5]), (-1, [7, 2014, 34, 35, 11, 18, 2015, 2016, 5]), (-1, [37, 18, 140, 1783, 203, 519, 5]), (-1, [17, 18, 252, 20, 18, 253, 254, 5]), (-1, [412, 383, 26, 39, 121, 11, 422, 423, 5]), (1, [3190, 3191, 79, 18, 3192, 11, 1109, 18, 202, 11, 3193, 3194, 3195, 11, 5]), (1, [34, 18, 2362, 1310, 5]), (1, [1739, 37, 18, 2935, 882, 1245, 175, 2441, 11, 2813, 5]), (1, [850, 108, 1333, 172, 772, 638, 1546, 5]), (1, [17, 18, 217, 1739, 11, 18, 42, 5]), (-1, [7, 250, 34, 35, 11, 26, 1561, 5]), (-1, [7, 651, 34, 35, 11, 26, 652, 20, 653, 654, 5]), (1, [1, 18, 217, 12, 3426, 11, 202, 203, 1558, 5]), (-1, [17, 18, 713, 1426, 90, 18, 132, 5]), (-1, [7, 107, 17, 328, 329, 330, 331, 332, 5]), (-1, [7, 1456, 34, 35, 11, 26, 1871, 5]), (1, [17, 18, 217, 1739, 11, 235, 5]), (1, [1739, 99, 413, 336, 11, 415, 413, 9, 3501, 18, 3502, 11, 18, 3503, 512, 3504, 5]), (-1, [37, 18, 194, 147, 195, 25, 5]), (1, [2226, 541, 94, 3038, 5]), (-1, [77, 108, 694, 2010, 1471, 100, 5]), (1, [220, 18, 2329, 613, 177, 26, 1344, 1747, 5]), (-1, [711, 17, 26, 1632, 1633, 1634, 5]), (1, [1146, 74, 2553, 1324, 17, 1244, 1245, 477, 2554, 2555, 5]), (-1, [7, 297, 17, 85, 66, 1562, 5, 531, 90, 1563, 5, 1439, 5]), (-1, [7, 1872, 1873, 9, 35, 5]), (-1, [77, 78, 34, 294, 220, 295, 296, 87, 5]), (1, [17, 18, 2194, 87, 18, 772, 20, 253, 5]), (1, [1146, 11, 2517, 640, 17, 18, 217, 91, 5]), (-1, [37, 357, 40, 5]), (-1, [7, 453, 383, 26, 1295, 1296, 1297, 336, 1298, 5]), (1, [1146, 17, 3371, 90, 3372, 3373, 895, 2408, 5]), (1, [123, 2049, 20, 1915, 17, 1120, 2307, 5]), (1, [772, 399, 18, 945, 53, 2348, 2667, 5]), (-1, [122, 17, 18, 968, 87, 263, 220, 969, 970, 220, 971, 5]), (1, [1, 18, 1800, 3002, 20, 3003, 3004, 11, 3005, 5]), (-1, [1, 898, 1494, 1495, 4, 5]), (1, [1146, 17, 196, 2083, 11, 5]), (1, [792, 171, 5, 2507, 1649, 18, 2171, 20, 2508, 5]), (-1, [7, 1881, 79, 1882, 5, 1883, 1884, 5]), (1, [34, 1313, 18, 144, 850, 20, 18, 191, 192, 5]), (-1, [34, 18, 852, 20, 271, 853, 854, 855, 5]), (1, [34, 1313, 18, 144, 850, 20, 18, 424, 5]), (-1, [7, 244, 34, 35, 11, 26, 1824, 20, 976, 5]), (-1, [7, 557, 172, 455, 177, 18, 129, 5]), (-1, [37, 1256, 1257, 437, 18, 5, 1258, 20, 1259, 5, 5]), (1, [424, 772, 399, 18, 2631, 2632, 5]), (-1, [123, 62, 37, 124, 125, 126, 127, 5]), (1, [2479, 1, 18, 729, 20, 18, 424, 220, 3317, 3440, 3441, 5]), (1, [424, 772, 266, 18, 578, 2466, 5]), (1, [1146, 34, 413, 3470, 415, 413, 1273, 507, 788, 3471, 2310, 5]), (1, [2288, 2798, 18, 3355, 2177, 5]), (1, [34, 18, 2181, 1504, 20, 18, 792, 621, 171, 418, 977, 18, 3356, 3357, 11, 590, 5]), (-1, [34, 18, 1330, 20, 1331, 415, 18, 1332, 79, 1333, 1334, 18, 1335, 5]), (-1, [7, 1456, 34, 35, 11, 18, 2120, 5]), (1, [17, 2815, 2373, 5]), (-1, [7, 314, 315, 17, 18, 316, 20, 26, 317, 318, 18, 120, 319, 5]), (1, [63, 376, 772, 2683, 3247, 721, 297, 5]), (1, [383, 204, 83, 826, 177, 18, 749, 709, 424, 138, 5]), (-1, [7, 140, 284, 34, 2045, 11, 170, 881, 5]), (1, [17, 18, 3339, 298, 2308, 1703, 3340, 2307, 5]), (1, [17, 18, 217, 424, 772, 2099, 20, 18, 253, 5]), (1, [17, 2558, 751, 5]), (-1, [7, 453, 399, 5, 454, 5, 454, 5, 455, 456, 5]), (-1, [7, 314, 315, 17, 18, 316, 20, 26, 317, 318, 18, 120, 319, 5]), (1, [34, 18, 2441, 20, 2965, 2966, 5]), (-1, [220, 18, 242, 20, 1094, 5, 253, 5]), (1, [1, 2090, 2091, 4, 5]), (-1, [77, 746, 79, 271, 304, 747, 748, 678, 11, 26, 222, 5]), (1, [2226, 2836, 3484, 18, 3485, 20, 3486, 5]), (-1, [7, 1319, 9, 35, 11, 18, 1320, 806, 5]), (1, [37, 18, 42, 1097, 66, 5]), (-1, [17, 18, 599, 600, 20, 1825, 5]), (-1, [17, 18, 242, 20, 18, 191, 192, 5]), (1, [3191, 108, 389, 1047, 1464, 3374, 3375, 5]), (-1, [582, 18, 1745, 336, 11, 18, 814, 1545, 1546, 1131, 815, 5]), (-1, [1, 18, 304, 325, 951, 14, 18, 952, 953, 5]), (1, [2288, 2798, 18, 3588, 2177, 5]), (1, [383, 204, 888, 26, 3275, 675, 989, 90, 1681, 2587, 824, 5, 264, 74, 3276, 3072, 5]), (1, [79, 3214, 1097, 66, 5]), (-1, [7, 2026, 674, 1617, 1349, 11, 91, 2027, 2028, 5]), (1, [383, 204, 83, 26, 3314, 20, 3361, 177, 18, 2208, 5]), (1, [383, 204, 888, 271, 3046, 3047, 3048, 377, 5]), (1, [563, 424, 850, 172, 1149, 2756, 5]), (-1, [7, 41, 1547, 11, 1548, 11, 18, 1549, 1550, 5]), (1, [2252, 1146, 2165, 18, 1739, 20, 2614, 5, 57, 1009, 18, 2301, 2615, 74, 2616, 2617, 5]), (-1, [84, 402, 26, 403, 404, 175, 405, 406, 407, 34, 408, 5]), (1, [785, 786, 2260, 2261, 11, 2262, 5, 2263, 5, 105, 18, 2264, 20, 2265, 1111, 5]), (1, [1848, 2453, 3304, 66, 18, 2964, 20, 197, 3305, 90, 3306, 5]), (-1, [123, 62, 37, 18, 424, 1070, 1071, 1072, 18, 1073, 5, 1074, 1075, 5, 5]), (1, [17, 18, 2539, 2540, 417, 2541, 5]), (-1, [84, 37, 85, 86, 887, 90, 888, 889, 5]), (1, [34, 249, 20, 18, 689, 2065, 2056, 11, 18, 42, 5]), (-1, [7, 1851, 20, 437, 79, 85, 86, 90, 437, 18, 1752, 1575, 1753, 5]), (-1, [7, 23, 17, 26, 1254, 11, 18, 1596, 613, 337, 11, 962, 5]), (-1, [77, 37, 1754, 191, 1755, 177, 1529, 11, 1756, 5]), (1, [2479, 399, 26, 2848, 1459, 477, 2849, 507, 17, 144, 2850, 5]), (1, [792, 171, 34, 2936, 1131, 18, 2937, 2474, 5]), (-1, [77, 79, 18, 788, 83, 375, 5]), (-1, [220, 26, 27, 30, 11, 26, 1056, 1057, 5]), (1, [17, 18, 2623, 20, 2344, 2310, 5]), (-1, [7, 277, 619, 620, 34, 35, 5]), (-1, [84, 1, 18, 945, 946, 818, 5]), (1, [34, 18, 3248, 3249, 5]), (-1, [222, 20, 18, 387, 388, 18, 389, 390, 166, 391, 5]), (-1, [17, 18, 311, 312, 11, 313, 5]), (1, [2677, 1, 643, 2678, 5]), (-1, [1, 18, 289, 220, 290, 291, 292, 5]), (1, [37, 18, 355, 20, 18, 2602, 86, 98, 5]), (1, [840, 2488, 17, 18, 417, 20, 446, 2489, 5]), (-1, [7, 395, 269, 26, 396, 5]), (-1, [7, 1952, 79, 18, 304, 241, 499, 500, 379, 87, 26, 1953, 5]), (1, [523, 3032, 177, 2357, 74, 2954, 194, 5]), (-1, [77, 37, 18, 2148, 2149, 100, 5]), (-1, [7, 1718, 79, 26, 669, 1719, 40, 5]), (-1, [1598, 1599, 1510, 18, 728, 1600, 11, 18, 344, 87, 84, 1601, 826, 5]), (-1, [7, 557, 558, 559, 560, 561, 562, 5]), (-1, [392, 383, 26, 2102, 195, 5]), (1, [2226, 79, 18, 2743, 2744, 1640, 2745, 5]), (-1, [7, 58, 1236, 34, 35, 11, 18, 424, 5]), (-1, [17, 18, 866, 239, 87, 867, 90, 140, 78, 5]), (-1, [7, 23, 17, 26, 1661, 337, 11, 1662, 5]), (-1, [1, 1216, 4, 5]), (1, [123, 424, 772, 1, 18, 146, 487, 2322, 135, 5]), (-1, [7, 20, 1227, 689, 1228, 20, 18, 1229, 1230, 260, 172, 1231, 649, 26, 1232, 5]), (-1, [222, 20, 18, 387, 1, 1002, 709, 5]), (-1, [7, 850, 172, 26, 1502, 5]), (1, [17, 18, 217, 3402, 903, 2123, 11, 18, 42, 5]), (1, [2636, 11, 185, 17, 2379, 90, 386, 91, 675, 872, 3454, 5]), (1, [37, 18, 1301, 20, 2821, 2370, 5]), (-1, [7, 1506, 195, 90, 18, 1507, 559, 62, 5]), (1, [3191, 108, 18, 1795, 3245, 3324, 1925, 5]), (-1, [483, 17, 843, 844, 5]), (-1, [37, 69, 195, 177, 18, 120, 5]), (1, [1146, 17, 3396, 87, 2963, 3573, 5]), (1, [34, 18, 176, 20, 1313, 18, 2625, 11, 18, 42, 74, 123, 2288, 108, 407, 3348, 1100, 5]), (1, [123, 2524, 17, 1120, 5]), (-1, [7, 721, 48, 17, 722, 723, 5, 417, 5]), (1, [1827, 17, 177, 18, 3553, 2418, 652, 5]), (-1, [7, 526, 1510, 26, 1318, 507, 18, 519, 20, 26, 1511, 5]), (-1, [7, 1234, 1475, 1476, 267, 177, 1214, 459, 18, 288, 507, 1477, 5]), (-1, [77, 99, 26, 333, 334, 335, 336, 337, 5, 338, 339, 177, 85, 5]), (1, [1848, 2453, 17, 2454, 1131, 18, 2065, 164, 11, 18, 42, 5]), (-1, [84, 108, 413, 172, 90, 40, 11, 26, 1954, 90, 1955, 5]), (1, [3315, 772, 17, 2316, 477, 2554, 807, 5]), (1, [123, 772, 1, 35, 271, 2128, 2685, 975, 2686, 2687, 5]), (1, [34, 659, 3062, 3063, 3064, 87, 3065, 74, 3066, 5]), (-1, [972, 20, 18, 62, 17, 35, 2097, 1289, 11, 2098, 5]), (-1, [371, 20, 1313, 42, 1314, 1315, 1316, 11, 18, 424, 5]), (-1, [17, 18, 242, 20, 1120, 5]), (1, [123, 1739, 17, 18, 2441, 20, 2475, 2476, 5]), (-1, [19, 17, 868, 822, 220, 584, 5]), (1, [220, 18, 2181, 20, 3148, 5]), (1, [17, 18, 448, 20, 18, 2796, 418, 18, 2797, 40, 177, 5]), (1, [1500, 2467, 175, 448, 66, 18, 2015, 2780, 2781, 5, 2355, 2782, 976, 5]), (-1, [19, 17, 21, 22, 5]), (1, [17, 18, 945, 98, 448, 11, 18, 424, 5]), (1, [34, 18, 2720, 2757, 2166, 5]), (-1, [7, 280, 20, 1779, 34, 35, 5]), (-1, [621, 17, 18, 622, 623, 90, 624, 625, 626, 74, 627, 628, 177, 629, 220, 630, 631, 5]), (1, [34, 18, 2419, 389, 2420, 1504, 11, 18, 42, 5]), (1, [298, 140, 1739, 3490, 18, 389, 3491, 990, 5]), (1, [383, 91, 888, 2558, 751, 5]), (1, [2677, 17, 3037, 5]), (-1, [7, 41, 11, 18, 823, 824, 175, 344, 91, 825, 20, 826, 17, 18, 827, 5]), (-1, [17, 18, 358, 87, 2163, 5]), (-1, [84, 79, 85, 86, 90, 121, 66, 947, 90, 1791, 5]), (1, [383, 204, 888, 2238, 2239, 177, 482, 90, 983, 26, 2240, 2241, 2242, 5]), (-1, [1, 18, 424, 425, 426, 427, 11, 428, 5]), (1, [220, 18, 2478, 2479, 11, 18, 42, 5]), (-1, [34, 18, 934, 935, 87, 18, 107, 936, 74, 937, 5]), (-1, [816, 817, 175, 818, 177, 576, 177, 123, 222, 5]), (1, [220, 18, 389, 3388, 2488, 448, 11, 640, 5]), (-1, [84, 17, 18, 350, 351, 352, 5]), (1, [17, 3507, 5]), (-1, [77, 1116, 17, 11, 18, 447, 5]), (1, [424, 772, 399, 3059, 1245, 486, 772, 3060, 5]), (1, [34, 18, 2448, 171, 5]), (-1, [1148, 402, 18, 1734, 336, 500, 359, 360, 361, 362, 5]), (-1, [84, 79, 26, 488, 40, 5]), (-1, [34, 18, 836, 20, 837, 838, 90, 839, 5]), (1, [91, 20, 18, 53, 2348, 17, 3056, 3057, 424, 3058, 5]), (-1, [1, 5, 18, 53, 476, 5, 5]), (1, [728, 2779, 18, 578, 2839, 1035, 5]), (1, [1, 868, 822, 500, 2550, 2551, 762, 136, 5]), (1, [2678, 1, 26, 2462, 20, 123, 1146, 5]), (-1, [1555, 17, 18, 516, 1556, 5]), (-1, [17, 796, 797, 220, 700, 344, 5]), (-1, [123, 62, 37, 484, 485, 486, 146, 487, 136, 5]), (-1, [17, 18, 637, 638, 20, 639, 5, 170, 640, 5, 5]), (1, [220, 18, 2381, 2357, 3219, 1146, 1333, 3220, 90, 18, 3221, 5]), (-1, [7, 107, 37, 85, 86, 277, 278, 90, 264, 279, 5]), (-1, [7, 368, 34, 35, 11, 26, 369, 29, 370, 5]), (1, [37, 616, 2938, 204, 3518, 18, 5, 3519, 3520, 5, 500, 1837, 3521, 85, 5]), (-1, [7, 41, 794, 1288, 1289, 5]), (-1, [79, 18, 424, 726, 727, 42, 171, 11, 728, 5]), (-1, [123, 62, 37, 879, 74, 18, 880, 20, 881, 882, 883, 884, 5]), (1, [17, 91, 20, 18, 1504, 418, 18, 345, 20, 2566, 17, 2307, 11, 5]), (1, [177, 18, 2208, 383, 204, 888, 826, 177, 2758, 2759, 5]), (1, [34, 1635, 220, 792, 945, 2301, 5]), (-1, [17, 18, 577, 418, 507, 578, 579, 580, 20, 581, 41, 582, 172, 18, 583, 584, 5]), (-1, [7, 23, 24, 25, 26, 27, 28, 29, 30, 5]), (-1, [7, 954, 172, 504, 177, 18, 1001, 20, 1002, 5]), (-1, [7, 41, 162, 66, 1737, 1738, 11, 18, 424, 1428, 62, 5]), (-1, [236, 488, 489, 1913, 482, 7, 128, 5]), (-1, [7, 41, 504, 177, 170, 299, 1944, 11, 1945, 5]), (1, [1, 1194, 146, 2311, 5, 2712, 486, 448, 5]), (1, [1, 2090, 2091, 4, 5]), (1, [1, 2269, 2270, 4, 5]), (-1, [7, 171, 794, 1826, 590, 5]), (-1, [1677, 17, 1678, 5]), (1, [383, 413, 888, 18, 49, 3102, 5]), (-1, [123, 62, 1, 18, 1818, 686, 5]), (-1, [402, 18, 358, 336, 2117, 507, 2118, 359, 360, 361, 362, 5]), (1, [2371, 2372, 90, 2188, 5]), (1, [2123, 193, 11, 657, 2243, 3103, 297, 20, 989, 3104, 5]), (-1, [7, 107, 37, 901, 5, 902, 1115, 431, 11, 904, 905, 5]), (1, [17, 18, 2065, 1848, 11, 18, 42, 5]), (1, [772, 17, 2863, 1853, 2307, 11, 5]), (-1, [84, 79, 26, 809, 810, 5]), (-1, [7, 2092, 2093, 11, 18, 287, 203]), (-1, [7, 535, 399, 536, 537, 538, 5]), (1, [1739, 17, 3574, 1131, 18, 3107, 20, 3575, 5]), (-1, [7, 1017, 1960, 1018, 79, 1961, 172, 5]), (1, [17, 18, 2181, 20, 2585, 5]), (1, [63, 376, 772, 2956, 18, 343, 728, 1600, 2957, 5]), (1, [17, 26, 1146, 418, 3473, 105, 18, 173, 3474, 5]), (-1, [77, 37, 18, 490, 491, 598, 90, 11, 492, 5]), (-1, [483, 17, 18, 1407, 479, 480, 481, 5]), (-1, [7, 340, 1879, 271, 1880, 1047, 310, 5]), (-1, [37, 18, 1087, 1088, 519, 5]), (-1, [7, 1628, 34, 35, 11, 26, 1629, 1630, 5]), (-1, [972, 5, 19, 5, 74, 62, 37, 973, 204, 162, 5]), (-1, [84, 399, 1760, 1761, 1762, 455, 1038, 5]), (1, [17, 2568, 2444, 5, 193, 1131, 2569, 2415, 2570, 2568, 5]), (1, [17, 18, 2183, 2452, 177, 18, 2208, 5]), (-1, [17, 796, 797, 220, 700, 344, 5]), (-1, [7, 41, 11, 18, 42, 43, 44, 5]), (-1, [1, 18, 1408, 1409, 5]), (1, [220, 18, 1426, 2302, 2303, 2304, 2305, 90, 132, 5]), (-1, [885, 17, 1355, 5]), (-1, [7, 170, 140, 171, 172, 18, 173, 174, 11, 175, 176, 5]), (-1, [77, 37, 26, 1763, 220, 1764, 611, 5]), (1, [1146, 220, 41, 34, 18, 804, 1289, 2314, 5]), (-1, [222, 17, 708, 709, 5, 710, 5]), (1, [17, 18, 424, 2786, 2787, 2452, 87, 2788, 2789, 2790, 1863, 5, 2791, 5, 5]), (-1, [7, 107, 20, 1757, 459, 1758, 79, 85, 86, 90, 125, 26, 1759, 5]), (-1, [274, 20, 222, 37, 275, 276, 162, 5]), (-1, [1, 18, 146, 2033, 238, 2034, 87, 26, 488, 5]), (1, [383, 91, 888, 1120, 5]), (1, [123, 2226, 17, 3205, 193, 5]), (1, [17, 18, 217, 1739, 177, 18, 53, 2348, 5]), (-1, [61, 19, 17, 18, 1125, 5, 1126, 5]), (-1, [7, 269, 270, 34, 35, 11, 271, 272, 273, 5]), (1, [424, 772, 2165, 952, 2879, 5, 18, 42, 220, 217, 3111, 20, 3112, 3113, 5]), (-1, [323, 20, 26, 324, 220, 325, 17, 326, 327, 5]), (-1, [7, 850, 172, 26, 5, 1521, 431, 5, 87, 163, 1522, 5]), (1, [11, 18, 398, 79, 85, 2911, 2363, 2912, 1216, 220, 2140, 74, 2913, 5]), (-1, [7, 2035, 24, 26, 2036, 5]), (-1, [1, 868, 822, 4, 5]), (-1, [937, 5, 123, 222, 20, 18, 387, 37, 1126, 2044, 177, 5]), (1, [17, 18, 2733, 2734, 5]), (1, [2765, 1178, 37, 1184, 1185, 1186, 3332, 1245, 1130, 2559, 20, 3333, 41, 5]), (1, [2181, 17, 193, 131, 3417, 3418, 61, 2243, 284, 74, 3419, 3420, 5]), (1, [17, 722, 2588, 220, 2374, 2285, 5]), (1, [17, 814, 220, 2181, 5]), (1, [34, 2484, 3425, 1878, 177, 18, 2208, 5]), (-1, [7, 655, 79, 1112, 1113, 20, 18, 1114, 172, 5]), (1, [1739, 11, 18, 424, 2691, 18, 389, 731, 2692, 5]), (-1, [7, 297, 17, 85, 66, 840, 5, 376, 90, 1123, 5, 376, 5]), (-1, [62, 1, 591, 592, 593, 594, 18, 595, 596, 597, 5]), (1, [61, 772, 34, 18, 2491, 2842, 895, 2843, 5]), (-1, [108, 1215, 1206, 1216, 1, 4, 5]), (-1, [17, 18, 1607, 20, 1649, 790, 18, 1672, 74, 1673, 5]), (1, [383, 204, 83, 26, 92, 3456, 20, 3457, 11, 3251, 728, 5]), (-1, [7, 400, 34, 11, 18, 398, 5]), (1, [17, 18, 389, 3089, 1739, 11, 18, 42, 5]), (-1, [7, 587, 1894, 20, 853, 1014, 34, 35, 5]), (1, [37, 3076, 1940, 3077, 3078, 83, 502, 3079, 5]), (-1, [7, 1593, 79, 26, 1829, 172, 5]), (-1, [84, 79, 85, 86, 393, 90, 511, 18, 132, 66, 18, 713, 5]), (-1, [2064, 17, 26, 206, 5]), (1, [1739, 220, 18, 3400, 2201, 87, 3401, 20, 196, 2083, 5]), (1, [34, 659, 3217, 1595, 5]), (1, [383, 204, 888, 18, 176, 20, 1313, 18, 1393, 2445, 5]), (-1, [62, 1, 18, 1841, 1842, 1024, 1025, 5]), (1, [1146, 37, 18, 2272, 701, 2690, 5]), (1, [383, 204, 83, 424, 2784, 935, 5]), (-1, [7, 917, 20, 1192, 34, 35, 5]), (1, [108, 3321, 3322, 70, 5]), (-1, [7, 140, 284, 172, 504, 87, 175, 1146, 90, 19, 5]), (1, [2226, 17, 2834, 2278, 2642, 5]), (1, [1146, 2243, 18, 3395, 2201, 11, 170, 640, 5]), (1, [17, 18, 448, 20, 18, 2796, 418, 18, 2797, 40, 177, 5]), (-1, [17, 18, 1357, 1358, 424, 1359, 1360, 242, 5]), (1, [108, 18, 2981, 74, 2982, 2983, 40, 5]), (-1, [17, 18, 216, 20, 18, 506, 95, 507, 18, 345, 20, 508, 11, 509, 5]), (1, [2674, 2989, 90, 83, 1432, 66, 85, 1313, 5, 1009, 79, 1837, 195, 5]), (1, [79, 18, 2823, 2824, 20, 18, 2825, 799, 2826, 2370, 66, 5]), (-1, [7, 1854, 20, 271, 967, 1410, 336, 538, 87, 85, 90, 336, 26, 1400, 967, 5]), (1, [1739, 1, 788, 2415, 2416, 2417, 11, 5]), (1, [17, 18, 2183, 3326, 716, 177, 801, 5]), (-1, [17, 480, 481, 220, 646, 5]), (1, [17, 18, 2181, 20, 2596, 2597, 5]), (-1, [17, 18, 158, 20, 18, 159, 160, 5]), (-1, [220, 1341, 220, 1342, 177, 26, 1343, 1344, 613, 5]), (-1, [1, 18, 1948, 1949, 5]), (1, [17, 18, 2183, 2123, 11, 18, 191, 192, 5]), (-1, [62, 37, 1947, 125, 26, 772, 5]), (1, [621, 424, 1739, 461, 18, 2065, 1213, 239, 87, 3403, 5]), (1, [17, 18, 401, 2412, 772, 11, 18, 823, 11, 1945, 5]), (1, [424, 772, 1547, 656, 47, 2179, 5]), (-1, [84, 17, 1121, 1122, 5]), (-1, [397, 20, 1179, 105, 18, 1180, 399, 1181, 1182, 1183, 1184, 1185, 1186, 5]), (-1, [7, 128, 79, 26, 236, 488, 489, 199, 5]), (1, [2864, 1146, 2683, 3236, 5, 3237, 721, 297, 5]), (1, [1146, 17, 18, 2720, 3309, 20, 3431, 5]), (1, [17, 18, 2181, 20, 3291, 5]), (-1, [392, 1410, 26, 1411, 121, 90, 1412, 132, 220, 1413, 5]), (-1, [1, 1887, 4, 5]), (1, [123, 2421, 17, 2958, 1961, 5]), (-1, [7, 641, 37, 642, 643, 644, 11, 645, 5]), (-1, [220, 26, 27, 30, 11, 26, 1056, 1057, 5]), (1, [2635, 2187, 466, 18, 389, 1506, 11, 18, 191, 192, 5]), (-1, [7, 41, 172, 504, 20, 694, 5]), (1, [37, 18, 618, 197, 3334, 40, 5]), (-1, [17, 18, 1544, 1220, 20, 26, 1792, 5]), (-1, [84, 17, 488, 993, 5]), (1, [17, 2347, 2310, 5]), (1, [79, 2423, 2424, 2425, 90, 983, 26, 2426, 5, 558, 423, 2427, 5]), (1, [2717, 1, 338, 3547, 3548, 11, 5]), (1, [17, 18, 2183, 2452, 177, 18, 2208, 5]), (-1, [412, 17, 18, 945, 613, 11, 268, 177, 1746, 1344, 1747, 74, 1009, 37, 85, 757, 5]), (-1, [7, 539, 540, 34, 35, 5]), (-1, [554, 79, 555, 556, 40, 11, 5]), (-1, [7, 2032, 34, 11, 268, 636, 5]), (1, [17, 18, 346, 2407, 2408, 5]), (1, [17, 18, 217, 2479, 11, 18, 3099, 2947, 5]), (1, [17, 88, 2987, 2988, 5]), (1, [220, 18, 2181, 20, 2707, 5]), (-1, [711, 17, 18, 1277, 2077, 5]), (1, [17, 18, 2181, 20, 2946, 5]), (1, [220, 18, 2183, 2181, 1739, 11, 18, 3439, 5]), (-1, [17, 691, 692, 220, 584, 5]), (1, [220, 18, 217, 2479, 11, 18, 2954, 2955, 5]), (-1, [7, 41, 37, 18, 191, 1679, 1680, 90, 1681, 1404, 1682, 74, 1683, 1684, 1685, 11, 1686, 11, 1687, 732, 5]), (1, [17, 18, 2255, 1848, 5]), (-1, [412, 383, 413, 1204, 5]), (1, [17, 2306, 1146, 2307, 5]), (-1, [482, 77, 582, 18, 814, 772, 1545, 1546, 1648, 1131, 18, 62, 815, 5]), (1, [18, 1146, 20, 3510, 3511, 453, 18, 216, 20, 39, 11, 5, 3496, 220, 3512, 5, 5]), (1, [772, 11, 18, 191, 192, 2683, 18, 217, 728, 5]), (-1, [7, 898, 2150, 2151, 172, 455, 1519, 5]), (1, [17, 18, 448, 20, 18, 2255, 1848, 11, 18, 42, 5]), (-1, [1, 18, 133, 1023, 1024, 1025, 5]), (1, [383, 204, 2286, 26, 3563, 177, 18, 245, 351, 87, 3251, 3564, 5]), (1, [2252, 2181, 724, 486, 579, 5, 2509, 2510, 11, 2511, 5]), (-1, [77, 831, 108, 432, 832, 11, 26, 222, 5]), (-1, [1148, 79, 18, 316, 20, 271, 1149, 1150, 83, 5]), (-1, [62, 37, 18, 191, 192, 429, 18, 430, 431, 5]), (-1, [222, 17, 1244, 1245, 18, 5, 706, 222, 20, 1246, 5, 5]), (1, [171, 172, 18, 217, 2248, 20, 2249, 5]), (1, [383, 91, 888, 826, 177, 3019, 74, 3020, 5, 18, 633, 74, 3021, 5]), (1, [79, 2731, 2732, 40, 5]), (-1, [77, 1031, 17, 11, 26, 1032, 1033, 1034, 20, 1035, 5]), (-1, [17, 18, 242, 20, 18, 217, 2074, 1739]), (-1, [220, 18, 140, 247, 248, 87, 249, 250, 11, 18, 251, 5]), (-1, [7, 1538, 172, 1539, 177, 18, 129, 5]), (1, [2235, 399, 455, 1459, 477, 2327, 20, 2328, 5]), (1, [1146, 5, 459, 1153, 74, 1508, 5, 17, 1426, 90, 18, 424, 5]), (-1, [7, 588, 34, 35, 11, 18, 42, 5]), (-1, [17, 18, 1127, 20, 120, 5]), (1, [17, 18, 2623, 20, 18, 2624, 752, 5]), (1, [383, 204, 888, 826, 177, 2897, 26, 3611, 5]), (-1, [7, 280, 20, 1592, 34, 35, 11, 137, 5]), (1, [2049, 20, 1635, 3365, 18, 3366, 5, 3367, 3368, 5, 74, 3369, 3370, 5]), (1, [1, 18, 217, 1739, 11, 18, 42, 90, 3300, 3301, 431, 11, 3302, 5]), (1, [17, 18, 1739, 11, 61, 480, 481, 1111, 1459, 5]), (1, [383, 2358, 336, 2359, 1429, 5]), (-1, [123, 62, 1, 1260, 955, 5]), (1, [383, 204, 83, 826, 2363, 2648, 2649, 5]), (-1, [582, 984, 985, 986, 987, 988, 989, 5]), (1, [37, 2771, 2772, 2773, 2774, 5, 2775, 4, 2776, 5, 195, 90, 565, 5]), (1, [2677, 17, 26, 3437, 5]), (1, [26, 1146, 418, 17, 3198, 26, 3199, 3200, 3201, 1366, 5]), (-1, [7, 1284, 34, 35, 11, 18, 488, 1285, 5]), (-1, [62, 37, 18, 287, 203, 519, 5]), (1, [321, 1878, 34, 2936, 90, 18, 3362, 177, 3363, 3364, 5]), (1, [220, 18, 42, 220, 217, 2717, 5]), (1, [1, 18, 2381, 1146, 413, 9, 1372, 90, 2040, 1100, 733, 66, 11, 2382, 5]), (-1, [17, 18, 304, 100, 87, 563, 107, 20, 564, 565, 5]), (-1, [37, 196, 197, 1619, 199, 1620, 5]), (-1, [7, 871, 872, 318, 579, 9, 35, 11, 26, 873, 5]), (1, [17, 18, 42, 220, 2065, 2323, 5]), (-1, [17, 18, 325, 848, 20, 18, 304, 849, 5]), (-1, [7, 31, 32, 33, 34, 35, 11, 36, 5]), (-1, [7, 58, 1236, 34, 35, 11, 18, 191, 192, 5]), (-1, [483, 17, 1735, 1736, 5]), (-1, [37, 161, 162, 5]), (-1, [1000, 34, 865, 4, 5]), (-1, [1, 2, 3, 4, 5]), (1, [2722, 2243, 18, 839, 2723, 74, 2724, 5]), (-1, [7, 115, 34, 35, 11, 26, 116, 117, 118, 5]), (1, [2517, 140, 1146, 17, 18, 217, 5]), (-1, [77, 20, 18, 801, 220, 923, 17, 924, 925, 5]), (-1, [84, 79, 85, 86, 87, 88, 89, 90, 24, 91, 92, 93, 94, 18, 95, 5]), (1, [37, 2090, 20, 18, 2999, 40, 5]), (-1, [711, 17, 18, 1790, 751, 5]), (-1, [17, 18, 304, 1427, 1428, 128, 326, 1429, 1131, 1430, 1431, 5]), (-1, [17, 18, 520, 344, 20, 271, 521, 5]), (1, [108, 3443, 1496, 90, 40, 5]), (-1, [77, 37, 26, 2103, 220, 2104, 100, 11, 2105, 5]), (-1, [7, 307, 308, 26, 309, 310, 5]), (1, [17, 18, 3352, 3353, 3354, 377, 5]), (1, [424, 1739, 1, 2057, 87, 197, 2938, 20, 2939, 5]), (1, [1146, 2243, 1915, 220, 2244, 2201, 5]), (1, [298, 140, 1739, 99, 413, 1804, 90, 1204, 3044, 220, 3045, 5]), (-1, [7, 2056, 172, 455, 2057, 87, 2058, 11, 18, 2059, 823, 5]), (1, [383, 204, 888, 2559, 2560, 2561, 20, 2562, 5]), (-1, [7, 563, 1374, 1375, 9, 35, 74, 1160, 34, 407, 5]), (-1, [7, 914, 915, 34, 35, 5, 74, 123, 34, 407, 5]), (1, [383, 204, 888, 1313, 18, 826, 204, 634, 90, 2628, 2363, 18, 2629, 1783, 203, 5, 2630, 5, 5]), (1, [3016, 3017, 988, 90, 2276, 5, 1741, 5]), (1, [108, 389, 2372, 1804, 11, 2188, 5]), (-1, [7, 1341, 504, 2123, 18, 2124, 1753, 5]), (1, [1146, 37, 18, 3170, 3170, 3171, 86, 98, 11, 5]), (-1, [483, 1, 1655, 1656, 500, 18, 1657, 5, 204, 1658, 1659, 5, 1660, 5]), (-1, [7, 432, 209, 87, 18, 446, 11, 18, 140, 141, 5]), (-1, [34, 18, 1067, 836, 177, 26, 1068, 1069, 5]), (1, [383, 204, 888, 18, 3282, 90, 18, 3283, 3284, 3285, 5]), (-1, [7, 990, 34, 11, 26, 636, 5]), (1, [108, 1833, 701, 18, 2641, 652, 2642, 18, 804, 20, 18, 2643, 2644, 5]), (-1, [17, 796, 797, 220, 700, 344, 5]), (1, [108, 18, 2809, 2810, 175, 1434, 5]), (-1, [7, 1282, 1283, 34, 35, 90, 18, 396, 5]), (-1, [7, 280, 20, 281, 5, 282, 34, 35, 5, 142]), (1, [17, 18, 3183, 3184, 20, 18, 191, 192, 1429, 5]), (-1, [1, 18, 1980, 1981, 1220, 87, 26, 1982, 5]), (1, [772, 37, 3597, 3598, 3110, 11, 18, 1907, 3599, 640, 3600, 5]), (1, [17, 170, 3601, 5]), (-1, [7, 525, 526, 34, 35, 177, 26, 527, 528, 529, 530, 5]), (1, [1, 18, 2312, 880, 5, 2313, 5, 5]), (1, [3072, 1739, 1, 2727, 1459, 3438, 5]), (-1, [77, 78, 79, 26, 80, 81, 82, 83, 5]), (-1, [7, 41, 9, 10, 87, 928, 929, 220, 930, 5]), (-1, [7, 1417, 1418, 9, 112, 507, 18, 1419, 1420, 5]), (1, [2271, 2571, 2572, 74, 2573, 5]), (-1, [77, 79, 26, 1251, 611, 5]), (1, [17, 18, 42, 2984, 1447, 809, 2985, 1493, 559, 2986, 5]), (-1, [17, 18, 377, 378, 379, 90, 380, 5]), (-1, [7, 321, 1274, 34, 35, 5]), (-1, [17, 18, 242, 20, 243, 5]), (-1, [17, 18, 231, 74, 232, 20, 233, 234, 5, 235, 5]), (1, [1, 219, 220, 2873, 5]), (1, [383, 204, 83, 2990, 2991, 2345, 2992, 5]), (-1, [7, 647, 850, 34, 11, 18, 851, 5]), (1, [17, 18, 2183, 2844, 2845, 11, 18, 42, 5]), (1, [34, 659, 2484, 564, 1878, 87, 826, 5]), (-1, [34, 18, 1523, 1524, 20, 1185, 1525, 5, 1526, 5, 74, 1527, 5, 18, 1528, 1529, 5]), (-1, [17, 18, 1643, 772, 638, 1546, 239, 5]), (-1, [7, 2155, 34, 35, 177, 26, 820, 821, 530, 5]), (-1, [77, 37, 561, 1755, 177, 1898, 11, 1756, 5]), (-1, [1, 931, 932, 5]), (-1, [7, 1155, 34, 177, 26, 1156, 220, 1329, 5]), (1, [1146, 37, 616, 2195, 1733, 5]), (-1, [344, 20, 140, 284, 1157, 286, 66, 18, 287, 288, 5]), (1, [2636, 17, 18, 825, 20, 18, 54, 2468, 5]), (-1, [758, 759, 11, 61, 62, 1372, 760, 761, 90, 125, 763, 5]), (1, [34, 18, 424, 2441, 87, 2324, 5, 2325, 5]), (-1, [7, 244, 34, 11, 26, 690, 5]), (1, [792, 170, 140, 171, 108, 2227, 1649, 2228, 5]), (1, [142, 2252, 171, 70, 105, 18, 173, 1912, 5]), (1, [37, 615, 2831, 502, 5, 2832, 2833, 5, 5]), (-1, [123, 19, 37, 1058, 1059, 1060, 26, 364, 20, 18, 745, 1061, 1062, 87, 1063, 90, 1064, 25, 987, 1065, 177, 18, 1066, 5]), (1, [17, 2493, 345, 5]), (-1, [7, 565, 1724, 34, 35, 11, 18, 191, 192, 5]), (-1, [84, 79, 85, 86, 18, 1864, 1865, 1866, 90, 24, 91, 1867, 5]), (-1, [7, 1500, 24, 25, 1501, 5]), (1, [17, 18, 2442, 1146, 11, 1915, 5]), (-1, [7, 41, 79, 2071, 2072, 11, 18, 424, 5]), (-1, [84, 1, 18, 695, 696, 20, 697, 698, 220, 699, 90, 336, 5]), (-1, [17, 18, 283, 20, 140, 284, 285, 286, 87, 66, 18, 287, 288, 5]), (1, [424, 772, 2922, 199, 11, 271, 3523, 2214, 5]), (-1, [17, 18, 506, 242, 507, 18, 345, 20, 508, 11, 509, 5]), (1, [2235, 1146, 2365, 2961, 2962, 5, 1089, 74, 18, 2963, 2964, 5]), (-1, [62, 37, 907, 908, 18, 909, 910, 5, 5, 911, 912, 913, 5, 5]), (1, [9, 18, 3172, 2872, 1420, 1493, 5]), (1, [34, 18, 217, 2552, 11, 18, 42, 5]), (1, [1739, 17, 2246, 1459, 477, 2760, 20, 1440, 5]), (-1, [483, 17, 841, 842, 5]), (-1, [7, 1904, 52, 34, 35, 11, 18, 42, 5]), (-1, [84, 79, 85, 86, 90, 1291, 18, 1292, 1293, 1294, 5]), (1, [1, 1244, 1245, 18, 2343, 351, 5]), (1, [1146, 34, 2464, 2465, 66, 5]), (1, [1739, 2440, 18, 424, 2441, 20, 2324, 74, 2325, 5]), (-1, [37, 18, 1785, 1786, 1787, 25, 5]), (-1, [123, 646, 37, 1379, 1380, 1381, 1382, 5]), (1, [17, 18, 424, 2623, 20, 2324, 5, 2325, 3341, 3594, 5]), (-1, [7, 41, 11, 1391, 5]), (1, [18, 2065, 1848, 5]), (1, [424, 772, 399, 18, 389, 2599, 5]), (-1, [392, 79, 18, 401, 166, 195, 5]), (-1, [123, 62, 1, 18, 194, 147, 524, 5]), (1, [17, 18, 2452, 87, 18, 823, 2259, 5]), (1, [37, 18, 3072, 3498, 3499, 3500, 90, 519, 15, 5]), (-1, [1, 18, 207, 20, 18, 208, 209, 5]), (1, [1739, 17, 2246, 1459, 2247, 5]), (-1, [17, 18, 599, 600, 20, 1825, 5]), (-1, [412, 17, 85, 66, 1286, 90, 1287, 5]), (-1, [1, 18, 146, 164, 66, 18, 2099, 631, 90, 18, 2100, 631, 2101, 5]), (1, [17, 18, 2180, 5]), (-1, [17, 788, 822, 220, 1946, 5]), (1, [3603, 3604, 37, 3605, 983, 5]), (-1, [7, 1730, 1731, 34, 35, 177, 26, 1732, 1733, 5]), (-1, [17, 18, 231, 74, 232, 20, 233, 234, 5, 235, 5]), (-1, [77, 78, 1, 18, 490, 491, 11, 492, 5]), (1, [37, 1837, 83, 18, 2730, 5]), (-1, [7, 297, 20, 1364, 34, 11, 18, 1365, 1366, 5]), (-1, [84, 79, 26, 1265, 40, 5]), (1, [37, 3335, 1527, 195, 90, 1960, 5]), (-1, [84, 79, 85, 86, 587, 1869, 90, 1870, 5]), (-1, [123, 62, 37, 18, 96, 97, 757, 5]), (1, [79, 18, 2368, 2637, 1294, 70, 74, 519, 5]), (1, [383, 204, 888, 2579, 20, 2580, 2581, 2363, 18, 2296, 105, 2297, 2298, 2299, 5]), (1, [424, 772, 2668, 105, 26, 2669, 5]), (-1, [17, 18, 304, 19, 500, 389, 2020, 70, 2021, 25, 1126, 2022, 2023, 5]), (1, [17, 18, 3260, 20, 18, 3399, 5]), (1, [1150, 3288, 3289, 177, 3290, 5]), (1, [383, 204, 888, 26, 2256, 20, 2257, 177, 2258, 148, 11, 26, 769, 2259, 5]), (1, [2288, 1, 2800, 2801, 2802, 46, 500, 460, 2803, 5]), (-1, [392, 17, 393, 5]), (-1, [7, 1228, 34, 11, 18, 814, 1376, 1377, 5]), (-1, [34, 18, 935, 87, 1532, 1533, 11, 1534, 5]), (-1, [17, 21, 22, 5]), (-1, [37, 1036, 1037, 74, 153, 973, 83, 1038, 5]), (-1, [62, 37, 718, 437, 5, 719, 720, 5, 5]), (-1, [7, 1284, 34, 11, 18, 488, 1285, 5]), (1, [37, 3245, 2370, 5]), (-1, [62, 37, 941, 205, 5]), (1, [1178, 1, 18, 968, 87, 477, 3269, 2640, 5]), (-1, [1, 926, 927, 4, 5]), (1, [2890, 17, 57, 11, 3142, 5, 63, 1645, 5]), (1, [177, 18, 2208, 383, 204, 83, 3139, 3140, 5]), (1, [772, 17, 898, 1321, 1323, 2278, 11, 5]), (-1, [7, 1862, 1863, 34, 35, 11, 18, 424, 5]), (1, [1146, 220, 706, 2196, 2197, 1366, 17, 1459, 2198, 5]), (1, [772, 17, 196, 2416, 11, 5]), (-1, [7, 45, 46, 47, 48, 17, 18, 49, 50, 51, 5]), (1, [1146, 399, 3143, 3144, 20, 486, 3058, 3145, 90, 1538, 5]), (-1, [17, 788, 822, 220, 584, 5]), (1, [1800, 151, 2888, 399, 2093, 1245, 26, 2889, 5, 2890, 5, 2891, 5, 2892, 2893, 5, 2894, 5, 2895, 2427, 74, 2896, 406, 2897, 271, 1143, 2845, 5]), (1, [1146, 2683, 249, 5, 2840, 5, 2841, 721, 297, 5]), (1, [792, 2735, 171, 2472, 18, 2479, 20, 3584, 5]), (-1, [17, 18, 2065, 344, 20, 417, 541, 177, 1813, 87, 1746, 91, 310, 5]), (-1, [17, 18, 1544, 1220, 87, 1161, 771, 5]), (-1, [84, 108, 1045, 40, 5]), (-1, [1, 1205, 4, 5]), (1, [1, 18, 2620, 880, 5, 2313, 5, 5]), (-1, [1, 18, 424, 425, 426, 427, 11, 428, 5]), (1, [383, 204, 888, 18, 949, 20, 18, 2882, 2016, 5]), (-1, [7, 33, 34, 1302, 90, 559, 960, 11, 1303, 1304, 5]), (1, [17, 904, 786, 5]), (-1, [77, 37, 471, 472, 1942, 90, 1906, 486, 473, 474, 475, 90, 18, 1943, 1309, 87, 5]), (-1, [17, 18, 470, 87, 694, 1471, 5]), (1, [17, 2736, 5]), (1, [17, 18, 3294, 772, 11, 18, 424, 5]), (1, [17, 18, 2065, 2323, 11, 1915, 5]), (1, [34, 18, 689, 217, 1504, 11, 18, 424, 5]), (1, [220, 18, 2244, 424, 772, 2060, 66, 629, 5]), (-1, [383, 413, 336, 811, 87, 812, 26, 809, 177, 26, 813, 5]), (-1, [62, 37, 255, 256, 257, 18, 258, 259, 260, 261, 5]), (-1, [1603, 220, 1604, 87, 123, 371, 20, 1576, 1577, 5]), (1, [17, 18, 2719, 46, 18, 2226, 3235, 5]), (1, [383, 204, 888, 18, 1795, 2384, 2385, 87, 2386, 2363, 1673, 5]), (1, [2310, 17, 2307, 11, 123, 1739, 5]), (1, [1739, 17, 2093, 1131, 2347, 1828, 2310, 5]), (-1, [77, 37, 1659, 1567, 2050, 2051, 2052, 87, 2053, 2054, 5]), (-1, [7, 664, 34, 35, 11, 245, 1117, 5]), (1, [1146, 2165, 18, 389, 2750, 1428, 636, 20, 3253, 5]), (-1, [17, 691, 692, 220, 19, 20, 838, 5]), (-1, [554, 37, 1143, 220, 1509, 1088, 70, 11, 5]), (1, [17, 2934, 2307, 5]), (-1, [7, 1339, 34, 35, 177, 1340, 220, 665, 5]), (-1, [274, 79, 1175, 1176, 1177, 414, 94, 18, 1178, 5]), (-1, [220, 18, 140, 247, 248, 87, 249, 250, 11, 18, 251, 5]), (1, [17, 63, 376, 220, 2065, 1848, 5]), (1, [17, 2344, 2310, 2307, 5]), (1, [1739, 2959, 18, 146, 2162, 1420, 11, 2960, 5]), (-1, [108, 413, 1195, 143, 1196, 5]), (-1, [7, 41, 172, 455, 555, 640, 5]), (-1, [7, 1228, 20, 26, 2017, 1617, 336, 2018, 11, 18, 424, 2019, 14, 202, 203, 1558, 5]), (-1, [7, 138, 9, 139, 11, 18, 140, 141, 5]), (-1, [1, 18, 53, 1635, 242, 66, 1636, 5]), (1, [37, 18, 2139, 2140, 24, 175, 146, 562, 5]), (-1, [84, 402, 413, 2109, 88, 2110, 2111, 2112, 2113, 5]), (-1, [7, 1667, 1668, 34, 1669, 1227, 222, 5]), (1, [1146, 2165, 3227, 220, 3228, 74, 18, 3228, 20, 616, 3229, 5]), (-1, [7, 1749, 1750, 18, 1751, 848, 20, 18, 1752, 1575, 1753, 5]), (-1, [1, 18, 245, 1965, 1966, 5]), (1, [17, 18, 2405, 1146, 11, 18, 42, 5]), (-1, [77, 79, 91, 1815, 20, 1816, 100, 5]), (1, [383, 204, 888, 26, 403, 220, 2285, 66, 26, 343, 344, 5]), (-1, [77, 582, 18, 814, 336, 11, 18, 62, 815, 5]), (1, [17, 18, 217, 2636, 11, 298, 640, 5]), (1, [3087, 772, 3088, 18, 146, 1691, 1703, 462, 1195, 11, 18, 424, 5]), (-1, [1, 219, 220, 221, 5]), (1, [1739, 17, 57, 11, 18, 1739, 20, 2681, 5]), (-1, [37, 1327, 74, 881, 205, 1328, 884, 5]), (-1, [7, 424, 954, 9, 955, 14, 926, 927, 220, 956, 5]), (1, [1146, 220, 665, 17, 2251, 3130, 5]), (1, [1, 18, 2873, 20, 1468, 3277, 2714, 5]), (-1, [7, 587, 280, 20, 1159, 34, 35, 5]), (-1, [84, 79, 18, 304, 2030, 2031, 40, 5]), (-1, [7, 107, 483, 17, 841, 842, 5]), (1, [1146, 1, 1912, 2530, 1403, 90, 2531, 2532, 5]), (-1, [1, 18, 685, 686, 5]), (1, [383, 204, 2286, 26, 2484, 2485, 87, 2486, 318, 2487, 5]), (-1, [483, 1, 843, 844, 500, 1837, 1838, 105, 1839, 1840, 5]), (-1, [7, 1780, 399, 26, 452, 1459, 26, 1781, 1782, 5]), (-1, [7, 1456, 34, 35, 11, 26, 1871, 5]), (-1, [7, 802, 108, 413, 803, 90, 511, 18, 804, 805, 20, 18, 806, 807, 808, 5]), (1, [1146, 3013, 3014, 219, 486, 1019, 11, 3015, 5]), (1, [772, 2559, 20, 2067, 74, 2603, 1, 18, 2604, 11, 477, 2605, 20, 2606, 5]), (-1, [17, 18, 1373, 87, 812, 26, 809, 177, 26, 813, 5]), (1, [17, 1120, 2307, 5]), (-1, [34, 18, 934, 935, 87, 18, 107, 936, 74, 937, 5]), (1, [17, 18, 2183, 2452, 177, 18, 2208, 5]), (-1, [7, 974, 48, 20, 423, 79, 26, 975, 20, 976, 977, 5]), (-1, [1, 18, 146, 189, 190, 11, 18, 191, 192, 193, 5]), (1, [1146, 108, 18, 2176, 2177, 2178, 90, 5]), (-1, [7, 777, 34, 764, 11, 26, 778, 779, 780, 5]), (-1, [61, 62, 1, 18, 1165, 1166, 1167, 1168, 1169, 5]), (1, [34, 18, 2236, 2237, 5]), (1, [2722, 3025, 26, 3026, 105, 3027, 74, 3028, 5]), (1, [383, 204, 888, 26, 42, 3313, 3314, 1429, 507, 2097, 2052, 5]), (-1, [1, 18, 426, 427, 507, 18, 201, 20, 196, 845, 5]), (-1, [7, 1688, 34, 1689, 177, 801, 5]), (-1, [7, 1849, 383, 285, 336, 57, 11, 18, 918, 459, 18, 288, 1850, 5]), (-1, [7, 585, 586, 559, 62, 5]), (-1, [84, 17, 18, 1649, 790, 1153, 74, 18, 1650, 1651, 850, 5]), (1, [34, 18, 3167, 11, 3168, 898, 5, 63, 3169, 5]), (1, [383, 204, 888, 826, 177, 2090, 2477, 5]), (-1, [7, 41, 34, 35, 11, 18, 42, 5]), (-1, [220, 1341, 220, 1342, 177, 26, 1343, 1344, 613, 5]), (-1, [17, 18, 1827, 1600, 87, 904, 905, 1828, 5]), (-1, [482, 7, 571, 34, 1145, 507, 18, 345, 20, 508, 5]), (1, [383, 204, 888, 26, 2995, 2529, 87, 2996, 18, 2997, 1366, 2998, 90, 140, 116, 5]), (-1, [17, 18, 863, 20, 864, 865, 5]), (1, [17, 18, 2229, 752, 764, 5]), (1, [1739, 1, 3159, 1323, 955, 11, 5]), (1, [34, 18, 495, 2822, 5]), (-1, [1, 18, 146, 147, 148, 149, 150, 5]), (1, [34, 659, 2484, 3256, 321, 1878, 5]), (-1, [7, 1053, 172, 18, 1054, 1055, 5]), (1, [9, 18, 1504, 20, 2766, 220, 1912, 2767, 20, 2768, 2769, 5]), (-1, [304, 5, 482, 7, 297, 34, 35, 90, 18, 129, 5]), (-1, [7, 635, 11, 26, 636, 5]), (-1, [7, 1041, 37, 1042, 616, 1043, 172, 5]), (-1, [478, 479, 5, 480, 481, 5, 17, 482, 483, 5]), (-1, [1, 1652, 1653, 220, 146, 1654, 337, 5]), (-1, [17, 18, 304, 274, 90, 1674, 1675, 5]), (1, [1146, 34, 413, 11, 415, 413, 2697, 11, 18, 2698, 2699, 5]), (1, [44, 2354, 2654, 90, 336, 477, 2655, 20, 2656, 5]), (-1, [7, 41, 1, 210, 211, 420, 20, 421, 5]), (1, [123, 1146, 17, 2945, 5]), (-1, [77, 1026, 1027, 402, 26, 916, 487, 83, 559, 222, 5]), (1, [95, 20, 976, 79, 18, 3336, 254, 3337, 1100, 5]), (1, [2624, 752, 17, 2307, 11, 123, 1739, 5]), (1, [79, 2294, 1097, 66, 5])]\n"
     ]
    }
   ],
   "source": [
    "import numpy as np\n",
    "import random\n",
    "from math import log, exp\n",
    "from tqdm import tqdm\n",
    "from collections import Counter\n",
    "\n",
    "\n",
    "Z_dataset = []\n",
    "labels = []\n",
    "alphabet = set() ## not used\n",
    "\n",
    "with open(\"dataset_boosting/question.txt\") as f:\n",
    "    test_data = f.readlines()\n",
    "    for line in test_data:\n",
    "        (label, data) = line.split(\" \", 1)\n",
    "        data_array = [int(x) for x in data.split()]\n",
    "        Z_dataset.append(((1 if int(label[0]) == 1 else -1), data_array)) ## convert 0 to -1, doesn't matter but on the pdf it is -1\n",
    "# save datas like (-1, [6, 7, 8, 9, 10, 11, 12, 13, 14, 15, 5])\n",
    "for label, data in Z_dataset:\n",
    "    if label not in labels:\n",
    "        labels.append(label)\n",
    "    for value in data:\n",
    "        alphabet.add(value)\n",
    "\n",
    "alphabet = sorted(list(alphabet))\n",
    "if len(labels) != 2:\n",
    "    raise ValueError(\"Only binary classification is supported\")\n",
    "\n",
    "count = Counter([label for label, _ in Z_dataset])\n",
    "\n",
    "print(\"Count of labels: \", count)\n",
    "print(\"Z Dataset: \", Z_dataset)\n",
    "print(\"Len Z Dataset: \", len(Z_dataset))\n",
    "print(\"Labels: \", labels)\n",
    "print(\"Alphabet: \", alphabet)\n",
    "\n",
    "shuffled_Z = Z_dataset.copy()\n",
    "random.shuffle(shuffled_Z)\n",
    "\n",
    "print(\"Shuffled Z Dataset: \", shuffled_Z)"
   ]
  },
  {
   "cell_type": "markdown",
   "metadata": {},
   "source": [
    "## find the best subsequence of numbers that minimizes classification error based on weighted samples."
   ]
  },
  {
   "cell_type": "code",
   "execution_count": 45,
   "metadata": {},
   "outputs": [],
   "source": [
    "def contains_subsequence_(sequence, subsequence): #check if a sequence contains a subsequence\n",
    "    sub_len = len(subsequence)\n",
    "    for i in range(len(sequence) - sub_len + 1): #window of size sub_len\n",
    "        if sequence[i:i + sub_len] == subsequence:\n",
    "            return True\n",
    "\n",
    "    return False\n",
    "\n",
    "def compute_error(dataset, labels, weights, subsequence, potential_label): #how wrong a specific subsequence is when used for classification.\n",
    "    error = 0\n",
    "    for i, (seq, l) in enumerate(zip(dataset, labels)):\n",
    "        seq = seq[1]\n",
    "        contains_subsequence = contains_subsequence_(seq, subsequence)\n",
    "        if (contains_subsequence and l != potential_label) or (not contains_subsequence and l == potential_label):\n",
    "            #error increase if the sequence contains the subsequence, but the label is not the expected potential_label.\n",
    "            #error increase if the sequence does not contain the subsequence, but the label should be potential_label.\n",
    "            error += weights[i]\n",
    "    return error\n",
    "\n",
    "def find_best_sequence(Z, weights):\n",
    "    best_sequence = None\n",
    "    best_sequence_label = None\n",
    "    best_error = float('inf')\n",
    "    labels = [label for label, _ in Z]\n",
    "\n",
    "    for i in tqdm(range(len(Z))):#for each sequence in the dataset\n",
    "        sequence = Z[i][1]\n",
    "        label = labels[i]\n",
    "\n",
    "        for j in range(len(sequence)):\n",
    "            for k in range(j + 1, len(sequence) + 1):\n",
    "                subsequence = sequence[j:k]\n",
    "                for potential_label in set(labels):\n",
    "                    error = compute_error(Z, labels, weights, subsequence, potential_label)# test the error with each subsequence\n",
    "                    if error < best_error: #Update best subsequence if we find a lower error\n",
    "                        best_error = error\n",
    "                        best_sequence = subsequence\n",
    "                        best_sequence_label = potential_label\n",
    "\n",
    "    return best_sequence, best_sequence_label, best_error"
   ]
  },
  {
   "cell_type": "markdown",
   "metadata": {},
   "source": [
    "In \"classify\" we have that each weak classifier \"(seq,label)\" contributes to the final score"
   ]
  },
  {
   "cell_type": "code",
   "execution_count": 46,
   "metadata": {},
   "outputs": [],
   "source": [
    "# Boosting relies on reweighting misclassified samples, making the classifier focus more on hard-to-classify sequences in the next iteration.\n",
    "def update_weights(dataset, labels, weights, best_sequence, best_label, alpha): #update weights for every sequence\n",
    "    updated_weights = np.copy(weights)\n",
    "    for i, (seq, l) in enumerate(zip(dataset, labels)):\n",
    "        seq = seq[1]\n",
    "        contains_subsequence = contains_subsequence_(seq, best_sequence)\n",
    "\n",
    "        if(contains_subsequence and l == best_label) or (not contains_subsequence and l != best_label):\n",
    "            updated_weights[i] *= np.exp(alpha) # Increases weight for misclassified samples\n",
    "        else:\n",
    "            updated_weights[i] *= np.exp(-alpha) # Decreases weight for correctly classified samples\n",
    "\n",
    "    return updated_weights / np.sum(updated_weights) # Normalize to make them sum to 1\n",
    "\n",
    "\n",
    "def classify(sequence, rules, alphas):\n",
    "    score = 0\n",
    "    for alpha, (seq, label) in zip(alphas, rules):#each rule contributes to the final score\n",
    "        if contains_subsequence_(sequence, seq):\n",
    "            score += alpha if label == 1 else -alpha\n",
    "        else:\n",
    "            score += -alpha if label == 1 else alpha\n",
    "\n",
    "    return np.sign(score)# +1 o -1\n",
    "\n",
    "#Iterates through the dataset and compares the classifier’s prediction to the true label.\n",
    "def compute_classifier_error(dataset, classifier, rules, alphas):\n",
    "    error_count = 0\n",
    "    for label, sequence in dataset:\n",
    "        if classifier(sequence, rules, alphas) != label:\n",
    "            pred = classifier(sequence)\n",
    "            print(f\"Classifier prediction: {pred}, true label: {label}\")\n",
    "            error_count += 1\n",
    "    return error_count / len(dataset) #error rate"
   ]
  },
  {
   "cell_type": "markdown",
   "metadata": {},
   "source": [
    "## This function implements AdaBoost-style boosting for sequence classification\n",
    "### It iteratively selects the best weak classifier (a subsequence-based rule) and updates the weights to focus more on misclassified sequences. The process continues until a stopping criterion is met."
   ]
  },
  {
   "cell_type": "code",
   "execution_count": null,
   "metadata": {},
   "outputs": [],
   "source": [
    "\n",
    "def sequence_boosting(dataset, delta):\n",
    "\n",
    "    N = len(dataset)\n",
    "    weights = np.ones(N) / N\n",
    "    alphas = [] # importance of each weak classifier\n",
    "    rules = [] # Stores best sequences and corresponding labels\n",
    "    labels = [label for label, _ in dataset]\n",
    "    classifier_errors = []\n",
    "    iteration_info = []\n",
    "\n",
    "    t = 1\n",
    "\n",
    "    while True:\n",
    "        random.shuffle(dataset)\n",
    "        print(f\"Iteration: {t}\")\n",
    "        best_sequence, best_label, error = find_best_sequence(dataset, weights) #finds the subsequence that best separates the classes.\n",
    "\n",
    "        if best_sequence is None or error >= 0.5: #if error greater then 0.5 the classifier is like a random guesser\n",
    "            break\n",
    "\n",
    "        alpha_t = 0.6 * log((1 - error) / (error + 1e-5)) #small error-> high alpha, high error -> low alpha\n",
    "\n",
    "        print(f\"Best sequence: {best_sequence}, best label: {best_label}, error: {error:.4f}, alpha: {alpha_t:.4f}\")\n",
    "        alphas.append(alpha_t)\n",
    "        rules.append((best_sequence, best_label)) # adding a weak classifier at each step of while loop\n",
    "\n",
    "        #Increases weights for misclassified samples. Decreases weights for correctly classified samples.\n",
    "        weights = update_weights(dataset, labels, weights, best_sequence, best_label, alpha_t)\n",
    "\n",
    "        error_count = 0\n",
    "        predictions = []\n",
    "\n",
    "        #it classifies every sequence in the dataset and compares the classifier’s prediction to the true label.\n",
    "        for label, sequence in dataset:\n",
    "            if classify(sequence, rules, alphas) != label:\n",
    "                pred = classify(sequence, rules, alphas)\n",
    "                predictions.append(pred)\n",
    "                error_count += 1\n",
    "\n",
    "        overall_classifier_error = error_count / len(dataset)\n",
    "        classifier_errors.append(overall_classifier_error)\n",
    "        print(f\"Classifier error: {overall_classifier_error}\")\n",
    "\n",
    "        iteration_info.append({\n",
    "            \"iteration\": t,\n",
    "            \"alpha\": alpha_t,\n",
    "            \"error\": error,\n",
    "            \"classifier_error\": overall_classifier_error,\n",
    "            \"weights\": weights.copy(),\n",
    "            \"best_sequence\": best_sequence,\n",
    "            \"best_label\": best_label,\n",
    "            \"predictions\": predictions\n",
    "        })\n",
    "\n",
    "        #THE SYSTEM STOPS IF ERROR IS SMALL OR REACH 50 ITERATIONS\n",
    "        if overall_classifier_error < delta or overall_classifier_error == 0:\n",
    "            print(\"Classifier error below threshold.\") if overall_classifier_error < delta else print(\"Classifier error is zero.\")\n",
    "            break\n",
    "\n",
    "        if t > 50:\n",
    "            print(\"Reached maximum number of iterations.\")\n",
    "            break\n",
    "\n",
    "        t += 1\n",
    "\n",
    "    final_classifier = lambda seq: classify(seq, rules, alphas)\n",
    "\n",
    "    '''final_predictions = [classify(seq, rules, alphas) for _, seq in dataset]\n",
    "    y_true = labels\n",
    "    y_pred = final_predictions\n",
    "    #Confusion matrix and accuracy using scikit-learn\n",
    "    cm = confusion_matrix(y_true, y_pred)\n",
    "    accuracy = accuracy_score(y_true, y_pred)'''\n",
    "    #returns the boosted classifier, best sequences/rules, etc.\n",
    "    return final_classifier, rules, alphas, classifier_errors, iteration_info#, cm, accuracy"
   ]
  },
  {
   "cell_type": "code",
   "execution_count": 87,
   "metadata": {},
   "outputs": [
    {
     "name": "stdout",
     "output_type": "stream",
     "text": [
      "Count of labels:  Counter({-1: 52, 1: 48})\n"
     ]
    }
   ],
   "source": [
    "#Count label occurrences in the first 100 sequences\n",
    "count_shuffled_reduced = Counter([label for label, _ in shuffled_Z[600:700]])\n",
    "print(\"Count of labels: \", count_shuffled_reduced)"
   ]
  },
  {
   "cell_type": "code",
   "execution_count": null,
   "metadata": {},
   "outputs": [
    {
     "name": "stdout",
     "output_type": "stream",
     "text": [
      "Iteration: 1\n"
     ]
    },
    {
     "name": "stderr",
     "output_type": "stream",
     "text": [
      "100%|██████████| 100/100 [00:01<00:00, 67.05it/s]\n"
     ]
    },
    {
     "name": "stdout",
     "output_type": "stream",
     "text": [
      "Best sequence: [7], best label: -1, error: 0.3500, alpha: 0.3714\n",
      "Classifier error: 0.35\n",
      "Iteration: 2\n"
     ]
    },
    {
     "name": "stderr",
     "output_type": "stream",
     "text": [
      "100%|██████████| 100/100 [00:01<00:00, 69.60it/s]\n"
     ]
    },
    {
     "name": "stdout",
     "output_type": "stream",
     "text": [
      "Best sequence: [1146], best label: 1, error: 0.3483, alpha: 0.3760\n",
      "Classifier error: 0.36\n",
      "Iteration: 3\n"
     ]
    },
    {
     "name": "stderr",
     "output_type": "stream",
     "text": [
      "100%|██████████| 100/100 [00:01<00:00, 70.02it/s]\n"
     ]
    },
    {
     "name": "stdout",
     "output_type": "stream",
     "text": [
      "Best sequence: [1146], best label: 1, error: 0.3312, alpha: 0.4217\n",
      "Classifier error: 0.36\n",
      "Iteration: 4\n"
     ]
    },
    {
     "name": "stderr",
     "output_type": "stream",
     "text": [
      "100%|██████████| 100/100 [00:01<00:00, 69.61it/s]\n"
     ]
    },
    {
     "name": "stdout",
     "output_type": "stream",
     "text": [
      "Best sequence: [7], best label: -1, error: 0.3153, alpha: 0.4654\n",
      "Classifier error: 0.35\n",
      "Iteration: 5\n"
     ]
    },
    {
     "name": "stderr",
     "output_type": "stream",
     "text": [
      "100%|██████████| 100/100 [00:01<00:00, 69.07it/s]\n"
     ]
    },
    {
     "name": "stdout",
     "output_type": "stream",
     "text": [
      "Best sequence: [7], best label: -1, error: 0.3653, alpha: 0.3315\n",
      "Classifier error: 0.35\n",
      "Iteration: 6\n"
     ]
    },
    {
     "name": "stderr",
     "output_type": "stream",
     "text": [
      "100%|██████████| 100/100 [00:01<00:00, 69.68it/s]\n"
     ]
    },
    {
     "name": "stdout",
     "output_type": "stream",
     "text": [
      "Best sequence: [7], best label: -1, error: 0.3516, alpha: 0.3673\n",
      "Classifier error: 0.35\n",
      "Iteration: 7\n"
     ]
    },
    {
     "name": "stderr",
     "output_type": "stream",
     "text": [
      "100%|██████████| 100/100 [00:01<00:00, 69.77it/s]\n"
     ]
    },
    {
     "name": "stdout",
     "output_type": "stream",
     "text": [
      "Best sequence: [1146], best label: 1, error: 0.3109, alpha: 0.4775\n",
      "Classifier error: 0.35\n",
      "Iteration: 8\n"
     ]
    },
    {
     "name": "stderr",
     "output_type": "stream",
     "text": [
      "100%|██████████| 100/100 [00:01<00:00, 66.33it/s]\n"
     ]
    },
    {
     "name": "stdout",
     "output_type": "stream",
     "text": [
      "Best sequence: [7], best label: -1, error: 0.3250, alpha: 0.4386\n",
      "Classifier error: 0.35\n",
      "Iteration: 9\n"
     ]
    },
    {
     "name": "stderr",
     "output_type": "stream",
     "text": [
      "100%|██████████| 100/100 [00:01<00:00, 69.34it/s]\n"
     ]
    },
    {
     "name": "stdout",
     "output_type": "stream",
     "text": [
      "Best sequence: [220], best label: 1, error: 0.2873, alpha: 0.5451\n",
      "Classifier error: 0.35\n",
      "Iteration: 10\n"
     ]
    },
    {
     "name": "stderr",
     "output_type": "stream",
     "text": [
      "100%|██████████| 100/100 [00:01<00:00, 71.44it/s]\n"
     ]
    },
    {
     "name": "stdout",
     "output_type": "stream",
     "text": [
      "Best sequence: [7], best label: -1, error: 0.2463, alpha: 0.6711\n",
      "Classifier error: 0.35\n",
      "Iteration: 11\n"
     ]
    },
    {
     "name": "stderr",
     "output_type": "stream",
     "text": [
      "100%|██████████| 100/100 [00:01<00:00, 69.74it/s]\n"
     ]
    },
    {
     "name": "stdout",
     "output_type": "stream",
     "text": [
      "Best sequence: [1, 18], best label: -1, error: 0.3074, alpha: 0.4873\n",
      "Classifier error: 0.35\n",
      "Iteration: 12\n"
     ]
    },
    {
     "name": "stderr",
     "output_type": "stream",
     "text": [
      "100%|██████████| 100/100 [00:01<00:00, 67.31it/s]\n"
     ]
    },
    {
     "name": "stdout",
     "output_type": "stream",
     "text": [
      "Best sequence: [1146], best label: 1, error: 0.2312, alpha: 0.7210\n",
      "Classifier error: 0.34\n",
      "Iteration: 13\n"
     ]
    },
    {
     "name": "stderr",
     "output_type": "stream",
     "text": [
      "100%|██████████| 100/100 [00:01<00:00, 68.04it/s]\n"
     ]
    },
    {
     "name": "stdout",
     "output_type": "stream",
     "text": [
      "Best sequence: [37], best label: -1, error: 0.3366, alpha: 0.4070\n",
      "Classifier error: 0.35\n",
      "Iteration: 14\n"
     ]
    },
    {
     "name": "stderr",
     "output_type": "stream",
     "text": [
      "100%|██████████| 100/100 [00:01<00:00, 69.68it/s]\n"
     ]
    },
    {
     "name": "stdout",
     "output_type": "stream",
     "text": [
      "Best sequence: [1739], best label: 1, error: 0.2583, alpha: 0.6330\n",
      "Classifier error: 0.3\n",
      "Iteration: 15\n"
     ]
    },
    {
     "name": "stderr",
     "output_type": "stream",
     "text": [
      "100%|██████████| 100/100 [00:01<00:00, 69.03it/s]\n"
     ]
    },
    {
     "name": "stdout",
     "output_type": "stream",
     "text": [
      "Best sequence: [26], best label: -1, error: 0.2747, alpha: 0.5826\n",
      "Classifier error: 0.31\n",
      "Iteration: 16\n"
     ]
    },
    {
     "name": "stderr",
     "output_type": "stream",
     "text": [
      "100%|██████████| 100/100 [00:01<00:00, 68.61it/s]\n"
     ]
    },
    {
     "name": "stdout",
     "output_type": "stream",
     "text": [
      "Best sequence: [1146], best label: 1, error: 0.2481, alpha: 0.6651\n",
      "Classifier error: 0.28\n",
      "Iteration: 17\n"
     ]
    },
    {
     "name": "stderr",
     "output_type": "stream",
     "text": [
      "100%|██████████| 100/100 [00:01<00:00, 68.17it/s]\n"
     ]
    },
    {
     "name": "stdout",
     "output_type": "stream",
     "text": [
      "Best sequence: [1146], best label: 1, error: 0.2154, alpha: 0.7756\n",
      "Classifier error: 0.29\n",
      "Iteration: 18\n"
     ]
    },
    {
     "name": "stderr",
     "output_type": "stream",
     "text": [
      "100%|██████████| 100/100 [00:01<00:00, 68.24it/s]\n"
     ]
    },
    {
     "name": "stdout",
     "output_type": "stream",
     "text": [
      "Best sequence: [1146], best label: 1, error: 0.2086, alpha: 0.8000\n",
      "Classifier error: 0.35\n",
      "Iteration: 19\n"
     ]
    },
    {
     "name": "stderr",
     "output_type": "stream",
     "text": [
      "100%|██████████| 100/100 [00:01<00:00, 67.20it/s]\n"
     ]
    },
    {
     "name": "stdout",
     "output_type": "stream",
     "text": [
      "Best sequence: [20], best label: -1, error: 0.1775, alpha: 0.9198\n",
      "Classifier error: 0.28\n",
      "Iteration: 20\n"
     ]
    },
    {
     "name": "stderr",
     "output_type": "stream",
     "text": [
      "100%|██████████| 100/100 [00:01<00:00, 70.42it/s]"
     ]
    },
    {
     "name": "stdout",
     "output_type": "stream",
     "text": [
      "Best sequence: [79], best label: -1, error: 0.1482, alpha: 1.0494\n",
      "Classifier error: 0.18\n",
      "Classifier error below threshold.\n"
     ]
    },
    {
     "name": "stderr",
     "output_type": "stream",
     "text": [
      "\n"
     ]
    }
   ],
   "source": [
    "classifier, rules, alphas, errors, iteration_info = sequence_boosting(shuffled_Z[600:700], delta=0.20)"
   ]
  },
  {
   "cell_type": "code",
   "execution_count": 77,
   "metadata": {},
   "outputs": [
    {
     "name": "stdout",
     "output_type": "stream",
     "text": [
      "Number of correct predictions: 82 out of 100\n",
      "Percentage of correct: 82.00%\n"
     ]
    }
   ],
   "source": [
    "count = 0\n",
    "for label, sequence in shuffled_Z[600:700]:\n",
    "    prediction = classifier(sequence)\n",
    "    if prediction == label:\n",
    "        count += 1\n",
    "\n",
    "print(f\"Number of correct predictions: {count} out of {len(shuffled_Z[600:700])}\")\n",
    "print(f\"Percentage of correct: {(count * 100) / len(shuffled_Z[600:700]):.2f}%\")"
   ]
  },
  {
   "cell_type": "markdown",
   "metadata": {},
   "source": [
    "## Weights interpretation\n",
    "Higher weights indicate data points that are difficult to classify for the previous ensembled classifier, this means that the new classifier needs to give more attention to those weights."
   ]
  },
  {
   "cell_type": "code",
   "execution_count": null,
   "metadata": {},
   "outputs": [
    {
     "data": {
      "application/vnd.plotly.v1+json": {
       "config": {
        "plotlyServerURL": "https://plot.ly"
       },
       "data": [
        {
         "hovertemplate": "Iterations=Iteration 1<br>Data Point=%{x}<br>Weights=%{y}<extra></extra>",
         "legendgroup": "Iteration 1",
         "line": {
          "color": "#636efa",
          "dash": "solid"
         },
         "marker": {
          "symbol": "circle"
         },
         "mode": "lines",
         "name": "Iteration 1",
         "showlegend": true,
         "type": "scattergl",
         "x": {
          "bdata": "AAECAwQFBgcICQoLDA0ODxAREhMUFRYXGBkaGxwdHh8gISIjJCUmJygpKissLS4vMDEyMzQ1Njc4OTo7PD0+P0BBQkNERUZHSElKS0xNTk9QUVJTVFVWV1hZWltcXV5fYGFiYw==",
          "dtype": "i1"
         },
         "xaxis": "x",
         "y": {
          "bdata": "sofbNBr0iz+yh9s0GvSLP7KH2zQa9Is/sofbNBr0iz+yh9s0GvSLPx3YCTZfmXo/HdgJNl+Zej8d2Ak2X5l6Px3YCTZfmXo/HdgJNl+Zej8d2Ak2X5l6Px3YCTZfmXo/HdgJNl+Zej8d2Ak2X5l6P7KH2zQa9Is/HdgJNl+Zej8d2Ak2X5l6P7KH2zQa9Is/sofbNBr0iz+yh9s0GvSLPx3YCTZfmXo/sofbNBr0iz8d2Ak2X5l6P7KH2zQa9Is/HdgJNl+Zej+yh9s0GvSLP7KH2zQa9Is/HdgJNl+Zej+yh9s0GvSLP7KH2zQa9Is/HdgJNl+Zej8d2Ak2X5l6P7KH2zQa9Is/HdgJNl+Zej8d2Ak2X5l6Px3YCTZfmXo/sofbNBr0iz8d2Ak2X5l6P7KH2zQa9Is/sofbNBr0iz+yh9s0GvSLPx3YCTZfmXo/sofbNBr0iz+yh9s0GvSLP7KH2zQa9Is/sofbNBr0iz+yh9s0GvSLPx3YCTZfmXo/HdgJNl+Zej+yh9s0GvSLPx3YCTZfmXo/HdgJNl+Zej8d2Ak2X5l6P7KH2zQa9Is/HdgJNl+Zej+yh9s0GvSLP7KH2zQa9Is/HdgJNl+Zej8d2Ak2X5l6P7KH2zQa9Is/HdgJNl+Zej+yh9s0GvSLP7KH2zQa9Is/sofbNBr0iz8d2Ak2X5l6P7KH2zQa9Is/sofbNBr0iz8d2Ak2X5l6Px3YCTZfmXo/HdgJNl+Zej8d2Ak2X5l6Px3YCTZfmXo/HdgJNl+Zej+yh9s0GvSLP7KH2zQa9Is/sofbNBr0iz+yh9s0GvSLPx3YCTZfmXo/HdgJNl+Zej+yh9s0GvSLP7KH2zQa9Is/sofbNBr0iz8d2Ak2X5l6P7KH2zQa9Is/sofbNBr0iz8d2Ak2X5l6Px3YCTZfmXo/sofbNBr0iz+yh9s0GvSLP7KH2zQa9Is/HdgJNl+Zej8d2Ak2X5l6Px3YCTZfmXo/HdgJNl+Zej+yh9s0GvSLPx3YCTZfmXo/sofbNBr0iz8d2Ak2X5l6Px3YCTZfmXo/HdgJNl+Zej8=",
          "dtype": "f8"
         },
         "yaxis": "y"
        },
        {
         "hovertemplate": "Iterations=Iteration 2<br>Data Point=%{x}<br>Weights=%{y}<extra></extra>",
         "legendgroup": "Iteration 2",
         "line": {
          "color": "#EF553B",
          "dash": "solid"
         },
         "marker": {
          "symbol": "circle"
         },
         "mode": "lines",
         "name": "Iteration 2",
         "showlegend": true,
         "type": "scattergl",
         "x": {
          "bdata": "AAECAwQFBgcICQoLDA0ODxAREhMUFRYXGBkaGxwdHh8gISIjJCUmJygpKissLS4vMDEyMzQ1Njc4OTo7PD0+P0BBQkNERUZHSElKS0xNTk9QUVJTVFVWV1hZWltcXV5fYGFiYw==",
          "dtype": "i1"
         },
         "xaxis": "x",
         "y": {
          "bdata": "f3+1QNQUlD9LFWzAI++CP0sVbMAj74I/SxVswCPvgj9LFWzAI++CPxsV+bVIBHI/2mpZV74bgz/aallXvhuDPxsV+bVIBHI/GxX5tUgEcj/aallXvhuDP9pqWVe+G4M/2mpZV74bgz8bFfm1SARyP0sVbMAj74I/2mpZV74bgz/aallXvhuDP0sVbMAj74I/SxVswCPvgj9/f7VA1BSUP9pqWVe+G4M/SxVswCPvgj8bFfm1SARyP39/tUDUFJQ/2mpZV74bgz9/f7VA1BSUP0sVbMAj74I/2mpZV74bgz9/f7VA1BSUP0sVbMAj74I/2mpZV74bgz/aallXvhuDP0sVbMAj74I/2mpZV74bgz/aallXvhuDP9pqWVe+G4M/SxVswCPvgj/aallXvhuDP39/tUDUFJQ/f3+1QNQUlD9LFWzAI++CPxsV+bVIBHI/f3+1QNQUlD9LFWzAI++CP0sVbMAj74I/SxVswCPvgj9LFWzAI++CP9pqWVe+G4M/GxX5tUgEcj9LFWzAI++CP9pqWVe+G4M/2mpZV74bgz/aallXvhuDP0sVbMAj74I/GxX5tUgEcj9/f7VA1BSUP39/tUDUFJQ/2mpZV74bgz/aallXvhuDP0sVbMAj74I/2mpZV74bgz9LFWzAI++CP0sVbMAj74I/SxVswCPvgj8bFfm1SARyP39/tUDUFJQ/SxVswCPvgj/aallXvhuDPxsV+bVIBHI/2mpZV74bgz8bFfm1SARyP9pqWVe+G4M/GxX5tUgEcj9/f7VA1BSUP0sVbMAj74I/SxVswCPvgj9LFWzAI++CPxsV+bVIBHI/2mpZV74bgz9LFWzAI++CP0sVbMAj74I/SxVswCPvgj/aallXvhuDP39/tUDUFJQ/SxVswCPvgj/aallXvhuDP9pqWVe+G4M/SxVswCPvgj9/f7VA1BSUP0sVbMAj74I/2mpZV74bgz/aallXvhuDP9pqWVe+G4M/GxX5tUgEcj9LFWzAI++CP9pqWVe+G4M/SxVswCPvgj/aallXvhuDPxsV+bVIBHI/2mpZV74bgz8=",
          "dtype": "f8"
         },
         "yaxis": "y"
        },
        {
         "hovertemplate": "Iterations=Iteration 3<br>Data Point=%{x}<br>Weights=%{y}<extra></extra>",
         "legendgroup": "Iteration 3",
         "line": {
          "color": "#00cc96",
          "dash": "solid"
         },
         "marker": {
          "symbol": "circle"
         },
         "mode": "lines",
         "name": "Iteration 3",
         "showlegend": true,
         "type": "scattergl",
         "x": {
          "bdata": "AAECAwQFBgcICQoLDA0ODxAREhMUFRYXGBkaGxwdHh8gISIjJCUmJygpKissLS4vMDEyMzQ1Njc4OTo7PD0+P0BBQkNERUZHSElKS0xNTk9QUVJTVFVWV1hZWltcXV5fYGFiYw==",
          "dtype": "i1"
         },
         "xaxis": "x",
         "y": {
          "bdata": "HXe9r4vzhj/HtUv54aN1P8e1S/nho3U/x7VL+eGjdT/HtUv54aN1PxDWXZrC7Xc/radr7OtgiT+tp2vs62CJP3CEGUZ2l2Q/cIQZRnaXZD+tp2vs62CJPwSk+nvc1nU/radr7OtgiT9whBlGdpdkP8e1S/nho3U/radr7OtgiT+tp2vs62CJP8e1S/nho3U/t/ZSb64liT/+r6z/vauaP62na+zrYIk/x7VL+eGjdT9whBlGdpdkPx13va+L84Y/radr7OtgiT/+r6z/vauaP8e1S/nho3U/radr7OtgiT8dd72vi/OGP8e1S/nho3U/radr7OtgiT+tp2vs62CJP8e1S/nho3U/radr7OtgiT+tp2vs62CJP62na+zrYIk/x7VL+eGjdT+tp2vs62CJPx13va+L84Y//q+s/72rmj/HtUv54aN1PxDWXZrC7Xc//q+s/72rmj/HtUv54aN1P8e1S/nho3U/x7VL+eGjdT/HtUv54aN1P62na+zrYIk/ENZdmsLtdz/HtUv54aN1P62na+zrYIk/radr7OtgiT8EpPp73NZ1P8e1S/nho3U/cIQZRnaXZD/+r6z/vauaP/6vrP+9q5o/radr7OtgiT+tp2vs62CJP8e1S/nho3U/radr7OtgiT/HtUv54aN1P8e1S/nho3U/x7VL+eGjdT9whBlGdpdkPx13va+L84Y/x7VL+eGjdT+tp2vs62CJP3CEGUZ2l2Q/radr7OtgiT8Q1l2awu13P62na+zrYIk/cIQZRnaXZD/+r6z/vauaP8e1S/nho3U/x7VL+eGjdT/HtUv54aN1P3CEGUZ2l2Q/radr7OtgiT/HtUv54aN1P7f2Um+uJYk/t/ZSb64liT+tp2vs62CJP/6vrP+9q5o/t/ZSb64liT+tp2vs62CJP62na+zrYIk/x7VL+eGjdT/+r6z/vauaP8e1S/nho3U/radr7OtgiT+tp2vs62CJP62na+zrYIk/ENZdmsLtdz+39lJvriWJP62na+zrYIk/x7VL+eGjdT+tp2vs62CJPxDWXZrC7Xc/radr7OtgiT8=",
          "dtype": "f8"
         },
         "yaxis": "y"
        },
        {
         "hovertemplate": "Iterations=Iteration 4<br>Data Point=%{x}<br>Weights=%{y}<extra></extra>",
         "legendgroup": "Iteration 4",
         "line": {
          "color": "#ab63fa",
          "dash": "solid"
         },
         "marker": {
          "symbol": "circle"
         },
         "mode": "lines",
         "name": "Iteration 4",
         "showlegend": true,
         "type": "scattergl",
         "x": {
          "bdata": "AAECAwQFBgcICQoLDA0ODxAREhMUFRYXGBkaGxwdHh8gISIjJCUmJygpKissLS4vMDEyMzQ1Njc4OTo7PD0+P0BBQkNERUZHSElKS0xNTk9QUVJTVFVWV1hZWltcXV5fYGFiYw==",
          "dtype": "i1"
         },
         "xaxis": "x",
         "y": {
          "bdata": "yqfR0HHRkT+fAoexv35qP1b4k8zazIA/VviTzNrMgD9W+JPM2syAP0mmMHeyk4I/l+v6iX8Sfz+X6/qJfxJ/P+/JUo7v+G8/jPA9tRs2WT+X6/qJfxJ/P/l4CBIqvWo/l+v6iX8Sfz/vyVKO7/hvP58Ch7G/fmo/l+v6iX8Sfz9SEYqX2LOTP58Ch7G/fmo/3za09NqFkz9jqKrdxFOQP5fr+ol/En8/VviTzNrMgD/vyVKO7/hvP8qn0dBx0ZE/l+v6iX8Sfz9jqKrdxFOQP1b4k8zazIA/l+v6iX8Sfz/Kp9HQcdGRP1b4k8zazIA/l+v6iX8Sfz+X6/qJfxJ/P1b4k8zazIA/l+v6iX8Sfz+X6/qJfxJ/P5fr+ol/En8/VviTzNrMgD9SEYqX2LOTP8qn0dBx0ZE/CLkxOa20pD9W+JPM2syAP2HuGDIRTG0/CLkxOa20pD9W+JPM2syAP1b4k8zazIA/VviTzNrMgD9W+JPM2syAP1IRipfYs5M/Ye4YMhFMbT9W+JPM2syAP5fr+ol/En8/l+v6iX8Sfz/5eAgSKr1qP1b4k8zazIA/jPA9tRs2WT9jqKrdxFOQPwi5MTmttKQ/l+v6iX8Sfz+X6/qJfxJ/P1b4k8zazIA/l+v6iX8Sfz+fAoexv35qP1b4k8zazIA/VviTzNrMgD/vyVKO7/hvP8qn0dBx0ZE/nwKHsb9+aj9SEYqX2LOTP4zwPbUbNlk/l+v6iX8Sfz9h7hgyEUxtP5fr+ol/En8/78lSju/4bz9jqKrdxFOQP58Ch7G/fmo/VviTzNrMgD9W+JPM2syAP+/JUo7v+G8/l+v6iX8Sfz9W+JPM2syAP982tPTahZM/3za09NqFkz9SEYqX2LOTP2Ooqt3EU5A/3za09NqFkz+X6/qJfxJ/P5fr+ol/En8/VviTzNrMgD9jqKrdxFOQP58Ch7G/fmo/UhGKl9izkz+X6/qJfxJ/P5fr+ol/En8/Ye4YMhFMbT/fNrT02oWTP5fr+ol/En8/VviTzNrMgD+X6/qJfxJ/P2HuGDIRTG0/l+v6iX8Sfz8=",
          "dtype": "f8"
         },
         "yaxis": "y"
        },
        {
         "hovertemplate": "Iterations=Iteration 5<br>Data Point=%{x}<br>Weights=%{y}<extra></extra>",
         "legendgroup": "Iteration 5",
         "line": {
          "color": "#FFA15A",
          "dash": "solid"
         },
         "marker": {
          "symbol": "circle"
         },
         "mode": "lines",
         "name": "Iteration 5",
         "showlegend": true,
         "type": "scattergl",
         "x": {
          "bdata": "AAECAwQFBgcICQoLDA0ODxAREhMUFRYXGBkaGxwdHh8gISIjJCUmJygpKissLS4vMDEyMzQ1Njc4OTo7PD0+P0BBQkNERUZHSElKS0xNTk9QUVJTVFVWV1hZWltcXV5fYGFiYw==",
          "dtype": "i1"
         },
         "xaxis": "x",
         "y": {
          "bdata": "hwAEdcl/mD+dXZHX/TZyP6+7orl8GYc/r7uiuXwZhz+vu6K5fBmHP6mCWC3giok/1yGWNXoEdj/XIZY1egR2P1R/4lvDp2Y/Bs7P8A5VYT+/9Sgui1yFP1xnLiFq8mI/1yGWNXoEdj/0ARvn9vp1P51dkdf9NnI/1yGWNXoEdj8culqBCeyLP51dkdf9NnI/6+1FJNXXmj9vyFkJfCOHP9chljV6BHY/r7uiuXwZhz/0ARvn9vp1P4cABHXJf5g/1yGWNXoEdj9vyFkJfCOHP6+7orl8GYc/v/UoLotchT8555oxY0CJP6+7orl8GYc/1yGWNXoEdj/XIZY1egR2P/aPBa8Vz3c/v/UoLotchT/XIZY1egR2P9chljV6BHY/r7uiuXwZhz8culqBCeyLP4cABHXJf5g/VGOAJANYnT+vu6K5fBmHP4H8Qt14wmQ/9nkG3zJ4rD+vu6K5fBmHP/aPBa8Vz3c/r7uiuXwZhz+vu6K5fBmHPxy6WoEJ7Is/gfxC3XjCZD+vu6K5fBmHP9chljV6BHY/1yGWNXoEdj9cZy4havJiP6+7orl8GYc/X5ok71DdUT9vyFkJfCOHP1RjgCQDWJ0/1yGWNXoEdj/XIZY1egR2P6+7orl8GYc/v/UoLotchT+dXZHX/TZyP6+7orl8GYc/r7uiuXwZhz9Uf+Jbw6dmPznnmjFjQIk/nV2R1/02cj8culqBCeyLP1+aJO9Q3VE/1yGWNXoEdj+B/ELdeMJkP9chljV6BHY/9AEb5/b6dT9vyFkJfCOHP51dkdf9NnI/r7uiuXwZhz/2jwWvFc93P/QBG+f2+nU/1yGWNXoEdj/2jwWvFc93P+vtRSTV15o/6+1FJNXXmj8culqBCeyLP2/IWQl8I4c/6+1FJNXXmj/XIZY1egR2P9chljV6BHY/9o8FrxXPdz9sgfrr/3KWP51dkdf9NnI/HLpagQnsiz/XIZY1egR2P9chljV6BHY/1ZKX3CEkdD/r7UUk1deaP9chljV6BHY/9o8FrxXPdz+/9Sgui1yFP9WSl9whJHQ/1yGWNXoEdj8=",
          "dtype": "f8"
         },
         "yaxis": "y"
        },
        {
         "hovertemplate": "Iterations=Iteration 6<br>Data Point=%{x}<br>Weights=%{y}<extra></extra>",
         "legendgroup": "Iteration 6",
         "line": {
          "color": "#19d3f3",
          "dash": "solid"
         },
         "marker": {
          "symbol": "circle"
         },
         "mode": "lines",
         "name": "Iteration 6",
         "showlegend": true,
         "type": "scattergl",
         "x": {
          "bdata": "AAECAwQFBgcICQoLDA0ODxAREhMUFRYXGBkaGxwdHh8gISIjJCUmJygpKissLS4vMDEyMzQ1Njc4OTo7PD0+P0BBQkNERUZHSElKS0xNTk9QUVJTVFVWV1hZWltcXV5fYGFiYw==",
          "dtype": "i1"
         },
         "xaxis": "x",
         "y": {
          "bdata": "debN7T4eoD8XqWuenvd3P2aEKV4JZY4/ZoQpXglljj9mhCleCWWOP/PGCRD3zZA/zLn7NIv4fD9Vgy1W9strP/ymwqdlz20/lR5oCbfhVT+VlTHa8vd6P/EUmxCS61c/VYMtVvbLaz+9VBnN879rPxepa56e93c/VYMtVvbLaz+0c5IeJKCBPxepa56e93c/hAmP9wSpoT++blPdTTZ9P1WDLVb2y2s/ZoQpXglljj+QqzzNBux8P3Xmze0+HqA/VYMtVvbLaz++blPdTTZ9P2aEKV4JZY4/lZUx2vL3ej+olY56L+F/Pzj+ZcauKX0/VYMtVvbLaz9Vgy1W9strP67sOxf8U38/lZUx2vL3ej9Vgy1W9strP1WDLVb2y2s/ZoQpXglljj8IDy9rvF6SP3Xmze0+HqA/2XFjweWFkj9mhCleCWWOP9SrrI9vNVo/xYto+/K6sj9mhCleCWWOP67sOxf8U38/ZoQpXglljj84/mXGril9P7Rzkh4koIE/1Kusj281Wj9mhCleCWWOP1WDLVb2y2s/VYMtVvbLaz/xFJsQkutXP2aEKV4JZY4/OMlq/ryNRj9d+KnwMHKOP9lxY8HlhZI/zLn7NIv4fD/Mufs0i/h8P2aEKV4JZY4/lZUx2vL3ej8XqWuenvd3Pzj+ZcauKX0/OP5lxq4pfT/8psKnZc9tP3pvJnf1nJA/F6lrnp73dz+0c5IeJKCBPzjJav68jUY/VYMtVvbLaz/Uq6yPbzVaP8y5+zSL+Hw/vVQZzfO/az++blPdTTZ9Pxepa56e93c/ZoQpXglljj+u7DsX/FN/P5CrPM0G7Hw/VYMtVvbLaz+u7DsX/FN/P4QJj/cEqaE/hAmP9wSpoT+0c5IeJKCBP75uU91NNn0/hAmP9wSpoT9Vgy1W9strP8y5+zSL+Hw/ruw7F/xTfz8wy9OxfleMP9g1wbjz/mY/tHOSHiSggT9Vgy1W9strP1WDLVb2y2s/7RxVxYhtaT+/pTwIyvGQP8y5+zSL+Hw/ruw7F/xTfz+VlTHa8vd6P+0cVcWIbWk/VYMtVvbLaz8=",
          "dtype": "f8"
         },
         "yaxis": "y"
        },
        {
         "hovertemplate": "Iterations=Iteration 7<br>Data Point=%{x}<br>Weights=%{y}<extra></extra>",
         "legendgroup": "Iteration 7",
         "line": {
          "color": "#FF6692",
          "dash": "solid"
         },
         "marker": {
          "symbol": "circle"
         },
         "mode": "lines",
         "name": "Iteration 7",
         "showlegend": true,
         "type": "scattergl",
         "x": {
          "bdata": "AAECAwQFBgcICQoLDA0ODxAREhMUFRYXGBkaGxwdHh8gISIjJCUmJygpKissLS4vMDEyMzQ1Njc4OTo7PD0+P0BBQkNERUZHSElKS0xNTk9QUVJTVFVWV1hZWltcXV5fYGFiYw==",
          "dtype": "i1"
         },
         "xaxis": "x",
         "y": {
          "bdata": "+K762yJNqT94zF2LOPRsP/7gXeYa25c/KLaysv5bgj8otrKy/luCP3FTaEn4YJo/NefwhAa9hj9HNoKhG9F1P4/1Xp2bAWI/TZc83jpvSj9Fc1BptCqFP+9utIc1xmI/RzaCoRvRdT/4Vl+uA8NgP3jMXYs49Gw/RzaCoRvRdT+Wuzx79Ep1P3jMXYs49Gw/1zwGOq5VlT8BUQPWf+2GP0c2gqEb0XU/KLaysv5bgj9A7lrQRHhxP0XuRNLEeJM/RzaCoRvRdT97SReFIqVxPyi2srL+W4I/RXNQabQqhT9e2G4AeQWJPyggptaCnXE/RzaCoRvRdT9HNoKhG9F1Pxy4TsVT7HI/RXNQabQqhT9HNoKhG9F1P0c2gqEb0XU//uBd5hrblz+H61qJE9acP0XuRNLEeJM/AnxQt4wTnT8otrKy/luCP44TE5AJkmQ/hwwI8Jqgpj8otrKy/luCPy555fyllog/KLaysv5bgj8oIKbWgp1xP/UgyEbkqos/jhMTkAmSZD8otrKy/luCP0c2gqEb0XU/RzaCoRvRdT/vbrSHNcZiPyi2srL+W4I/Tfuo1qKzUT9uCfABbuWXPwJ8ULeME50/NefwhAa9hj815/CEBr2GPyi2srL+W4I/RXNQabQqhT94zF2LOPRsPyggptaCnXE/KCCm1oKdcT/oHLRPqGV3P/mx5KXYEYQ/eMxdizj0bD/1IMhG5KqLP037qNais1E/liaDzETKYD92ggRybalPPzXn8IQGvYY/+FZfrgPDYD8BUQPWf+2GP3jMXYs49Gw/KLaysv5bgj8cuE7FU+xyP0DuWtBEeHE/RzaCoRvRdT8cuE7FU+xyP9c8BjquVZU/PIHXDtS4qz/1IMhG5KqLPwFRA9Z/7YY/1zwGOq5VlT9HNoKhG9F1PzXn8IQGvYY/HLhOxVPscj9CzUV7nz6WP2F+hIbQx1s/9SDIRuSqiz9HNoKhG9F1P0c2gqEb0XU/s0SZBu+3Xj/6gUWmU3iEPzXn8IQGvYY/HLhOxVPscj9Fc1BptCqFP7C8bvwj9XM/RzaCoRvRdT8=",
          "dtype": "f8"
         },
         "yaxis": "y"
        },
        {
         "hovertemplate": "Iterations=Iteration 8<br>Data Point=%{x}<br>Weights=%{y}<extra></extra>",
         "legendgroup": "Iteration 8",
         "line": {
          "color": "#B6E880",
          "dash": "solid"
         },
         "marker": {
          "symbol": "circle"
         },
         "mode": "lines",
         "name": "Iteration 8",
         "showlegend": true,
         "type": "scattergl",
         "x": {
          "bdata": "AAECAwQFBgcICQoLDA0ODxAREhMUFRYXGBkaGxwdHh8gISIjJCUmJygpKissLS4vMDEyMzQ1Njc4OTo7PD0+P0BBQkNERUZHSElKS0xNTk9QUVJTVFVWV1hZWltcXV5fYGFiYw==",
          "dtype": "i1"
         },
         "xaxis": "x",
         "y": {
          "bdata": "7aVOMNkusT9y3GCd5alzP34TOiOMM6A/5rhqJdzviD8Dt2RADr90P2hm/jgt6qE/uA4/uNWxeT8lpRX+FKJ9P9vPtggXdWg/pnaZddzzUT8bOyoINet3PwJvQD8UN1U/afjjtD6naD90qAipWsRmP7njiAb0W2A/afjjtD6naD+Oerd/pg9oP3LcYJ3lqXM/ScdgM2/6nD+p4he6XCSPP2n447Q+p2g/5rhqJdzviD+km3HhuL1jP56RgZraAIY/afjjtD6naD9t4uXga/BjP+a4aiXc74g/GzsqCDXrdz/OsViPREZ8PwIBT64h7Xc/afjjtD6naD9p+OO0PqdoP6m0PfLms3k/GzsqCDXrdz8lpRX+FKJ9P2n447Q+p2g/fhM6I4wzoD9/Upzd60qQP2dTQuGocpo/WoWUeadtkD/muGol3O+IP0Y7++awPlc/zTU6VOu7rj8Dt2RADr90PxOkCyPqspA/5rhqJdzviD8CAU+uIe13P818S5vCQ38/Rjv75rA+Vz/muGol3O+IPyWlFf4Uon0/afjjtD6naD8Cb0A/FDdVP+a4aiXc74g/eozZ2M4ARD/1KnOIxgCLP1qFlHmnbZA/uA4/uNWxeT8aLq+HheKOP+a4aiXc74g/GzsqCDXrdz+544gG9FtgP5w2+HPO52M/AgFPriHtdz9mt2W+kcd/PzLy5oKUQos/ctxgneWpcz/NfEubwkN/PzfobesuC1g/lwHFjxn5Uj+PeRSYnuNBP7gOP7jVsXk/dKgIqVrEZj9U3uNonOh5P3LcYJ3lqXM/A7dkQA6/dD+ptD3y5rN5Pyo72ueLunc/afjjtD6naD+ptD3y5rN5P0nHYDNv+pw/OOtk8bPTsj/NfEubwkN/P1Te42ic6Hk/ScdgM2/6nD9p+OO0PqdoPxour4eF4o4/qbQ98uazeT8HJY2V/yKJP1vS4Wvh3WI/UF5A8DzKkj9p+OO0PqdoP2n447Q+p2g/O+bmhSxbUT/0/P22xs2LP7gOP7jVsXk/qbQ98uazeT/4cCTFD8CMP/3NlEZljWY/afjjtD6naD8=",
          "dtype": "f8"
         },
         "yaxis": "y"
        },
        {
         "hovertemplate": "Iterations=Iteration 9<br>Data Point=%{x}<br>Weights=%{y}<extra></extra>",
         "legendgroup": "Iteration 9",
         "line": {
          "color": "#FF97FF",
          "dash": "solid"
         },
         "marker": {
          "symbol": "circle"
         },
         "mode": "lines",
         "name": "Iteration 9",
         "showlegend": true,
         "type": "scattergl",
         "x": {
          "bdata": "AAECAwQFBgcICQoLDA0ODxAREhMUFRYXGBkaGxwdHh8gISIjJCUmJygpKissLS4vMDEyMzQ1Njc4OTo7PD0+P0BBQkNERUZHSElKS0xNTk9QUVJTVFVWV1hZWltcXV5fYGFiYw==",
          "dtype": "i1"
         },
         "xaxis": "x",
         "y": {
          "bdata": "D0yKCJ6Puz8CQvKJ/jNlPxek+etAeJE/UldU6aTjej/X44f32V5mP74Iz/k4UZM/1qulfVKbhD/5iI7B68OHP8RZwzdMnXM/WrYPT6pbQz+e1IbDty6DP3IyoEukA2E/pbLfIFiVWj/IjM8GpoxYP0GRlZ7So1E/dl/9b4XFcz/E40Ta8UtzPwJC8on+M2U/WJoR0TY/jz9xZCsytvmYP3Zf/W+FxXM/UldU6aTjej95dgwkX0lVP+zML0t2pZE/dl/9b4XFcz+ub/6tVftvP1JXVOmk43o/ntSGw7cugz916Vmz+qyGP9HaVdxCMIM/dl/9b4XFcz92X/1vhcVzP5XNocUIt2s/ntSGw7cugz/5iI7B68OHP3Zf/W+FxXM/F6T560B4kT/5+EKEByKaP/noGNq5hIw/pC9NYr1Zmj9SV1TppON6Pzl04s9cpGI/jV/0NvOluD/X44f32V5mP1WdZJqXAYI/UldU6aTjej//m9UIqcxpP8++vaIu23A/OXTiz1ykYj9SV1TppON6P/mIjsHrw4c/pbLfIFiVWj9yMqBLpANhP1JXVOmk43o/O2/XI88KUD/3oqmC8KeVP6QvTWK9WZo/1qulfVKbhD+QsX+swaaAP1JXVOmk43o/ntSGw7cugz9BkZWe0qNRP8Slvj6E7W8//5vVCKnMaT/7+8wOPyJxP92iS5vsZH0/AkLyif4zZT/3vaFz5BKJPwgtLZEQ7Uk/udBKIlt1RD8zauWQkbFMP9arpX1Sm4Q/yIzPBqaMWD9m8hmf3u9rPwJC8on+M2U/1+OH99leZj+VzaHFCLdrP1dVHHAdlmk/dl/9b4XFcz+VzaHFCLdrP1iaEdE2P48/uwhJAghNpD/3vaFz5BKJP+lU43hAx4Q/WJoR0TY/jz92X/1vhcVzPwcHcZboxJg/lc2hxQi3az+K+GgDxSiUP6S7i3cBWFQ/dXZ1QHkjnj92X/1vhcVzP3Zf/W+FxXM/0YngzrbWWz9eR/2QBPt9P9arpX1Sm4Q/lc2hxQi3az9rZmfypw6XP1GNdqIsFnI/dl/9b4XFcz8=",
          "dtype": "f8"
         },
         "yaxis": "y"
        },
        {
         "hovertemplate": "Iterations=Iteration 10<br>Data Point=%{x}<br>Weights=%{y}<extra></extra>",
         "legendgroup": "Iteration 10",
         "line": {
          "color": "#FECB52",
          "dash": "solid"
         },
         "marker": {
          "symbol": "circle"
         },
         "mode": "lines",
         "name": "Iteration 10",
         "showlegend": true,
         "type": "scattergl",
         "x": {
          "bdata": "AAECAwQFBgcICQoLDA0ODxAREhMUFRYXGBkaGxwdHh8gISIjJCUmJygpKissLS4vMDEyMzQ1Njc4OTo7PD0+P0BBQkNERUZHSElKS0xNTk9QUVJTVFVWV1hZWltcXV5fYGFiYw==",
          "dtype": "i1"
         },
         "xaxis": "x",
         "y": {
          "bdata": "KQePG+gVxz8qv+bhlMJxP772Gt4Kln4/gNIg6NuFhj98w1SRTJVTP3CyYyI0LqA/mTclhQcKcj/+DQLp4M10P+55xe7sbYA/e584XfM2UD/yKbaU2spwP3ktDcDgyU0/XVNJCmpFRz/1f3VDIZBkP68m6dgPjV0/b2rfE95OYT/6zz1rcORgPyq/5uGUwnE/fJpGlUcsmj+b+dfzEd2FP29q3xPeTmE/gNIg6NuFhj+FygHUfNRhP3hfw5Qx5X4/b2rfE95OYT/009pG2sl6P4DSIOjbhYY/8im2lNrKcD+H2K5BsdlzP9pLQjmYEpA/b2rfE95OYT9vat8T3k5hP3u+xEjsNnc/0LufSE0RkD/+DQLp4M10P29q3xPeTmE/fJ3YyRJEnT/s1rmgd+CGP6pYEMM245c/mIzvfzwRhz+A0iDo24WGP+yTfb+8UVA/GZB5t76TpT+AxqLS6LxyP5alxtIlKo4/TCg7SvWJZz/ReQtjLZx1P2j85IIKg10/T7S+hNM6bz+A0iDo24WGP/4NAungzXQ/XVNJCmpFRz95LQ3A4MlNP0woO0r1iWc/6DRqeDgWPD/dhzR0LfWCP5iM7388EYc/mTclhQcKcj9taFcHQSdtP4DSIOjbhYY/8im2lNrKcD+vJunYD41dPwmlt0JHvno/0XkLYy2cdT90Tyu0/bN8P4TWApkBn4g/Kr/m4ZTCcT9wwWgskwCVP5LYMt5Rt1U/X/4lLMvoMT+aY3vwUx45P5k3JYUHCnI/9X91QyGQZD+YB59pw3RYPyq/5uGUwnE/gMai0ui8cj97vsRI7DZ3P3c33Dx9bnU/b2rfE95OYT97vsRI7DZ3P3yaRpVHLJo/s/Zdex8BsT976RAFHfN1P4ChR0d8MHI/GLVm24daez9vat8T3k5hPwwfUJvYroU/e77ESOw2dz8yeYHiv+KgPwXT3LAZz0E/ocZZG50+qT9vat8T3k5hP5wetA+ej4A/P0gl/L1eSD8s/SoruhyJP9Z8AGmzQpE/e77ESOw2dz8isE/oMi+EPxKRTOWHql8/b2rfE95OYT8=",
          "dtype": "f8"
         },
         "yaxis": "y"
        },
        {
         "hovertemplate": "Iterations=Iteration 11<br>Data Point=%{x}<br>Weights=%{y}<extra></extra>",
         "legendgroup": "Iteration 11",
         "line": {
          "color": "#636efa",
          "dash": "solid"
         },
         "marker": {
          "symbol": "circle"
         },
         "mode": "lines",
         "name": "Iteration 11",
         "showlegend": true,
         "type": "scattergl",
         "x": {
          "bdata": "AAECAwQFBgcICQoLDA0ODxAREhMUFRYXGBkaGxwdHh8gISIjJCUmJygpKissLS4vMDEyMzQ1Njc4OTo7PD0+P0BBQkNERUZHSElKS0xNTk9QUVJTVFVWV1hZWltcXV5fYGFiYw==",
          "dtype": "i1"
         },
         "xaxis": "x",
         "y": {
          "bdata": "5Ah9Y82pzj8kyscS+ZZ3P8KUQzMbUIQ/H/oJxXjqjT9RN3ZV4wJaP+379Hk2OJA/oSokhN/1dz+i22N3v9pkP+cXN5N/0oU/viOYbnqJVT9wzWjTPdVgPyW6cRJO3D0/l7SvQs9TNz+/KPaBDVBrP9STWHIgoGM//YZC/JJZUT87HKF94+5QPyTKxxL5lnc/wSIONc5hoT/RyiJEmOp1P/2GQvySWVE/H/oJxXjqjT+rm8+swa5nP/YyDh+shIQ//YZC/JJZUT8i/bmAbNpqPx/6CcV46o0/cM1o0z3VYD+WM7zC+OVjPwyxmEUwWZU//YZC/JJZUT/9hkL8kllRPw7zkPKn1X4/8q1Ovz0bgD+i22N3v9pkP/2GQvySWVE/I6cFSKdvoz9ZkSpnnu52P14PuCSAup8/ZjBxcYEfdz8f+gnFeOqNP3QnRLcOrVU/w5T+qxehlT9o0Hs6eON4Pwx4fXJzCJQ/3J/4c/JDbz8p0ejSFbR8P2mZjgNMlU0/jW7PESVOXz8f+gnFeOqNP6LbY3e/2mQ/l7SvQs9TNz8lunESTtw9P9yf+HPyQ28/CAsXTJgnLD9eWaKZ5wBzP2YwcXGBH3c/Fl1/NDAVYj8pjZrASTldPx/6CcV46o0/cM1o0z3VYD/Uk1hyIKBjP03m9DrEwoE/KdHo0hW0fD93X2sS9w+DP8aGG6X3WZA/JMrHEvmWdz+r8xAXkQ2FP9fFWNTAxEU/I81JTN/zIT8lV4Oz3S0pPxZdfzQwFWI/vyj2gQ1Qaz9Pm2ZI5INIPyTKxxL5lnc/aNB7OnjjeD8O85Dyp9V+P8t/vnlmd3w//YZC/JJZUT8O85Dyp9V+P8EiDjXOYaE/B5zMOAOWtj/QISD4sABmP1stisC8O2I/Ndh+lHNraz/9hkL8kllRP8i6kVNCvHU/DvOQ8qfVfj+VpVTpMe2QP8VS3teZp0c/LAoq1zpOmT/9hkL8kllRP5C3uKncmXA/cNfXwkkvUD/eKFgjdq2QPwW2rMpgTYE/DvOQ8qfVfj/yMytOrzt0PyLy6Isevk8//YZC/JJZUT8=",
          "dtype": "f8"
         },
         "yaxis": "y"
        },
        {
         "hovertemplate": "Iterations=Iteration 12<br>Data Point=%{x}<br>Weights=%{y}<extra></extra>",
         "legendgroup": "Iteration 12",
         "line": {
          "color": "#EF553B",
          "dash": "solid"
         },
         "marker": {
          "symbol": "circle"
         },
         "mode": "lines",
         "name": "Iteration 12",
         "showlegend": true,
         "type": "scattergl",
         "x": {
          "bdata": "AAECAwQFBgcICQoLDA0ODxAREhMUFRYXGBkaGxwdHh8gISIjJCUmJygpKissLS4vMDEyMzQ1Njc4OTo7PD0+P0BBQkNERUZHSElKS0xNTk9QUVJTVFVWV1hZWltcXV5fYGFiYw==",
          "dtype": "i1"
         },
         "xaxis": "x",
         "y": {
          "bdata": "6z83Vuiuwj/SaF/VJWSOPwQ2jEbhwHg/8E9PTVQ6gj/pe6Zcj7JPP9IdDS/pw4M/+35S7Gjejj8YD1AiCN56P3Edplm9l3o/MtbCxsE+Sj8owkHqsa91PyRVY4uyMTI/4NPfP0htLD9H9ek7R6RgP7jZuClu6lc/EOihoy5aZj8iQLycvNBlP+dTEbsgv2w/IFnta8lktj+/PaiNGrVqPxDooaMuWmY/8E9PTVQ6gj+9PiJWHNxcP2LIYfXvAHk/EOihoy5aZj9hUS08PUyBP/BPT01UOoI/KMJB6rGvdT/LVhxUrqJ5PwbT7yzpA4o/EOihoy5aZj8Q6KGjLlpmP4KkSLagyXI/SHc8HZugcz8YD1AiCN56PxDooaMuWmY/CBwESFyvlz8RhijTQIuNP7LbBDwQVZM/+9UuPTzKjT/wT09NVDqCP4MAWXr67Gs/Y6uIiohbij8Lq7VuT1RuP3rjdHiPaYg/Bf48FNQMYz80nrW7NX1xPwwaoyRtDmM/nZtXUGcqdD/wT09NVDqCPxgPUCII3no/qxEWpp4NTj8kVWOLsjEyPwX+PBTUDGM/EWr17NoiQj8a4XuSkXuIP/vVLj08yo0/iKC3yeNLdz/f23DrXs5RP/BPT01UOoI/KMJB6rGvdT+42bgpbupXP8r4VWO3pHU/NJ61uzV9cT+o/I0OwTp3P5Iw2cjgEKU/51MRuyC/bD9oNIz2wad5Py8M3WL9hjo/OPX9zPcgNz84YJXCLThAP4igt8njS3c/R/XpO0ekYD+vkp0uYJVfP+dTEbsgv2w/C6u1bk9Ubj+CpEi2oMlyP0vf/P87WHE/EOihoy5aZj+CpEi2oMlyP9dACCCPLpU/9ByjlP6Fqz/sC8jMuVh8PzPBBqqNfXc/w/+nEampgT8Q6KGjLlpmPymIHCGQAIw/gqRItqDJcj88Y6YFjs6lP/SQMw5k0zw/VwhVugZNsD8Q6KGjLlpmP6n9P+gxY4U/wdSOt+TZZD/an/dxylKEP9+8xj54SpY/gqRItqDJcj/GSehpGxGKP+uVtYKIcmQ/EOihoy5aZj8=",
          "dtype": "f8"
         },
         "yaxis": "y"
        },
        {
         "hovertemplate": "Iterations=Iteration 13<br>Data Point=%{x}<br>Weights=%{y}<extra></extra>",
         "legendgroup": "Iteration 13",
         "line": {
          "color": "#00cc96",
          "dash": "solid"
         },
         "marker": {
          "symbol": "circle"
         },
         "mode": "lines",
         "name": "Iteration 13",
         "showlegend": true,
         "type": "scattergl",
         "x": {
          "bdata": "AAECAwQFBgcICQoLDA0ODxAREhMUFRYXGBkaGxwdHh8gISIjJCUmJygpKissLS4vMDEyMzQ1Njc4OTo7PD0+P0BBQkNERUZHSElKS0xNTk9QUVJTVFVWV1hZWltcXV5fYGFiYw==",
          "dtype": "i1"
         },
         "xaxis": "x",
         "y": {
          "bdata": "5p5u+matyT8BGP3u6YGCP9PzGOWNAoE/uCkTvy4NiT+6YHROIshVP7mB9T4aKos/ek0zSl7Mgj9BhjBDjFxwP+qUBjAeRoI/MMk5mvgIUj/wiTI6r2lqP61dVS/XKCY/cs1jba5PIT+kFJUOIN9mPwi+bIUwb2A/YGTQTFQ5Wz8s125+7ZFaP3pr6dQEwXM/tP+hxD5Gqz/7aBeun0NgP2Bk0ExUOVs/uCkTvy4NiT8XttZo79RjP4ohva6SLoE/YGTQTFQ5Wz/L+5E7XxF1P7gpE78uDYk/8IkyOq9paj+5cogpuJ2BP7mNgZCI4JE/YGTQTFQ5Wz9gZNBMVDlbP7sEIxEg0nk/OoIIcrfnZz9BhjBDjFxwP2Bk0ExUOVs/jCgIH5lGoD9LiX+a1P2BP+9jmE7CkZo/73MrWy8kgj+4KRO/Lg2JPx//Qi6MAWE/2iGE3r4ckj+ezh9fc9d0P4epUT+mu30/yn3hj3suaj+4aCAOBE1lP22uP1+tNVc/OAbRE4yPaD+h596OWjN2P0GGMEOMXHA/rdGwazhNQj+tXVUv1ygmP8p94Y97Lmo/3GfVcMMWNj+gYmAeldF9P+9zK1svJII/BYrii7dfbD82G9Ce3a9FP7gpE78uDYk/8IkyOq9paj8IvmyFMG9gP3Nlkhzmvn0/PMi7DEQJeD9oUSIh8Ox/P+Bv/oa386w/emvp1ATBcz+EAjSVMj9vP5iVhaGKJzA/7yJxu3ArLD9nVMjwJMEzP58E0oU+AoA/pBSVDiDfZj8D8qQ3yjtTP3pr6dQEwXM/ns4fX3PXdD+7BCMRINJ5PxDTAMty1nc/YGTQTFQ5Wz+7BCMRINJ5P+IX5VOCHJ0/bp+QS9fpsj+6b2y6KUNxP0CACmg0nGw/a+d0RVtGiD9gZNBMVDlbP52rNF55DYE/uwQjESDSeT+DXcIoRY+aPwTXUXDxzkM/6aEeGYnaoz9gZNBMVDlbP+LgveSCDHo/5Fl/CyaobD9I5XFOeO6LP3Z6IToxJos/uwQjESDSeT9623EDgr9/P0nzd8Fl51g/YGTQTFQ5Wz8=",
          "dtype": "f8"
         },
         "yaxis": "y"
        },
        {
         "hovertemplate": "Iterations=Iteration 14<br>Data Point=%{x}<br>Weights=%{y}<extra></extra>",
         "legendgroup": "Iteration 14",
         "line": {
          "color": "#ab63fa",
          "dash": "solid"
         },
         "marker": {
          "symbol": "circle"
         },
         "mode": "lines",
         "name": "Iteration 14",
         "showlegend": true,
         "type": "scattergl",
         "x": {
          "bdata": "AAECAwQFBgcICQoLDA0ODxAREhMUFRYXGBkaGxwdHh8gISIjJCUmJygpKissLS4vMDEyMzQ1Njc4OTo7PD0+P0BBQkNERUZHSElKS0xNTk9QUVJTVFVWV1hZWltcXV5fYGFiYw==",
          "dtype": "i1"
         },
         "xaxis": "x",
         "y": {
          "bdata": "y63zbd1evD85mzqt23J0P4AVwQxKy3I/G0eVI9etez//cZQa/xBIP3O3reF+A34/s8EqwHRqkj/uQOnuUweAP+GUh+bv5pE/Beui6TrtQz8eAbiLHOB5PwNeqtFrtTU/cy2suIP1MD+V/2wMQEVZP+RHhRiXGXA/bV8zFoiraj8wouoziQdqP7rEy91u02U/N70BEJcinj8HnP9W0t1vP21fMxaIq2o/G0eVI9etez+PVag3cOlVP8PgqMjs+3I/bV8zFoiraj+hGlF/o6OEPxtHlSPXrXs/HgG4ixzgeT/kuXX99kGRPxFtTRWNwIM/bV8zFoiraj9tXzMWiKtqPxbvU5Fwh2w/gJgHfzRrdz/uQOnuUweAP21fMxaIq2o/hMT/dp77kT/JEJDUHqCRP70jy10sW40/XV6cz7HFkT8bR5Uj1617P8kkknD4qHA/TV3fJBQDhD9JxGCUEQdnPywEp1YBbXA/FhCo83vtXD+EaY4B94hXP0XkqMDJvGY/MF2u+J4PeD/uKx1QdodoP+5A6e5TB4A/hqbOI+XtUT/SA4Gm2HsYPxYQqPN77Vw/8dsTO7ajRT9G9jkZRTaNP11enM+xxZE/nagcpJVZXz/yZSxc6D5VPxtHlSPXrXs/HgG4ixzgeT8JaOrIdyhSPxlseeXMbnA/+D5saqmOaj9IhF7cFaNxP+B8jZEb/Z8/usTL3W7TZT8b5HU7cpx+P4LcIsfMpj8/+U6kd7eYOz8liS54QFpDPww+pBe5XY8/lf9sDEBFWT/uSdhUnNdiP7rEy91u02U/nYnEUuVqhD8W71ORcIdsP0zhFamDVmo/bV8zFoiraj8W71ORcIdsP1atENcWFZA/HhjfPlSHwj93Apg5QOmAPxkiDM0vB3w/e/3y+yjSej9tXzMWiKtqP0UpH7ta13I/Fu9TkXCHbD+Sm8+17gSqPwabe1rR4jU/u4EEYCBzsz9tXzMWiKtqP3lNuYLVhIk/iFWXOuMSfD/vSMSaddx+P7/gqbDImJo/Fu9TkXCHbD/kA69ZJRqPP9aOWhOvZWg/bV8zFoiraj8=",
          "dtype": "f8"
         },
         "yaxis": "y"
        },
        {
         "hovertemplate": "Iterations=Iteration 15<br>Data Point=%{x}<br>Weights=%{y}<extra></extra>",
         "legendgroup": "Iteration 15",
         "line": {
          "color": "#FFA15A",
          "dash": "solid"
         },
         "marker": {
          "symbol": "circle"
         },
         "mode": "lines",
         "name": "Iteration 15",
         "showlegend": true,
         "type": "scattergl",
         "x": {
          "bdata": "AAECAwQFBgcICQoLDA0ODxAREhMUFRYXGBkaGxwdHh8gISIjJCUmJygpKissLS4vMDEyMzQ1Njc4OTo7PD0+P0BBQkNERUZHSElKS0xNTk9QUVJTVFVWV1hZWltcXV5fYGFiYw==",
          "dtype": "i1"
         },
         "xaxis": "x",
         "y": {
          "bdata": "sdijoAuZwj+8j27DPc96P6U2UDDqo3g/CDyrAQAlgj9GXGIgeI1PP7O09FbIrIM/r0dNe+cefj/xtfAquwOFP4RRk7uHeJc/e/1H1gsgSj95pKRXUvaAP4kr59fSwCE/hesYA+28Gz/ZrQ4UzpBgPxiQi5ysG3U/smzZj6t7cT9eb3SwZUlVP2CrcXZ9nWw/m92ffyrBoz8RGx8fag9aP24JLgaDz1U/vdFUTsGiZj87V3knV7pcP+lXQ+qt43g/smzZj6t7cT+BtocP7eBwP73RVE7BomY/zNqL+icpZT8aPJmH9zl8P8ukRBh45Yk/bgkuBoPPVT+ybNmPq3txP44Idbyks3I/cuIWKtcmYz9FU1bKWTdqP24JLgaDz1U/UZ2zQKWTlz8Q1RpWrxuXP13KJhlxPpM/P2BIJWwRfT8IPKsBACWCP9qGIDi7P1s/zILZ7bA8ij9Uw4AK0jBuPx0WgGsJiXU/c4Dtd4n2Yj/T/xd1H9teP7hiJRI0mFI/yseafEytYz9l0E/bTQ9UP0VTVspZN2o/fa0QgyxTPT9U1bADzgUEP3OA7XeJ9mI/3pXGTVeyMT8urvYaQCaTPz9gSCVsEX0/z+esmUWjST8j7F5t519BPwg8qwEAJYI/zNqL+icpZT9qx5EDcs5XP1IWLe5ji3U/DVxGvL5ocT8dipZ5kh93P1UD0FE6+KQ/YKtxdn2dbD+HAjSEmAhpP1uC7Qlr4ik/VgtT8nqRJj/sw7FzHKcvPwEmRwOopnk/2a0OFM6QYD/XSmilb9FOP2CrcXZ9nWw/N3dPWc3Eij+OCHW8pLNyP1F23ETwQ3E/smzZj6t7cT+OCHW8pLNyP7Zn0O3FFZU/JB2jh9BKyD88woAX3qhrP0Q9U2zS62Y/G0f4GRrvZT9uCS4Gg89VPynSzlkE0V4/jgh1vKSzcj+5B1WAdQ6xP5b8oxOpsTw/1QyYt8vPnz+ybNmPq3txP0ezpXx8upA/eBeXYj1ngj9A6BBpAjuEP8j2sBsuwIU/jgh1vKSzcj8ifOBkZG95P3upezOu81M/bgkuBoPPVT8=",
          "dtype": "f8"
         },
         "yaxis": "y"
        },
        {
         "hovertemplate": "Iterations=Iteration 16<br>Data Point=%{x}<br>Weights=%{y}<extra></extra>",
         "legendgroup": "Iteration 16",
         "line": {
          "color": "#19d3f3",
          "dash": "solid"
         },
         "marker": {
          "symbol": "circle"
         },
         "mode": "lines",
         "name": "Iteration 16",
         "showlegend": true,
         "type": "scattergl",
         "x": {
          "bdata": "AAECAwQFBgcICQoLDA0ODxAREhMUFRYXGBkaGxwdHh8gISIjJCUmJygpKissLS4vMDEyMzQ1Njc4OTo7PD0+P0BBQkNERUZHSElKS0xNTk9QUVJTVFVWV1hZWltcXV5fYGFiYw==",
          "dtype": "i1"
         },
         "xaxis": "x",
         "y": {
          "bdata": "VeU/m911sj9WpG43h5xqP90Chq4VIIc/Qdpif60Ccj+7JSy9yFE/P7KXjLuQh3M/wLDGYdBEjD+LN1TW+tt0PwhAVPYhTIc/0mOpsKDuOT++1HZAr9aPP+KzCNBkqTA/TA4X3HSICz+p2acleHFQPyBytI1wz4M/TMTQ+31ogD91/4j3WfpjPwp784VcZ1w/cnjdXTyKsj/CwoM/PHVoPyHL2GE4eGQ//Avp6e93Vj+XDCqk/4NMPyT7pTWZtGg/TMTQ+31ogD9js3c1hq5/P6PumsN5PnU/SvBRuBfccz+ebBkvsX2KP0rzrG3eTZg/IcvYYTh4ZD8gMrxbmVphP73a6mZEkGI/WsvKEGb5cT89nYpVt5p4PyHL2GE4eGQ/1/jVMAxnhz/aRSZm+K+lP9ndYzYKGoM/Lf7DmeZHiz9B2mJ/rQJyP4hJ33/Xkmk/ICfpmA8Lej996NUotvddPx0Wee1MYGU/yHefphDMcT9vJU1uwaBOP0lHbQiIc2E/1E465xOIUz+D07ziW+lDPz2dilW3mng/LHuhD5yFSz/RBwuIp8oSP8MxJZmq0lI/vY9cOc2bQD9xaElL2PihPy3+w5nmR4s/2wVX270PWD9VxArhbk5QP0HaYn+tAnI/SvBRuBfccz8+QdC5aaFHP92/b/yiYmU/7pSpVNBHYT8rKF761PNmP9lrsb+P0JQ/CnvzhVxnXD/lIvZSk353P+Z+5mQBSzg/j5dDO8pmFj8Fleok6LQ9P7Tl5P/qEog/qdmnJXhxUD8CYViDXuxcPwp784VcZ1w/kSx3jCqSej+92upmRJBiP15A13xHI2E/TMTQ+31ogD+92upmRJBiP7XLU3jj7YQ/x9v1+9wcuD+wpP6Pg/V5P2ntMtUMg3U/tQLHipzFVT8hy9hhOHhkP8DmidD562w/vdrqZkSQYj8jMf3e/gHAPxodoPtheyw/+VP2CxfbrT9MxND7fWiAPyTMfx5fZp8/3yy1BJRFkT+I+NuAlvySP4UXP8jUaZQ/vdrqZkSQYj/Vf104Dd+HPykO+fykuWI/IcvYYTh4ZD8=",
          "dtype": "f8"
         },
         "yaxis": "y"
        },
        {
         "hovertemplate": "Iterations=Iteration 17<br>Data Point=%{x}<br>Weights=%{y}<extra></extra>",
         "legendgroup": "Iteration 17",
         "line": {
          "color": "#FF6692",
          "dash": "solid"
         },
         "marker": {
          "symbol": "circle"
         },
         "mode": "lines",
         "name": "Iteration 17",
         "showlegend": true,
         "type": "scattergl",
         "x": {
          "bdata": "AAECAwQFBgcICQoLDA0ODxAREhMUFRYXGBkaGxwdHh8gISIjJCUmJygpKissLS4vMDEyMzQ1Njc4OTo7PD0+P0BBQkNERUZHSElKS0xNTk9QUVJTVFVWV1hZWltcXV5fYGFiYw==",
          "dtype": "i1"
         },
         "xaxis": "x",
         "y": {
          "bdata": "FcmkBD4wmT/w2v3BsydSP4Ih4Ae0jW8/IMMcwBKTWD/L7Xxd9l0lP5x7HqCxpVo/b+jGlzK+lj8G9KOsJciAP2FS7gjOyW8/mWAb8Q+xIT+jW+J/obh1P9Wa3FE7zzo/rTVDw6jI8j4LnCA4pG82Pwm0mmXDB2s/HL0ieWRjZj/OO4ScnxJwPw72Kju7YEM/1/8QVglMmT8Cfwr7Ua1zP8RLcVnjd3A/Vog66kWoPj92AOy6RHQzPxF6OSZM4HM/F9HZOs1mij8vfkiOHn2JP1odxnaR/Fw/Y4vdH4/0fz/Eieg4qhJyP7HveR+mjaM/xEtxWeN3cD/Q++IjXexrP3+eTBtEVEk/3gqLYOHrfD/fSI93ecuDP8RLcVnjd3A/msX7jPLTkj8G6HjksnKxP0/SfkJAEGo/bnGY/rjylT8gwxzAEpNYP2oi+ntxclE/RIM30nXEYT/zwfKZ3HFEPybNB4a4Kk0/jK4fe45IWD+fQqc7MOU0Pz/0tC57FGw/saAI+V9tXz+MfFoGISsrP99Ij3d5y4M/VM0ucl4kVj/voutSlTwePxSCvmvdrjk/Yl/pfFy5Sj/jz3pC/eqsP25xmP648pU/N39vf6pbYz9ZSd4W3zxaPyDDHMASk1g/Y4vdH4/0fz+CH95FFR8wP2Gxf4zoLU0/vFuf+RqURz+SDFN/UlFPP1erZFeYZnw/DvYqO7tgQz+RpSTiUAdgP+K/6WBYi0M/mcrCIsgFIj9xi0RmVuZHP0nsBLE4XpM/1r70Fj91Wj+jJCv+/0RnPw72Kju7YEM/6fUbCKIgYj9/nkwbRFRJP8TQW2tBYkc/F9HZOs1mij9/nkwbRFRJP9oUmE6cjmw/FS0n7E1zoD8SZN9ge+KEP+VTRjSPToE//cBokPS0PT/ES3FZ43dwP+OGefquRHc/f55MG0RUST+v9tMv4cHJP08+ffdjbhM/Cg6AjQ4FuD8X0dk6zWaKPwOOSxoSQ6k/b2OcS4rKmz+i6+SlEOh5P3RYuYVs2ns/f55MG0RUST+l2+JifjSTP3WtLT25jEk/xEtxWeN3cD8=",
          "dtype": "f8"
         },
         "yaxis": "y"
        },
        {
         "hovertemplate": "Iterations=Iteration 18<br>Data Point=%{x}<br>Weights=%{y}<extra></extra>",
         "legendgroup": "Iteration 18",
         "line": {
          "color": "#B6E880",
          "dash": "solid"
         },
         "marker": {
          "symbol": "circle"
         },
         "mode": "lines",
         "name": "Iteration 18",
         "showlegend": true,
         "type": "scattergl",
         "x": {
          "bdata": "AAECAwQFBgcICQoLDA0ODxAREhMUFRYXGBkaGxwdHh8gISIjJCUmJygpKissLS4vMDEyMzQ1Njc4OTo7PD0+P0BBQkNERUZHSElKS0xNTk9QUVJTVFVWV1hZWltcXV5fYGFiYw==",
          "dtype": "i1"
         },
         "xaxis": "x",
         "y": {
          "bdata": "tvDHeS+eez+nqjD9+uczP6vGoL9nTFE//sfec9vxOj9x/l+FjG0HP7aW3TOoNz0/0nHJAMLveD+ThsLPpciGP2lku8BabVE//Qlkw+VlAz/EKVB/Xn19Pz33NYvrMkI/La4+LnWA+T5Hy7bzn5kYPwAjK3cvo00/ybeh9jNlbj+2fLToM9J1P3Gl56czPyU/u4nVE6m8ez9pjHwC5rZ6P8JYHiyvW3Y/Yd36MKDOID/b77OOn1QVP7BquGISy1U/0jeZ0wfskT8D347QZk2RP4cfCjZLyD8/K2PM/SaxhT/cwFq2X4l4P7sJUqJzcIU/wlgeLK9bdj/MFAxvefRyP+7fnAyvxSs/vZkZxeyhgz8/2PKMPbRlP8JYHiyvW3Y/YCZwy9akdD8UnvBLMrC3PwNlcNrMk0w/JnGwuTzMnT/+x95z2/E6PwAe137Zr1c/hHQJnCp7Qz8lIJ0NrWomP9bYF9rl+i8/QIomPyegOj+odjNJIOkWP/GI8FPSyU4/EcOs22JVZT/RIIhU9skNP/x0PVfW34o/09vTqaMPXj+uM2iRfIYkPzVhPGUFKRw/rgRy7RIkUj/6kCXrUaGzPyZxsLk8zJ0/Wff8eQpIaj/k6dFuucQ8P/7H3nPb8To/K2PM/SaxhT8xDjmVJa0RP4swiZVk/i8/UclqHEzaKT+FmLCHTSsxP7IRzQLbI18/9URG++pOSj/D54Lk2cJlPythYb7FiEo/pdPsE+J3KD/NfM/JRDlQP+uoayRzPHU/QLksbIkCPT+J/6/jj4NJP3Gl56czPyU/E4JDtjrgQz/u35wMr8UrP2nO2K6joyk/0jeZ0wfskT/u35wMr8UrP8+gsXacYnM/vrySyn0Jgj89/n90oVqMP+fgD8chf4c/bE6cUGsqRD/CWB4sr1t2P8AYsYgRl38/7t+cDK/FKz+ldAvjE3zRP0W0PqgtTvU+oKo0KB9OwD/SN5nTB+yRP4DbD3fUsos/TCYtnIPdoj9hli78vGdcPyJ+2ttL6II/7t+cDK/FKz8O/QODsg51PydPcX/+V1E/oGOoZYQOUj8=",
          "dtype": "f8"
         },
         "yaxis": "y"
        },
        {
         "hovertemplate": "Iterations=Iteration 19<br>Data Point=%{x}<br>Weights=%{y}<extra></extra>",
         "legendgroup": "Iteration 19",
         "line": {
          "color": "#FF97FF",
          "dash": "solid"
         },
         "marker": {
          "symbol": "circle"
         },
         "mode": "lines",
         "name": "Iteration 19",
         "showlegend": true,
         "type": "scattergl",
         "x": {
          "bdata": "AAECAwQFBgcICQoLDA0ODxAREhMUFRYXGBkaGxwdHh8gISIjJCUmJygpKissLS4vMDEyMzQ1Njc4OTo7PD0+P0BBQkNERUZHSElKS0xNTk9QUVJTVFVWV1hZWltcXV5fYGFiYw==",
          "dtype": "i1"
         },
         "xaxis": "x",
         "y": {
          "bdata": "1pYiERHijD812CXwFXYaP2vC+pxEF2I/p7jm+qjoIT+sNGkSS4AYP8dcbMFLjk4/nqkAxvaSYD/w43NcVkluP8s9MwW6OWI/uUswoCrJ6T6fbrr4r5ljP4EJH/sZMSg/9G55hCPz4D4Gds2OHbopPwCe4QbA/l4/Pu+Kz6fJfz9h1ZP3vAFdP5LHdlleODY/4qtBDvABjT+C9/YfecFhP9/F7QV+uF0/khEsA7qTMT/j0yh3xU4mP8mhh12lymY/h6BqOd7Sdz/+DCBdTxiiP7Mfe6SBnlA/FTzoAYqvlj/51UIb6k5gP/+dXOTfa5Y/HrmvDeJhhz83tJ+jZDJZP/m2kthfCz0/RGIE/PUYaj+vlh3IxLJ2P9/F7QV+uF0/yf47Pu+WhT/wOhpw/sXIPy78X9Lu4l0/ZM6NZxvOgz+nuOb6qOghPxCCaYmsfD8/e83mL6BfVD8rv9a+j3E3P09Wca/3uEA/CxuqBluyIT9FXEjKgnT+PhdDYBNxGWA/AO6IyNFbTD/M5rqiTScfP2PiM+Cu3HE/JIax5ef6Qz/dBIa0yUgLP+hbkZ95twI/Tm82/ND4Yj/WIvojKBiaP6HcwrWuKa8/tRA9qj98ez/BzMuX9h4jP6e45vqo6CE/D1AC383VbD8HWNz0cHwiP2XehYvLukA/A0n6T3oJOz8SIw0ypvRBP552P1eFSHA/iu5Y0XCDWz9SqxLMVO1MPw2wGMPQojE/a2MVDEpDED+e0Lpv8JA1Pwy9RumrOlw/nyXnBb5WTj9bKYztxK5aP5LHdlleODY/ca8vPchrKj9qaq9Yc3USPyzqLuZQ0Do/lLTQpjS+oj/5tpLYXws9P6qWkRPyRYQ/J+4JHATdkj9geHK3cthyP0CyhOLpO28/C6qPHugWVT/fxe0FfrhdP+Qp7LcR/2Q/amqvWHN1Ej/lJZWSDD63PyYj9/sHSAY/9k3G+1UN0T+HoGo53tJ3P9JallvraHI/JPbUP98TiT9cFqs62rRtP2gPDQ8HxpM/amqvWHN1Ej9bo2NQ2v1bP4XdgERjI2I/8vONCrYAOD8=",
          "dtype": "f8"
         },
         "yaxis": "y"
        },
        {
         "hovertemplate": "Iterations=Iteration 20<br>Data Point=%{x}<br>Weights=%{y}<extra></extra>",
         "legendgroup": "Iteration 20",
         "line": {
          "color": "#FECB52",
          "dash": "solid"
         },
         "marker": {
          "symbol": "circle"
         },
         "mode": "lines",
         "name": "Iteration 20",
         "showlegend": true,
         "type": "scattergl",
         "x": {
          "bdata": "AAECAwQFBgcICQoLDA0ODxAREhMUFRYXGBkaGxwdHh8gISIjJCUmJygpKissLS4vMDEyMzQ1Njc4OTo7PD0+P0BBQkNERUZHSElKS0xNTk9QUVJTVFVWV1hZWltcXV5fYGFiYw==",
          "dtype": "i1"
         },
         "xaxis": "x",
         "y": {
          "bdata": "MHqLaS9zoD9xxvHyKiQuP8fpjmRYm3Q/a8SNJAUCBD8uKoAel+grP2FFp7oTZ2E/x5qqPEaEQj+ie9rWC+tQPz2MIpuYwnQ/lb37UDNf/T5sDxgrgVN2P3mLq+77Bgs/r7ZHvLjvwj4BbIdlDk49PwDprK0fp3E/ZGWGW7rBYT8/r7JIDDRAP2LxEFZ1T0k/st15P1aFoD/YKKh4PdZDPxBwApwimkA/g22cnYIFRD/hmRAL+mg5P0rn6SkU9nk/vdQVrLSdWj+OkxpHQTeEP88o9Ncv7mI/ysA1vTPXqT/qMlq5PzhCPxobkZwgiqk/aCKLWXofaj/t7OW0biY8P1noeSC2ilA/8yC0iRe6fT9QMJ+31ltZPxBwApwimkA/FMrrzpKXmD8+7wH9+zfcP+dhuc16BXE/71OO3DaPlj9fEe9oQWY0PyRj/sq5liE/WdmIcfg0Zz9oMOgeNbRKPzpjZvZTDFM/Hy8zF2YoND/dXVE+ZFgRP5+rzjmC/EE/3aEm8bquLz8V1ihgOL4xPxsv4eWcWIQ/FaMfQGpSJj/VT690dnvuPuaMgyTVURU/JKc3SBMyRT9rv9NWICd9P2qPUsldaJE/KJcxg/S0Xj8VHux/sVwFP18R72hBZjQ/BgIYnIEbUD/dYSe8lg41P6QXXONoDlM/fuz40Q7MTj9UCDR36XNUPyLLN0I+jII/7UNAfPtWbz8Cd4QKpigwP5EnNDf9sxM/SkOV2EIr8j4Zz6PyCRgYP+LWo3SyiT8/j4+48W9HYT+TeONMZM89P2LxEFZ1T0k/D1PWa24YPj8+2r89oAYlP3WCDVHyik4/1HcWUZjwhD9Z6HkgtopQP6/Gwg+4F5c/05deLJh8pT9UY13L6Q1VP11GWWP1yYE/3jD3AbSPNz8sfpvpTu1wP8TI31oSdUc/Ptq/PaAGJT8PSUWpcfeZP5COxphMYRk/lAMyQf0Msz+91BWstJ1aP+KzCPtPkVQ/fVHlhVUEbD95Wfk4POuAP/uDZshWF3Y/41fW+E+f9D4ushv5v0U/P+5AqpKhQ0Q/4doWBuzQGj8=",
          "dtype": "f8"
         },
         "yaxis": "y"
        }
       ],
       "layout": {
        "legend": {
         "title": {
          "text": "Iterations"
         },
         "tracegroupgap": 0
        },
        "template": {
         "data": {
          "bar": [
           {
            "error_x": {
             "color": "#2a3f5f"
            },
            "error_y": {
             "color": "#2a3f5f"
            },
            "marker": {
             "line": {
              "color": "#E5ECF6",
              "width": 0.5
             },
             "pattern": {
              "fillmode": "overlay",
              "size": 10,
              "solidity": 0.2
             }
            },
            "type": "bar"
           }
          ],
          "barpolar": [
           {
            "marker": {
             "line": {
              "color": "#E5ECF6",
              "width": 0.5
             },
             "pattern": {
              "fillmode": "overlay",
              "size": 10,
              "solidity": 0.2
             }
            },
            "type": "barpolar"
           }
          ],
          "carpet": [
           {
            "aaxis": {
             "endlinecolor": "#2a3f5f",
             "gridcolor": "white",
             "linecolor": "white",
             "minorgridcolor": "white",
             "startlinecolor": "#2a3f5f"
            },
            "baxis": {
             "endlinecolor": "#2a3f5f",
             "gridcolor": "white",
             "linecolor": "white",
             "minorgridcolor": "white",
             "startlinecolor": "#2a3f5f"
            },
            "type": "carpet"
           }
          ],
          "choropleth": [
           {
            "colorbar": {
             "outlinewidth": 0,
             "ticks": ""
            },
            "type": "choropleth"
           }
          ],
          "contour": [
           {
            "colorbar": {
             "outlinewidth": 0,
             "ticks": ""
            },
            "colorscale": [
             [
              0,
              "#0d0887"
             ],
             [
              0.1111111111111111,
              "#46039f"
             ],
             [
              0.2222222222222222,
              "#7201a8"
             ],
             [
              0.3333333333333333,
              "#9c179e"
             ],
             [
              0.4444444444444444,
              "#bd3786"
             ],
             [
              0.5555555555555556,
              "#d8576b"
             ],
             [
              0.6666666666666666,
              "#ed7953"
             ],
             [
              0.7777777777777778,
              "#fb9f3a"
             ],
             [
              0.8888888888888888,
              "#fdca26"
             ],
             [
              1,
              "#f0f921"
             ]
            ],
            "type": "contour"
           }
          ],
          "contourcarpet": [
           {
            "colorbar": {
             "outlinewidth": 0,
             "ticks": ""
            },
            "type": "contourcarpet"
           }
          ],
          "heatmap": [
           {
            "colorbar": {
             "outlinewidth": 0,
             "ticks": ""
            },
            "colorscale": [
             [
              0,
              "#0d0887"
             ],
             [
              0.1111111111111111,
              "#46039f"
             ],
             [
              0.2222222222222222,
              "#7201a8"
             ],
             [
              0.3333333333333333,
              "#9c179e"
             ],
             [
              0.4444444444444444,
              "#bd3786"
             ],
             [
              0.5555555555555556,
              "#d8576b"
             ],
             [
              0.6666666666666666,
              "#ed7953"
             ],
             [
              0.7777777777777778,
              "#fb9f3a"
             ],
             [
              0.8888888888888888,
              "#fdca26"
             ],
             [
              1,
              "#f0f921"
             ]
            ],
            "type": "heatmap"
           }
          ],
          "histogram": [
           {
            "marker": {
             "pattern": {
              "fillmode": "overlay",
              "size": 10,
              "solidity": 0.2
             }
            },
            "type": "histogram"
           }
          ],
          "histogram2d": [
           {
            "colorbar": {
             "outlinewidth": 0,
             "ticks": ""
            },
            "colorscale": [
             [
              0,
              "#0d0887"
             ],
             [
              0.1111111111111111,
              "#46039f"
             ],
             [
              0.2222222222222222,
              "#7201a8"
             ],
             [
              0.3333333333333333,
              "#9c179e"
             ],
             [
              0.4444444444444444,
              "#bd3786"
             ],
             [
              0.5555555555555556,
              "#d8576b"
             ],
             [
              0.6666666666666666,
              "#ed7953"
             ],
             [
              0.7777777777777778,
              "#fb9f3a"
             ],
             [
              0.8888888888888888,
              "#fdca26"
             ],
             [
              1,
              "#f0f921"
             ]
            ],
            "type": "histogram2d"
           }
          ],
          "histogram2dcontour": [
           {
            "colorbar": {
             "outlinewidth": 0,
             "ticks": ""
            },
            "colorscale": [
             [
              0,
              "#0d0887"
             ],
             [
              0.1111111111111111,
              "#46039f"
             ],
             [
              0.2222222222222222,
              "#7201a8"
             ],
             [
              0.3333333333333333,
              "#9c179e"
             ],
             [
              0.4444444444444444,
              "#bd3786"
             ],
             [
              0.5555555555555556,
              "#d8576b"
             ],
             [
              0.6666666666666666,
              "#ed7953"
             ],
             [
              0.7777777777777778,
              "#fb9f3a"
             ],
             [
              0.8888888888888888,
              "#fdca26"
             ],
             [
              1,
              "#f0f921"
             ]
            ],
            "type": "histogram2dcontour"
           }
          ],
          "mesh3d": [
           {
            "colorbar": {
             "outlinewidth": 0,
             "ticks": ""
            },
            "type": "mesh3d"
           }
          ],
          "parcoords": [
           {
            "line": {
             "colorbar": {
              "outlinewidth": 0,
              "ticks": ""
             }
            },
            "type": "parcoords"
           }
          ],
          "pie": [
           {
            "automargin": true,
            "type": "pie"
           }
          ],
          "scatter": [
           {
            "fillpattern": {
             "fillmode": "overlay",
             "size": 10,
             "solidity": 0.2
            },
            "type": "scatter"
           }
          ],
          "scatter3d": [
           {
            "line": {
             "colorbar": {
              "outlinewidth": 0,
              "ticks": ""
             }
            },
            "marker": {
             "colorbar": {
              "outlinewidth": 0,
              "ticks": ""
             }
            },
            "type": "scatter3d"
           }
          ],
          "scattercarpet": [
           {
            "marker": {
             "colorbar": {
              "outlinewidth": 0,
              "ticks": ""
             }
            },
            "type": "scattercarpet"
           }
          ],
          "scattergeo": [
           {
            "marker": {
             "colorbar": {
              "outlinewidth": 0,
              "ticks": ""
             }
            },
            "type": "scattergeo"
           }
          ],
          "scattergl": [
           {
            "marker": {
             "colorbar": {
              "outlinewidth": 0,
              "ticks": ""
             }
            },
            "type": "scattergl"
           }
          ],
          "scattermap": [
           {
            "marker": {
             "colorbar": {
              "outlinewidth": 0,
              "ticks": ""
             }
            },
            "type": "scattermap"
           }
          ],
          "scattermapbox": [
           {
            "marker": {
             "colorbar": {
              "outlinewidth": 0,
              "ticks": ""
             }
            },
            "type": "scattermapbox"
           }
          ],
          "scatterpolar": [
           {
            "marker": {
             "colorbar": {
              "outlinewidth": 0,
              "ticks": ""
             }
            },
            "type": "scatterpolar"
           }
          ],
          "scatterpolargl": [
           {
            "marker": {
             "colorbar": {
              "outlinewidth": 0,
              "ticks": ""
             }
            },
            "type": "scatterpolargl"
           }
          ],
          "scatterternary": [
           {
            "marker": {
             "colorbar": {
              "outlinewidth": 0,
              "ticks": ""
             }
            },
            "type": "scatterternary"
           }
          ],
          "surface": [
           {
            "colorbar": {
             "outlinewidth": 0,
             "ticks": ""
            },
            "colorscale": [
             [
              0,
              "#0d0887"
             ],
             [
              0.1111111111111111,
              "#46039f"
             ],
             [
              0.2222222222222222,
              "#7201a8"
             ],
             [
              0.3333333333333333,
              "#9c179e"
             ],
             [
              0.4444444444444444,
              "#bd3786"
             ],
             [
              0.5555555555555556,
              "#d8576b"
             ],
             [
              0.6666666666666666,
              "#ed7953"
             ],
             [
              0.7777777777777778,
              "#fb9f3a"
             ],
             [
              0.8888888888888888,
              "#fdca26"
             ],
             [
              1,
              "#f0f921"
             ]
            ],
            "type": "surface"
           }
          ],
          "table": [
           {
            "cells": {
             "fill": {
              "color": "#EBF0F8"
             },
             "line": {
              "color": "white"
             }
            },
            "header": {
             "fill": {
              "color": "#C8D4E3"
             },
             "line": {
              "color": "white"
             }
            },
            "type": "table"
           }
          ]
         },
         "layout": {
          "annotationdefaults": {
           "arrowcolor": "#2a3f5f",
           "arrowhead": 0,
           "arrowwidth": 1
          },
          "autotypenumbers": "strict",
          "coloraxis": {
           "colorbar": {
            "outlinewidth": 0,
            "ticks": ""
           }
          },
          "colorscale": {
           "diverging": [
            [
             0,
             "#8e0152"
            ],
            [
             0.1,
             "#c51b7d"
            ],
            [
             0.2,
             "#de77ae"
            ],
            [
             0.3,
             "#f1b6da"
            ],
            [
             0.4,
             "#fde0ef"
            ],
            [
             0.5,
             "#f7f7f7"
            ],
            [
             0.6,
             "#e6f5d0"
            ],
            [
             0.7,
             "#b8e186"
            ],
            [
             0.8,
             "#7fbc41"
            ],
            [
             0.9,
             "#4d9221"
            ],
            [
             1,
             "#276419"
            ]
           ],
           "sequential": [
            [
             0,
             "#0d0887"
            ],
            [
             0.1111111111111111,
             "#46039f"
            ],
            [
             0.2222222222222222,
             "#7201a8"
            ],
            [
             0.3333333333333333,
             "#9c179e"
            ],
            [
             0.4444444444444444,
             "#bd3786"
            ],
            [
             0.5555555555555556,
             "#d8576b"
            ],
            [
             0.6666666666666666,
             "#ed7953"
            ],
            [
             0.7777777777777778,
             "#fb9f3a"
            ],
            [
             0.8888888888888888,
             "#fdca26"
            ],
            [
             1,
             "#f0f921"
            ]
           ],
           "sequentialminus": [
            [
             0,
             "#0d0887"
            ],
            [
             0.1111111111111111,
             "#46039f"
            ],
            [
             0.2222222222222222,
             "#7201a8"
            ],
            [
             0.3333333333333333,
             "#9c179e"
            ],
            [
             0.4444444444444444,
             "#bd3786"
            ],
            [
             0.5555555555555556,
             "#d8576b"
            ],
            [
             0.6666666666666666,
             "#ed7953"
            ],
            [
             0.7777777777777778,
             "#fb9f3a"
            ],
            [
             0.8888888888888888,
             "#fdca26"
            ],
            [
             1,
             "#f0f921"
            ]
           ]
          },
          "colorway": [
           "#636efa",
           "#EF553B",
           "#00cc96",
           "#ab63fa",
           "#FFA15A",
           "#19d3f3",
           "#FF6692",
           "#B6E880",
           "#FF97FF",
           "#FECB52"
          ],
          "font": {
           "color": "#2a3f5f"
          },
          "geo": {
           "bgcolor": "white",
           "lakecolor": "white",
           "landcolor": "#E5ECF6",
           "showlakes": true,
           "showland": true,
           "subunitcolor": "white"
          },
          "hoverlabel": {
           "align": "left"
          },
          "hovermode": "closest",
          "mapbox": {
           "style": "light"
          },
          "paper_bgcolor": "white",
          "plot_bgcolor": "#E5ECF6",
          "polar": {
           "angularaxis": {
            "gridcolor": "white",
            "linecolor": "white",
            "ticks": ""
           },
           "bgcolor": "#E5ECF6",
           "radialaxis": {
            "gridcolor": "white",
            "linecolor": "white",
            "ticks": ""
           }
          },
          "scene": {
           "xaxis": {
            "backgroundcolor": "#E5ECF6",
            "gridcolor": "white",
            "gridwidth": 2,
            "linecolor": "white",
            "showbackground": true,
            "ticks": "",
            "zerolinecolor": "white"
           },
           "yaxis": {
            "backgroundcolor": "#E5ECF6",
            "gridcolor": "white",
            "gridwidth": 2,
            "linecolor": "white",
            "showbackground": true,
            "ticks": "",
            "zerolinecolor": "white"
           },
           "zaxis": {
            "backgroundcolor": "#E5ECF6",
            "gridcolor": "white",
            "gridwidth": 2,
            "linecolor": "white",
            "showbackground": true,
            "ticks": "",
            "zerolinecolor": "white"
           }
          },
          "shapedefaults": {
           "line": {
            "color": "#2a3f5f"
           }
          },
          "ternary": {
           "aaxis": {
            "gridcolor": "white",
            "linecolor": "white",
            "ticks": ""
           },
           "baxis": {
            "gridcolor": "white",
            "linecolor": "white",
            "ticks": ""
           },
           "bgcolor": "#E5ECF6",
           "caxis": {
            "gridcolor": "white",
            "linecolor": "white",
            "ticks": ""
           }
          },
          "title": {
           "x": 0.05
          },
          "xaxis": {
           "automargin": true,
           "gridcolor": "white",
           "linecolor": "white",
           "ticks": "",
           "title": {
            "standoff": 15
           },
           "zerolinecolor": "white",
           "zerolinewidth": 2
          },
          "yaxis": {
           "automargin": true,
           "gridcolor": "white",
           "linecolor": "white",
           "ticks": "",
           "title": {
            "standoff": 15
           },
           "zerolinecolor": "white",
           "zerolinewidth": 2
          }
         }
        },
        "title": {
         "text": "Weights Distribution Over Iterations"
        },
        "xaxis": {
         "anchor": "y",
         "domain": [
          0,
          1
         ],
         "title": {
          "text": "Data Point"
         }
        },
        "yaxis": {
         "anchor": "x",
         "domain": [
          0,
          1
         ],
         "title": {
          "text": "Weights"
         }
        }
       }
      }
     },
     "metadata": {},
     "output_type": "display_data"
    }
   ],
   "source": [
    "import pandas as pd\n",
    "import plotly.express as px\n",
    "\n",
    "def plot_weights(iteration_info):\n",
    "    # Create a DataFrame to hold the data for all iterations\n",
    "    data = []\n",
    "    for info in iteration_info:\n",
    "        for idx, weight in enumerate(info['weights']):\n",
    "            data.append({'Data Point': idx, 'Weight': weight, 'Iteration': f\"Iteration {info['iteration']}\"})\n",
    "\n",
    "    # Convert the list of dictionaries to a pandas DataFrame\n",
    "    df = pd.DataFrame(data)\n",
    "\n",
    "    # Create the line plot using Plotly Express\n",
    "    fig = px.line(df, x='Data Point', y='Weight', color='Iteration',\n",
    "                  labels={'Data Point': 'Data Point', 'Weight': 'Weights', 'Iteration': 'Iterations'},\n",
    "                  title='Weights Distribution Over Iterations')\n",
    "\n",
    "    # Show the plot\n",
    "    fig.show()\n",
    "    fig.write_html(f\"boosting_output/weights.html\")\n",
    "\n",
    "plot_weights(iteration_info)"
   ]
  },
  {
   "cell_type": "markdown",
   "metadata": {},
   "source": [
    "## Alphas interpretation\n",
    "\n",
    "alpha should be low and then while the error the decrease, alpha increase until it becomes a plateu"
   ]
  },
  {
   "cell_type": "code",
   "execution_count": 79,
   "metadata": {},
   "outputs": [
    {
     "data": {
      "application/vnd.plotly.v1+json": {
       "config": {
        "plotlyServerURL": "https://plot.ly"
       },
       "data": [
        {
         "hovertemplate": "Iteration=%{x}<br>Alpha=%{y}<extra></extra>",
         "legendgroup": "",
         "line": {
          "color": "#636efa",
          "dash": "solid"
         },
         "marker": {
          "symbol": "circle"
         },
         "mode": "lines+markers",
         "name": "",
         "orientation": "v",
         "showlegend": false,
         "type": "scatter",
         "x": {
          "bdata": "AQIDBAUGBwgJCgsMDQ4PEBESExQ=",
          "dtype": "i1"
         },
         "xaxis": "x",
         "y": {
          "bdata": "v2iERh/F1z9AKEI6KRDYP5/BRPqo/No/A/qYOIHI3T9ZAyuLejbVP4SePc4vgdc/ZxPBI62P3j8j3zPXcRHcPwWYYVutceE/J/KQW4l55T8nUJGa2y/fP9Ly7V8jEuc/q06MoPgL2j8meDvAhEHkP+L9LwBipOI/1FgcA7tI5T/a1cKko9HoPwew3LB3mek/EmtE1utu7T9FClU0Y8rwPw==",
          "dtype": "f8"
         },
         "yaxis": "y"
        }
       ],
       "layout": {
        "legend": {
         "tracegroupgap": 0
        },
        "template": {
         "data": {
          "bar": [
           {
            "error_x": {
             "color": "#2a3f5f"
            },
            "error_y": {
             "color": "#2a3f5f"
            },
            "marker": {
             "line": {
              "color": "#E5ECF6",
              "width": 0.5
             },
             "pattern": {
              "fillmode": "overlay",
              "size": 10,
              "solidity": 0.2
             }
            },
            "type": "bar"
           }
          ],
          "barpolar": [
           {
            "marker": {
             "line": {
              "color": "#E5ECF6",
              "width": 0.5
             },
             "pattern": {
              "fillmode": "overlay",
              "size": 10,
              "solidity": 0.2
             }
            },
            "type": "barpolar"
           }
          ],
          "carpet": [
           {
            "aaxis": {
             "endlinecolor": "#2a3f5f",
             "gridcolor": "white",
             "linecolor": "white",
             "minorgridcolor": "white",
             "startlinecolor": "#2a3f5f"
            },
            "baxis": {
             "endlinecolor": "#2a3f5f",
             "gridcolor": "white",
             "linecolor": "white",
             "minorgridcolor": "white",
             "startlinecolor": "#2a3f5f"
            },
            "type": "carpet"
           }
          ],
          "choropleth": [
           {
            "colorbar": {
             "outlinewidth": 0,
             "ticks": ""
            },
            "type": "choropleth"
           }
          ],
          "contour": [
           {
            "colorbar": {
             "outlinewidth": 0,
             "ticks": ""
            },
            "colorscale": [
             [
              0,
              "#0d0887"
             ],
             [
              0.1111111111111111,
              "#46039f"
             ],
             [
              0.2222222222222222,
              "#7201a8"
             ],
             [
              0.3333333333333333,
              "#9c179e"
             ],
             [
              0.4444444444444444,
              "#bd3786"
             ],
             [
              0.5555555555555556,
              "#d8576b"
             ],
             [
              0.6666666666666666,
              "#ed7953"
             ],
             [
              0.7777777777777778,
              "#fb9f3a"
             ],
             [
              0.8888888888888888,
              "#fdca26"
             ],
             [
              1,
              "#f0f921"
             ]
            ],
            "type": "contour"
           }
          ],
          "contourcarpet": [
           {
            "colorbar": {
             "outlinewidth": 0,
             "ticks": ""
            },
            "type": "contourcarpet"
           }
          ],
          "heatmap": [
           {
            "colorbar": {
             "outlinewidth": 0,
             "ticks": ""
            },
            "colorscale": [
             [
              0,
              "#0d0887"
             ],
             [
              0.1111111111111111,
              "#46039f"
             ],
             [
              0.2222222222222222,
              "#7201a8"
             ],
             [
              0.3333333333333333,
              "#9c179e"
             ],
             [
              0.4444444444444444,
              "#bd3786"
             ],
             [
              0.5555555555555556,
              "#d8576b"
             ],
             [
              0.6666666666666666,
              "#ed7953"
             ],
             [
              0.7777777777777778,
              "#fb9f3a"
             ],
             [
              0.8888888888888888,
              "#fdca26"
             ],
             [
              1,
              "#f0f921"
             ]
            ],
            "type": "heatmap"
           }
          ],
          "histogram": [
           {
            "marker": {
             "pattern": {
              "fillmode": "overlay",
              "size": 10,
              "solidity": 0.2
             }
            },
            "type": "histogram"
           }
          ],
          "histogram2d": [
           {
            "colorbar": {
             "outlinewidth": 0,
             "ticks": ""
            },
            "colorscale": [
             [
              0,
              "#0d0887"
             ],
             [
              0.1111111111111111,
              "#46039f"
             ],
             [
              0.2222222222222222,
              "#7201a8"
             ],
             [
              0.3333333333333333,
              "#9c179e"
             ],
             [
              0.4444444444444444,
              "#bd3786"
             ],
             [
              0.5555555555555556,
              "#d8576b"
             ],
             [
              0.6666666666666666,
              "#ed7953"
             ],
             [
              0.7777777777777778,
              "#fb9f3a"
             ],
             [
              0.8888888888888888,
              "#fdca26"
             ],
             [
              1,
              "#f0f921"
             ]
            ],
            "type": "histogram2d"
           }
          ],
          "histogram2dcontour": [
           {
            "colorbar": {
             "outlinewidth": 0,
             "ticks": ""
            },
            "colorscale": [
             [
              0,
              "#0d0887"
             ],
             [
              0.1111111111111111,
              "#46039f"
             ],
             [
              0.2222222222222222,
              "#7201a8"
             ],
             [
              0.3333333333333333,
              "#9c179e"
             ],
             [
              0.4444444444444444,
              "#bd3786"
             ],
             [
              0.5555555555555556,
              "#d8576b"
             ],
             [
              0.6666666666666666,
              "#ed7953"
             ],
             [
              0.7777777777777778,
              "#fb9f3a"
             ],
             [
              0.8888888888888888,
              "#fdca26"
             ],
             [
              1,
              "#f0f921"
             ]
            ],
            "type": "histogram2dcontour"
           }
          ],
          "mesh3d": [
           {
            "colorbar": {
             "outlinewidth": 0,
             "ticks": ""
            },
            "type": "mesh3d"
           }
          ],
          "parcoords": [
           {
            "line": {
             "colorbar": {
              "outlinewidth": 0,
              "ticks": ""
             }
            },
            "type": "parcoords"
           }
          ],
          "pie": [
           {
            "automargin": true,
            "type": "pie"
           }
          ],
          "scatter": [
           {
            "fillpattern": {
             "fillmode": "overlay",
             "size": 10,
             "solidity": 0.2
            },
            "type": "scatter"
           }
          ],
          "scatter3d": [
           {
            "line": {
             "colorbar": {
              "outlinewidth": 0,
              "ticks": ""
             }
            },
            "marker": {
             "colorbar": {
              "outlinewidth": 0,
              "ticks": ""
             }
            },
            "type": "scatter3d"
           }
          ],
          "scattercarpet": [
           {
            "marker": {
             "colorbar": {
              "outlinewidth": 0,
              "ticks": ""
             }
            },
            "type": "scattercarpet"
           }
          ],
          "scattergeo": [
           {
            "marker": {
             "colorbar": {
              "outlinewidth": 0,
              "ticks": ""
             }
            },
            "type": "scattergeo"
           }
          ],
          "scattergl": [
           {
            "marker": {
             "colorbar": {
              "outlinewidth": 0,
              "ticks": ""
             }
            },
            "type": "scattergl"
           }
          ],
          "scattermap": [
           {
            "marker": {
             "colorbar": {
              "outlinewidth": 0,
              "ticks": ""
             }
            },
            "type": "scattermap"
           }
          ],
          "scattermapbox": [
           {
            "marker": {
             "colorbar": {
              "outlinewidth": 0,
              "ticks": ""
             }
            },
            "type": "scattermapbox"
           }
          ],
          "scatterpolar": [
           {
            "marker": {
             "colorbar": {
              "outlinewidth": 0,
              "ticks": ""
             }
            },
            "type": "scatterpolar"
           }
          ],
          "scatterpolargl": [
           {
            "marker": {
             "colorbar": {
              "outlinewidth": 0,
              "ticks": ""
             }
            },
            "type": "scatterpolargl"
           }
          ],
          "scatterternary": [
           {
            "marker": {
             "colorbar": {
              "outlinewidth": 0,
              "ticks": ""
             }
            },
            "type": "scatterternary"
           }
          ],
          "surface": [
           {
            "colorbar": {
             "outlinewidth": 0,
             "ticks": ""
            },
            "colorscale": [
             [
              0,
              "#0d0887"
             ],
             [
              0.1111111111111111,
              "#46039f"
             ],
             [
              0.2222222222222222,
              "#7201a8"
             ],
             [
              0.3333333333333333,
              "#9c179e"
             ],
             [
              0.4444444444444444,
              "#bd3786"
             ],
             [
              0.5555555555555556,
              "#d8576b"
             ],
             [
              0.6666666666666666,
              "#ed7953"
             ],
             [
              0.7777777777777778,
              "#fb9f3a"
             ],
             [
              0.8888888888888888,
              "#fdca26"
             ],
             [
              1,
              "#f0f921"
             ]
            ],
            "type": "surface"
           }
          ],
          "table": [
           {
            "cells": {
             "fill": {
              "color": "#EBF0F8"
             },
             "line": {
              "color": "white"
             }
            },
            "header": {
             "fill": {
              "color": "#C8D4E3"
             },
             "line": {
              "color": "white"
             }
            },
            "type": "table"
           }
          ]
         },
         "layout": {
          "annotationdefaults": {
           "arrowcolor": "#2a3f5f",
           "arrowhead": 0,
           "arrowwidth": 1
          },
          "autotypenumbers": "strict",
          "coloraxis": {
           "colorbar": {
            "outlinewidth": 0,
            "ticks": ""
           }
          },
          "colorscale": {
           "diverging": [
            [
             0,
             "#8e0152"
            ],
            [
             0.1,
             "#c51b7d"
            ],
            [
             0.2,
             "#de77ae"
            ],
            [
             0.3,
             "#f1b6da"
            ],
            [
             0.4,
             "#fde0ef"
            ],
            [
             0.5,
             "#f7f7f7"
            ],
            [
             0.6,
             "#e6f5d0"
            ],
            [
             0.7,
             "#b8e186"
            ],
            [
             0.8,
             "#7fbc41"
            ],
            [
             0.9,
             "#4d9221"
            ],
            [
             1,
             "#276419"
            ]
           ],
           "sequential": [
            [
             0,
             "#0d0887"
            ],
            [
             0.1111111111111111,
             "#46039f"
            ],
            [
             0.2222222222222222,
             "#7201a8"
            ],
            [
             0.3333333333333333,
             "#9c179e"
            ],
            [
             0.4444444444444444,
             "#bd3786"
            ],
            [
             0.5555555555555556,
             "#d8576b"
            ],
            [
             0.6666666666666666,
             "#ed7953"
            ],
            [
             0.7777777777777778,
             "#fb9f3a"
            ],
            [
             0.8888888888888888,
             "#fdca26"
            ],
            [
             1,
             "#f0f921"
            ]
           ],
           "sequentialminus": [
            [
             0,
             "#0d0887"
            ],
            [
             0.1111111111111111,
             "#46039f"
            ],
            [
             0.2222222222222222,
             "#7201a8"
            ],
            [
             0.3333333333333333,
             "#9c179e"
            ],
            [
             0.4444444444444444,
             "#bd3786"
            ],
            [
             0.5555555555555556,
             "#d8576b"
            ],
            [
             0.6666666666666666,
             "#ed7953"
            ],
            [
             0.7777777777777778,
             "#fb9f3a"
            ],
            [
             0.8888888888888888,
             "#fdca26"
            ],
            [
             1,
             "#f0f921"
            ]
           ]
          },
          "colorway": [
           "#636efa",
           "#EF553B",
           "#00cc96",
           "#ab63fa",
           "#FFA15A",
           "#19d3f3",
           "#FF6692",
           "#B6E880",
           "#FF97FF",
           "#FECB52"
          ],
          "font": {
           "color": "#2a3f5f"
          },
          "geo": {
           "bgcolor": "white",
           "lakecolor": "white",
           "landcolor": "#E5ECF6",
           "showlakes": true,
           "showland": true,
           "subunitcolor": "white"
          },
          "hoverlabel": {
           "align": "left"
          },
          "hovermode": "closest",
          "mapbox": {
           "style": "light"
          },
          "paper_bgcolor": "white",
          "plot_bgcolor": "#E5ECF6",
          "polar": {
           "angularaxis": {
            "gridcolor": "white",
            "linecolor": "white",
            "ticks": ""
           },
           "bgcolor": "#E5ECF6",
           "radialaxis": {
            "gridcolor": "white",
            "linecolor": "white",
            "ticks": ""
           }
          },
          "scene": {
           "xaxis": {
            "backgroundcolor": "#E5ECF6",
            "gridcolor": "white",
            "gridwidth": 2,
            "linecolor": "white",
            "showbackground": true,
            "ticks": "",
            "zerolinecolor": "white"
           },
           "yaxis": {
            "backgroundcolor": "#E5ECF6",
            "gridcolor": "white",
            "gridwidth": 2,
            "linecolor": "white",
            "showbackground": true,
            "ticks": "",
            "zerolinecolor": "white"
           },
           "zaxis": {
            "backgroundcolor": "#E5ECF6",
            "gridcolor": "white",
            "gridwidth": 2,
            "linecolor": "white",
            "showbackground": true,
            "ticks": "",
            "zerolinecolor": "white"
           }
          },
          "shapedefaults": {
           "line": {
            "color": "#2a3f5f"
           }
          },
          "ternary": {
           "aaxis": {
            "gridcolor": "white",
            "linecolor": "white",
            "ticks": ""
           },
           "baxis": {
            "gridcolor": "white",
            "linecolor": "white",
            "ticks": ""
           },
           "bgcolor": "#E5ECF6",
           "caxis": {
            "gridcolor": "white",
            "linecolor": "white",
            "ticks": ""
           }
          },
          "title": {
           "x": 0.05
          },
          "xaxis": {
           "automargin": true,
           "gridcolor": "white",
           "linecolor": "white",
           "ticks": "",
           "title": {
            "standoff": 15
           },
           "zerolinecolor": "white",
           "zerolinewidth": 2
          },
          "yaxis": {
           "automargin": true,
           "gridcolor": "white",
           "linecolor": "white",
           "ticks": "",
           "title": {
            "standoff": 15
           },
           "zerolinecolor": "white",
           "zerolinewidth": 2
          }
         }
        },
        "title": {
         "text": "Alpha Values Over Iterations"
        },
        "xaxis": {
         "anchor": "y",
         "domain": [
          0,
          1
         ],
         "title": {
          "text": "Iteration"
         }
        },
        "yaxis": {
         "anchor": "x",
         "domain": [
          0,
          1
         ],
         "title": {
          "text": "Alpha"
         }
        }
       }
      }
     },
     "metadata": {},
     "output_type": "display_data"
    }
   ],
   "source": [
    "def plot_alphas(iteration_info):\n",
    "    # Extract iteration numbers and alpha values\n",
    "    data = [{'Iteration': info['iteration'], 'Alpha': info['alpha']} for info in iteration_info]\n",
    "\n",
    "    # Convert to a DataFrame\n",
    "    df = pd.DataFrame(data)\n",
    "\n",
    "    # Create the line plot using Plotly Express\n",
    "    fig = px.line(df, x='Iteration', y='Alpha',\n",
    "                  labels={'Iteration': 'Iteration', 'Alpha': 'Alpha'},\n",
    "                  title='Alpha Values Over Iterations',\n",
    "                  markers=True) # Ensures markers are shown on the line\n",
    "\n",
    "    # Show the plot\n",
    "    fig.show()\n",
    "    fig.write_html(f\"boosting_output/alphas.html\")\n",
    "\n",
    "\n",
    "plot_alphas(iteration_info)"
   ]
  },
  {
   "cell_type": "code",
   "execution_count": 80,
   "metadata": {},
   "outputs": [
    {
     "data": {
      "application/vnd.plotly.v1+json": {
       "config": {
        "plotlyServerURL": "https://plot.ly"
       },
       "data": [
        {
         "hovertemplate": "Iteration=%{x}<br>Classifier Error=%{y}<extra></extra>",
         "legendgroup": "",
         "line": {
          "color": "#636efa",
          "dash": "solid"
         },
         "marker": {
          "symbol": "circle"
         },
         "mode": "lines+markers",
         "name": "",
         "orientation": "v",
         "showlegend": false,
         "type": "scatter",
         "x": {
          "bdata": "AQIDBAUGBwgJCgsMDQ4PEBESExQ=",
          "dtype": "i1"
         },
         "xaxis": "x",
         "y": {
          "bdata": "ZmZmZmZm1j8K16NwPQrXPwrXo3A9Ctc/ZmZmZmZm1j9mZmZmZmbWP2ZmZmZmZtY/ZmZmZmZm1j9mZmZmZmbWP2ZmZmZmZtY/ZmZmZmZm1j9mZmZmZmbWP8P1KFyPwtU/ZmZmZmZm1j8zMzMzMzPTP9ejcD0K19M/7FG4HoXr0T+PwvUoXI/SP2ZmZmZmZtY/7FG4HoXr0T8K16NwPQrHPw==",
          "dtype": "f8"
         },
         "yaxis": "y"
        }
       ],
       "layout": {
        "legend": {
         "tracegroupgap": 0
        },
        "template": {
         "data": {
          "bar": [
           {
            "error_x": {
             "color": "#2a3f5f"
            },
            "error_y": {
             "color": "#2a3f5f"
            },
            "marker": {
             "line": {
              "color": "#E5ECF6",
              "width": 0.5
             },
             "pattern": {
              "fillmode": "overlay",
              "size": 10,
              "solidity": 0.2
             }
            },
            "type": "bar"
           }
          ],
          "barpolar": [
           {
            "marker": {
             "line": {
              "color": "#E5ECF6",
              "width": 0.5
             },
             "pattern": {
              "fillmode": "overlay",
              "size": 10,
              "solidity": 0.2
             }
            },
            "type": "barpolar"
           }
          ],
          "carpet": [
           {
            "aaxis": {
             "endlinecolor": "#2a3f5f",
             "gridcolor": "white",
             "linecolor": "white",
             "minorgridcolor": "white",
             "startlinecolor": "#2a3f5f"
            },
            "baxis": {
             "endlinecolor": "#2a3f5f",
             "gridcolor": "white",
             "linecolor": "white",
             "minorgridcolor": "white",
             "startlinecolor": "#2a3f5f"
            },
            "type": "carpet"
           }
          ],
          "choropleth": [
           {
            "colorbar": {
             "outlinewidth": 0,
             "ticks": ""
            },
            "type": "choropleth"
           }
          ],
          "contour": [
           {
            "colorbar": {
             "outlinewidth": 0,
             "ticks": ""
            },
            "colorscale": [
             [
              0,
              "#0d0887"
             ],
             [
              0.1111111111111111,
              "#46039f"
             ],
             [
              0.2222222222222222,
              "#7201a8"
             ],
             [
              0.3333333333333333,
              "#9c179e"
             ],
             [
              0.4444444444444444,
              "#bd3786"
             ],
             [
              0.5555555555555556,
              "#d8576b"
             ],
             [
              0.6666666666666666,
              "#ed7953"
             ],
             [
              0.7777777777777778,
              "#fb9f3a"
             ],
             [
              0.8888888888888888,
              "#fdca26"
             ],
             [
              1,
              "#f0f921"
             ]
            ],
            "type": "contour"
           }
          ],
          "contourcarpet": [
           {
            "colorbar": {
             "outlinewidth": 0,
             "ticks": ""
            },
            "type": "contourcarpet"
           }
          ],
          "heatmap": [
           {
            "colorbar": {
             "outlinewidth": 0,
             "ticks": ""
            },
            "colorscale": [
             [
              0,
              "#0d0887"
             ],
             [
              0.1111111111111111,
              "#46039f"
             ],
             [
              0.2222222222222222,
              "#7201a8"
             ],
             [
              0.3333333333333333,
              "#9c179e"
             ],
             [
              0.4444444444444444,
              "#bd3786"
             ],
             [
              0.5555555555555556,
              "#d8576b"
             ],
             [
              0.6666666666666666,
              "#ed7953"
             ],
             [
              0.7777777777777778,
              "#fb9f3a"
             ],
             [
              0.8888888888888888,
              "#fdca26"
             ],
             [
              1,
              "#f0f921"
             ]
            ],
            "type": "heatmap"
           }
          ],
          "histogram": [
           {
            "marker": {
             "pattern": {
              "fillmode": "overlay",
              "size": 10,
              "solidity": 0.2
             }
            },
            "type": "histogram"
           }
          ],
          "histogram2d": [
           {
            "colorbar": {
             "outlinewidth": 0,
             "ticks": ""
            },
            "colorscale": [
             [
              0,
              "#0d0887"
             ],
             [
              0.1111111111111111,
              "#46039f"
             ],
             [
              0.2222222222222222,
              "#7201a8"
             ],
             [
              0.3333333333333333,
              "#9c179e"
             ],
             [
              0.4444444444444444,
              "#bd3786"
             ],
             [
              0.5555555555555556,
              "#d8576b"
             ],
             [
              0.6666666666666666,
              "#ed7953"
             ],
             [
              0.7777777777777778,
              "#fb9f3a"
             ],
             [
              0.8888888888888888,
              "#fdca26"
             ],
             [
              1,
              "#f0f921"
             ]
            ],
            "type": "histogram2d"
           }
          ],
          "histogram2dcontour": [
           {
            "colorbar": {
             "outlinewidth": 0,
             "ticks": ""
            },
            "colorscale": [
             [
              0,
              "#0d0887"
             ],
             [
              0.1111111111111111,
              "#46039f"
             ],
             [
              0.2222222222222222,
              "#7201a8"
             ],
             [
              0.3333333333333333,
              "#9c179e"
             ],
             [
              0.4444444444444444,
              "#bd3786"
             ],
             [
              0.5555555555555556,
              "#d8576b"
             ],
             [
              0.6666666666666666,
              "#ed7953"
             ],
             [
              0.7777777777777778,
              "#fb9f3a"
             ],
             [
              0.8888888888888888,
              "#fdca26"
             ],
             [
              1,
              "#f0f921"
             ]
            ],
            "type": "histogram2dcontour"
           }
          ],
          "mesh3d": [
           {
            "colorbar": {
             "outlinewidth": 0,
             "ticks": ""
            },
            "type": "mesh3d"
           }
          ],
          "parcoords": [
           {
            "line": {
             "colorbar": {
              "outlinewidth": 0,
              "ticks": ""
             }
            },
            "type": "parcoords"
           }
          ],
          "pie": [
           {
            "automargin": true,
            "type": "pie"
           }
          ],
          "scatter": [
           {
            "fillpattern": {
             "fillmode": "overlay",
             "size": 10,
             "solidity": 0.2
            },
            "type": "scatter"
           }
          ],
          "scatter3d": [
           {
            "line": {
             "colorbar": {
              "outlinewidth": 0,
              "ticks": ""
             }
            },
            "marker": {
             "colorbar": {
              "outlinewidth": 0,
              "ticks": ""
             }
            },
            "type": "scatter3d"
           }
          ],
          "scattercarpet": [
           {
            "marker": {
             "colorbar": {
              "outlinewidth": 0,
              "ticks": ""
             }
            },
            "type": "scattercarpet"
           }
          ],
          "scattergeo": [
           {
            "marker": {
             "colorbar": {
              "outlinewidth": 0,
              "ticks": ""
             }
            },
            "type": "scattergeo"
           }
          ],
          "scattergl": [
           {
            "marker": {
             "colorbar": {
              "outlinewidth": 0,
              "ticks": ""
             }
            },
            "type": "scattergl"
           }
          ],
          "scattermap": [
           {
            "marker": {
             "colorbar": {
              "outlinewidth": 0,
              "ticks": ""
             }
            },
            "type": "scattermap"
           }
          ],
          "scattermapbox": [
           {
            "marker": {
             "colorbar": {
              "outlinewidth": 0,
              "ticks": ""
             }
            },
            "type": "scattermapbox"
           }
          ],
          "scatterpolar": [
           {
            "marker": {
             "colorbar": {
              "outlinewidth": 0,
              "ticks": ""
             }
            },
            "type": "scatterpolar"
           }
          ],
          "scatterpolargl": [
           {
            "marker": {
             "colorbar": {
              "outlinewidth": 0,
              "ticks": ""
             }
            },
            "type": "scatterpolargl"
           }
          ],
          "scatterternary": [
           {
            "marker": {
             "colorbar": {
              "outlinewidth": 0,
              "ticks": ""
             }
            },
            "type": "scatterternary"
           }
          ],
          "surface": [
           {
            "colorbar": {
             "outlinewidth": 0,
             "ticks": ""
            },
            "colorscale": [
             [
              0,
              "#0d0887"
             ],
             [
              0.1111111111111111,
              "#46039f"
             ],
             [
              0.2222222222222222,
              "#7201a8"
             ],
             [
              0.3333333333333333,
              "#9c179e"
             ],
             [
              0.4444444444444444,
              "#bd3786"
             ],
             [
              0.5555555555555556,
              "#d8576b"
             ],
             [
              0.6666666666666666,
              "#ed7953"
             ],
             [
              0.7777777777777778,
              "#fb9f3a"
             ],
             [
              0.8888888888888888,
              "#fdca26"
             ],
             [
              1,
              "#f0f921"
             ]
            ],
            "type": "surface"
           }
          ],
          "table": [
           {
            "cells": {
             "fill": {
              "color": "#EBF0F8"
             },
             "line": {
              "color": "white"
             }
            },
            "header": {
             "fill": {
              "color": "#C8D4E3"
             },
             "line": {
              "color": "white"
             }
            },
            "type": "table"
           }
          ]
         },
         "layout": {
          "annotationdefaults": {
           "arrowcolor": "#2a3f5f",
           "arrowhead": 0,
           "arrowwidth": 1
          },
          "autotypenumbers": "strict",
          "coloraxis": {
           "colorbar": {
            "outlinewidth": 0,
            "ticks": ""
           }
          },
          "colorscale": {
           "diverging": [
            [
             0,
             "#8e0152"
            ],
            [
             0.1,
             "#c51b7d"
            ],
            [
             0.2,
             "#de77ae"
            ],
            [
             0.3,
             "#f1b6da"
            ],
            [
             0.4,
             "#fde0ef"
            ],
            [
             0.5,
             "#f7f7f7"
            ],
            [
             0.6,
             "#e6f5d0"
            ],
            [
             0.7,
             "#b8e186"
            ],
            [
             0.8,
             "#7fbc41"
            ],
            [
             0.9,
             "#4d9221"
            ],
            [
             1,
             "#276419"
            ]
           ],
           "sequential": [
            [
             0,
             "#0d0887"
            ],
            [
             0.1111111111111111,
             "#46039f"
            ],
            [
             0.2222222222222222,
             "#7201a8"
            ],
            [
             0.3333333333333333,
             "#9c179e"
            ],
            [
             0.4444444444444444,
             "#bd3786"
            ],
            [
             0.5555555555555556,
             "#d8576b"
            ],
            [
             0.6666666666666666,
             "#ed7953"
            ],
            [
             0.7777777777777778,
             "#fb9f3a"
            ],
            [
             0.8888888888888888,
             "#fdca26"
            ],
            [
             1,
             "#f0f921"
            ]
           ],
           "sequentialminus": [
            [
             0,
             "#0d0887"
            ],
            [
             0.1111111111111111,
             "#46039f"
            ],
            [
             0.2222222222222222,
             "#7201a8"
            ],
            [
             0.3333333333333333,
             "#9c179e"
            ],
            [
             0.4444444444444444,
             "#bd3786"
            ],
            [
             0.5555555555555556,
             "#d8576b"
            ],
            [
             0.6666666666666666,
             "#ed7953"
            ],
            [
             0.7777777777777778,
             "#fb9f3a"
            ],
            [
             0.8888888888888888,
             "#fdca26"
            ],
            [
             1,
             "#f0f921"
            ]
           ]
          },
          "colorway": [
           "#636efa",
           "#EF553B",
           "#00cc96",
           "#ab63fa",
           "#FFA15A",
           "#19d3f3",
           "#FF6692",
           "#B6E880",
           "#FF97FF",
           "#FECB52"
          ],
          "font": {
           "color": "#2a3f5f"
          },
          "geo": {
           "bgcolor": "white",
           "lakecolor": "white",
           "landcolor": "#E5ECF6",
           "showlakes": true,
           "showland": true,
           "subunitcolor": "white"
          },
          "hoverlabel": {
           "align": "left"
          },
          "hovermode": "closest",
          "mapbox": {
           "style": "light"
          },
          "paper_bgcolor": "white",
          "plot_bgcolor": "#E5ECF6",
          "polar": {
           "angularaxis": {
            "gridcolor": "white",
            "linecolor": "white",
            "ticks": ""
           },
           "bgcolor": "#E5ECF6",
           "radialaxis": {
            "gridcolor": "white",
            "linecolor": "white",
            "ticks": ""
           }
          },
          "scene": {
           "xaxis": {
            "backgroundcolor": "#E5ECF6",
            "gridcolor": "white",
            "gridwidth": 2,
            "linecolor": "white",
            "showbackground": true,
            "ticks": "",
            "zerolinecolor": "white"
           },
           "yaxis": {
            "backgroundcolor": "#E5ECF6",
            "gridcolor": "white",
            "gridwidth": 2,
            "linecolor": "white",
            "showbackground": true,
            "ticks": "",
            "zerolinecolor": "white"
           },
           "zaxis": {
            "backgroundcolor": "#E5ECF6",
            "gridcolor": "white",
            "gridwidth": 2,
            "linecolor": "white",
            "showbackground": true,
            "ticks": "",
            "zerolinecolor": "white"
           }
          },
          "shapedefaults": {
           "line": {
            "color": "#2a3f5f"
           }
          },
          "ternary": {
           "aaxis": {
            "gridcolor": "white",
            "linecolor": "white",
            "ticks": ""
           },
           "baxis": {
            "gridcolor": "white",
            "linecolor": "white",
            "ticks": ""
           },
           "bgcolor": "#E5ECF6",
           "caxis": {
            "gridcolor": "white",
            "linecolor": "white",
            "ticks": ""
           }
          },
          "title": {
           "x": 0.05
          },
          "xaxis": {
           "automargin": true,
           "gridcolor": "white",
           "linecolor": "white",
           "ticks": "",
           "title": {
            "standoff": 15
           },
           "zerolinecolor": "white",
           "zerolinewidth": 2
          },
          "yaxis": {
           "automargin": true,
           "gridcolor": "white",
           "linecolor": "white",
           "ticks": "",
           "title": {
            "standoff": 15
           },
           "zerolinecolor": "white",
           "zerolinewidth": 2
          }
         }
        },
        "title": {
         "text": "Classifier Errors Over Iterations"
        },
        "xaxis": {
         "anchor": "y",
         "domain": [
          0,
          1
         ],
         "title": {
          "text": "Iteration"
         }
        },
        "yaxis": {
         "anchor": "x",
         "domain": [
          0,
          1
         ],
         "title": {
          "text": "Classifier Error"
         }
        }
       }
      }
     },
     "metadata": {},
     "output_type": "display_data"
    }
   ],
   "source": [
    "def plot_classifier_errors(classifier_errors):\n",
    "    # Create a DataFrame with iterations and corresponding classifier errors\n",
    "    data = {\n",
    "        'Iteration': list(range(1, len(classifier_errors) + 1)),\n",
    "        'Classifier Error': classifier_errors\n",
    "    }\n",
    "\n",
    "    df = pd.DataFrame(data)\n",
    "\n",
    "    # Create the line plot with markers using Plotly Express\n",
    "    fig = px.line(df, x='Iteration', y='Classifier Error',\n",
    "                  labels={'Iteration': 'Iteration', 'Classifier Error': 'Classifier Error'},\n",
    "                  title='Classifier Errors Over Iterations',\n",
    "                  markers=True) # Adds markers to the plot\n",
    "\n",
    "    # Show the plot\n",
    "    fig.show()\n",
    "    fig.write_html(f\"boosting_output/error.html\")\n",
    "\n",
    "plot_classifier_errors(errors)"
   ]
  }
 ],
 "metadata": {
  "kernelspec": {
   "display_name": "Python 3",
   "language": "python",
   "name": "python3"
  },
  "language_info": {
   "codemirror_mode": {
    "name": "ipython",
    "version": 3
   },
   "file_extension": ".py",
   "mimetype": "text/x-python",
   "name": "python",
   "nbconvert_exporter": "python",
   "pygments_lexer": "ipython3",
   "version": "3.8.13"
  }
 },
 "nbformat": 4,
 "nbformat_minor": 2
}
